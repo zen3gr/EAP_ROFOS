{
 "cells": [
  {
   "cell_type": "code",
   "execution_count": 1,
   "metadata": {},
   "outputs": [],
   "source": [
    "import numpy as np\n",
    "\n",
    "class SailBoatEnvironment:\n",
    "    def __init__(self, alpha=0.1, gamma=0.9, epsilon=0.1):\n",
    "        self.wind_direction = np.random.uniform(0, 2*np.pi)\n",
    "        self.boat_position = np.array([0, 0])\n",
    "        self.target_position = np.array([np.random.uniform(-10, 10), np.random.uniform(-10, 10)])\n",
    "        self.sail_configs = np.linspace(0, 1, 11)\n",
    "        self.rudder_configs = np.linspace(-np.pi/4, np.pi/4, 11) #The values of -np.pi/4 and np.pi/4 are chosen to represent the limits of the rudder configuration. These values correspond to the maximum angles \n",
    "                                                                #that the rudder can be turned left and right from the center position.The choice of np.pi/4 as the maximum #\n",
    "                                                                # angle is somewhat arbitrary, but it is a common choice in sailing and boating applications.\n",
    "        \n",
    "        \n",
    "        self.q_table = np.zeros((11, 11, 3))\n",
    "        self.alpha = alpha\n",
    "        self.gamma = gamma\n",
    "        self.epsilon = epsilon\n",
    "\n",
    "    def reset(self):\n",
    "        self.wind_direction = np.random.uniform(0, 2*np.pi)\n",
    "        self.boat_position = np.array([0, 0])\n",
    "        self.target_position = np.array([np.random.uniform(-10, 10), np.random.uniform(-10, 10)])\n",
    "        return self.get_state()\n",
    "\n",
    "    def get_state(self):\n",
    "        relative_wind_direction = self.wind_direction - np.arctan2(*self.boat_position[::-1])\n",
    "        distance_to_target = np.linalg.norm(self.boat_position - self.target_position)\n",
    "        return relative_wind_direction, distance_to_target\n",
    "\n",
    "    def step(self, action):\n",
    "        sail_config, rudder_config = action\n",
    "        sail_force = sail_config * np.sin(self.wind_direction - np.arctan2(*self.boat_position[::-1]))\n",
    "        rudder_force = rudder_config * np.cos(self.wind_direction - np.arctan2(*self.boat_position[::-1]))\n",
    "        boat_velocity = np.array([np.cos(self.wind_direction), np.sin(self.wind_direction)]) * sail_force + np.array([-np.sin(self.wind_direction), np.cos(self.wind_direction)]) * rudder_force\n",
    "        self.boat_position = (self.boat_position + boat_velocity).astype(np.float64)\n",
    "        state = self.get_state()\n",
    "        done = False\n",
    "        reward = -1\n",
    "\n",
    "        if np.any(np.abs(self.boat_position) > 20):\n",
    "            done = True\n",
    "            reward = -10\n",
    "\n",
    "        distance_to_target = state[1]\n",
    "        if distance_to_target < 0.5:\n",
    "            done = True\n",
    "            reward = 10\n",
    "\n",
    "        # Q-learning update\n",
    "        sail_idx = np.argmin(np.abs(self.sail_configs - sail_config))\n",
    "        rudder_idx = np.argmin(np.abs(self.rudder_configs - rudder_config))\n",
    "        q_current = self.q_table[sail_idx, rudder_idx, 0]\n",
    "        q_next = np.max(self.q_table[sail_idx, rudder_idx, :])\n",
    "        self.q_table[sail_idx, rudder_idx, 0] += self.alpha * (reward + self.gamma * q_next - q_current)\n",
    "\n",
    "        return state, reward, done\n"
   ]
  },
  {
   "attachments": {},
   "cell_type": "markdown",
   "metadata": {},
   "source": [
    "the Q-table is a 3-dimensional numpy array with dimensions (11, 11, 3). The first two dimensions correspond to the sail and rudder configurations, respectively, and the third dimension corresponds to the Q-values for each possible action (there are 3 actions in total: sail left, sail straight, and sail right)."
   ]
  },
  {
   "attachments": {},
   "cell_type": "markdown",
   "metadata": {},
   "source": [
    "self.wind_direction is a random value between 0 and 2π.\n",
    "self.boat_position is a NumPy array containing the initial position of the boat, which is (0, 0).\n",
    "self.target_position is a NumPy array containing the position of the target, which is a random point within a rectangle centered at the origin with width and height of 20 units.\n",
    "self.sail_configs is a NumPy array containing 11 equally spaced values between 0 and 1, representing the possible sail configurations.\n",
    "self.rudder_configs is a NumPy array containing 11 equally spaced values between -π/4 and π/4, representing the possible rudder configurations.\n",
    "self.q_table is a 3-dimensional NumPy array of zeros with shape (11, 11, 3), representing the Q-values for each possible combination of sail and rudder configurations."
   ]
  },
  {
   "cell_type": "markdown",
   "metadata": {},
   "source": []
  },
  {
   "attachments": {},
   "cell_type": "markdown",
   "metadata": {},
   "source": [
    "sail_idx = np.argmin(np.abs(self.sail_configs - sail_config)) finds the index of the sail configuration that is closest to the desired sail configuration specified by sail_config. This is used to index into the first dimension of the Q-table.\n",
    "\n",
    "rudder_idx = np.argmin(np.abs(self.rudder_configs - rudder_config)) finds the index of the rudder configuration that is closest to the desired rudder configuration specified by rudder_config. This is used to index into the second dimension of the Q-table.\n",
    "\n",
    "q_current = self.q_table[sail_idx, rudder_idx, 0] retrieves the current Q-value for the current state and action (which is the \"sail straight\" action, corresponding to the index 0 in the third dimension).\n",
    "\n",
    "q_next = np.max(self.q_table[sail_idx, rudder_idx, :]) computes the estimated Q-value for the next state, which is the maximum Q-value over all possible actions in the next state (i.e., the action that maximizes the Q-value). This is used to estimate the expected total reward that can be obtained from the next state.\n",
    "\n",
    "self.q_table[sail_idx, rudder_idx, 0] += self.alpha * (reward + self.gamma * q_next - q_current) updates the Q-value for the current state and action, using the Q-learning update rule"
   ]
  },
  {
   "attachments": {},
   "cell_type": "markdown",
   "metadata": {},
   "source": [
    "The Q-learning update equation is used to update the Q-value for the current state and action. The Q-value for the current state and action is q_current, and q_next is the maximum Q-value for the next state. The update is performed as follows:\n",
    "\n",
    "new_q_value = old_q_value + learning_rate * (reward + discount_factor * max_q_next - old_q_value)\n",
    "\n",
    "where learning_rate is the step size, reward is the reward obtained from the current action, discount_factor is the discount factor for future rewards, and max_q_next is the maximum Q-value for the next state.\n",
    "\n",
    "In the code, q_current is the current Q-value for the current state and action, and q_next is the maximum Q-value for the next state. The Q-value for the current state and action is updated using the above equation, and the new value is stored back in the Q-table."
   ]
  },
  {
   "attachments": {},
   "cell_type": "markdown",
   "metadata": {},
   "source": [
    "relative_wind_direction = self.wind_direction - np.arctan2(*self.boat_position[::-1])\n",
    "self.wind_direction: This is a scalar value that represents the direction of the wind, expressed in radians.\n",
    "np.arctan2(*self.boat_position[::-1]): This is a function call to np.arctan2, which computes the arctangent of the ratio of two given inputs. In this case, the inputs are the components of the boat's position vector, reversed using [::-1]. The * before self.boat_position[::-1] unpacks the tuple of components into separate arguments for the np.arctan2 function. The resulting output is the angle in radians between the positive x-axis and a line connecting the boat's position to the origin.\n",
    "self.wind_direction - np.arctan2(*self.boat_position[::-1]): This subtracts the angle from step 2 from the wind direction angle from step 1, resulting in the relative wind direction, which is the angle in radians between the boat's heading and the direction of the wind.\n",
    "Overall, this line of code is computing the relative wind direction, which is an important parameter for calculating the sail force applied to the boat in the subsequent lines of code."
   ]
  }
 ],
 "metadata": {
  "kernelspec": {
   "display_name": "rofos",
   "language": "python",
   "name": "python3"
  },
  "language_info": {
   "codemirror_mode": {
    "name": "ipython",
    "version": 3
   },
   "file_extension": ".py",
   "mimetype": "text/x-python",
   "name": "python",
   "nbconvert_exporter": "python",
   "pygments_lexer": "ipython3",
   "version": "3.10.8"
  },
  "orig_nbformat": 4
 },
 "nbformat": 4,
 "nbformat_minor": 2
}
