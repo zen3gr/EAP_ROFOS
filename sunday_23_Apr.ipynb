{
 "cells": [
  {
   "cell_type": "code",
   "execution_count": 1,
   "metadata": {},
   "outputs": [],
   "source": [
    "import gym\n",
    "import numpy as np\n",
    "import matplotlib as plt\n",
    "import random"
   ]
  },
  {
   "cell_type": "code",
   "execution_count": 52,
   "metadata": {
    "ExecuteTime": {
     "end_time": "2023-04-27T19:13:00.483147Z",
     "start_time": "2023-04-27T19:13:00.478159Z"
    }
   },
   "outputs": [
    {
     "data": {
      "text/plain": [
       "2"
      ]
     },
     "execution_count": 52,
     "metadata": {},
     "output_type": "execute_result"
    }
   ],
   "source": []
  },
  {
   "cell_type": "code",
   "execution_count": 113,
   "metadata": {
    "ExecuteTime": {
     "end_time": "2023-04-27T19:25:59.506880Z",
     "start_time": "2023-04-27T19:25:59.495910Z"
    }
   },
   "outputs": [],
   "source": [
    "class SailingEnv(gym.Env):\n",
    "    def __init__(self, max_steps=200, alpha=0.1, gamma=0.9, epsilon=0.9):\n",
    "        self.action_space = gym.spaces.Discrete(16)\n",
    "        self.observation_space = gym.spaces.Box(low=np.array([0, 0]), high=np.array([20, 20]), dtype=np.float32)\n",
    "        self.wind_directions = np.linspace(0, np.pi, 10)\n",
    "        self.sail_angles = np.linspace(-np.pi/4, np.pi/4, 16)\n",
    "        self.sail_angle = 0\n",
    "        #self.boat_position = np.random.randint(90, size=(1, 2))[0]\n",
    "        #self.target_position = np.array([35, 69])\n",
    "        self.max_steps = max_steps\n",
    "        self.current_step = 0\n",
    "        self.alpha = alpha\n",
    "        self.gamma = gamma \n",
    "        self.epsilon = epsilon\n",
    "        self.q_table = self.q_table = np.zeros((10, 16, 21, 21, 91)) \n",
    "        #q_table is a 5-dimensional NumPy array used to store the Q-values for each \n",
    "        #state-action pair in the environment. Here is what each dimension represents:\n",
    "        #The first dimension corresponds to the 10 possible wind directions that the boat can encounter during the episode.\n",
    "        #The second to the 16 possible sail angles that the boat can choose in each time step.\n",
    "        #The third to the boat's x-position, which can range from 0 to 20.\n",
    "        #The fourth to the boat's y-position, which can range from 0 to 20.\n",
    "        #The fifth is the manhattan distance between the boat and the target (The Manhattan distance is an appropriate metric to use because it \n",
    "        # measures the shortest path that the boat can take to reach the target position, if the boat is only allowed to move vertically or \n",
    "        # #horizontally, but not diagonally.)\n",
    "        \n",
    "    def reset(self):\n",
    "        self.wind_direction = np.random.choice(self.wind_directions)\n",
    "        self.sail_angle = 0\n",
    "        self.boat_position = np.random.randint(90, size=(1, 2))[0]\n",
    "        self.target_position = np.array([35, 69])\n",
    "        self.current_step = 0\n",
    "        return self.boat_position, self.wind_direction, self.target_position\n",
    "        \n",
    "    def step(self, action):\n",
    "        assert self.action_space.contains(action)\n",
    "\n",
    "        # Update the boat's position based on the chosen sail angle and wind direction\n",
    "        self.sail_angle = self.sail_angles[action]\n",
    "        heading = np.arctan2(np.sin(self.wind_direction - self.sail_angle), np.cos(self.wind_direction - self.sail_angle))\n",
    "        velocity = np.array([np.cos(heading), np.sin(heading)])\n",
    "        self.boat_position = self.boat_position + velocity\n",
    "\n",
    "        # Calculate the reward and check if the episode is done\n",
    "        distance_to_target = np.linalg.norm(self.boat_position - self.target_position)\n",
    "        \n",
    "        self.current_step += 1\n",
    "        done = False\n",
    "        truncated = False\n",
    "        reward = -0.5\n",
    "        if self.current_step >= self.max_steps: #or not np.any(np.round(self.boat_velocity,2)): #checks whether any element of the rounded self.boat_velocity array is non-zero.\n",
    "            truncated = True    \n",
    "     \n",
    "        else:\n",
    "            distance_to_target < 1.0 \n",
    "            reward = 100\n",
    "            print(distance_to_target)\n",
    "            done = True\n",
    "        #reward, done = self.calculate_reward()\n",
    "        # Update the wind direction for the next time step\n",
    "        new_wind_direction = np.random.choice(self.wind_directions)\n",
    "        #return new_wind_direction\n",
    "\n",
    "        # Return the new observation, reward, and done flag\n",
    "        #observation = self.get_observation()\n",
    "        return observation, reward, done, {}\n"
   ]
  },
  {
   "cell_type": "code",
   "execution_count": 114,
   "metadata": {
    "ExecuteTime": {
     "end_time": "2023-04-27T19:26:01.106665Z",
     "start_time": "2023-04-27T19:26:01.099688Z"
    }
   },
   "outputs": [
    {
     "data": {
      "text/plain": [
       "(array([56, 36]), 0.3490658503988659, array([35, 69]))"
      ]
     },
     "execution_count": 114,
     "metadata": {},
     "output_type": "execute_result"
    }
   ],
   "source": [
    "env = SailingEnv()\n",
    "env.reset()"
   ]
  },
  {
   "cell_type": "code",
   "execution_count": 96,
   "metadata": {
    "ExecuteTime": {
     "end_time": "2023-04-27T19:23:07.930908Z",
     "start_time": "2023-04-27T19:23:07.922930Z"
    }
   },
   "outputs": [
    {
     "data": {
      "text/plain": [
       "False"
      ]
     },
     "execution_count": 96,
     "metadata": {},
     "output_type": "execute_result"
    }
   ],
   "source": [
    "a=np.array([0,0])\n",
    "np.any(a)"
   ]
  },
  {
   "cell_type": "code",
   "execution_count": null,
   "metadata": {},
   "outputs": [],
   "source": []
  },
  {
   "cell_type": "code",
   "execution_count": 115,
   "metadata": {
    "ExecuteTime": {
     "end_time": "2023-04-27T19:26:02.063050Z",
     "start_time": "2023-04-27T19:26:02.026763Z"
    }
   },
   "outputs": [
    {
     "name": "stdout",
     "output_type": "stream",
     "text": [
      "39.492213764360564\n"
     ]
    },
    {
     "ename": "NameError",
     "evalue": "name 'observation' is not defined",
     "output_type": "error",
     "traceback": [
      "\u001b[1;31m---------------------------------------------------------------------------\u001b[0m",
      "\u001b[1;31mNameError\u001b[0m                                 Traceback (most recent call last)",
      "Cell \u001b[1;32mIn [115], line 1\u001b[0m\n\u001b[1;32m----> 1\u001b[0m \u001b[43menv\u001b[49m\u001b[38;5;241;43m.\u001b[39;49m\u001b[43mstep\u001b[49m\u001b[43m(\u001b[49m\u001b[38;5;241;43m9\u001b[39;49m\u001b[43m)\u001b[49m\n",
      "Cell \u001b[1;32mIn [113], line 65\u001b[0m, in \u001b[0;36mSailingEnv.step\u001b[1;34m(self, action)\u001b[0m\n\u001b[0;32m     60\u001b[0m new_wind_direction \u001b[38;5;241m=\u001b[39m np\u001b[38;5;241m.\u001b[39mrandom\u001b[38;5;241m.\u001b[39mchoice(\u001b[38;5;28mself\u001b[39m\u001b[38;5;241m.\u001b[39mwind_directions)\n\u001b[0;32m     61\u001b[0m \u001b[38;5;66;03m#return new_wind_direction\u001b[39;00m\n\u001b[0;32m     62\u001b[0m \n\u001b[0;32m     63\u001b[0m \u001b[38;5;66;03m# Return the new observation, reward, and done flag\u001b[39;00m\n\u001b[0;32m     64\u001b[0m \u001b[38;5;66;03m#observation = self.get_observation()\u001b[39;00m\n\u001b[1;32m---> 65\u001b[0m \u001b[38;5;28;01mreturn\u001b[39;00m \u001b[43mobservation\u001b[49m, reward, done, {}\n",
      "\u001b[1;31mNameError\u001b[0m: name 'observation' is not defined"
     ]
    }
   ],
   "source": [
    "env.step(9)"
   ]
  },
  {
   "cell_type": "code",
   "execution_count": 65,
   "metadata": {
    "ExecuteTime": {
     "end_time": "2023-04-27T19:15:41.222576Z",
     "start_time": "2023-04-27T19:15:41.211605Z"
    }
   },
   "outputs": [
    {
     "data": {
      "text/plain": [
       "array([-0.01745241,  0.9998477 ])"
      ]
     },
     "execution_count": 65,
     "metadata": {},
     "output_type": "execute_result"
    }
   ],
   "source": [
    "env.sail_angle = env.sail_angles[9]\n",
    "heading = np.arctan2(np.sin(env.wind_direction - env.sail_angle), np.cos(env.wind_direction - env.sail_angle))\n",
    "velocity = np.array([np.cos(heading), np.sin(heading)])\n",
    "velocity"
   ]
  },
  {
   "cell_type": "code",
   "execution_count": 77,
   "metadata": {
    "ExecuteTime": {
     "end_time": "2023-04-27T19:17:05.859050Z",
     "start_time": "2023-04-27T19:17:05.850273Z"
    }
   },
   "outputs": [],
   "source": [
    "random_array=np.random.randint(90, size=(1, 2))[0]"
   ]
  },
  {
   "cell_type": "code",
   "execution_count": 84,
   "metadata": {
    "ExecuteTime": {
     "end_time": "2023-04-27T19:17:24.726930Z",
     "start_time": "2023-04-27T19:17:24.708978Z"
    }
   },
   "outputs": [
    {
     "data": {
      "text/plain": [
       "array([44.98254759, 61.9998477 ])"
      ]
     },
     "execution_count": 84,
     "metadata": {},
     "output_type": "execute_result"
    }
   ],
   "source": [
    "random_array+velocity"
   ]
  },
  {
   "cell_type": "code",
   "execution_count": 20,
   "metadata": {
    "ExecuteTime": {
     "end_time": "2023-04-27T19:01:54.524104Z",
     "start_time": "2023-04-27T19:01:54.519122Z"
    }
   },
   "outputs": [
    {
     "data": {
      "text/plain": [
       "59.99999999999999"
      ]
     },
     "execution_count": 20,
     "metadata": {},
     "output_type": "execute_result"
    }
   ],
   "source": [
    "np.rad2deg(env.wind_direction)"
   ]
  },
  {
   "cell_type": "code",
   "execution_count": 21,
   "metadata": {
    "ExecuteTime": {
     "end_time": "2023-04-27T19:02:00.859226Z",
     "start_time": "2023-04-27T19:02:00.854232Z"
    }
   },
   "outputs": [
    {
     "data": {
      "text/plain": [
       "0.0"
      ]
     },
     "execution_count": 21,
     "metadata": {},
     "output_type": "execute_result"
    }
   ],
   "source": [
    "np.rad2deg(env.sail_angle)"
   ]
  },
  {
   "cell_type": "code",
   "execution_count": 31,
   "metadata": {
    "ExecuteTime": {
     "end_time": "2023-04-27T19:08:28.926649Z",
     "start_time": "2023-04-27T19:08:28.918166Z"
    }
   },
   "outputs": [
    {
     "data": {
      "text/plain": [
       "39.99999999999999"
      ]
     },
     "execution_count": 31,
     "metadata": {},
     "output_type": "execute_result"
    }
   ],
   "source": [
    "np.rad2deg(np.arctan2(np.sin(env.wind_direction - env.sail_angle), np.cos(env.wind_direction - env.sail_angle)))"
   ]
  },
  {
   "cell_type": "code",
   "execution_count": 26,
   "metadata": {
    "ExecuteTime": {
     "end_time": "2023-04-27T19:06:56.874123Z",
     "start_time": "2023-04-27T19:06:56.859693Z"
    }
   },
   "outputs": [
    {
     "data": {
      "text/plain": [
       "59.99999999999999"
      ]
     },
     "execution_count": 26,
     "metadata": {},
     "output_type": "execute_result"
    }
   ],
   "source": [
    "np.rad2deg(env.wind_direction)"
   ]
  },
  {
   "cell_type": "code",
   "execution_count": 30,
   "metadata": {
    "ExecuteTime": {
     "end_time": "2023-04-27T19:07:44.323829Z",
     "start_time": "2023-04-27T19:07:44.306836Z"
    }
   },
   "outputs": [],
   "source": [
    "env.sail_angle=np.deg2rad(20)"
   ]
  },
  {
   "cell_type": "code",
   "execution_count": 21,
   "metadata": {},
   "outputs": [],
   "source": [
    "# Initialize Q-table\n",
    "q_table = np.zeros((10, 16, 21, 21, 91))"
   ]
  },
  {
   "cell_type": "code",
   "execution_count": 24,
   "metadata": {},
   "outputs": [],
   "source": [
    "class SailingEnv(gym.Env):\n",
    "    def step_and_update_q_table(self, action, state):\n",
    "        next_state, reward, done, _ = self.step(action)\n",
    "        next_wind_direction_idx = np.random.choice(self.wind_directions)\n",
    "        next_state = (self.manhattan_distance(next_state, self.target_position), next_state[0], next_state[1], next_wind_direction_idx)\n",
    "        next_max_q_value = np.max(self.q_table[next_state])\n",
    "        td_error = reward + self.gamma * next_max_q_value - self.q_table[state][action]\n",
    "        self.q_table[state][action] += self.alpha * td_error\n",
    "        state = next_state\n",
    "        self.epsilon = self.min_exploration_rate + (self.max_exploration_rate - self.min_exploration_rate) * np.exp(-self.exploration_decay_rate * episode)\n",
    "        return next_state, reward, done, _\n",
    "\n",
    "    def run_episodes(self, num_episodes):\n",
    "        episode_rewards = []\n",
    "        for episode in range(num_episodes):\n",
    "            state = self.reset()\n",
    "            episode_reward = 0\n",
    "            while True:\n",
    "                if np.random.uniform(0, 1) < self.epsilon:\n",
    "                    action = self.action_space.sample()\n",
    "                else:\n",
    "                    action = np.argmax(self.q_table[state])\n",
    "                next_state, reward, done, _ = self.step_and_update_q_table(action, state)\n",
    "                state = next_state\n",
    "                episode_reward += reward\n",
    "                if done:\n",
    "                    break\n",
    "            episode_rewards.append(episode_reward)\n",
    "            self.epsilon = self.min_exploration_rate + (self.max_exploration_rate - self.min_exploration_rate) * np.exp(-self.exploration_decay_rate * episode)\n",
    "        return episode_rewards\n",
    "    \n",
    "\n"
   ]
  }
 ],
 "metadata": {
  "kernelspec": {
   "display_name": "Python 3 (ipykernel)",
   "language": "python",
   "name": "python3"
  },
  "language_info": {
   "codemirror_mode": {
    "name": "ipython",
    "version": 3
   },
   "file_extension": ".py",
   "mimetype": "text/x-python",
   "name": "python",
   "nbconvert_exporter": "python",
   "pygments_lexer": "ipython3",
   "version": "3.9.7"
  },
  "toc": {
   "base_numbering": 1,
   "nav_menu": {},
   "number_sections": true,
   "sideBar": true,
   "skip_h1_title": false,
   "title_cell": "Table of Contents",
   "title_sidebar": "Contents",
   "toc_cell": false,
   "toc_position": {},
   "toc_section_display": true,
   "toc_window_display": false
  }
 },
 "nbformat": 4,
 "nbformat_minor": 2
}
