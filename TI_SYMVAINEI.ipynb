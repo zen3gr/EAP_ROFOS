{
 "cells": [
  {
   "cell_type": "code",
   "execution_count": 1,
   "metadata": {},
   "outputs": [],
   "source": [
    "def angle_between(p1, p2):\n",
    "    ang1 = np.arctan2(*p1[::-1])\n",
    "    ang2 = np.arctan2(*p2[::-1])\n",
    "    return np.rad2deg((ang1 - ang2) % (2 * np.pi))\n",
    "\n",
    "def find_nearest(array, value):\n",
    "    array = np.asarray(array)\n",
    "    idx = (np.abs(array - value)).argmin()\n",
    "    return array[idx]\n",
    "def render_ep (boat_plot, target=False):\n",
    "    #true wind vector\n",
    "    #starting point\n",
    "    #target point\n",
    "    #PENDING: spline connecting each point\n",
    "    from matplotlib import pyplot as plt\n",
    "    boat_plot=np.split(boat_plot,len(boat_plot)/2)\n",
    "    boat_plot=np.array(boat_plot)\n",
    "    # Scatter plot\n",
    "    #light blue -> darker blue \n",
    "    target_plot=env.target_position\n",
    "    x=boat_plot[:, 0]\n",
    "    y=boat_plot[:, 1]\n",
    "    weights = np.arange(1,boat_plot[:, 1].shape[0]+1)\n",
    "    plt.scatter(x, y, c=weights, cmap='Blues')\n",
    "    if target==True:\n",
    "        plt.scatter(target_plot[0], target_plot[1],c='red')\n",
    "    # Display the plot\n",
    "    plt.show()\n",
    "    #plt.xlim(min(x),max(x))\n",
    "    #plt.ylim(min(y),max(y))\n"
   ]
  },
  {
   "cell_type": "code",
   "execution_count": 26,
   "metadata": {},
   "outputs": [],
   "source": [
    "import numpy as np\n",
    "\n",
    "class SailBoatEnvironment:\n",
    "    def __init__(self, alpha=0.1, gamma=0.9, epsilon=0.35):\n",
    "        self.step_num=0\n",
    "        #self.true_wind_direction = np.random.uniform(0, 2*np.pi)\n",
    "        #self.boat_position = np.array([222, 222])\n",
    "        #self.target_position = np.array([np.random.uniform(-10, 10), np.random.uniform(-10, 10)])\n",
    "        self.sail_configs = np.linspace(0, 1, 16) #16 allowed positions of the sail\n",
    "        self.rudder_configs = np.linspace(-np.pi/4, np.pi/4, 16) #The values of -np.pi/4 and np.pi/4 are chosen to represent the limits of the rudder configuration. These values correspond to the maximum angles \n",
    "                                                                #that the rudder can be turned left and right from the center position.The choice of np.pi/4 as the maximum #\n",
    "                                                                # angle is somewhat arbitrary, but it is a common choice in sailing and boating applications.\n",
    "        self.target_possible_angles=np.rad2deg(np.linspace(0, 2*np.pi, 16))\n",
    "        \n",
    "        \n",
    "        #self.q_table = np.zeros((16, 16, 3))\n",
    "        self.alpha = alpha\n",
    "        self.gamma = gamma\n",
    "        self.epsilon = epsilon\n",
    "\n",
    "    def reset(self):\n",
    "        #returns\n",
    "        #i)boat position: starting point of boat        \n",
    "        #ii)random wind direction, epistrefei to index sto self.target_possible_angles\n",
    "        #iii)ypologizei thn target angle, thn diakritopoiei se mia apo tis dekaksi times kai epistrefei to index\n",
    "        #toy self.target_possible_angles\n",
    "        self.step_num=0\n",
    "        #self.true_wind_direction = np.pi/2# np.random.uniform(0, 2*np.pi)\n",
    "        self.true_wind_direction = np.random.choice(np.rad2deg(np.linspace(0, 2*np.pi, 16)))\n",
    "        self.boat_position = np.array([0, 0]) #fixed starting point\n",
    "        self.target_position = np.array([55,100]) #fixed target position\n",
    "        self.max_distance=np.linalg.norm(self.boat_position-self.target_position)\n",
    "        self.target_angle=angle_between(self.boat_position, self.target_position)\n",
    "        self.target_angle=find_nearest(self.target_possible_angles, value=self.target_angle)\n",
    "        return self.boat_position, np.where(self.true_wind_direction==self.target_possible_angles)[0][0], \\\n",
    "        np.where(self.target_angle==self.target_possible_angles)[0][0]\n",
    "        \n",
    "        \n",
    "\n",
    "    def get_state(self):\n",
    "        relative_wind_direction = self.true_wind_direction - np.arctan2(*self.boat_position[::-1])\n",
    "        #relative_wind_direction = find_nearest(self.target_possible_angles, value=relative_wind_direction)\n",
    "        distance_to_target = np.linalg.norm(self.boat_position - self.target_position)\n",
    "        return relative_wind_direction, distance_to_target\n",
    "\n",
    "    def step(self, action):\n",
    "        #returns\n",
    "        #i)boat position: starting point of boat        \n",
    "        #ii)random wind direction, epistrefei to index sto self.target_possible_angles\n",
    "        #iii)ypologizei thn target angle, thn diakritopoiei se mia apo tis dekaksi times kai epistrefei to index\n",
    "        #toy self.target_possible_angles\n",
    "        #iv) step reward\n",
    "        #v) done status\n",
    "        #vi) truncated status\n",
    "        #vii) number of steps\n",
    "        sail_config, rudder_config = action\n",
    "        sail_force = sail_config * np.sin(self.true_wind_direction - np.arctan2(*self.boat_position[::-1]))\n",
    "        rudder_force = rudder_config * np.cos(self.true_wind_direction - np.arctan2(*self.boat_position[::-1]))\n",
    "        boat_velocity = np.array([np.cos(self.true_wind_direction), np.sin(self.true_wind_direction)]) * sail_force + np.array([-np.sin(self.true_wind_direction), np.cos(self.true_wind_direction)]) * rudder_force\n",
    "        self.boat_position = self.boat_position + boat_velocity#.astype(np.float64)\n",
    "        self.target_angle=angle_between(self.boat_position, self.target_position)\n",
    "        self.target_angle=find_nearest(self.target_possible_angles, value=self.target_angle)\n",
    "        \n",
    "        state = self.get_state()\n",
    "        self.step_num+=1\n",
    "        done = False\n",
    "        truncated = False\n",
    "        reward = -1\n",
    "\n",
    "        #if np.any(np.abs(self.boat_position) > 20):\n",
    "            #done = True\n",
    "            #reward = -10\n",
    "\n",
    "        distance_to_target = state[1]\n",
    "        if distance_to_target < 20:\n",
    "        #if distance_to_target//self.max_distance < 0.5: #kapws pio sxetiko giati den kseroume to distance 0.5\n",
    "            #an einia megalo h mikro\n",
    "            done = True\n",
    "            reward = 150\n",
    "        \n",
    "        if self.step_num >= 2_000:\n",
    "            truncated = True\n",
    "            #done = True #gia na spaei h loupa tou training\n",
    "\n",
    "#         # Q-learning update\n",
    "#         sail_idx = np.argmin(np.abs(self.sail_configs - sail_config))\n",
    "#         rudder_idx = np.argmin(np.abs(self.rudder_configs - rudder_config))\n",
    "#         q_current = self.q_table[sail_idx, rudder_idx, 0]\n",
    "#         q_next = np.max(self.q_table[sail_idx, rudder_idx, :])\n",
    "#         self.q_table[sail_idx, rudder_idx, 0] += self.alpha * (reward + self.gamma * q_next - q_current)\n",
    "\n",
    "        #return boat_velocity, self.boat_position, state, reward, done, self.step_num, self.target_angle\n",
    "        return self.boat_position, np.where(self.true_wind_direction==self.target_possible_angles)[0][0],\\\n",
    "        np.where(self.target_angle==self.target_possible_angles)[0][0], reward, \\\n",
    "        done, truncated, self.step_num\n"
   ]
  },
  {
   "cell_type": "markdown",
   "metadata": {},
   "source": [
    "# Plot random movement"
   ]
  },
  {
   "cell_type": "code",
   "execution_count": 7,
   "metadata": {},
   "outputs": [
    {
     "data": {
      "image/png": "[encoded data removed]",
      "text/plain": [
       "<Figure size 640x480 with 1 Axes>"
      ]
     },
     "metadata": {},
     "output_type": "display_data"
    }
   ],
   "source": [
    "env=SailBoatEnvironment()\n",
    "env.reset()\n",
    "done=False\n",
    "truncated=False\n",
    "boat_plot=[]\n",
    "while not truncated:\n",
    "    mlist=np.random.choice(np.linspace(0, 1, 16)), np.random.choice(np.linspace(-np.pi/4, np.pi/4, 16))\n",
    "    boat_pos, true_wind_index, target_angle_index,  reward, done, truncated, step_num = env.step(mlist)\n",
    "    #print(truncated)\n",
    "    boat_plot=np.append(boat_plot,np.array(boat_pos))\n",
    "#print(step_num)\n",
    "#boat_plot\n",
    "render_ep(boat_plot)"
   ]
  },
  {
   "cell_type": "code",
   "execution_count": null,
   "metadata": {},
   "outputs": [],
   "source": [
    "render_ep(boat_plot)"
   ]
  },
  {
   "cell_type": "code",
   "execution_count": null,
   "metadata": {},
   "outputs": [],
   "source": [
    "boat_plot[1]"
   ]
  },
  {
   "cell_type": "markdown",
   "metadata": {},
   "source": [
    "# Start env & Define Q Table"
   ]
  },
  {
   "cell_type": "code",
   "execution_count": 21,
   "metadata": {},
   "outputs": [],
   "source": [
    "#env=SailBoatEnvironment()\n",
    "#prwto einai gia true wind angles\n",
    "a=len(env.target_possible_angles)\n",
    "#deytera gia gwnies pros target\n",
    "#trito ola ta possible actions\n",
    "b=32\n",
    "q_table = np.random.uniform(low=-2, high=0, size=(a,a,b))\n",
    "#q_table\n",
    "#wd=0,1,2 # wd=1\n",
    "#dt=0,1 #dt=0 makria, dt=1 konta\n",
    "#np.argmax(q_table[1,1])\n",
    "#\n",
    "#rudder conf = 0:15th column\n",
    "#np.argmax(q_table[state,0:15])\n",
    "#sail conf = 16:31th columns\n",
    "#np.argmax(q_table[state,16:32])\n",
    "\n"
   ]
  },
  {
   "cell_type": "code",
   "execution_count": null,
   "metadata": {},
   "outputs": [],
   "source": []
  },
  {
   "cell_type": "code",
   "execution_count": null,
   "metadata": {},
   "outputs": [],
   "source": [
    "# current_state=env.reset()\n",
    "# current_state=current_state[1], current_state[2]\n"
   ]
  },
  {
   "cell_type": "code",
   "execution_count": null,
   "metadata": {},
   "outputs": [],
   "source": [
    "# sail_conf_index=np.argmax(q_table[(current_state)][0:15])\n",
    "# rudder_conf_index=np.argmax(q_table[(current_state)][15:33])\n",
    "# #sail_conf=env.sail_configs[sail_conf_index]\n",
    "# #sail_conf\n",
    "# action=env.sail_configs[sail_conf_index],env.rudder_configs[15-rudder_conf_index]\n",
    "# action\n",
    "# boat_pos,  true_wind_index, target_angle_index, reward, done, truncated, step_num = env.step(action)"
   ]
  },
  {
   "cell_type": "code",
   "execution_count": null,
   "metadata": {},
   "outputs": [],
   "source": [
    "# new_state=true_wind_index, target_angle_index\n",
    "# new_state"
   ]
  },
  {
   "cell_type": "code",
   "execution_count": 14,
   "metadata": {},
   "outputs": [],
   "source": [
    "ct=env.reset()"
   ]
  },
  {
   "cell_type": "code",
   "execution_count": 15,
   "metadata": {},
   "outputs": [
    {
     "data": {
      "text/plain": [
       "(array([0, 0]), 6, 12)"
      ]
     },
     "execution_count": 15,
     "metadata": {},
     "output_type": "execute_result"
    }
   ],
   "source": [
    "ct"
   ]
  },
  {
   "cell_type": "markdown",
   "metadata": {},
   "source": [
    "# Train Q table"
   ]
  },
  {
   "cell_type": "code",
   "execution_count": 29,
   "metadata": {},
   "outputs": [
    {
     "name": "stdout",
     "output_type": "stream",
     "text": [
      "0-th ep -> steps: 1000\n",
      "800-th ep -> steps: 1000\n",
      "1600-th ep -> steps: 1000\n",
      "2400-th ep -> steps: 1000\n",
      "3200-th ep -> steps: 1000\n",
      "4000-th ep -> steps: 1000\n",
      "4800-th ep -> steps: 1000\n"
     ]
    },
    {
     "ename": "KeyboardInterrupt",
     "evalue": "",
     "output_type": "error",
     "traceback": [
      "\u001b[1;31m---------------------------------------------------------------------------\u001b[0m",
      "\u001b[1;31mKeyboardInterrupt\u001b[0m                         Traceback (most recent call last)",
      "Cell \u001b[1;32mIn [29], line 15\u001b[0m\n\u001b[0;32m     11\u001b[0m \u001b[38;5;28;01mwhile\u001b[39;00m \u001b[38;5;129;01mnot\u001b[39;00m done: \u001b[38;5;66;03m# or not truncated:\u001b[39;00m\n\u001b[0;32m     12\u001b[0m \u001b[38;5;66;03m#rudder_conf=env.rudder_configs[rudder_conf_index]\u001b[39;00m\n\u001b[0;32m     13\u001b[0m \u001b[38;5;66;03m#rudder_conf\u001b[39;00m\n\u001b[0;32m     14\u001b[0m     sail_conf_index\u001b[38;5;241m=\u001b[39mnp\u001b[38;5;241m.\u001b[39margmax(q_table[(current_state)][\u001b[38;5;241m0\u001b[39m:\u001b[38;5;241m15\u001b[39m])\n\u001b[1;32m---> 15\u001b[0m     rudder_conf_index\u001b[38;5;241m=\u001b[39m\u001b[43mnp\u001b[49m\u001b[38;5;241;43m.\u001b[39;49m\u001b[43margmax\u001b[49m\u001b[43m(\u001b[49m\u001b[43mq_table\u001b[49m\u001b[43m[\u001b[49m\u001b[43m(\u001b[49m\u001b[43mcurrent_state\u001b[49m\u001b[43m)\u001b[49m\u001b[43m]\u001b[49m\u001b[43m[\u001b[49m\u001b[38;5;241;43m15\u001b[39;49m\u001b[43m:\u001b[49m\u001b[38;5;241;43m33\u001b[39;49m\u001b[43m]\u001b[49m\u001b[43m)\u001b[49m\n\u001b[0;32m     16\u001b[0m     \u001b[38;5;66;03m#sail_conf=env.sail_configs[sail_conf_index]\u001b[39;00m\n\u001b[0;32m     17\u001b[0m     \u001b[38;5;66;03m#sail_conf\u001b[39;00m\n\u001b[0;32m     18\u001b[0m     action\u001b[38;5;241m=\u001b[39menv\u001b[38;5;241m.\u001b[39msail_configs[sail_conf_index],env\u001b[38;5;241m.\u001b[39mrudder_configs[\u001b[38;5;241m15\u001b[39m\u001b[38;5;241m-\u001b[39mrudder_conf_index]\n",
      "File \u001b[1;32m<__array_function__ internals>:180\u001b[0m, in \u001b[0;36margmax\u001b[1;34m(*args, **kwargs)\u001b[0m\n",
      "File \u001b[1;32m~\\.environments\\dama61\\lib\\site-packages\\numpy\\core\\fromnumeric.py:1216\u001b[0m, in \u001b[0;36margmax\u001b[1;34m(a, axis, out, keepdims)\u001b[0m\n\u001b[0;32m   1129\u001b[0m \u001b[38;5;124;03m\"\"\"\u001b[39;00m\n\u001b[0;32m   1130\u001b[0m \u001b[38;5;124;03mReturns the indices of the maximum values along an axis.\u001b[39;00m\n\u001b[0;32m   1131\u001b[0m \n\u001b[1;32m   (...)\u001b[0m\n\u001b[0;32m   1213\u001b[0m \u001b[38;5;124;03m(2, 1, 4)\u001b[39;00m\n\u001b[0;32m   1214\u001b[0m \u001b[38;5;124;03m\"\"\"\u001b[39;00m\n\u001b[0;32m   1215\u001b[0m kwds \u001b[38;5;241m=\u001b[39m {\u001b[38;5;124m'\u001b[39m\u001b[38;5;124mkeepdims\u001b[39m\u001b[38;5;124m'\u001b[39m: keepdims} \u001b[38;5;28;01mif\u001b[39;00m keepdims \u001b[38;5;129;01mis\u001b[39;00m \u001b[38;5;129;01mnot\u001b[39;00m np\u001b[38;5;241m.\u001b[39m_NoValue \u001b[38;5;28;01melse\u001b[39;00m {}\n\u001b[1;32m-> 1216\u001b[0m \u001b[38;5;28;01mreturn\u001b[39;00m _wrapfunc(a, \u001b[38;5;124m'\u001b[39m\u001b[38;5;124margmax\u001b[39m\u001b[38;5;124m'\u001b[39m, axis\u001b[38;5;241m=\u001b[39maxis, out\u001b[38;5;241m=\u001b[39mout, \u001b[38;5;241m*\u001b[39m\u001b[38;5;241m*\u001b[39mkwds)\n",
      "File \u001b[1;32m~\\.environments\\dama61\\lib\\site-packages\\numpy\\core\\fromnumeric.py:57\u001b[0m, in \u001b[0;36m_wrapfunc\u001b[1;34m(obj, method, *args, **kwds)\u001b[0m\n\u001b[0;32m     54\u001b[0m     \u001b[38;5;28;01mreturn\u001b[39;00m _wrapit(obj, method, \u001b[38;5;241m*\u001b[39margs, \u001b[38;5;241m*\u001b[39m\u001b[38;5;241m*\u001b[39mkwds)\n\u001b[0;32m     56\u001b[0m \u001b[38;5;28;01mtry\u001b[39;00m:\n\u001b[1;32m---> 57\u001b[0m     \u001b[38;5;28;01mreturn\u001b[39;00m bound(\u001b[38;5;241m*\u001b[39margs, \u001b[38;5;241m*\u001b[39m\u001b[38;5;241m*\u001b[39mkwds)\n\u001b[0;32m     58\u001b[0m \u001b[38;5;28;01mexcept\u001b[39;00m \u001b[38;5;167;01mTypeError\u001b[39;00m:\n\u001b[0;32m     59\u001b[0m     \u001b[38;5;66;03m# A TypeError occurs if the object does have such a method in its\u001b[39;00m\n\u001b[0;32m     60\u001b[0m     \u001b[38;5;66;03m# class, but its signature is not identical to that of NumPy's. This\u001b[39;00m\n\u001b[1;32m   (...)\u001b[0m\n\u001b[0;32m     64\u001b[0m     \u001b[38;5;66;03m# Call _wrapit from within the except clause to ensure a potential\u001b[39;00m\n\u001b[0;32m     65\u001b[0m     \u001b[38;5;66;03m# exception has a traceback chain.\u001b[39;00m\n\u001b[0;32m     66\u001b[0m     \u001b[38;5;28;01mreturn\u001b[39;00m _wrapit(obj, method, \u001b[38;5;241m*\u001b[39margs, \u001b[38;5;241m*\u001b[39m\u001b[38;5;241m*\u001b[39mkwds)\n",
      "\u001b[1;31mKeyboardInterrupt\u001b[0m: "
     ]
    }
   ],
   "source": [
    "env=SailBoatEnvironment()\n",
    "EPISODES=200_000\n",
    "boat_plot=[]\n",
    "boat_plot_all_ep=[]\n",
    "for i in range(EPISODES):\n",
    "    #boat_plot=[]\n",
    "    current_state=env.reset()\n",
    "    current_state=current_state[1], current_state[2]\n",
    "    done=False\n",
    "    truncated=False\n",
    "    while not done: # or not truncated:\n",
    "    #rudder_conf=env.rudder_configs[rudder_conf_index]\n",
    "    #rudder_conf\n",
    "        sail_conf_index=np.argmax(q_table[(current_state)][0:15])\n",
    "        rudder_conf_index=np.argmax(q_table[(current_state)][15:33])\n",
    "        #sail_conf=env.sail_configs[sail_conf_index]\n",
    "        #sail_conf\n",
    "        action=env.sail_configs[sail_conf_index],env.rudder_configs[15-rudder_conf_index]\n",
    "        boat_pos,  true_wind_index, target_angle_index, reward, done, truncated, step_num = env.step(action)\n",
    "#         if step_num > 9999:\n",
    "#             print(f\"{i}-th -> {step_num}\")\n",
    "        if done==True:\n",
    "            print(f\"{i}-th ep -> Egina done\")\n",
    "            break\n",
    "        if truncated==True:\n",
    "            #print(f\"{i}-th ep -> Egina truncated\")\n",
    "            break\n",
    "        new_state=true_wind_index, target_angle_index\n",
    "        #plotting a single episode\n",
    "        if i==range(EPISODES)[-1]-1:\n",
    "            boat_plot=np.append(boat_plot,np.array(boat_pos))\n",
    "        #np.concatenate((a, b), axis=0)\n",
    "#         a = np.array([[1, 2], [3, 4]])\n",
    "# b = np.array([[5, 6]])\n",
    "# c=np.concatenate((a, b), axis=0)\n",
    "# # array([[1, 2],\n",
    "# #        [3, 4],\n",
    "# #        [5, 6]])\n",
    "# c[1]\n",
    "        #boat_plot_all_ep=np.concatenate((boat_plot_all_ep,boat_plot),axis=0)\n",
    "        #boat_plot_all_ep=np.vstack((boat_plot_all_ep,boat_plot))\n",
    "        #boat_plot_all_ep.append(boat_plot)\n",
    "        #boat_plot_all_ep=np.append(boat_plot_all_ep,np.array(boat_plot))\n",
    "        Q_max_sail=np.max(q_table[(current_state)][0:15])\n",
    "        Q_max_rudder=np.max(q_table[(current_state)][15:33])\n",
    "        q_current_sail=q_table[current_state+(sail_conf_index,)]\n",
    "        q_current_rudder=q_table[current_state+(15+sail_conf_index,)]\n",
    "        new_q_sail=(1-env.alpha)*q_current_sail+env.alpha*(reward+env.gamma*Q_max_sail)\n",
    "        new_q_rudder=(1-env.alpha)*q_current_rudder+env.alpha*(reward+env.gamma*Q_max_rudder)\n",
    "        q_table[current_state+(sail_conf_index,)]=new_q_sail\n",
    "        q_table[current_state+(15+rudder_conf_index,)]=new_q_rudder\n",
    "        current_state=new_state\n",
    "#         if done==True:\n",
    "#             print(f\"{i}-th ep -> Egina done\")\n",
    "#         if truncated==True:\n",
    "#             print(f\"{i}-th ep -> Egina truncated\")\n",
    "    #print(i)\n",
    "    \n",
    "    if i%800==0:\n",
    "        print(f\"{i}-th ep -> steps: {step_num}\")\n",
    "render_ep(boat_plot, True)"
   ]
  },
  {
   "cell_type": "markdown",
   "metadata": {},
   "source": [
    "# Test Q Table"
   ]
  },
  {
   "cell_type": "code",
   "execution_count": null,
   "metadata": {},
   "outputs": [],
   "source": [
    "# env=SailBoatEnvironment()\n",
    "# for i in range(100):\n",
    "#     current_state=env.reset()\n",
    "#     current_state=current_state[1], current_state[2]\n",
    "#     done=False\n",
    "#     while not done:\n",
    "#     #rudder_conf=env.rudder_configs[rudder_conf_index]\n",
    "#     #rudder_conf\n",
    "#         sail_conf_index=np.argmax(q_table[(current_state)][0:15])\n",
    "#         rudder_conf_index=np.argmax(q_table[(current_state)][15:33])\n",
    "#         #sail_conf=env.sail_configs[sail_conf_index]\n",
    "#         #sail_conf\n",
    "#         action=env.sail_configs[sail_conf_index],env.rudder_configs[15-rudder_conf_index]\n",
    "#         boat_pos,  true_wind_index, target_angle_index, reward, done, truncated, step_num = env.step(action)\n",
    "#         new_state=true_wind_index, target_angle_index\n",
    "#         #plotting a single episode\n",
    "#         #boat_plot=np.append(boat_plot,np.array(boat_pos))\n",
    "# #         Q_max_sail=np.max(q_table[(current_state)][0:15])\n",
    "# #         Q_max_rudder=np.max(q_table[(current_state)][15:33])\n",
    "# #         q_current_sail=q_table[current_state+(sail_conf_index,)]\n",
    "# #         q_current_rudder=q_table[current_state+(15+sail_conf_index,)]\n",
    "# #         new_q_sail=(1-env.alpha)*q_current_sail+env.alpha*(reward+env.gamma*Q_max_sail)\n",
    "# #         new_q_rudder=(1-env.alpha)*q_current_rudder+env.alpha*(reward+env.gamma*Q_max_rudder)\n",
    "# #         q_table[current_state+(sail_conf_index,)]=new_q_sail\n",
    "# #         q_table[current_state+(15+sail_conf_index,)]=new_q_rudder\n",
    "#         current_state=new_state\n",
    "#     if i%5==0:\n",
    "#         print(f\"{i}-th ep -> steps: {step_num}\")"
   ]
  },
  {
   "cell_type": "code",
   "execution_count": null,
   "metadata": {},
   "outputs": [],
   "source": [
    "# env=SailBoatEnvironment()\n",
    "# q_table = np.zeros((16, 16, 3))\n",
    "\n",
    "# num_episodes = 1\n",
    "# #num_steps = 1000\n",
    "# for episode in range(num_episodes):\n",
    "#     state = env.reset()\n",
    "#     done = False\n",
    "#     total_reward = 0\n",
    "#     while not done:\n",
    "#         # Choose action using epsilon-greedy policy\n",
    "        \n",
    "#         #if np.random.uniform() < env.epsilon:\n",
    "#             #action = [np.random.choice(env.sail_configs), np.random.choice(env.rudder_configs)]\n",
    "#         #else:\n",
    "#         sail_idx, rudder_idx = np.searchsorted(env.sail_configs, action[0]), np.searchsorted(env.rudder_configs, action[1])\n",
    "#         action = [env.sail_configs[sail_idx], env.rudder_configs[rudder_idx]]\n",
    "        \n",
    "#         # Take action\n",
    "#         boat_v, boat_pos, next_state, reward, done, step_number = env.step(action)\n",
    "        \n",
    "#         # Update Q-table\n",
    "#         sail_idx, rudder_idx = np.searchsorted(env.sail_configs, action[0]), np.searchsorted(env.rudder_configs, action[1])\n",
    "#         q_current = q_table[sail_idx, rudder_idx, 0]\n",
    "#         q_next = np.max(q_table[sail_idx, rudder_idx, :])\n",
    "#         q_table[sail_idx, rudder_idx, 0] += env.alpha * (reward + env.gamma * q_next - q_current)\n",
    "        \n",
    "#         state = next_state\n",
    "#         total_reward += reward\n",
    "#         #print(f\"Step: {step_number}, BoatV:{np.round(boat_v,2)} , Boat Pos:{np.round(boat_pos,2)}\")\n",
    "#     #print(f\"Episode {episode+1}, BoatV:{boat_v} , Boat Pos:{boat_pos}\")\n"
   ]
  },
  {
   "cell_type": "code",
   "execution_count": null,
   "metadata": {},
   "outputs": [],
   "source": [
    "# import matplotlib.pyplot as plt\n",
    "\n",
    "# env = SailBoatEnvironment()\n",
    "# num_episodes = 3000\n",
    "# num_steps =1000\n",
    "\n",
    "# # create empty arrays to store positions for each episode\n",
    "# boat_positions = np.zeros((num_episodes, 2)) \n",
    "# target_positions = np.tile(np.array([55,100]), (num_episodes, 1))\n",
    "\n",
    "# for episode in range(num_episodes):\n",
    "#     state = env.reset()\n",
    "#     done = False\n",
    "#     total_reward = 0\n",
    "#     while not done:\n",
    "#         # Choose action using epsilon-greedy policy\n",
    "#         if np.random.uniform() < env.epsilon:\n",
    "#             action = [np.random.choice(env.sail_configs), np.random.choice(env.rudder_configs)]\n",
    "#         else:\n",
    "#             sail_idx, rudder_idx = np.searchsorted(env.sail_configs, action[0]), np.searchsorted(env.rudder_configs, action[1])\n",
    "#             action = [env.sail_configs[sail_idx], env.rudder_configs[rudder_idx]]\n",
    "\n",
    "#         # Take action\n",
    "#         boat_v, boat_pos, next_state, reward, done = env.step(action)\n",
    "        \n",
    "\n",
    "#         # Update Q-table\n",
    "#         sail_idx, rudder_idx = np.searchsorted(env.sail_configs, action[0]), np.searchsorted(env.rudder_configs, action[1])\n",
    "#         q_current = q_table[sail_idx, rudder_idx, 0]\n",
    "#         q_next = np.max(q_table[sail_idx, rudder_idx, :])\n",
    "#         q_table[sail_idx, rudder_idx, 0] += env.alpha * (reward + env.gamma * q_next - q_current)\n",
    "\n",
    "#         state = next_state\n",
    "#         total_reward += reward\n",
    "    \n",
    "#     # store final position in boat_positions array\n",
    "#     boat_positions[episode, :] = state\n",
    "    \n",
    "#     print(f\"Episode {episode+1}, Total reward: {total_reward}, New Position: ({state[0]:.2f}, {state[1]:.2f}), Target Position: ({env.target_position[0]:.2f}, {env.target_position[1]:.2f})\")\n",
    "\n",
    "# # create scatter plot of boat positions and target positions\n",
    "# fig, ax = plt.subplots()\n",
    "# ax.scatter(target_positions[:, 0], target_positions[:, 1], color='red',label='Target Position')\n",
    "# ax.scatter(boat_positions[:, 0], boat_positions[:, 1], color='gray', label='Boat Position')\n",
    "# ax.legend()\n",
    "# plt.show()\n"
   ]
  },
  {
   "cell_type": "markdown",
   "metadata": {},
   "source": [
    "the Q-table is a 3-dimensional numpy array with dimensions (11, 11, 3). The first two dimensions correspond to the sail and rudder configurations, respectively, and the third dimension corresponds to the Q-values for each possible action (there are 3 actions in total: sail left, sail straight, and sail right)."
   ]
  },
  {
   "cell_type": "markdown",
   "metadata": {},
   "source": [
    "self.true_wind_direction is a random value between 0 and 2π.\n",
    "self.boat_position is a NumPy array containing the initial position of the boat, which is (0, 0).\n",
    "self.target_position is a NumPy array containing the position of the target, which is a random point within a rectangle centered at the origin with width and height of 20 units.\n",
    "self.sail_configs is a NumPy array containing 11 equally spaced values between 0 and 1, representing the possible sail configurations.\n",
    "self.rudder_configs is a NumPy array containing 11 equally spaced values between -π/4 and π/4, representing the possible rudder configurations.\n",
    "self.q_table is a 3-dimensional NumPy array of zeros with shape (11, 11, 3), representing the Q-values for each possible combination of sail and rudder configurations."
   ]
  },
  {
   "cell_type": "markdown",
   "metadata": {},
   "source": []
  },
  {
   "cell_type": "markdown",
   "metadata": {},
   "source": [
    "sail_idx = np.argmin(np.abs(self.sail_configs - sail_config)) finds the index of the sail configuration that is closest to the desired sail configuration specified by sail_config. This is used to index into the first dimension of the Q-table.\n",
    "\n",
    "rudder_idx = np.argmin(np.abs(self.rudder_configs - rudder_config)) finds the index of the rudder configuration that is closest to the desired rudder configuration specified by rudder_config. This is used to index into the second dimension of the Q-table.\n",
    "\n",
    "q_current = self.q_table[sail_idx, rudder_idx, 0] retrieves the current Q-value for the current state and action (which is the \"sail straight\" action, corresponding to the index 0 in the third dimension).\n",
    "\n",
    "q_next = np.max(self.q_table[sail_idx, rudder_idx, :]) computes the estimated Q-value for the next state, which is the maximum Q-value over all possible actions in the next state (i.e., the action that maximizes the Q-value). This is used to estimate the expected total reward that can be obtained from the next state.\n",
    "\n",
    "self.q_table[sail_idx, rudder_idx, 0] += self.alpha * (reward + self.gamma * q_next - q_current) updates the Q-value for the current state and action, using the Q-learning update rule"
   ]
  },
  {
   "cell_type": "markdown",
   "metadata": {},
   "source": [
    "The Q-learning update equation is used to update the Q-value for the current state and action. The Q-value for the current state and action is q_current, and q_next is the maximum Q-value for the next state. The update is performed as follows:\n",
    "\n",
    "new_q_value = old_q_value + learning_rate * (reward + discount_factor * max_q_next - old_q_value)\n",
    "\n",
    "where learning_rate is the step size, reward is the reward obtained from the current action, discount_factor is the discount factor for future rewards, and max_q_next is the maximum Q-value for the next state.\n",
    "\n",
    "In the code, q_current is the current Q-value for the current state and action, and q_next is the maximum Q-value for the next state. The Q-value for the current state and action is updated using the above equation, and the new value is stored back in the Q-table."
   ]
  },
  {
   "cell_type": "markdown",
   "metadata": {},
   "source": [
    "relative_wind_direction = self.true_wind_direction - np.arctan2(*self.boat_position[::-1])\n",
    "self.true_wind_direction: This is a scalar value that represents the direction of the wind, expressed in radians.\n",
    "np.arctan2(*self.boat_position[::-1]): This is a function call to np.arctan2, which computes the arctangent of the ratio of two given inputs. In this case, the inputs are the components of the boat's position vector, reversed using [::-1]. The * before self.boat_position[::-1] unpacks the tuple of components into separate arguments for the np.arctan2 function. The resulting output is the angle in radians between the positive x-axis and a line connecting the boat's position to the origin.\n",
    "self.true_wind_direction - np.arctan2(*self.boat_position[::-1]): This subtracts the angle from step 2 from the wind direction angle from step 1, resulting in the relative wind direction, which is the angle in radians between the boat's heading and the direction of the wind.\n",
    "Overall, this line of code is computing the relative wind direction, which is an important parameter for calculating the sail force applied to the boat in the subsequent lines of code."
   ]
  }
 ],
 "metadata": {
  "kernelspec": {
   "display_name": "Python 3 (ipykernel)",
   "language": "python",
   "name": "python3"
  },
  "language_info": {
   "codemirror_mode": {
    "name": "ipython",
    "version": 3
   },
   "file_extension": ".py",
   "mimetype": "text/x-python",
   "name": "python",
   "nbconvert_exporter": "python",
   "pygments_lexer": "ipython3",
   "version": "3.9.7"
  }
 },
 "nbformat": 4,
 "nbformat_minor": 2
}
