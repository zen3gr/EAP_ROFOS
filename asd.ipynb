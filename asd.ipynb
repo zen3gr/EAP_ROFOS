{
 "cells": [
  {
   "cell_type": "code",
   "execution_count": null,
   "id": "f9d83b19",
   "metadata": {},
   "outputs": [],
   "source": [
    "import sklearn"
   ]
  },
  {
   "cell_type": "code",
   "execution_count": null,
   "id": "034a4ad1",
   "metadata": {},
   "outputs": [],
   "source": [
    "#apo to branch 1-print\n",
    "print(\"kati\")"
   ]
  },
  {
   "cell_type": "code",
   "execution_count": null,
   "id": "1226d93f",
   "metadata": {},
   "outputs": [],
   "source": [
    "#allagh sto issue"
   ]
  }
 ],
 "metadata": {
  "kernelspec": {
   "display_name": "Python 3 (ipykernel)",
   "language": "python",
   "name": "python3"
  },
  "language_info": {
   "codemirror_mode": {
    "name": "ipython",
    "version": 3
   },
   "file_extension": ".py",
   "mimetype": "text/x-python",
   "name": "python",
   "nbconvert_exporter": "python",
   "pygments_lexer": "ipython3",
   "version": "3.9.7"
  }
 },
 "nbformat": 4,
 "nbformat_minor": 5
}
