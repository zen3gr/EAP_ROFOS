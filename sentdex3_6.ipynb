{
 "cells": [
  {
   "cell_type": "code",
   "execution_count": 1,
   "id": "5daf0a68",
   "metadata": {},
   "outputs": [],
   "source": [
    "import numpy as np\n",
    "from PIL import Image\n",
    "import cv2\n",
    "import matplotlib.pyplot as plt\n",
    "import pickle\n",
    "from matplotlib import style\n",
    "import time\n",
    "\n",
    "style.use(\"ggplot\")\n",
    "\n",
    "SIZE = 10\n",
    "\n",
    "HM_EPISODES = 25000\n",
    "MOVE_PENALTY = 1\n",
    "ENEMY_PENALTY = 300\n",
    "FOOD_REWARD = 25\n",
    "epsilon = 0.9\n",
    "EPS_DECAY = 0.9998  # Every episode will be epsilon*EPS_DECAY\n",
    "SHOW_EVERY = 3000  # how often to play through env visually.\n",
    "\n",
    "start_q_table = None # None or Filename\n",
    "\n",
    "LEARNING_RATE = 0.1\n",
    "DISCOUNT = 0.95\n",
    "\n",
    "PLAYER_N = 1  # player key in dict\n",
    "FOOD_N = 2  # food key in dict\n",
    "ENEMY_N = 3  # enemy key in dict\n",
    "\n",
    "# the dict!\n",
    "d = {1: (255, 175, 0),\n",
    "     2: (0, 255, 0),\n",
    "     3: (0, 0, 255)}"
   ]
  },
  {
   "cell_type": "code",
   "execution_count": 2,
   "id": "37e5b6a4",
   "metadata": {},
   "outputs": [],
   "source": [
    "\n",
    "\n",
    "class Blob:\n",
    "    def __init__(self):\n",
    "        self.x = np.random.randint(0, SIZE)\n",
    "        self.y = np.random.randint(0, SIZE)\n",
    "\n",
    "    def __str__(self):\n",
    "        return f\"{self.x}, {self.y}\"\n",
    "\n",
    "    def __sub__(self, other):\n",
    "        return (self.x-other.x, self.y-other.y)\n",
    "\n",
    "    def action(self, choice):\n",
    "        '''\n",
    "        Gives us 4 total movement options. (0,1,2,3)\n",
    "        '''\n",
    "        if choice == 0:\n",
    "            self.move(x=1, y=1)\n",
    "        elif choice == 1:\n",
    "            self.move(x=-1, y=-1)\n",
    "        elif choice == 2:\n",
    "            self.move(x=-1, y=1)\n",
    "        elif choice == 3:\n",
    "            self.move(x=1, y=-1)\n",
    "\n",
    "#     def move(self, x=False, y=False):\n",
    "\n",
    "#         # If no value for x, move randomly\n",
    "#         if not x:\n",
    "#             self.x += np.random.randint(-1, 2)\n",
    "#         else:\n",
    "#             self.x += x\n",
    "\n",
    "#         # If no value for y, move randomly\n",
    "#         if not y:\n",
    "#             self.y += np.random.randint(-1, 2)\n",
    "#         else:\n",
    "#             self.y += y\n",
    "\n",
    "\n",
    "#         # If we are out of bounds, fix!\n",
    "#         if self.x < 0:\n",
    "#             self.x = 0\n",
    "#         elif self.x > SIZE-1:\n",
    "#             self.x = SIZE-1\n",
    "#         if self.y < 0:\n",
    "#             self.y = 0\n",
    "#         elif self.y > SIZE-1:\n",
    "#             self.y = SIZE-1\n"
   ]
  },
  {
   "cell_type": "code",
   "execution_count": 10,
   "id": "01a847ed",
   "metadata": {},
   "outputs": [],
   "source": [
    "player=Blob()\n"
   ]
  },
  {
   "cell_type": "code",
   "execution_count": 15,
   "id": "e3c6b826",
   "metadata": {},
   "outputs": [],
   "source": [
    "import gymnasium as gym\n",
    "a=gym.spaces.Box(low=-np.inf, high=np.inf, shape=(14,))"
   ]
  },
  {
   "cell_type": "code",
   "execution_count": 18,
   "id": "d62319df",
   "metadata": {},
   "outputs": [
    {
     "data": {
      "text/plain": [
       "(14,)"
      ]
     },
     "execution_count": 18,
     "metadata": {},
     "output_type": "execute_result"
    }
   ],
   "source": []
  },
  {
   "cell_type": "code",
   "execution_count": 9,
   "id": "2371a570",
   "metadata": {},
   "outputs": [
    {
     "data": {
      "text/plain": [
       "<__main__.Blob at 0x220bed14670>"
      ]
     },
     "execution_count": 9,
     "metadata": {},
     "output_type": "execute_result"
    }
   ],
   "source": [
    "Blob()"
   ]
  }
 ],
 "metadata": {
  "kernelspec": {
   "display_name": "Python 3 (ipykernel)",
   "language": "python",
   "name": "python3"
  },
  "language_info": {
   "codemirror_mode": {
    "name": "ipython",
    "version": 3
   },
   "file_extension": ".py",
   "mimetype": "text/x-python",
   "name": "python",
   "nbconvert_exporter": "python",
   "pygments_lexer": "ipython3",
   "version": "3.9.7"
  }
 },
 "nbformat": 4,
 "nbformat_minor": 5
}
