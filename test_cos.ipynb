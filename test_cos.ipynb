{
 "cells": [
  {
   "attachments": {},
   "cell_type": "markdown",
   "metadata": {},
   "source": [
    "rewards are given when the cosine of the angle between the direction of the boat and that of the wind is maximized"
   ]
  },
  {
   "cell_type": "code",
   "execution_count": 3,
   "metadata": {},
   "outputs": [],
   "source": [
    "import gym\n",
    "from gym import spaces\n",
    "import numpy as np\n",
    "\n",
    "class SailingEnv(gym.Env):\n",
    "    def __init__(self):\n",
    "        self.action_space = spaces.Discrete(3)\n",
    "        self.observation_space = spaces.Box(low=0, high=10, shape=(2,), dtype=np.int64)\n",
    "        self.wind_direction = np.array([0, 1])\n",
    "        self.position = np.array([0, 0])\n",
    "        self.rudder_angle = 0\n",
    "\n",
    "    def reset(self):\n",
    "        self.wind_direction = np.array([0, 1])\n",
    "        self.position = np.array([0, 0])\n",
    "        self.rudder_angle = 0\n",
    "        return self.position\n",
    "\n",
    "    def step(self, action):\n",
    "        if action == 0:\n",
    "            self.rudder_angle = -1\n",
    "        elif action == 1:\n",
    "            self.rudder_angle = 0\n",
    "        else:\n",
    "            self.rudder_angle = 1\n",
    "        \n",
    "        wind_angle = np.arctan2(self.wind_direction[1], self.wind_direction[0])\n",
    "        boat_velocity = self.wind_direction - 5 * np.array([np.sin(wind_angle + np.deg2rad(self.rudder_angle)), np.cos(wind_angle + np.deg2rad(self.rudder_angle))])\n",
    "        relative_velocity = boat_velocity - self.wind_direction\n",
    "        boat_direction = np.arctan2(relative_velocity[1], relative_velocity[0])\n",
    "        heading_angle = boat_direction + np.deg2rad(self.rudder_angle)\n",
    "        self.position += boat_velocity.astype(int)\n",
    "        self.wind_direction = np.array([0, 1], dtype=float)\n",
    "\n",
    "        reward = np.cos(heading_angle - wind_angle)\n",
    "        done = self.position[0] >= 10 or self.position[1] >= 10 or self.position[0] < 0 or self.position[1] < 0\n",
    "        return self.position, reward, done, {}\n",
    "\n",
    "env = SailingEnv()\n",
    "num_episodes = 10000\n",
    "\n",
    "for i in range(num_episodes):\n",
    "    done = False\n",
    "    episode_reward = 0\n",
    "    observation = env.reset()\n",
    "    print(f\"\\nEpisode {i+1}\")\n",
    "    print(f\"Initial Location: {observation}, Wind Direction: {env.wind_direction}, Rudder Angle: {env.rudder_angle}\")\n",
    "    \n",
    "    while not done:\n",
    "        action = env.action_space.sample()\n",
    "        observation, reward, done, info = env.step(action)\n",
    "        episode_reward += reward\n",
    "        print(f\"Location: {observation}, Wind Direction: {env.wind_direction}, Rudder Angle: {env.rudder_angle}\")\n",
    "    \n",
    "    print(f\"Total episode reward: {episode_reward}\")\n"
   ]
  }
 ],
 "metadata": {
  "kernelspec": {
   "display_name": "rofos",
   "language": "python",
   "name": "python3"
  },
  "language_info": {
   "codemirror_mode": {
    "name": "ipython",
    "version": 3
   },
   "file_extension": ".py",
   "mimetype": "text/x-python",
   "name": "python",
   "nbconvert_exporter": "python",
   "pygments_lexer": "ipython3",
   "version": "3.10.8"
  },
  "orig_nbformat": 4,
  "vscode": {
   "interpreter": {
    "hash": "ac2f5a264b2e5996d9fa0766bbb0f6d08929f71a45a794f4b8d0fed6d084d076"
   }
  }
 },
 "nbformat": 4,
 "nbformat_minor": 2
}
