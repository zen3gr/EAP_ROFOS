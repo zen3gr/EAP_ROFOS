{
 "cells": [
  {
   "cell_type": "code",
   "execution_count": null,
   "metadata": {},
   "outputs": [],
   "source": [
    "max_steps = 20_000 #after 20k steps, agent will stop trying\n",
    "## Our Grid (starts from zero)\n",
    "minX=0\n",
    "minY=0\n",
    "maxX=19\n",
    "maxY=19"
   ]
  },
  {
   "cell_type": "code",
   "execution_count": null,
   "metadata": {},
   "outputs": [],
   "source": [
    "3<4<5"
   ]
  },
  {
   "cell_type": "code",
   "execution_count": null,
   "metadata": {},
   "outputs": [],
   "source": [
    "#this is test using velocity to reach the target not rudder\n",
    "\n",
    "\n",
    "import gym\n",
    "import numpy as np\n",
    "\n",
    "class SailingEnv(gym.Env):\n",
    "    def __init__(self):\n",
    "        self.maxsteps=max_steps\n",
    "        self.minX=minX\n",
    "        self.maxX=maxX\n",
    "        self.minY=minY\n",
    "        self.maxY=maxY\n",
    "        self.target = np.array([8, 15], dtype=np.float64)        \n",
    "        self.action_space = gym.spaces.Discrete(3)\n",
    "        self.current_pos = np.array([0, 0], dtype=np.float64)\n",
    "        self.current_vel = np.array([0, 0], dtype=np.float64)\n",
    "        #self.observation_space = gym.spaces.MultiDiscrete([10, 10])\n",
    "        #self.reset()\n",
    "\n",
    "    def reset(self):\n",
    "        self.current_pos = np.array([0, 0])        \n",
    "        self.current_vel = np.array([0, 0])\n",
    "        self.combined=np.concatenate((self.current_pos, self.current_vel)) \n",
    "        return tuple(self.combined.reshape(1,-1)[0])\n",
    "\n",
    "        \n",
    "    \n",
    "    \n",
    "    def step(self, action):\n",
    "#         # Define velocity vector((s))\n",
    "         velocity_vectors = np.array([[1, 0], [1, 1], [1, -1]])\n",
    "    \n",
    "#         # Set the rudder angle based on the action\n",
    "         self.velocity = velocity_vectors[action]\n",
    "\n",
    "         self.current_pos = self.current_pos + self.velocity * 1\n",
    "         reward = -np.sqrt(np.sum(np.square(self.current_pos - self.target))) #reward me vash apostash\n",
    "         done = np.allclose(self.current_pos, self.target) #epistrefei True otan ftasei sto target\n",
    "         truncated = not (self.minX<self.current_pos[0]<self.maxX and self.minY<self.current_pos[1]<self.maxY)\n",
    "         #info = {'current_pos': self.current_pos, 'reward': reward, 'done': done}\n",
    "         self.combined=np.concatenate((self.current_pos, self.velocity))\n",
    "        \n",
    "         return tuple(self.combined.reshape(1,-1)[0]), reward, done, truncated\n",
    "         #return info\n",
    "        #return self._get_obs(), reward, done, info\n",
    "\n",
    "#     def _get_obs(self):\n",
    "#         return tuple(self.current_pos.astype(np.int64) + 5)\n",
    "\n",
    "\n",
    "env = SailingEnv()"
   ]
  },
  {
   "cell_type": "code",
   "execution_count": null,
   "metadata": {},
   "outputs": [],
   "source": [
    "q_table = np.random.uniform(low=-2, high=0, size=([maxX+1,maxY+1,maxX+1,maxY+1] + [env.action_space.n]))"
   ]
  },
  {
   "cell_type": "code",
   "execution_count": null,
   "metadata": {},
   "outputs": [],
   "source": [
    "\n",
    "\n",
    "# Set learning parameters\n",
    "LEARNING_RATE = 0.0001\n",
    "DISCOUNT = 0.95\n",
    "EPSILON=0.9\n",
    "\n",
    "# Q-learning algorithm\n",
    "num_episodes = 1000\n",
    "alpha = 0.001\n",
    "gamma = 0.9\n",
    "epsilon = 0.1\n",
    "\n",
    "\n",
    "\n",
    "\n",
    "# Set exploration parameters\n",
    "#exploration_rate = 1.0\n",
    "#max_exploration_rate = 1.0\n",
    "#min_exploration_rate = 0.01\n",
    "#exploration_decay_rate = 0.001\n"
   ]
  },
  {
   "cell_type": "code",
   "execution_count": null,
   "metadata": {},
   "outputs": [],
   "source": [
    "success=0\n",
    "for i in range(num_episodes):\n",
    "    done = False\n",
    "    episode_reward = 0\n",
    "    current_state = env.reset()\n",
    "    \n",
    "    while not done:\n",
    "        if np.random.random() < EPSILON:\n",
    "            # take a random action with probability epsilon\n",
    "            action = env.action_space.sample()\n",
    "        else:\n",
    "            # choose the action with the highest Q-value\n",
    "            action = np.argmax(q_table[current_state])\n",
    "        \n",
    "        next_observation, reward, done, truncated = env.step(action)\n",
    "        \n",
    "        if truncated:\n",
    "            #poly mikro Q value otan o agent odhgeitai eksw apo to grid\n",
    "            #gia na mhn ksanaepileksei tetoia action otan vrethei sthn idia thesh\n",
    "            q_table[current_state+(action,)]=-20\n",
    "            break\n",
    "        else:\n",
    "            #Q_max\n",
    "            Q_max = np.max(q_table[next_observation])\n",
    "            #Q_current\n",
    "            Q_current = q_table[current_state + (action,)]\n",
    "            #new_q\n",
    "            new_q = (1-LEARNING_RATE)*Q_current + LEARNING_RATE*(reward+DISCOUNT*Q_max)\n",
    "            #update q_table\n",
    "            q_table[current_state+(action,)]=new_q\n",
    "            #replace new_state as current_state\n",
    "            \n",
    "        #print(done)\n",
    "        if done:\n",
    "            success+=1\n",
    "            #print(\"eftasa\")\n",
    "\n",
    "    \n",
    "        current_state = next_observation\n",
    "        episode_reward += reward\n",
    "\n",
    "print(success)"
   ]
  },
  {
   "cell_type": "code",
   "execution_count": null,
   "metadata": {},
   "outputs": [],
   "source": []
  }
 ],
 "metadata": {
  "kernelspec": {
   "display_name": "Python 3 (ipykernel)",
   "language": "python",
   "name": "python3"
  },
  "language_info": {
   "codemirror_mode": {
    "name": "ipython",
    "version": 3
   },
   "file_extension": ".py",
   "mimetype": "text/x-python",
   "name": "python",
   "nbconvert_exporter": "python",
   "pygments_lexer": "ipython3",
   "version": "3.9.7"
  },
  "vscode": {
   "interpreter": {
    "hash": "ac2f5a264b2e5996d9fa0766bbb0f6d08929f71a45a794f4b8d0fed6d084d076"
   }
  }
 },
 "nbformat": 4,
 "nbformat_minor": 2
}
