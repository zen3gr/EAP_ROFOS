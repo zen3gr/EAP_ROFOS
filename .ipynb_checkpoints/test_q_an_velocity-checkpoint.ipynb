{
 "cells": [
  {
   "cell_type": "code",
   "execution_count": 59,
   "metadata": {},
   "outputs": [],
   "source": [
    "#this is test using velocity to reach the target not rudder\n",
    "\n",
    "\n",
    "import gym\n",
    "import numpy as np\n",
    "\n",
    "class SailingEnv(gym.Env):\n",
    "    def __init__(self):\n",
    "        self.target = np.array([-5, 0], dtype=np.float64)\n",
    "        \n",
    "        self.action_space = gym.spaces.Discrete(3)\n",
    "        #self.observation_space = gym.spaces.MultiDiscrete([10, 10])\n",
    "        #self.reset()\n",
    "\n",
    "    def reset(self):\n",
    "        self.current_pos = np.array([0, 0], dtype=np.float64)\n",
    "        \n",
    "        self.starting_vel = np.array([1, 0], dtype=np.float64)\n",
    "        #return self.current_pos\n",
    "        return tuple(self.current_pos.astype(np.int64)), tuple(self.starting_vel.astype(np.int64))\n",
    "        \n",
    "\n",
    "   # def step(self, action):\n",
    "       # if action == 0:\n",
    "           # self.velocity = np.array([1, 0], dtype=np.float64)\n",
    "       # elif action == 1:\n",
    "           # self.velocity = np.array([1, 1], dtype=np.float64)\n",
    "       # elif action == 2:\n",
    "         #   self.velocity = np.array([1, -1], dtype=np.float64)\n",
    "    \n",
    "    \n",
    "    def step(self, action):\n",
    "        # Define a vector of rudder angles for each possible action\n",
    "        velocity_vectors = np.array([[1, 0], [1, 1], [1, -1]])\n",
    "    \n",
    "        # Set the rudder angle based on the action\n",
    "        self.velocity = velocity_vectors[action]\n",
    "\n",
    "        self.current_pos = np.float64(self.current_pos) + self.velocity * 0.1\n",
    "        reward = -np.sqrt(np.sum(np.square(self.current_pos - self.target)))\n",
    "        done = np.allclose(self.current_pos, self.target)\n",
    "        info = {'current_pos': self.current_pos, 'reward': reward}\n",
    "        return self._get_obs(), reward, done, info\n",
    "\n",
    "    def _get_obs(self):\n",
    "        return tuple(self.current_pos.astype(np.int64) + 5)\n",
    "\n",
    "\n",
    "env = SailingEnv()"
   ]
  },
  {
   "cell_type": "code",
   "execution_count": 60,
   "metadata": {},
   "outputs": [
    {
     "data": {
      "text/plain": [
       "((0, 0), (1, 0))"
      ]
     },
     "execution_count": 60,
     "metadata": {},
     "output_type": "execute_result"
    }
   ],
   "source": [
    "env.reset()"
   ]
  },
  {
   "cell_type": "code",
   "execution_count": 48,
   "metadata": {},
   "outputs": [
    {
     "data": {
      "text/plain": [
       "tuple"
      ]
     },
     "execution_count": 48,
     "metadata": {},
     "output_type": "execute_result"
    }
   ],
   "source": [
    "type((0,0))"
   ]
  },
  {
   "cell_type": "code",
   "execution_count": 62,
   "metadata": {},
   "outputs": [
    {
     "ename": "TypeError",
     "evalue": "'tuple' object cannot be interpreted as an integer",
     "output_type": "error",
     "traceback": [
      "\u001b[1;31m---------------------------------------------------------------------------\u001b[0m",
      "\u001b[1;31mTypeError\u001b[0m                                 Traceback (most recent call last)",
      "Cell \u001b[1;32mIn [62], line 1\u001b[0m\n\u001b[1;32m----> 1\u001b[0m q_table \u001b[38;5;241m=\u001b[39m \u001b[43mnp\u001b[49m\u001b[38;5;241;43m.\u001b[39;49m\u001b[43mrandom\u001b[49m\u001b[38;5;241;43m.\u001b[39;49m\u001b[43muniform\u001b[49m\u001b[43m(\u001b[49m\u001b[43mlow\u001b[49m\u001b[38;5;241;43m=\u001b[39;49m\u001b[38;5;241;43m-\u001b[39;49m\u001b[38;5;241;43m2\u001b[39;49m\u001b[43m,\u001b[49m\u001b[43m \u001b[49m\u001b[43mhigh\u001b[49m\u001b[38;5;241;43m=\u001b[39;49m\u001b[38;5;241;43m0\u001b[39;49m\u001b[43m,\u001b[49m\u001b[43m \u001b[49m\u001b[43msize\u001b[49m\u001b[38;5;241;43m=\u001b[39;49m\u001b[43m(\u001b[49m\u001b[43m[\u001b[49m\u001b[43m(\u001b[49m\u001b[38;5;241;43m10\u001b[39;49m\u001b[43m,\u001b[49m\u001b[38;5;241;43m10\u001b[39;49m\u001b[43m)\u001b[49m\u001b[43m,\u001b[49m\u001b[43m(\u001b[49m\u001b[38;5;241;43m10\u001b[39;49m\u001b[43m,\u001b[49m\u001b[38;5;241;43m10\u001b[39;49m\u001b[43m)\u001b[49m\u001b[43m]\u001b[49m\u001b[43m \u001b[49m\u001b[38;5;241;43m+\u001b[39;49m\u001b[43m \u001b[49m\u001b[43m[\u001b[49m\u001b[43menv\u001b[49m\u001b[38;5;241;43m.\u001b[39;49m\u001b[43maction_space\u001b[49m\u001b[38;5;241;43m.\u001b[39;49m\u001b[43mn\u001b[49m\u001b[43m]\u001b[49m\u001b[43m)\u001b[49m\u001b[43m)\u001b[49m\n",
      "File \u001b[1;32mmtrand.pyx:1121\u001b[0m, in \u001b[0;36mnumpy.random.mtrand.RandomState.uniform\u001b[1;34m()\u001b[0m\n",
      "File \u001b[1;32m_common.pyx:630\u001b[0m, in \u001b[0;36mnumpy.random._common.cont\u001b[1;34m()\u001b[0m\n",
      "\u001b[1;31mTypeError\u001b[0m: 'tuple' object cannot be interpreted as an integer"
     ]
    }
   ],
   "source": [
    "q_table = np.random.uniform(low=-2, high=0, size=([(10,10),(10,10)] + [env.action_space.n]))"
   ]
  },
  {
   "cell_type": "code",
   "execution_count": null,
   "metadata": {},
   "outputs": [],
   "source": [
    "q_table"
   ]
  },
  {
   "cell_type": "code",
   "execution_count": 27,
   "metadata": {},
   "outputs": [],
   "source": [
    "#q_table will have 10X10X4 cells\n",
    "q_table = np.random.uniform(low=-2, high=0, size=([10,10] + [env.action_space.n]))\n",
    "\n",
    "# Set learning parameters\n",
    "LEARNING_RATE = 0.0001\n",
    "DISCOUNT = 0.95\n",
    "EPSILON=0.9\n",
    "\n",
    "# Q-learning algorithm\n",
    "num_episodes = 1000\n",
    "alpha = 0.001\n",
    "gamma = 0.9\n",
    "epsilon = 0.1\n",
    "\n",
    "\n",
    "\n",
    "\n",
    "# Set exploration parameters\n",
    "#exploration_rate = 1.0\n",
    "#max_exploration_rate = 1.0\n",
    "#min_exploration_rate = 0.01\n",
    "#exploration_decay_rate = 0.001\n"
   ]
  },
  {
   "cell_type": "code",
   "execution_count": 28,
   "metadata": {},
   "outputs": [
    {
     "ename": "KeyboardInterrupt",
     "evalue": "",
     "output_type": "error",
     "traceback": [
      "\u001b[1;31m---------------------------------------------------------------------------\u001b[0m",
      "\u001b[1;31mKeyboardInterrupt\u001b[0m                         Traceback (most recent call last)",
      "Cell \u001b[1;32mIn [28], line 14\u001b[0m\n\u001b[0;32m     10\u001b[0m \u001b[38;5;28;01melse\u001b[39;00m:\n\u001b[0;32m     11\u001b[0m     \u001b[38;5;66;03m# choose the action with the highest Q-value\u001b[39;00m\n\u001b[0;32m     12\u001b[0m     action \u001b[38;5;241m=\u001b[39m np\u001b[38;5;241m.\u001b[39margmax(q_table[observation[\u001b[38;5;241m0\u001b[39m], observation[\u001b[38;5;241m1\u001b[39m], :])\n\u001b[1;32m---> 14\u001b[0m next_observation, reward, done, _ \u001b[38;5;241m=\u001b[39m \u001b[43menv\u001b[49m\u001b[38;5;241;43m.\u001b[39;49m\u001b[43mstep\u001b[49m\u001b[43m(\u001b[49m\u001b[43maction\u001b[49m\u001b[43m)\u001b[49m\n\u001b[0;32m     15\u001b[0m \u001b[38;5;28;01mif\u001b[39;00m (next_observation[\u001b[38;5;241m0\u001b[39m] \u001b[38;5;241m<\u001b[39m \u001b[38;5;241m0\u001b[39m \u001b[38;5;129;01mor\u001b[39;00m next_observation[\u001b[38;5;241m0\u001b[39m] \u001b[38;5;241m>\u001b[39m \u001b[38;5;241m9\u001b[39m \u001b[38;5;129;01mor\u001b[39;00m\n\u001b[0;32m     16\u001b[0m     next_observation[\u001b[38;5;241m1\u001b[39m] \u001b[38;5;241m<\u001b[39m \u001b[38;5;241m0\u001b[39m \u001b[38;5;129;01mor\u001b[39;00m next_observation[\u001b[38;5;241m1\u001b[39m] \u001b[38;5;241m>\u001b[39m \u001b[38;5;241m9\u001b[39m):\n\u001b[0;32m     17\u001b[0m \u001b[38;5;66;03m# If next observation is out of bounds, set it to the previous observation\u001b[39;00m\n\u001b[0;32m     18\u001b[0m     next_observation \u001b[38;5;241m=\u001b[39m observation\n",
      "Cell \u001b[1;32mIn [26], line 35\u001b[0m, in \u001b[0;36mSailingEnv.step\u001b[1;34m(self, action)\u001b[0m\n\u001b[0;32m     32\u001b[0m \u001b[38;5;66;03m# Set the rudder angle based on the action\u001b[39;00m\n\u001b[0;32m     33\u001b[0m \u001b[38;5;28mself\u001b[39m\u001b[38;5;241m.\u001b[39mvelocity \u001b[38;5;241m=\u001b[39m velocity_vectors[action]\n\u001b[1;32m---> 35\u001b[0m \u001b[38;5;28mself\u001b[39m\u001b[38;5;241m.\u001b[39mcurrent_pos \u001b[38;5;241m=\u001b[39m np\u001b[38;5;241m.\u001b[39mfloat64(\u001b[38;5;28mself\u001b[39m\u001b[38;5;241m.\u001b[39mcurrent_pos) \u001b[38;5;241m+\u001b[39m \u001b[38;5;28;43mself\u001b[39;49m\u001b[38;5;241;43m.\u001b[39;49m\u001b[43mvelocity\u001b[49m\u001b[43m \u001b[49m\u001b[38;5;241;43m*\u001b[39;49m\u001b[43m \u001b[49m\u001b[38;5;241;43m0.1\u001b[39;49m\n\u001b[0;32m     36\u001b[0m reward \u001b[38;5;241m=\u001b[39m \u001b[38;5;241m-\u001b[39mnp\u001b[38;5;241m.\u001b[39msqrt(np\u001b[38;5;241m.\u001b[39msum(np\u001b[38;5;241m.\u001b[39msquare(\u001b[38;5;28mself\u001b[39m\u001b[38;5;241m.\u001b[39mcurrent_pos \u001b[38;5;241m-\u001b[39m \u001b[38;5;28mself\u001b[39m\u001b[38;5;241m.\u001b[39mtarget)))\n\u001b[0;32m     37\u001b[0m done \u001b[38;5;241m=\u001b[39m np\u001b[38;5;241m.\u001b[39mallclose(\u001b[38;5;28mself\u001b[39m\u001b[38;5;241m.\u001b[39mcurrent_pos, \u001b[38;5;28mself\u001b[39m\u001b[38;5;241m.\u001b[39mtarget)\n",
      "\u001b[1;31mKeyboardInterrupt\u001b[0m: "
     ]
    }
   ],
   "source": [
    "for i in range(num_episodes):\n",
    "    done = False\n",
    "    episode_reward = 0\n",
    "    observation = env.reset()\n",
    "    \n",
    "    while not done:\n",
    "        if np.random.random() < epsilon:\n",
    "            # take a random action with probability epsilon\n",
    "            action = env.action_space.sample()\n",
    "        else:\n",
    "            # choose the action with the highest Q-value\n",
    "            action = np.argmax(q_table[observation[0], observation[1], :])\n",
    "        \n",
    "        next_observation, reward, done, _ = env.step(action)\n",
    "        if (next_observation[0] < 0 or next_observation[0] > 9 or\n",
    "            next_observation[1] < 0 or next_observation[1] > 9):\n",
    "        # If next observation is out of bounds, set it to the previous observation\n",
    "            next_observation = observation\n",
    "    \n",
    "        next_action = np.argmax(q_table[next_observation[0], next_observation[1], :])\n",
    "        \n",
    "        # update Q-value using Q-learning update rule\n",
    "        q_table[observation[0], observation[1], action] += alpha * (reward + gamma * q_table[next_observation[0], next_observation[1], next_action] - q_table[observation[0], observation[1], action])\n",
    "        observation = next_observation\n",
    "        episode_reward += reward\n",
    "        "
   ]
  },
  {
   "cell_type": "code",
   "execution_count": null,
   "metadata": {},
   "outputs": [],
   "source": []
  }
 ],
 "metadata": {
  "kernelspec": {
   "display_name": "Python 3 (ipykernel)",
   "language": "python",
   "name": "python3"
  },
  "language_info": {
   "codemirror_mode": {
    "name": "ipython",
    "version": 3
   },
   "file_extension": ".py",
   "mimetype": "text/x-python",
   "name": "python",
   "nbconvert_exporter": "python",
   "pygments_lexer": "ipython3",
   "version": "3.9.7"
  },
  "vscode": {
   "interpreter": {
    "hash": "ac2f5a264b2e5996d9fa0766bbb0f6d08929f71a45a794f4b8d0fed6d084d076"
   }
  }
 },
 "nbformat": 4,
 "nbformat_minor": 2
}
