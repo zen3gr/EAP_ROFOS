{
 "cells": [
  {
   "cell_type": "code",
   "execution_count": 217,
   "metadata": {},
   "outputs": [],
   "source": [
    "#this is test using velocity to reach the target not rudder\n",
    "\n",
    "\n",
    "import gym\n",
    "import numpy as np\n",
    "\n",
    "class SailingEnv(gym.Env):\n",
    "    def __init__(self):\n",
    "        self.target = np.array([-5, 0], dtype=np.float64)        \n",
    "        self.action_space = gym.spaces.Discrete(3)\n",
    "        self.current_pos = np.array([0, 0], dtype=np.float64)\n",
    "        self.current_vel = np.array([0, 0], dtype=np.float64)\n",
    "        #self.observation_space = gym.spaces.MultiDiscrete([10, 10])\n",
    "        #self.reset()\n",
    "\n",
    "    def reset(self):\n",
    "        self.current_pos = np.array([0, 0], dtype=np.float64)        \n",
    "        self.current_vel = np.array([0, 0], dtype=np.float64)\n",
    "        return tuple(self.current_pos.astype(np.int64)), tuple(self.current_vel.astype(np.int64))\n",
    "        #return np.array([self.current_pos, self.current_vel])\n",
    "        \n",
    "    \n",
    "    \n",
    "    def step(self, action):\n",
    "#         # Define velocity vector((s))\n",
    "         velocity_vectors = np.array([[1, 0], [1, 1], [1, -1]])\n",
    "    \n",
    "#         # Set the rudder angle based on the action\n",
    "         self.velocity = velocity_vectors[action]\n",
    "\n",
    "         self.current_pos = self.current_pos + self.velocity * 0.1\n",
    "         reward = -np.sqrt(np.sum(np.square(self.current_pos - self.target))) #reward me vash apostash\n",
    "         done = np.allclose(self.current_pos, self.target) #epistrefei True otan ftasei sto target\n",
    "         #info = {'current_pos': self.current_pos, 'reward': reward, 'done': done}\n",
    "        \n",
    "         return tuple(self.current_pos.astype(np.int64)), tuple(self.velocity.astype(np.int64)), reward, done\n",
    "         #return info\n",
    "        #return self._get_obs(), reward, done, info\n",
    "\n",
    "#     def _get_obs(self):\n",
    "#         return tuple(self.current_pos.astype(np.int64) + 5)\n",
    "\n",
    "\n",
    "env = SailingEnv()"
   ]
  },
  {
   "cell_type": "code",
   "execution_count": 207,
   "metadata": {},
   "outputs": [
    {
     "data": {
      "text/plain": [
       "(1, 1)"
      ]
     },
     "execution_count": 207,
     "metadata": {},
     "output_type": "execute_result"
    }
   ],
   "source": [
    "c=env.step(1)\n",
    "c"
   ]
  },
  {
   "cell_type": "code",
   "execution_count": 68,
   "metadata": {},
   "outputs": [],
   "source": [
    "from numpy import array\n",
    "T = array([\n",
    "  [[10,20,30,14], [14,15,16,56],    [7,8,9]],\n",
    "  [[11,12,13,14], [14,15,16,56], [17,18,19]],\n",
    "  [[21,22,23,14], [24,25,26,56], [27,28,29]],\n",
    "  ])"
   ]
  },
  {
   "cell_type": "code",
   "execution_count": 70,
   "metadata": {},
   "outputs": [
    {
     "data": {
      "text/plain": [
       "(3, 3, 3)"
      ]
     },
     "execution_count": 70,
     "metadata": {},
     "output_type": "execute_result"
    }
   ],
   "source": [
    "T.shape"
   ]
  },
  {
   "cell_type": "code",
   "execution_count": 71,
   "metadata": {},
   "outputs": [
    {
     "data": {
      "text/plain": [
       "2"
      ]
     },
     "execution_count": 71,
     "metadata": {},
     "output_type": "execute_result"
    }
   ],
   "source": [
    "T[(0,0,1)]"
   ]
  },
  {
   "cell_type": "code",
   "execution_count": 48,
   "metadata": {},
   "outputs": [
    {
     "data": {
      "text/plain": [
       "tuple"
      ]
     },
     "execution_count": 48,
     "metadata": {},
     "output_type": "execute_result"
    }
   ],
   "source": [
    "type((0,0))"
   ]
  },
  {
   "cell_type": "code",
   "execution_count": 76,
   "metadata": {},
   "outputs": [],
   "source": [
    "q_table = np.random.uniform(low=-2, high=0, size=([20,20,20,20] + [env.action_space.n]))"
   ]
  },
  {
   "cell_type": "code",
   "execution_count": 88,
   "metadata": {},
   "outputs": [
    {
     "data": {
      "text/plain": [
       "array([-0.45787365, -1.69347203, -1.50223659])"
      ]
     },
     "execution_count": 88,
     "metadata": {},
     "output_type": "execute_result"
    }
   ],
   "source": [
    "q_table[(10,10,10,10)]"
   ]
  },
  {
   "cell_type": "code",
   "execution_count": 92,
   "metadata": {},
   "outputs": [
    {
     "data": {
      "text/plain": [
       "((0, 0), (1, 0))"
      ]
     },
     "execution_count": 92,
     "metadata": {},
     "output_type": "execute_result"
    }
   ],
   "source": [
    "current_state=env.reset()\n",
    "current_state"
   ]
  },
  {
   "cell_type": "code",
   "execution_count": 91,
   "metadata": {},
   "outputs": [
    {
     "data": {
      "text/plain": [
       "array([-0.55968239, -1.58595557, -1.17780023])"
      ]
     },
     "execution_count": 91,
     "metadata": {},
     "output_type": "execute_result"
    }
   ],
   "source": [
    "q_table[current_state[0][0],current_state[0][1],current_state[1][0],current_state[1][1]]"
   ]
  },
  {
   "cell_type": "code",
   "execution_count": 27,
   "metadata": {},
   "outputs": [],
   "source": [
    "#q_table will have 10X10X4 cells\n",
    "q_table = np.random.uniform(low=-2, high=0, size=([10,10] + [env.action_space.n]))\n",
    "\n",
    "# Set learning parameters\n",
    "LEARNING_RATE = 0.0001\n",
    "DISCOUNT = 0.95\n",
    "EPSILON=0.9\n",
    "\n",
    "# Q-learning algorithm\n",
    "num_episodes = 1000\n",
    "alpha = 0.001\n",
    "gamma = 0.9\n",
    "epsilon = 0.1\n",
    "\n",
    "\n",
    "\n",
    "\n",
    "# Set exploration parameters\n",
    "#exploration_rate = 1.0\n",
    "#max_exploration_rate = 1.0\n",
    "#min_exploration_rate = 0.01\n",
    "#exploration_decay_rate = 0.001\n"
   ]
  },
  {
   "cell_type": "code",
   "execution_count": 226,
   "metadata": {},
   "outputs": [
    {
     "data": {
      "text/plain": [
       "((0, 0), (0, 0))"
      ]
     },
     "execution_count": 226,
     "metadata": {},
     "output_type": "execute_result"
    }
   ],
   "source": [
    "d=env.reset()\n",
    "d[0]"
   ]
  },
  {
   "cell_type": "code",
   "execution_count": 230,
   "metadata": {},
   "outputs": [
    {
     "data": {
      "text/plain": [
       "0"
      ]
     },
     "execution_count": 230,
     "metadata": {},
     "output_type": "execute_result"
    }
   ],
   "source": [
    "c=env.step(1)\n",
    "c[0][1]"
   ]
  },
  {
   "cell_type": "code",
   "execution_count": 227,
   "metadata": {},
   "outputs": [
    {
     "ename": "ValueError",
     "evalue": "too many values to unpack (expected 3)",
     "output_type": "error",
     "traceback": [
      "\u001b[1;31m---------------------------------------------------------------------------\u001b[0m",
      "\u001b[1;31mValueError\u001b[0m                                Traceback (most recent call last)",
      "Cell \u001b[1;32mIn [227], line 14\u001b[0m\n\u001b[0;32m     10\u001b[0m \u001b[38;5;28;01melse\u001b[39;00m:\n\u001b[0;32m     11\u001b[0m     \u001b[38;5;66;03m# choose the action with the highest Q-value\u001b[39;00m\n\u001b[0;32m     12\u001b[0m     action \u001b[38;5;241m=\u001b[39m np\u001b[38;5;241m.\u001b[39margmax(q_table[current_state[\u001b[38;5;241m0\u001b[39m][\u001b[38;5;241m0\u001b[39m],current_state[\u001b[38;5;241m0\u001b[39m][\u001b[38;5;241m1\u001b[39m],current_state[\u001b[38;5;241m1\u001b[39m][\u001b[38;5;241m0\u001b[39m],current_state[\u001b[38;5;241m1\u001b[39m][\u001b[38;5;241m1\u001b[39m]])\n\u001b[1;32m---> 14\u001b[0m next_observation, reward, done \u001b[38;5;241m=\u001b[39m env\u001b[38;5;241m.\u001b[39mstep(action)\n\u001b[0;32m     15\u001b[0m \u001b[38;5;28;01mif\u001b[39;00m (next_observation[\u001b[38;5;241m0\u001b[39m][\u001b[38;5;241m0\u001b[39m] \u001b[38;5;241m<\u001b[39m \u001b[38;5;241m0\u001b[39m \u001b[38;5;129;01mor\u001b[39;00m next_observation[\u001b[38;5;241m0\u001b[39m][\u001b[38;5;241m0\u001b[39m] \u001b[38;5;241m>\u001b[39m \u001b[38;5;241m19\u001b[39m \u001b[38;5;129;01mor\u001b[39;00m\n\u001b[0;32m     16\u001b[0m     next_observation[\u001b[38;5;241m0\u001b[39m][\u001b[38;5;241m1\u001b[39m] \u001b[38;5;241m<\u001b[39m \u001b[38;5;241m0\u001b[39m \u001b[38;5;129;01mor\u001b[39;00m next_observation[\u001b[38;5;241m0\u001b[39m][\u001b[38;5;241m1\u001b[39m] \u001b[38;5;241m>\u001b[39m \u001b[38;5;241m19\u001b[39m):\n\u001b[0;32m     17\u001b[0m \u001b[38;5;66;03m# If next observation is out of bounds, set it to the previous observation\u001b[39;00m\n\u001b[0;32m     18\u001b[0m     next_observation \u001b[38;5;241m=\u001b[39m observation\n",
      "\u001b[1;31mValueError\u001b[0m: too many values to unpack (expected 3)"
     ]
    }
   ],
   "source": [
    "for i in range(num_episodes):\n",
    "    done = False\n",
    "    episode_reward = 0\n",
    "    current_state = env.reset()\n",
    "    \n",
    "    while not done:\n",
    "        if np.random.random() < epsilon:\n",
    "            # take a random action with probability epsilon\n",
    "            action = env.action_space.sample()\n",
    "        else:\n",
    "            # choose the action with the highest Q-value\n",
    "            action = np.argmax(q_table[current_state[0][0],current_state[0][1],current_state[1][0],current_state[1][1]])\n",
    "        \n",
    "        next_observation, reward, done = env.step(action)\n",
    "        if (next_observation[0][0] < 0 or next_observation[0][0] > 19 or\n",
    "            next_observation[0][1] < 0 or next_observation[0][1] > 19):\n",
    "        # If next observation is out of bounds, set it to the previous observation\n",
    "            next_observation = observation\n",
    "    \n",
    "        #next_action = np.argmax(q_table[next_observation[0], next_observation[1], :])\n",
    "        \n",
    "        # update Q-value using Q-learning update rule\n",
    "        q_table[observation[0], observation[1], action] += alpha * (reward + gamma * q_table[next_observation[0], next_observation[1], next_action] - q_table[observation[0], observation[1], action])\n",
    "        current_state = next_observation\n",
    "        episode_reward += reward\n",
    "        "
   ]
  },
  {
   "cell_type": "code",
   "execution_count": null,
   "metadata": {},
   "outputs": [],
   "source": []
  }
 ],
 "metadata": {
  "kernelspec": {
   "display_name": "Python 3 (ipykernel)",
   "language": "python",
   "name": "python3"
  },
  "language_info": {
   "codemirror_mode": {
    "name": "ipython",
    "version": 3
   },
   "file_extension": ".py",
   "mimetype": "text/x-python",
   "name": "python",
   "nbconvert_exporter": "python",
   "pygments_lexer": "ipython3",
   "version": "3.9.7"
  },
  "vscode": {
   "interpreter": {
    "hash": "ac2f5a264b2e5996d9fa0766bbb0f6d08929f71a45a794f4b8d0fed6d084d076"
   }
  }
 },
 "nbformat": 4,
 "nbformat_minor": 2
}
