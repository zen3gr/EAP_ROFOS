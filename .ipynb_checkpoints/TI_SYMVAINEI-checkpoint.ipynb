{
 "cells": [
  {
   "cell_type": "code",
   "execution_count": 1,
   "metadata": {
    "ExecuteTime": {
     "end_time": "2023-04-03T22:20:47.566354Z",
     "start_time": "2023-04-03T22:20:47.528073Z"
    },
    "code_folding": [
     0,
     5
    ]
   },
   "outputs": [],
   "source": [
    "def angle_between(p1, p2):\n",
    "    ang1 = np.arctan2(*p1[::-1])\n",
    "    ang2 = np.arctan2(*p2[::-1])\n",
    "    return np.rad2deg((ang1 - ang2) % (2 * np.pi))\n",
    "\n",
    "def find_nearest(array, value):\n",
    "    array = np.asarray(array)\n",
    "    idx = (np.abs(array - value)).argmin()\n",
    "    return array[idx]\n",
    "def render_ep (boat_plot, index=-1, target=False):\n",
    "    #true wind vector\n",
    "    #starting point\n",
    "    #target point\n",
    "    #PENDING: spline connecting each point\n",
    "    from matplotlib import pyplot as plt\n",
    "    boat_plot=np.split(boat_plot,len(boat_plot)/2)\n",
    "    boat_plot=np.array(boat_plot)\n",
    "    # Scatter plot\n",
    "    #light blue -> darker blue \n",
    "    target_plot=env.target_position\n",
    "    x=boat_plot[:, 0]\n",
    "    y=boat_plot[:, 1]\n",
    "    weights = np.arange(1,boat_plot[:, 1].shape[0]+1)\n",
    "    plt.scatter(x, y, c=weights, cmap='Blues')\n",
    "    if index!=-1:\n",
    "        plt.title(f\"{index}-th episode\")\n",
    "    if target==True:\n",
    "        plt.scatter(target_plot[0], target_plot[1],c='red')\n",
    "    # Display the plot\n",
    "    plt.show()\n",
    "    #plt.xlim(min(x),max(x))\n",
    "    #plt.ylim(min(y),max(y))\n"
   ]
  },
  {
   "cell_type": "code",
   "execution_count": 2,
   "metadata": {
    "ExecuteTime": {
     "end_time": "2023-04-03T22:20:47.700556Z",
     "start_time": "2023-04-03T22:20:47.573184Z"
    },
    "code_folding": [
     39
    ]
   },
   "outputs": [],
   "source": [
    "import numpy as np\n",
    "\n",
    "class SailBoatEnvironment:\n",
    "    def __init__(self, alpha=0.1, gamma=0.9, epsilon=0.35):\n",
    "        self.step_num=0\n",
    "        #self.true_wind_direction = np.random.uniform(0, 2*np.pi)\n",
    "        #PENDING: starting boat pos + target pos kalytera na orizontai sthn init para sthn reset\n",
    "        #kai h reset na ta pairnei apo tin init\n",
    "        self.boat_position = np.array([0, 0])\n",
    "        self.target_position = np.array([55,100])\n",
    "        #self.target_position = np.array([np.random.uniform(-10, 10), np.random.uniform(-10, 10)])\n",
    "        self.sail_configs = np.linspace(0, 1, 16) #16 allowed positions of the sail\n",
    "        self.rudder_configs = np.linspace(-np.pi/4, np.pi/4, 16) #The values of -np.pi/4 and np.pi/4 are chosen to represent the limits of the rudder configuration. These values correspond to the maximum angles \n",
    "                                                                #that the rudder can be turned left and right from the center position.The choice of np.pi/4 as the maximum #\n",
    "                                                                # angle is somewhat arbitrary, but it is a common choice in sailing and boating applications.\n",
    "        self.target_possible_angles=np.rad2deg(np.linspace(0, 2*np.pi, 16))\n",
    "        \n",
    "        \n",
    "        #self.q_table = np.zeros((16, 16, 3))\n",
    "        self.alpha = alpha\n",
    "        self.gamma = gamma\n",
    "        self.epsilon = epsilon\n",
    "\n",
    "    def reset(self):\n",
    "        #returns\n",
    "        #i)boat position: starting point of boat        \n",
    "        #ii)random wind direction, epistrefei to index sto self.target_possible_angles\n",
    "        #iii)ypologizei thn target angle, thn diakritopoiei se mia apo tis dekaksi times kai epistrefei to index\n",
    "        #toy self.target_possible_angles\n",
    "        self.step_num=0\n",
    "        #self.true_wind_direction = self.target_possible_angles[0]\n",
    "        self.true_wind_direction = np.random.choice(np.rad2deg(np.linspace(0, np.pi, 16)))\n",
    "        #self.true_wind_direction -> prepei na einai gwnia\n",
    "        self.true_wind_direction_index = find_nearest(self.target_possible_angles, value=self.true_wind_direction)\n",
    "        self.boat_position = np.array([0, 0]) #fixed starting point\n",
    "        self.target_position = np.array([55,100]) #fixed target position\n",
    "        self.max_distance=np.linalg.norm(self.boat_position-self.target_position)\n",
    "        self.target_angle=angle_between(self.boat_position, self.target_position)\n",
    "        self.target_angle=find_nearest(self.target_possible_angles, value=self.target_angle)\n",
    "        return self.boat_position, np.where(self.true_wind_direction_index==self.target_possible_angles)[0][0], \\\n",
    "        np.where(self.target_angle==self.target_possible_angles)[0][0]\n",
    "        \n",
    "        \n",
    "\n",
    "    def get_state(self):\n",
    "        relative_wind_direction = self.true_wind_direction - np.arctan2(*self.boat_position[::-1])\n",
    "        #relative_wind_direction = find_nearest(self.target_possible_angles, value=relative_wind_direction)\n",
    "        distance_to_target = np.linalg.norm(self.boat_position - self.target_position)\n",
    "        return relative_wind_direction, distance_to_target\n",
    "\n",
    "    def step(self, action):\n",
    "        #returns\n",
    "        #i)boat position: starting point of boat        \n",
    "        #ii)random wind direction, epistrefei to index sto self.target_possible_angles\n",
    "        #iii)ypologizei thn target angle, thn diakritopoiei se mia apo tis dekaksi times kai epistrefei to index\n",
    "        #toy self.target_possible_angles\n",
    "        #iv) step reward\n",
    "        #v) done status\n",
    "        #vi) truncated status\n",
    "        #vii) number of steps\n",
    "        sail_config, rudder_config = action\n",
    "        sail_force = sail_config * np.sin(self.true_wind_direction - np.arctan2(*self.boat_position[::-1]))\n",
    "        rudder_force = rudder_config * np.cos(self.true_wind_direction - np.arctan2(*self.boat_position[::-1]))\n",
    "        boat_velocity = np.array([np.cos(self.true_wind_direction), np.sin(self.true_wind_direction)]) * sail_force + np.array([-np.sin(self.true_wind_direction), np.cos(self.true_wind_direction)]) * rudder_force\n",
    "        self.boat_position = self.boat_position + boat_velocity#.astype(np.float64)\n",
    "        self.target_angle=angle_between(self.boat_position, self.target_position)\n",
    "        self.target_angle=find_nearest(self.target_possible_angles, value=self.target_angle)\n",
    "        \n",
    "        state = self.get_state()\n",
    "        self.step_num+=1\n",
    "        done = False\n",
    "        truncated = False\n",
    "        reward = -1\n",
    "\n",
    "        #if np.any(np.abs(self.boat_position) > 20):\n",
    "            #done = True\n",
    "            #reward = -10\n",
    "\n",
    "        distance_to_target = state[1]\n",
    "        if distance_to_target < 1:\n",
    "        #if distance_to_target//self.max_distance < 0.5: #kapws pio sxetiko giati den kseroume to distance 0.5\n",
    "            #an einia megalo h mikro\n",
    "            done = True\n",
    "            reward = 100\n",
    "        \n",
    "        if self.step_num >= 1_000:\n",
    "            truncated = True\n",
    "            #done = True #gia na spaei h loupa tou training\n",
    "\n",
    "#         # Q-learning update\n",
    "#         sail_idx = np.argmin(np.abs(self.sail_configs - sail_config))\n",
    "#         rudder_idx = np.argmin(np.abs(self.rudder_configs - rudder_config))\n",
    "#         q_current = self.q_table[sail_idx, rudder_idx, 0]\n",
    "#         q_next = np.max(self.q_table[sail_idx, rudder_idx, :])\n",
    "#         self.q_table[sail_idx, rudder_idx, 0] += self.alpha * (reward + self.gamma * q_next - q_current)\n",
    "\n",
    "        #return boat_velocity, self.boat_position, state, reward, done, self.step_num, self.target_angle\n",
    "        return self.boat_position, np.where(self.true_wind_direction_index==self.target_possible_angles)[0][0],\\\n",
    "        np.where(self.target_angle==self.target_possible_angles)[0][0], reward, \\\n",
    "        done, truncated, self.step_num\n"
   ]
  },
  {
   "cell_type": "code",
   "execution_count": 3,
   "metadata": {
    "ExecuteTime": {
     "end_time": "2023-04-03T22:20:47.712077Z",
     "start_time": "2023-04-03T22:20:47.704536Z"
    }
   },
   "outputs": [],
   "source": [
    "# env=SailBoatEnvironment()\n",
    "# np.linalg.norm(env.boat_position-env.target_position)\n",
    "#OUTPUT= 114.12712210513327 units"
   ]
  },
  {
   "cell_type": "markdown",
   "metadata": {},
   "source": [
    "# Plot random movement"
   ]
  },
  {
   "cell_type": "code",
   "execution_count": 4,
   "metadata": {
    "ExecuteTime": {
     "end_time": "2023-04-03T22:20:47.738423Z",
     "start_time": "2023-04-03T22:20:47.720323Z"
    },
    "code_folding": []
   },
   "outputs": [],
   "source": [
    "# env=SailBoatEnvironment()\n",
    "# env.reset()\n",
    "# done=False\n",
    "# truncated=False\n",
    "# boat_plot=[]\n",
    "# while not truncated:\n",
    "#     mlist=np.random.choice(np.linspace(0, 1, 16)), np.random.choice(np.linspace(-np.pi/4, np.pi/4, 16))\n",
    "#     boat_pos, true_wind_index, target_angle_index,  reward, done, truncated, step_num = env.step(mlist)\n",
    "#     #print(truncated)\n",
    "#     boat_plot=np.append(boat_plot,np.array(boat_pos))\n",
    "# #print(step_num)\n",
    "# #boat_plot\n",
    "# render_ep(boat_plot)"
   ]
  },
  {
   "cell_type": "markdown",
   "metadata": {},
   "source": [
    "# Start env & Define Q Table"
   ]
  },
  {
   "cell_type": "code",
   "execution_count": 5,
   "metadata": {
    "ExecuteTime": {
     "end_time": "2023-04-03T22:20:47.781163Z",
     "start_time": "2023-04-03T22:20:47.771609Z"
    },
    "code_folding": [
     3,
     7
    ]
   },
   "outputs": [],
   "source": [
    "env=SailBoatEnvironment()\n",
    "#current state = true wind direction + angle of boat to target wrt x axis\n",
    "#prwto einai gia true wind angles\n",
    "a=len(env.target_possible_angles)\n",
    "#deytera gia gwnies pros target\n",
    "#trito ola ta possible actions\n",
    "b=32\n",
    "q_table = np.random.uniform(low=-2, high=0, size=(a,a,b))\n",
    "#q_table\n",
    "#wd=0,1,2 # wd=1\n",
    "#dt=0,1 #dt=0 makria, dt=1 konta\n",
    "#np.argmax(q_table[1,1])\n",
    "#\n",
    "#rudder conf = 0:15th column\n",
    "#np.argmax(q_table[state,0:15])\n",
    "#sail conf = 16:31th columns\n",
    "#np.argmax(q_table[state,16:32])\n",
    "\n"
   ]
  },
  {
   "cell_type": "markdown",
   "metadata": {},
   "source": [
    " # indices"
   ]
  },
  {
   "cell_type": "code",
   "execution_count": 17,
   "metadata": {
    "ExecuteTime": {
     "end_time": "2023-04-03T22:23:43.178771Z",
     "start_time": "2023-04-03T22:23:43.169436Z"
    }
   },
   "outputs": [
    {
     "data": {
      "text/plain": [
       "array([  1,  11,  21,  31,  41,  51,  61,  71,  81,  91, 101])"
      ]
     },
     "execution_count": 17,
     "metadata": {},
     "output_type": "execute_result"
    }
   ],
   "source": [
    "a=np.arange(1,110,10)\n",
    "a"
   ]
  },
  {
   "cell_type": "code",
   "execution_count": 18,
   "metadata": {
    "ExecuteTime": {
     "end_time": "2023-04-03T22:24:07.371213Z",
     "start_time": "2023-04-03T22:24:07.364603Z"
    }
   },
   "outputs": [
    {
     "data": {
      "text/plain": [
       "array([ 51,  61,  71,  81,  91, 101])"
      ]
     },
     "execution_count": 18,
     "metadata": {},
     "output_type": "execute_result"
    }
   ],
   "source": [
    "b=a[5:12]\n",
    "b"
   ]
  },
  {
   "cell_type": "code",
   "execution_count": 20,
   "metadata": {
    "ExecuteTime": {
     "end_time": "2023-04-03T22:24:36.199629Z",
     "start_time": "2023-04-03T22:24:36.191175Z"
    }
   },
   "outputs": [
    {
     "data": {
      "text/plain": [
       "51"
      ]
     },
     "execution_count": 20,
     "metadata": {},
     "output_type": "execute_result"
    }
   ],
   "source": [
    "a[4+1]"
   ]
  },
  {
   "cell_type": "markdown",
   "metadata": {},
   "source": [
    "# Train Q table"
   ]
  },
  {
   "cell_type": "code",
   "execution_count": 6,
   "metadata": {
    "ExecuteTime": {
     "end_time": "2023-04-03T22:21:35.315700Z",
     "start_time": "2023-04-03T22:20:47.796140Z"
    },
    "scrolled": false
   },
   "outputs": [
    {
     "name": "stdout",
     "output_type": "stream",
     "text": [
      "0-th ep -> steps: 1000\n"
     ]
    },
    {
     "data": {
      "image/png": "[encoded data removed]",
      "text/plain": [
       "<Figure size 640x480 with 1 Axes>"
      ]
     },
     "metadata": {},
     "output_type": "display_data"
    }
   ],
   "source": [
    "env=SailBoatEnvironment()\n",
    "EPISODES=500\n",
    "tw_direction=[]\n",
    "boat_plot=[]\n",
    "boat_plot_all_ep=[] #stores all episodes' movement\n",
    "dones=np.zeros(EPISODES)\n",
    "for i in range(EPISODES):\n",
    "    boat_plot=[]\n",
    "    current_state=env.reset()    \n",
    "    current_state=current_state[1], current_state[2]\n",
    "    tw_direction=np.append(tw_direction,current_state[0])\n",
    "    done=False\n",
    "    truncated=False\n",
    "    while not done: # or not truncated:\n",
    "    #rudder_conf=env.rudder_configs[rudder_conf_index]\n",
    "    #rudder_conf\n",
    "        sail_conf_index=np.argmax(q_table[(current_state)][0:16])\n",
    "        rudder_conf_index=np.argmax(q_table[(current_state)][16:33])\n",
    "        #print(f\"{i} ep: sail index->{sail_conf_index}, rudder index->{rudder_conf_index}\")\n",
    "        #H np.argmax epistrefei index, oxi timh, opote pairnoume to index pou mas epistrefei\n",
    "        #kai blepoume apo ta *_configs poia timh antistoixei se ayto to index\n",
    "        action=env.sail_configs[sail_conf_index],env.rudder_configs[rudder_conf_index]\n",
    "        boat_pos,  true_wind_index, target_angle_index, reward, done, truncated, step_num = env.step(action)\n",
    "        if done==True:\n",
    "            print(f\"{i}-th ep -> Egina done\")\n",
    "            dones[i]=1\n",
    "            break\n",
    "        if truncated==True:\n",
    "            #print(f\"{i}-th ep -> Egina truncated\")\n",
    "            break\n",
    "        new_state=true_wind_index, target_angle_index\n",
    "        boat_plot=np.append(boat_plot,np.array(boat_pos))\n",
    "        \n",
    "        #Psaxnoume ta Q_max, ena gia to sail setting kai ena gia to rudder setting\n",
    "        #Sto Q table exoume orisei aythaireta oti oi prwtes 16 columns [0:16] dhladh\n",
    "        #antistoixoun sto sail setting\n",
    "        #enw oi ypoloipes 16 columns [16:33] sto rudder config\n",
    "        Q_max_sail=np.max(q_table[(current_state)][0:16])\n",
    "        Q_max_rudder=np.max(q_table[(current_state)][16:33])\n",
    "        q_current_sail=q_table[current_state+(sail_conf_index,)]\n",
    "        q_current_rudder=q_table[current_state+(rudder_conf_index,)]\n",
    "        new_q_sail=(1-env.alpha)*q_current_sail+env.alpha*(reward+env.gamma*Q_max_sail)\n",
    "        new_q_rudder=(1-env.alpha)*q_current_rudder+env.alpha*(reward+env.gamma*Q_max_rudder)\n",
    "        q_table[current_state+(sail_conf_index,)]=new_q_sail\n",
    "        #15 h 16?\n",
    "        q_table[current_state+(15+rudder_conf_index,)]=new_q_rudder\n",
    "        current_state=new_state\n",
    "\n",
    "    #print(i)\n",
    "    boat_plot_all_ep.append(boat_plot)\n",
    "    if i%800==0:\n",
    "        print(f\"{i}-th ep -> steps: {step_num}\")\n",
    "    \n",
    "#plot last episode\n",
    "render_ep(boat_plot, EPISODES)"
   ]
  },
  {
   "cell_type": "code",
   "execution_count": 7,
   "metadata": {
    "ExecuteTime": {
     "end_time": "2023-04-03T22:21:35.329639Z",
     "start_time": "2023-04-03T22:21:35.320837Z"
    }
   },
   "outputs": [],
   "source": [
    "# boat_array=np.split(boat_plot,len(boat_plot)/2)\n",
    "# boat_array=np.array(boat_array)\n",
    "# boat_array"
   ]
  },
  {
   "cell_type": "code",
   "execution_count": 8,
   "metadata": {
    "ExecuteTime": {
     "end_time": "2023-04-03T22:21:35.344272Z",
     "start_time": "2023-04-03T22:21:35.334317Z"
    }
   },
   "outputs": [
    {
     "name": "stdout",
     "output_type": "stream",
     "text": [
      "posa epeisodia teleiwsa: 0 apo ta 499 \n",
      "dhladh to 0.0%\n"
     ]
    }
   ],
   "source": [
    "dones\n",
    "#Count number of successful episodes\n",
    "num_successful_episodes=np.count_nonzero(dones == 1)\n",
    "#Index of successful episodes\n",
    "successful_indices=np.where(dones==1)[0]\n",
    "print(f\"posa epeisodia teleiwsa: {num_successful_episodes} apo ta {i} \\ndhladh to {round(num_successful_episodes/i,2)*100}%\")"
   ]
  },
  {
   "cell_type": "code",
   "execution_count": 9,
   "metadata": {
    "ExecuteTime": {
     "end_time": "2023-04-03T22:21:35.372616Z",
     "start_time": "2023-04-03T22:21:35.350891Z"
    }
   },
   "outputs": [
    {
     "data": {
      "text/plain": [
       "array([0., 1., 2., 3., 4., 5., 6., 7., 8.])"
      ]
     },
     "execution_count": 9,
     "metadata": {},
     "output_type": "execute_result"
    }
   ],
   "source": [
    "np.unique(tw_direction)"
   ]
  },
  {
   "cell_type": "code",
   "execution_count": 10,
   "metadata": {
    "ExecuteTime": {
     "end_time": "2023-04-03T22:21:35.409370Z",
     "start_time": "2023-04-03T22:21:35.387767Z"
    }
   },
   "outputs": [
    {
     "data": {
      "text/plain": [
       "array([], dtype=float64)"
      ]
     },
     "execution_count": 10,
     "metadata": {},
     "output_type": "execute_result"
    }
   ],
   "source": [
    "#Vlepoume oti oloklhrwnei epeisodia mono otan to wind direction einai sygkekrimeno\n",
    "\n",
    "tw_direction[successful_indices]"
   ]
  },
  {
   "cell_type": "markdown",
   "metadata": {
    "ExecuteTime": {
     "end_time": "2023-04-02T18:19:16.880231Z",
     "start_time": "2023-04-02T18:19:16.868086Z"
    }
   },
   "source": [
    "# Plot some episodes that reached target"
   ]
  },
  {
   "cell_type": "code",
   "execution_count": 12,
   "metadata": {
    "ExecuteTime": {
     "end_time": "2023-04-03T22:21:35.460947Z",
     "start_time": "2023-04-03T22:21:35.452048Z"
    },
    "scrolled": false
   },
   "outputs": [
    {
     "name": "stdout",
     "output_type": "stream",
     "text": [
      "|Kanena epeisodio den oloklirwthike.|\n"
     ]
    }
   ],
   "source": [
    "if len(successful_indices)!=0:\n",
    "    for i in np.random.choice(successful_indices, size=10, replace=True):\n",
    "         render_ep(boat_plot_all_ep[i], i, True)\n",
    "else:\n",
    "    print(\"|Kanena epeisodio den oloklirwthike.|\")"
   ]
  },
  {
   "cell_type": "markdown",
   "metadata": {
    "ExecuteTime": {
     "end_time": "2023-04-02T18:02:57.474400Z",
     "start_time": "2023-04-02T18:02:57.456715Z"
    }
   },
   "source": [
    "# Plot every 1000 episodes"
   ]
  },
  {
   "cell_type": "code",
   "execution_count": 13,
   "metadata": {
    "ExecuteTime": {
     "end_time": "2023-04-03T22:21:35.756764Z",
     "start_time": "2023-04-03T22:21:35.469470Z"
    },
    "scrolled": false
   },
   "outputs": [
    {
     "data": {
      "image/png": "[encoded data removed]",
      "text/plain": [
       "<Figure size 640x480 with 1 Axes>"
      ]
     },
     "metadata": {},
     "output_type": "display_data"
    }
   ],
   "source": [
    "for i in np.arange(0,EPISODES, 1000):\n",
    "    render_ep(boat_plot_all_ep[i], i)"
   ]
  },
  {
   "cell_type": "markdown",
   "metadata": {},
   "source": [
    "# Test Q Table"
   ]
  },
  {
   "cell_type": "code",
   "execution_count": 14,
   "metadata": {
    "ExecuteTime": {
     "end_time": "2023-04-03T22:21:35.771032Z",
     "start_time": "2023-04-03T22:21:35.766058Z"
    }
   },
   "outputs": [],
   "source": [
    "# env=SailBoatEnvironment()\n",
    "# for i in range(100):\n",
    "#     current_state=env.reset()\n",
    "#     current_state=current_state[1], current_state[2]\n",
    "#     done=False\n",
    "#     while not done:\n",
    "#     #rudder_conf=env.rudder_configs[rudder_conf_index]\n",
    "#     #rudder_conf\n",
    "#         sail_conf_index=np.argmax(q_table[(current_state)][0:15])\n",
    "#         rudder_conf_index=np.argmax(q_table[(current_state)][15:33])\n",
    "#         #sail_conf=env.sail_configs[sail_conf_index]\n",
    "#         #sail_conf\n",
    "#         action=env.sail_configs[sail_conf_index],env.rudder_configs[15-rudder_conf_index]\n",
    "#         boat_pos,  true_wind_index, target_angle_index, reward, done, truncated, step_num = env.step(action)\n",
    "#         new_state=true_wind_index, target_angle_index\n",
    "#         #plotting a single episode\n",
    "#         #boat_plot=np.append(boat_plot,np.array(boat_pos))\n",
    "# #         Q_max_sail=np.max(q_table[(current_state)][0:15])\n",
    "# #         Q_max_rudder=np.max(q_table[(current_state)][15:33])\n",
    "# #         q_current_sail=q_table[current_state+(sail_conf_index,)]\n",
    "# #         q_current_rudder=q_table[current_state+(15+sail_conf_index,)]\n",
    "# #         new_q_sail=(1-env.alpha)*q_current_sail+env.alpha*(reward+env.gamma*Q_max_sail)\n",
    "# #         new_q_rudder=(1-env.alpha)*q_current_rudder+env.alpha*(reward+env.gamma*Q_max_rudder)\n",
    "# #         q_table[current_state+(sail_conf_index,)]=new_q_sail\n",
    "# #         q_table[current_state+(15+sail_conf_index,)]=new_q_rudder\n",
    "#         current_state=new_state\n",
    "#     if i%5==0:\n",
    "#         print(f\"{i}-th ep -> steps: {step_num}\")"
   ]
  },
  {
   "cell_type": "code",
   "execution_count": 15,
   "metadata": {
    "ExecuteTime": {
     "end_time": "2023-04-03T22:21:35.797166Z",
     "start_time": "2023-04-03T22:21:35.781376Z"
    }
   },
   "outputs": [],
   "source": [
    "# env=SailBoatEnvironment()\n",
    "# q_table = np.zeros((16, 16, 3))\n",
    "\n",
    "# num_episodes = 1\n",
    "# #num_steps = 1000\n",
    "# for episode in range(num_episodes):\n",
    "#     state = env.reset()\n",
    "#     done = False\n",
    "#     total_reward = 0\n",
    "#     while not done:\n",
    "#         # Choose action using epsilon-greedy policy\n",
    "        \n",
    "#         #if np.random.uniform() < env.epsilon:\n",
    "#             #action = [np.random.choice(env.sail_configs), np.random.choice(env.rudder_configs)]\n",
    "#         #else:\n",
    "#         sail_idx, rudder_idx = np.searchsorted(env.sail_configs, action[0]), np.searchsorted(env.rudder_configs, action[1])\n",
    "#         action = [env.sail_configs[sail_idx], env.rudder_configs[rudder_idx]]\n",
    "        \n",
    "#         # Take action\n",
    "#         boat_v, boat_pos, next_state, reward, done, step_number = env.step(action)\n",
    "        \n",
    "#         # Update Q-table\n",
    "#         sail_idx, rudder_idx = np.searchsorted(env.sail_configs, action[0]), np.searchsorted(env.rudder_configs, action[1])\n",
    "#         q_current = q_table[sail_idx, rudder_idx, 0]\n",
    "#         q_next = np.max(q_table[sail_idx, rudder_idx, :])\n",
    "#         q_table[sail_idx, rudder_idx, 0] += env.alpha * (reward + env.gamma * q_next - q_current)\n",
    "        \n",
    "#         state = next_state\n",
    "#         total_reward += reward\n",
    "#         #print(f\"Step: {step_number}, BoatV:{np.round(boat_v,2)} , Boat Pos:{np.round(boat_pos,2)}\")\n",
    "#     #print(f\"Episode {episode+1}, BoatV:{boat_v} , Boat Pos:{boat_pos}\")\n"
   ]
  },
  {
   "cell_type": "code",
   "execution_count": 16,
   "metadata": {
    "ExecuteTime": {
     "end_time": "2023-04-03T22:21:35.815948Z",
     "start_time": "2023-04-03T22:21:35.807599Z"
    }
   },
   "outputs": [],
   "source": [
    "# import matplotlib.pyplot as plt\n",
    "\n",
    "# env = SailBoatEnvironment()\n",
    "# num_episodes = 3000\n",
    "# num_steps =1000\n",
    "\n",
    "# # create empty arrays to store positions for each episode\n",
    "# boat_positions = np.zeros((num_episodes, 2)) \n",
    "# target_positions = np.tile(np.array([55,100]), (num_episodes, 1))\n",
    "\n",
    "# for episode in range(num_episodes):\n",
    "#     state = env.reset()\n",
    "#     done = False\n",
    "#     total_reward = 0\n",
    "#     while not done:\n",
    "#         # Choose action using epsilon-greedy policy\n",
    "#         if np.random.uniform() < env.epsilon:\n",
    "#             action = [np.random.choice(env.sail_configs), np.random.choice(env.rudder_configs)]\n",
    "#         else:\n",
    "#             sail_idx, rudder_idx = np.searchsorted(env.sail_configs, action[0]), np.searchsorted(env.rudder_configs, action[1])\n",
    "#             action = [env.sail_configs[sail_idx], env.rudder_configs[rudder_idx]]\n",
    "\n",
    "#         # Take action\n",
    "#         boat_v, boat_pos, next_state, reward, done = env.step(action)\n",
    "        \n",
    "\n",
    "#         # Update Q-table\n",
    "#         sail_idx, rudder_idx = np.searchsorted(env.sail_configs, action[0]), np.searchsorted(env.rudder_configs, action[1])\n",
    "#         q_current = q_table[sail_idx, rudder_idx, 0]\n",
    "#         q_next = np.max(q_table[sail_idx, rudder_idx, :])\n",
    "#         q_table[sail_idx, rudder_idx, 0] += env.alpha * (reward + env.gamma * q_next - q_current)\n",
    "\n",
    "#         state = next_state\n",
    "#         total_reward += reward\n",
    "    \n",
    "#     # store final position in boat_positions array\n",
    "#     boat_positions[episode, :] = state\n",
    "    \n",
    "#     print(f\"Episode {episode+1}, Total reward: {total_reward}, New Position: ({state[0]:.2f}, {state[1]:.2f}), Target Position: ({env.target_position[0]:.2f}, {env.target_position[1]:.2f})\")\n",
    "\n",
    "# # create scatter plot of boat positions and target positions\n",
    "# fig, ax = plt.subplots()\n",
    "# ax.scatter(target_positions[:, 0], target_positions[:, 1], color='red',label='Target Position')\n",
    "# ax.scatter(boat_positions[:, 0], boat_positions[:, 1], color='gray', label='Boat Position')\n",
    "# ax.legend()\n",
    "# plt.show()\n"
   ]
  },
  {
   "cell_type": "markdown",
   "metadata": {},
   "source": [
    "the Q-table is a 3-dimensional numpy array with dimensions (11, 11, 3). The first two dimensions correspond to the sail and rudder configurations, respectively, and the third dimension corresponds to the Q-values for each possible action (there are 3 actions in total: sail left, sail straight, and sail right)."
   ]
  },
  {
   "cell_type": "markdown",
   "metadata": {},
   "source": [
    "self.true_wind_direction is a random value between 0 and 2π.\n",
    "self.boat_position is a NumPy array containing the initial position of the boat, which is (0, 0).\n",
    "self.target_position is a NumPy array containing the position of the target, which is a random point within a rectangle centered at the origin with width and height of 20 units.\n",
    "self.sail_configs is a NumPy array containing 11 equally spaced values between 0 and 1, representing the possible sail configurations.\n",
    "self.rudder_configs is a NumPy array containing 11 equally spaced values between -π/4 and π/4, representing the possible rudder configurations.\n",
    "self.q_table is a 3-dimensional NumPy array of zeros with shape (11, 11, 3), representing the Q-values for each possible combination of sail and rudder configurations."
   ]
  },
  {
   "cell_type": "markdown",
   "metadata": {},
   "source": []
  },
  {
   "cell_type": "markdown",
   "metadata": {},
   "source": [
    "sail_idx = np.argmin(np.abs(self.sail_configs - sail_config)) finds the index of the sail configuration that is closest to the desired sail configuration specified by sail_config. This is used to index into the first dimension of the Q-table.\n",
    "\n",
    "rudder_idx = np.argmin(np.abs(self.rudder_configs - rudder_config)) finds the index of the rudder configuration that is closest to the desired rudder configuration specified by rudder_config. This is used to index into the second dimension of the Q-table.\n",
    "\n",
    "q_current = self.q_table[sail_idx, rudder_idx, 0] retrieves the current Q-value for the current state and action (which is the \"sail straight\" action, corresponding to the index 0 in the third dimension).\n",
    "\n",
    "q_next = np.max(self.q_table[sail_idx, rudder_idx, :]) computes the estimated Q-value for the next state, which is the maximum Q-value over all possible actions in the next state (i.e., the action that maximizes the Q-value). This is used to estimate the expected total reward that can be obtained from the next state.\n",
    "\n",
    "self.q_table[sail_idx, rudder_idx, 0] += self.alpha * (reward + self.gamma * q_next - q_current) updates the Q-value for the current state and action, using the Q-learning update rule"
   ]
  },
  {
   "cell_type": "markdown",
   "metadata": {},
   "source": [
    "The Q-learning update equation is used to update the Q-value for the current state and action. The Q-value for the current state and action is q_current, and q_next is the maximum Q-value for the next state. The update is performed as follows:\n",
    "\n",
    "new_q_value = old_q_value + learning_rate * (reward + discount_factor * max_q_next - old_q_value)\n",
    "\n",
    "where learning_rate is the step size, reward is the reward obtained from the current action, discount_factor is the discount factor for future rewards, and max_q_next is the maximum Q-value for the next state.\n",
    "\n",
    "In the code, q_current is the current Q-value for the current state and action, and q_next is the maximum Q-value for the next state. The Q-value for the current state and action is updated using the above equation, and the new value is stored back in the Q-table."
   ]
  },
  {
   "cell_type": "markdown",
   "metadata": {},
   "source": [
    "relative_wind_direction = self.true_wind_direction - np.arctan2(*self.boat_position[::-1])\n",
    "self.true_wind_direction: This is a scalar value that represents the direction of the wind, expressed in radians.\n",
    "np.arctan2(*self.boat_position[::-1]): This is a function call to np.arctan2, which computes the arctangent of the ratio of two given inputs. In this case, the inputs are the components of the boat's position vector, reversed using [::-1]. The * before self.boat_position[::-1] unpacks the tuple of components into separate arguments for the np.arctan2 function. The resulting output is the angle in radians between the positive x-axis and a line connecting the boat's position to the origin.\n",
    "self.true_wind_direction - np.arctan2(*self.boat_position[::-1]): This subtracts the angle from step 2 from the wind direction angle from step 1, resulting in the relative wind direction, which is the angle in radians between the boat's heading and the direction of the wind.\n",
    "Overall, this line of code is computing the relative wind direction, which is an important parameter for calculating the sail force applied to the boat in the subsequent lines of code."
   ]
  }
 ],
 "metadata": {
  "kernelspec": {
   "display_name": "Python 3 (ipykernel)",
   "language": "python",
   "name": "python3"
  },
  "language_info": {
   "codemirror_mode": {
    "name": "ipython",
    "version": 3
   },
   "file_extension": ".py",
   "mimetype": "text/x-python",
   "name": "python",
   "nbconvert_exporter": "python",
   "pygments_lexer": "ipython3",
   "version": "3.10.10"
  }
 },
 "nbformat": 4,
 "nbformat_minor": 2
}
