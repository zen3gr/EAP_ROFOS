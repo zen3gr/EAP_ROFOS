{
 "cells": [
  {
   "cell_type": "code",
   "execution_count": 95,
   "metadata": {},
   "outputs": [],
   "source": [
    "import gym\n",
    "import numpy as np\n",
    "\n",
    "class SailingEnv(gym.Env):\n",
    "    def __init__(self, max_steps=20_000):\n",
    "        self.action_space = gym.spaces.Discrete(4) #0=west, 1=north or 2=east, 3=south\n",
    "        minX=minY=0.0\n",
    "        maxX=maxY=9.0\n",
    "        #self.observation_space = gym.spaces.Box(low=np.array([minX, minY]), high=np.array([maxX, maxY]), dtype=np.float32)\n",
    "        #self.wind_direction = np.array([1.0, 0.0])\n",
    "        #self.rudder_angle = 0\n",
    "        self.x = 0#.0\n",
    "        self.y = 0#.0\n",
    "        self.position = np.array([self.x, self.y])\n",
    "        self.max_steps = max_steps\n",
    "        self.current_step = 0\n",
    "        self.target = np.array([8, 9])\n",
    "\n",
    "    def reset(self):\n",
    "        #self.wind_direction = np.array([1.0, 0.0])\n",
    "        #self.rudder_angle = 0\n",
    "        self.position = np.array([self.x, self.y])\n",
    "        self.current_step = 0\n",
    "        return self.position\n",
    "    \n",
    "    def move():\n",
    "        pass\n",
    "\n",
    "    def step(self, action):\n",
    "        #meta to step prepei na epistrepsei:\n",
    "        #new_state (edw x,y), reward, done , {} \n",
    "        assert self.action_space.contains(action)\n",
    "        self.current_step += 1\n",
    "        if action==0:\n",
    "            self.position[0]-=1\n",
    "        elif action==1:\n",
    "            self.position[1]+=1\n",
    "        elif action==2:\n",
    "            self.position[0]+=1\n",
    "        else:\n",
    "            self.position[1]-=1         \n",
    "        \n",
    "\n",
    "        reward = 1 if (self.position==self.target).all() else -0.02\n",
    "        #reward = np.cos(boat_direction - np.arctan2(self.target[1] - self.position[1], self.target[0] - self.position[0]))\n",
    "        \n",
    "        done = self.position[0] >= 10 or self.position[1] >= 10 or self.position[0] < 0 or self.position[1] < 0 or self.current_step >= self.max_steps\n",
    "        \n",
    "        return self.position, reward, done, {}\n",
    "\n",
    "env = SailingEnv()\n",
    "\n"
   ]
  },
  {
   "cell_type": "code",
   "execution_count": 21,
   "metadata": {},
   "outputs": [
    {
     "data": {
      "text/plain": [
       "array([0., 0.])"
      ]
     },
     "execution_count": 21,
     "metadata": {},
     "output_type": "execute_result"
    }
   ],
   "source": [
    "env.reset()"
   ]
  },
  {
   "cell_type": "code",
   "execution_count": 19,
   "metadata": {},
   "outputs": [
    {
     "data": {
      "text/plain": [
       "array([1., 0.])"
      ]
     },
     "execution_count": 19,
     "metadata": {},
     "output_type": "execute_result"
    }
   ],
   "source": [
    "cur_poz[0]+=1\n",
    "cur_poz"
   ]
  },
  {
   "cell_type": "code",
   "execution_count": 12,
   "metadata": {},
   "outputs": [
    {
     "data": {
      "text/plain": [
       "array([0., 0.])"
      ]
     },
     "execution_count": 12,
     "metadata": {},
     "output_type": "execute_result"
    }
   ],
   "source": [
    "np.array([selfx, selfy])"
   ]
  },
  {
   "cell_type": "code",
   "execution_count": 87,
   "metadata": {},
   "outputs": [
    {
     "name": "stdout",
     "output_type": "stream",
     "text": [
      "new state=[0. 1.], reward=-0.02, 1-th step, done=False\n",
      "new state=[0. 2.], reward=-0.02, 2-th step, done=False\n",
      "new state=[0. 1.], reward=-0.02, 3-th step, done=False\n",
      "new state=[-1.  1.], reward=-0.02, 4-th step, done=True\n"
     ]
    }
   ],
   "source": [
    "done=False\n",
    "env.reset()\n",
    "while not done:\n",
    "    action=env.action_space.sample()\n",
    "    new_state, reward, done, _ = env.step(action)\n",
    "    print(f\"new state={new_state}, reward={reward}, {env.current_step}-th step, done={done}\")\n"
   ]
  },
  {
   "cell_type": "code",
   "execution_count": 113,
   "metadata": {},
   "outputs": [],
   "source": [
    "#q_table will have 10X10X4 cells\n",
    "q_table = np.random.uniform(low=-2, high=0, size=([10,10] + [env.action_space.n]))\n",
    "LEARNING_RATE = 0.1\n",
    "DISCOUNT = 0.95"
   ]
  },
  {
   "cell_type": "code",
   "execution_count": 120,
   "metadata": {},
   "outputs": [
    {
     "data": {
      "text/plain": [
       "(2, 10, 4)"
      ]
     },
     "execution_count": 120,
     "metadata": {},
     "output_type": "execute_result"
    }
   ],
   "source": [
    "q_table[np.array([0, 0])].shape"
   ]
  },
  {
   "cell_type": "code",
   "execution_count": 129,
   "metadata": {},
   "outputs": [
    {
     "data": {
      "text/plain": [
       "34"
      ]
     },
     "execution_count": 129,
     "metadata": {},
     "output_type": "execute_result"
    }
   ],
   "source": [
    "np.argmax(q_table[np.array([1,0])])"
   ]
  },
  {
   "cell_type": "code",
   "execution_count": 98,
   "metadata": {},
   "outputs": [
    {
     "ename": "AssertionError",
     "evalue": "",
     "output_type": "error",
     "traceback": [
      "\u001b[1;31m---------------------------------------------------------------------------\u001b[0m",
      "\u001b[1;31mAssertionError\u001b[0m                            Traceback (most recent call last)",
      "Cell \u001b[1;32mIn [98], line 5\u001b[0m\n\u001b[0;32m      3\u001b[0m \u001b[38;5;28;01mwhile\u001b[39;00m \u001b[38;5;129;01mnot\u001b[39;00m done:\n\u001b[0;32m      4\u001b[0m     action\u001b[38;5;241m=\u001b[39mnp\u001b[38;5;241m.\u001b[39margmax(q_table[current_state]) \u001b[38;5;66;03m#best action based on q-values\u001b[39;00m\n\u001b[1;32m----> 5\u001b[0m     new_state, reward, done, _ \u001b[38;5;241m=\u001b[39m \u001b[43menv\u001b[49m\u001b[38;5;241;43m.\u001b[39;49m\u001b[43mstep\u001b[49m\u001b[43m(\u001b[49m\u001b[43maction\u001b[49m\u001b[43m)\u001b[49m\n\u001b[0;32m      6\u001b[0m     \u001b[38;5;66;03m#Q_max\u001b[39;00m\n\u001b[0;32m      7\u001b[0m     Q_max \u001b[38;5;241m=\u001b[39m np\u001b[38;5;241m.\u001b[39mmax(q_table[new_state])\n",
      "Cell \u001b[1;32mIn [95], line 32\u001b[0m, in \u001b[0;36mSailingEnv.step\u001b[1;34m(self, action)\u001b[0m\n\u001b[0;32m     29\u001b[0m \u001b[38;5;28;01mdef\u001b[39;00m \u001b[38;5;21mstep\u001b[39m(\u001b[38;5;28mself\u001b[39m, action):\n\u001b[0;32m     30\u001b[0m     \u001b[38;5;66;03m#meta to step prepei na epistrepsei:\u001b[39;00m\n\u001b[0;32m     31\u001b[0m     \u001b[38;5;66;03m#new_state (edw x,y), reward, done , {} \u001b[39;00m\n\u001b[1;32m---> 32\u001b[0m     \u001b[38;5;28;01massert\u001b[39;00m \u001b[38;5;28mself\u001b[39m\u001b[38;5;241m.\u001b[39maction_space\u001b[38;5;241m.\u001b[39mcontains(action)\n\u001b[0;32m     33\u001b[0m     \u001b[38;5;28mself\u001b[39m\u001b[38;5;241m.\u001b[39mcurrent_step \u001b[38;5;241m+\u001b[39m\u001b[38;5;241m=\u001b[39m \u001b[38;5;241m1\u001b[39m\n\u001b[0;32m     34\u001b[0m     \u001b[38;5;28;01mif\u001b[39;00m action\u001b[38;5;241m==\u001b[39m\u001b[38;5;241m0\u001b[39m:\n",
      "\u001b[1;31mAssertionError\u001b[0m: "
     ]
    }
   ],
   "source": [
    "done=False\n",
    "current_state=env.reset()\n",
    "while not done:\n",
    "    action=np.argmax(q_table[current_state]) #best action based on q-values\n",
    "    new_state, reward, done, _ = env.step(action)\n",
    "    #Q_max\n",
    "    Q_max = np.max(q_table[new_state])\n",
    "    #Q_current\n",
    "    Q_current = q_table[current_state + (action,)]\n",
    "    #new_q\n",
    "    new_q (1-LEARNING_RATE)*Q_current + LEARNING_RATE*(reward+DISCOUNT*Q_max)\n",
    "    #update q_table\n",
    "    q_table[current_state+(action,)]=new_q\n",
    "    #replace new_state as current_state\n",
    "    current_state=new_state\n",
    "    print(f\"new state={new_state}, reward={reward}, {env.current_step}-th step, done={done}\")\n"
   ]
  },
  {
   "cell_type": "code",
   "execution_count": 112,
   "metadata": {},
   "outputs": [
    {
     "data": {
      "text/plain": [
       "27"
      ]
     },
     "execution_count": 112,
     "metadata": {},
     "output_type": "execute_result"
    }
   ],
   "source": [
    "np.argmax(q_table[current_state])"
   ]
  },
  {
   "cell_type": "code",
   "execution_count": 117,
   "metadata": {},
   "outputs": [
    {
     "data": {
      "text/plain": [
       "(2, 10, 4)"
      ]
     },
     "execution_count": 117,
     "metadata": {},
     "output_type": "execute_result"
    }
   ],
   "source": [
    "q_table[current_state].shape"
   ]
  },
  {
   "cell_type": "code",
   "execution_count": 111,
   "metadata": {},
   "outputs": [
    {
     "data": {
      "text/plain": [
       "array([0, 0])"
      ]
     },
     "execution_count": 111,
     "metadata": {},
     "output_type": "execute_result"
    }
   ],
   "source": [
    "current_state"
   ]
  },
  {
   "cell_type": "code",
   "execution_count": 108,
   "metadata": {},
   "outputs": [
    {
     "data": {
      "text/plain": [
       "(10, 10, 4)"
      ]
     },
     "execution_count": 108,
     "metadata": {},
     "output_type": "execute_result"
    }
   ],
   "source": [
    "q_table.shape"
   ]
  }
 ],
 "metadata": {
  "kernelspec": {
   "display_name": "Python 3 (ipykernel)",
   "language": "python",
   "name": "python3"
  },
  "language_info": {
   "codemirror_mode": {
    "name": "ipython",
    "version": 3
   },
   "file_extension": ".py",
   "mimetype": "text/x-python",
   "name": "python",
   "nbconvert_exporter": "python",
   "pygments_lexer": "ipython3",
   "version": "3.9.7"
  },
  "vscode": {
   "interpreter": {
    "hash": "c3bddc4f9f80799cd353b92bebd8b8a638b2452810d6aee00b1866787c396c70"
   }
  }
 },
 "nbformat": 4,
 "nbformat_minor": 2
}
