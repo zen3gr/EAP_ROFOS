{
 "cells": [
  {
   "cell_type": "code",
   "execution_count": null,
   "metadata": {
    "ExecuteTime": {
     "end_time": "2023-04-23T19:40:13.060564Z",
     "start_time": "2023-04-23T19:40:12.706889Z"
    }
   },
   "outputs": [],
   "source": [
    "from matplotlib import pyplot as plt\n",
    "import random\n",
    "from IPython.display import display, HTML\n",
    "display(HTML(\"<style>.container { width:80% !important; }</style>\"))"
   ]
  },
  {
   "cell_type": "code",
   "execution_count": null,
   "metadata": {
    "ExecuteTime": {
     "end_time": "2023-04-23T19:14:59.235200Z",
     "start_time": "2023-04-23T19:14:59.220115Z"
    },
    "scrolled": true
   },
   "outputs": [],
   "source": [
    "# a=np.array([3,7.6]) #correct angle to x axis=68.5 degrees\n",
    "# #usage of ::-1 operator\n",
    "# m_false=np.arctan2(*a)\n",
    "# m_correct=np.arctan2(*a[::-1])\n",
    "# #create basic scatterplot\n",
    "# plt.plot(a[0],a[1], 'o', label=\"x=a[0] | y=a[1]\") #x=3 | y=7.6\n",
    "# # #########################\n",
    "# # #np.arctan2 \n",
    "# # numpy.arctan2(x1, x2,[...]\n",
    "# # Parameters:\n",
    "              \n",
    "# # x1\n",
    "# # array_like, real-valued\n",
    "# # y-coordinates.\n",
    "\n",
    "# # x2array_like, real-valued\n",
    "# # x-coordinates. \n",
    "# # ##########################\n",
    "# plt.axline((0, 0), slope=np.tan(m_false), linewidth=0.5, color='r', label = r'angle in degrees = {}'.format(round(np.rad2deg(m_false),2)))\n",
    "# plt.axline((0, 0), slope=np.tan(m_correct), linewidth=0.5, color='g', label = r'angle in degrees = {}'.format(round(np.rad2deg(m_correct),2)))\n",
    "# #plt.plot(a[1][0], m*a[1][0]axline((0, 0), (1, 1), linewidth=4, color='r')+0, '-r', label='y=2x+1')\n",
    "# plt.legend()\n",
    "# #add linear regression line to scatterplot \n",
    "# #plt.plot(a[1][0], m*a[1][0]+0)\n",
    "# ax = plt.gca()\n",
    "# ax.set_xlim([0, 8])\n",
    "# ax.set_ylim([0, 8])"
   ]
  },
  {
   "cell_type": "markdown",
   "metadata": {},
   "source": [
    "# Helping functions"
   ]
  },
  {
   "cell_type": "code",
   "execution_count": null,
   "metadata": {
    "ExecuteTime": {
     "end_time": "2023-04-23T20:42:46.116227Z",
     "start_time": "2023-04-23T20:42:46.094026Z"
    },
    "code_folding": [
     0,
     6
    ]
   },
   "outputs": [],
   "source": [
    "def angle_between(p1, p2):\n",
    "    ang1 = np.arctan2(*p1[::-1])\n",
    "    ang2 = np.arctan2(*p2[::-1])\n",
    "    return np.rad2deg((ang1 - ang2) % (2 * np.pi))\n",
    "def unit_vector(angle):\n",
    "    return np.array([np.cos(angle), np.sin(angle)])\n",
    "def find_nearest(array, value):\n",
    "    array = np.asarray(array)\n",
    "    idx = (np.abs(array - value)).argmin()\n",
    "    return array[idx]\n",
    "def render_ep (boat_plot, index, tw_vec=0, sail_angle=0, target=False):\n",
    "    from matplotlib import pyplot as plt\n",
    "    #true wind vector\n",
    "    #plt.figure(figsize=(10, 6), dpi=200)\n",
    "    #define plots\n",
    "    fig, ax = plt.subplots()\n",
    "\n",
    "    #define coordinates and directions\n",
    "    if tw_vec.all!=0:\n",
    "        x = 1\n",
    "        y = 0.02\n",
    "        u = tw_vec[0]\n",
    "        v = tw_vec[1]\n",
    "    #sail angle   \n",
    "    if sail_angle.all!=0:\n",
    "        x1 = 5        \n",
    "        u1 = sail_angle[0]\n",
    "        v1 = sail_angle[1]\n",
    "        sail=ax.quiver(x1, y, u1, v1, color='blue')\n",
    "        ax.plot([], [], color='blue', label=\"boat heading\")\n",
    "\n",
    "    #create quiver plot\n",
    "    wind=ax.quiver(x, y, u, v, color='black')\n",
    "    ax.plot([], [], color='black', label=\"wind\")\n",
    "\n",
    "    #starting point\n",
    "    #target point\n",
    "    #PENDING: spline connecting each point\n",
    "    \n",
    "    boat_plot=np.split(boat_plot,len(boat_plot)/2)\n",
    "    #boat_plot=np.split(boat_plot,len(boat_plot)/2)\n",
    "    boat_plot=np.array(boat_plot)\n",
    "    #for plotting starting point with different symbol\n",
    "    start=boat_plot[0]\n",
    "    #for plotting ending point with different symbol\n",
    "    end=boat_plot[-1]\n",
    "    #keeping all in between points\n",
    "    boat_plot=boat_plot[1:-1]\n",
    "    #boat_plot=boat_plot[0::50]\n",
    "    # Scatter plot\n",
    "    #light blue -> darker blue \n",
    "    target_plot=env.target_position\n",
    "    x=boat_plot[:, 0]\n",
    "    y=boat_plot[:, 1]\n",
    "    weights = np.arange(1,boat_plot[:, 1].shape[0]+1)\n",
    "    \n",
    "    points_size=np.linspace(1,15,len(boat_plot))\n",
    "    \n",
    "    #plt.scatter(figsize=(5, 5))\n",
    "    plt.scatter(start[0], start[1], marker=\"$A$\",  c='green', s=100)\n",
    "    plt.scatter(end[0], end[1], marker=\"$B$\",  c='red', s=100)\n",
    "    plt.scatter(x, y, c=weights, cmap='coolwarm' ,s=points_size)\n",
    "    plt.title(f\"{index}-th episode\")\n",
    "    if target==True:\n",
    "        plt.scatter(target_plot[0], target_plot[1], marker=\"$T$\",  c='green', s=100)\n",
    "    # Display the plot\n",
    "    #from matplotlib.pyplot import figure\n",
    "\n",
    "    ax.legend()\n",
    "    \n",
    "    #plt.xlim(2*min(x),2*max(x))\n",
    "    #plt.ylim(2*min(y),2*max(y))\n",
    "    #plt.xlim(11,15)\n",
    "    #plt.ylim(0,0.5)\n",
    "    plt.show()\n",
    "\n",
    "\n"
   ]
  },
  {
   "cell_type": "code",
   "execution_count": null,
   "metadata": {
    "ExecuteTime": {
     "end_time": "2023-04-23T20:59:54.681103Z",
     "start_time": "2023-04-23T20:59:54.600285Z"
    }
   },
   "outputs": [],
   "source": [
    "boat_plot=np.split(boat_plot,len(boat_plot)/2)\n",
    "boat_plot"
   ]
  },
  {
   "cell_type": "code",
   "execution_count": null,
   "metadata": {
    "ExecuteTime": {
     "end_time": "2023-04-23T20:57:33.554374Z",
     "start_time": "2023-04-23T20:57:33.538814Z"
    }
   },
   "outputs": [],
   "source": [
    "np.random.randint(90, size=(1, 2))"
   ]
  },
  {
   "cell_type": "markdown",
   "metadata": {
    "ExecuteTime": {
     "end_time": "2023-04-19T19:57:47.664277Z",
     "start_time": "2023-04-19T19:57:47.659291Z"
    }
   },
   "source": [
    "# Environment"
   ]
  },
  {
   "cell_type": "code",
   "execution_count": null,
   "metadata": {
    "ExecuteTime": {
     "end_time": "2023-04-23T21:02:23.864892Z",
     "start_time": "2023-04-23T21:02:23.855917Z"
    },
    "code_folding": []
   },
   "outputs": [],
   "source": [
    "import numpy as np\n",
    "\n",
    "class SailBoatEnvironment:\n",
    "    def __init__(self, alpha=0.1, gamma=0.9, epsilon=0.9):\n",
    "        self.step_num=0\n",
    "        #self.true_wind_direction = np.random.uniform(0, 2*np.pi)\n",
    "        #PENDING: starting boat pos + target pos kalytera na orizontai sthn init para sthn reset\n",
    "        #kai h reset na ta pairnei apo tin init\n",
    "        #fixed start position\n",
    "        self.boat_position = np.array([2, 3])\n",
    "        #random start position\n",
    "        #self.boat_position = np.random.randint(90, size=(1, 2))\n",
    "        #fixed target position\n",
    "        self.target_position = np.array([12,15]) \n",
    "        #random target position\n",
    "        #self.target_position = np.random.randint(90, size=(1, 2))\n",
    "        #to heading einai katheto sto sail, ara an to sail einai stis 90 moires to global x axis, to heading einai stis 0 moires, koitaei pros to +apeiro\n",
    "        self.sail_configs = np.linspace(np.pi/4, 3*np.pi/4, 5) #angles (in radians) of sail to x global axis\n",
    "\n",
    "        self.tw_possible_angles=np.linspace(0, np.pi, 8) #angles (in radians) of true wind direction to x global axis\n",
    "        \n",
    "        \n",
    "\n",
    "        self.alpha = alpha\n",
    "        self.gamma = gamma\n",
    "        self.epsilon = epsilon\n",
    "\n",
    "    def reset(self):\n",
    "        #returns\n",
    "        #i)boat position: starting point of boat        \n",
    "        #ii)random wind direction, epistrefei to index sto self.tw_possible_angles\n",
    "        self.step_num=0     \n",
    "        #random true wind direction\n",
    "        #self.true_wind_direction = np.random.choice(np.linspace(0, np.pi, 8))\n",
    "        #fixed true wind direction\n",
    "        self.true_wind_direction = self.tw_possible_angles[2]\n",
    "        self.boat_position = np.array([2, 3])\n",
    "        self.target_position = self.target_position \n",
    "        self.tw_velocity_vector=unit_vector(self.true_wind_direction)\n",
    "        #self.boat_velocity = self.tw_velocity_vector\n",
    "        #print(f\"{self.step_num}: Wind Velocity = {self.tw_velocity_vector}\")\n",
    "        print(self.boat_position)\n",
    "        return self.boat_position, np.where(self.true_wind_direction==self.tw_possible_angles)[0][0]\n",
    "        \n",
    "        \n",
    "        \n",
    "\n",
    "#     def get_state(self):\n",
    "#         relative_wind_direction = self.true_wind_direction - np.arctan2(*self.boat_position[::-1])\n",
    "\n",
    "#         distance_to_target = np.linalg.norm(self.boat_position - self.target_position)\n",
    "#         return relative_wind_direction, distance_to_target\n",
    "\n",
    "    def step(self, action):\n",
    "\n",
    "        sail_config = action\n",
    "        self.heading=sail_config #heading = h gwnia twn paniwn se sxesh me ton global x aksona\n",
    "        #print(f\"heading -> {self.heading}\")\n",
    "        #sail_force = sail_config * np.sin(self.true_wind_direction - np.arctan2(*self.boat_position[::-1]))\n",
    "        #sail_force = sail_config * np.sin(self.true_wind_direction - self.heading)\n",
    "        #print(f\"gwnia: -> {np.sin(self.true_wind_direction - self.heading)} -> sail force={sail_force}\")\n",
    "        #print(f\"gwnia? {np.arctan2(*self.boat_position[::-1])}\")\n",
    "        #boat_velocity = np.array([np.cos(self.true_wind_direction), np.sin(self.true_wind_direction)]) * sail_force \n",
    "        #scale = 1.3 # for debugging only\n",
    "        self.heading_vector=unit_vector(sail_config) #unit vector heading\n",
    "        nominator = self.heading_vector @ self.tw_velocity_vector\n",
    "        denominator= self.heading_vector @ self.heading_vector\n",
    "        \n",
    "        self.boat_velocity = self.heading_vector*nominator*denominator# * scale\n",
    "        self.boat_position_old=self.boat_position\n",
    "        self.boat_position = self.boat_position + self.boat_velocity#.astype(np.float64)\n",
    "\n",
    "        \n",
    "        self.step_num+=1\n",
    "        \n",
    "#         print(f\"{self.step_num}: heading_vector={self.heading_vector} | V={np.round(self.boat_velocity,2)} /-/ P={np.round(self.boat_position,2)}\\\n",
    "#         /-/ paragontas={round(nominator*denominator,2)} /-/ Sail Angle to X = {np.rad2deg(np.pi/2+sail_config)} moires\\\n",
    "#         /-/ DF: {np.round(np.linalg.norm(self.boat_position_old-self.boat_position),2)}\")\n",
    "\n",
    "        \n",
    "        done = False\n",
    "        truncated = False\n",
    "        reward = -1\n",
    "\n",
    "\n",
    "        distance_to_target = np.linalg.norm(self.boat_position - self.target_position)\n",
    "        if distance_to_target < 1:\n",
    "\n",
    "            done = True\n",
    "            reward = 100\n",
    "        \n",
    "        if self.step_num >= 1000 or not np.any(np.round(self.boat_velocity,2)):\n",
    "            truncated = True\n",
    "\n",
    "\n",
    "\n",
    "        return self.boat_position, reward, done, truncated, self.step_num\n"
   ]
  },
  {
   "cell_type": "code",
   "execution_count": null,
   "metadata": {
    "ExecuteTime": {
     "end_time": "2023-04-23T21:02:25.805392Z",
     "start_time": "2023-04-23T21:02:25.792427Z"
    },
    "scrolled": true
   },
   "outputs": [],
   "source": [
    "env=SailBoatEnvironment()\n",
    "#current state = true wind direction + angle of boat to target wrt x axis\n",
    "#prwto einai gia true wind angles\n",
    "a=len(env.tw_possible_angles)\n",
    "\n",
    "#deytero ola ta possible actions\n",
    "b=len(env.sail_configs)\n",
    "#q_table = np.random.uniform(low=-2, high=0, size=(a,b))\n",
    "#q_table\n",
    "#wd=0,1,2 # wd=1\n",
    "#dt=0,1 #dt=0 makria, dt=1 konta\n",
    "#np.argmax(q_table[1,1])\n",
    "#\n",
    "#rudder conf = 0:15th column\n",
    "#np.argmax(q_table[state,0:15])\n",
    "#sail conf = 16:31th columns\n",
    "#np.argmax(q_table[state,16:32])\n",
    "\n",
    "#q_table"
   ]
  },
  {
   "cell_type": "markdown",
   "metadata": {},
   "source": [
    "# Train Q table"
   ]
  },
  {
   "cell_type": "code",
   "execution_count": null,
   "metadata": {
    "ExecuteTime": {
     "end_time": "2023-04-23T21:02:57.321665Z",
     "start_time": "2023-04-23T21:02:57.136133Z"
    },
    "code_folding": [
     16
    ],
    "scrolled": false
   },
   "outputs": [],
   "source": [
    "env=SailBoatEnvironment()\n",
    "q_table = np.random.uniform(low=-2, high=0, size=(a,b))\n",
    "EPISODES=100\n",
    "tw_direction=[]\n",
    "boat_plot=[]\n",
    "boat_plot_all_ep=[] #stores all episodes' movement\n",
    "dones=np.zeros(EPISODES)\n",
    "for i in range(EPISODES):\n",
    "    boat_plot=[]\n",
    "    current_state=env.reset()\n",
    "    boat_pos=current_state[0]\n",
    "    tw_direction=np.append(tw_direction,current_state[1])\n",
    "    done=False\n",
    "    truncated=False\n",
    "    step_num=0\n",
    "    #boat_plot=np.append(boat_plot,np.array(boat_pos))\n",
    "    while not done: # or not truncated:\n",
    "        \n",
    "#         if EPISODES < 500:\n",
    "#         # Get random action\n",
    "#             sail_conf_index = random.sample(range(0,len(env.sail_configs)),1)[0]\n",
    "#         else:\n",
    "#         # Get \"best\" action\n",
    "#             sail_conf_index=np.argmax(q_table[current_state])\n",
    "\n",
    "\n",
    "        #sail_conf_index=np.argmax(q_table[current_state])\n",
    "        \n",
    "        #print(f\"{i} ep: sail index->{sail_conf_index}, rudder index->{rudder_conf_index}\")\n",
    "        #H np.argmax epistrefei index, oxi timh, opote pairnoume to index pou mas epistrefei\n",
    "        #kai blepoume apo ta *_configs poia timh antistoixei se ayto to index\n",
    "\n",
    "        #action=env.sail_configs[sail_conf_index]\n",
    "        action=np.deg2rad(231)\n",
    "        \n",
    "\n",
    "        \n",
    "#         if step_num < 7:\n",
    "#             action=np.deg2rad(15)\n",
    "#         elif step_num < 15:\n",
    "#             action=np.deg2rad(216.55)\n",
    "#         elif step_num < 30:\n",
    "\n",
    "#             action=np.deg2rad(143)\n",
    "#         else:\n",
    "#             action=np.deg2rad(78)\n",
    "        #action=np.deg2rad(15)\n",
    "\n",
    "        boat_pos, reward, done, truncated, step_num = env.step(action)\n",
    "        \n",
    "        #print(f\"step:{step_num}: boat position={boat_pos}\")\n",
    "        \n",
    "        \n",
    "\n",
    "        \n",
    "        boat_plot=np.append(boat_plot,np.array(boat_pos))\n",
    "        \n",
    "        \n",
    "\n",
    "        #Psaxnoume ta Q_max, ena gia to sail setting kai ena gia to rudder setting\n",
    "        #Sto Q table exoume orisei aythaireta oti oi prwtes 16 columns [0:16] dhladh\n",
    "        #antistoixoun sto sail setting\n",
    "        #enw oi ypoloipes 16 columns [16:33] sto rudder config\n",
    "\n",
    "#         Q_max=np.max(q_table[(current_state)])\n",
    "\n",
    "#         q_current=q_table[current_state,sail_conf_index]\n",
    "\n",
    "#         new_q=(1-env.alpha)*q_current+env.alpha*(reward+env.gamma*Q_max)\n",
    "\n",
    "#         q_table[current_state,sail_conf_index]=new_q\n",
    "\n",
    "        if done==True:\n",
    "            print(f\"{i}-th ep -> Egina done sto {step_num}-th step.\")\n",
    "            dones[i]=1\n",
    "            break\n",
    "\n",
    "        if truncated==True:\n",
    "        #print(f\"{i}-th ep -> Egina truncated\")\n",
    "            break\n",
    "\n",
    "        \n",
    "\n",
    "    #print(i)\n",
    "    boat_plot_all_ep.append(boat_plot)\n",
    "#     if i%800==0:\n",
    "#         print(f\"{i}-th ep -> steps: {step_num}\")\n",
    "    \n",
    "#plot last episode\n",
    "#render_ep(boat_plot, EPISODES)\n",
    "vec=unit_vector(env.tw_possible_angles[int(tw_direction[i])])\n",
    "\n",
    "render_ep(boat_plot_all_ep[i],i, vec, np.array([0,0]), True)\n",
    "#debugging only: constant sail angle\n",
    "#render_ep(boat_plot_all_ep[i],i, vec, unit_vector(action), True)"
   ]
  },
  {
   "cell_type": "code",
   "execution_count": null,
   "metadata": {
    "ExecuteTime": {
     "end_time": "2023-04-23T21:03:00.328150Z",
     "start_time": "2023-04-23T21:03:00.322167Z"
    }
   },
   "outputs": [],
   "source": [
    "dones\n",
    "#Count number of successful episodes\n",
    "num_successful_episodes=np.count_nonzero(dones == 1)\n",
    "#Index of successful episodes\n",
    "successful_indices=np.where(dones==1)[0]\n",
    "print(f\"posa epeisodia teleiwsa: {num_successful_episodes} apo ta {i} \\ndhladh to {round(num_successful_episodes/i,2)*100}%\")"
   ]
  },
  {
   "cell_type": "code",
   "execution_count": null,
   "metadata": {
    "ExecuteTime": {
     "end_time": "2023-04-23T19:14:59.668010Z",
     "start_time": "2023-04-23T19:14:59.668010Z"
    },
    "scrolled": false
   },
   "outputs": [],
   "source": [
    "for i in successful_indices[-10:]:\n",
    "    render_ep(boat_plot_all_ep[i],i, vec, np.array([0,0]), True)"
   ]
  },
  {
   "cell_type": "code",
   "execution_count": null,
   "metadata": {
    "ExecuteTime": {
     "end_time": "2023-04-23T19:14:59.669007Z",
     "start_time": "2023-04-23T19:14:59.669007Z"
    },
    "scrolled": false
   },
   "outputs": [],
   "source": [
    "for i in sorted(random.sample(range(0,EPISODES),10)):\n",
    "    render_ep(boat_plot_all_ep[i],i, vec, np.array([0,0]), True)"
   ]
  },
  {
   "cell_type": "code",
   "execution_count": null,
   "metadata": {},
   "outputs": [],
   "source": []
  }
 ],
 "metadata": {
  "celltoolbar": "Raw Cell Format",
  "kernelspec": {
   "display_name": "Python 3 (ipykernel)",
   "language": "python",
   "name": "python3"
  },
  "language_info": {
   "codemirror_mode": {
    "name": "ipython",
    "version": 3
   },
   "file_extension": ".py",
   "mimetype": "text/x-python",
   "name": "python",
   "nbconvert_exporter": "python",
   "pygments_lexer": "ipython3",
   "version": "3.9.7"
  },
  "toc": {
   "base_numbering": 1,
   "nav_menu": {
    "height": "527.566px",
    "width": "160px"
   },
   "number_sections": true,
   "sideBar": true,
   "skip_h1_title": false,
   "title_cell": "Table of Contents",
   "title_sidebar": "Contents",
   "toc_cell": false,
   "toc_position": {},
   "toc_section_display": true,
   "toc_window_display": false
  }
 },
 "nbformat": 4,
 "nbformat_minor": 2
}
