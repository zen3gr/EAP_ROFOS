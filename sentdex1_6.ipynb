{
 "cells": [
  {
   "cell_type": "code",
   "execution_count": 2,
   "id": "95167c30",
   "metadata": {},
   "outputs": [
    {
     "name": "stdout",
     "output_type": "stream",
     "text": [
      "3\n"
     ]
    }
   ],
   "source": [
    "import gymnasium as gym\n",
    "\n",
    "env = gym.make(\"MountainCar-v0\")\n",
    "print(env.action_space.n)"
   ]
  },
  {
   "cell_type": "code",
   "execution_count": null,
   "id": "bc14f588",
   "metadata": {},
   "outputs": [],
   "source": [
    "env = gym.make(\"MountainCar-v0\", render_mode=\"human\")\n",
    "env.reset()\n",
    "\n",
    "done = False\n",
    "while not done:\n",
    "    action = 2  # always go right!\n",
    "    env.step(action)\n",
    "    env.render()"
   ]
  },
  {
   "cell_type": "code",
   "execution_count": null,
   "id": "4414c037",
   "metadata": {},
   "outputs": [],
   "source": [
    "env.close()"
   ]
  },
  {
   "cell_type": "code",
   "execution_count": 6,
   "id": "3a8fe0d0",
   "metadata": {},
   "outputs": [
    {
     "data": {
      "text/plain": [
       "(array([-0.57664335,  0.        ], dtype=float32), {})"
      ]
     },
     "execution_count": 6,
     "metadata": {},
     "output_type": "execute_result"
    }
   ],
   "source": [
    "env.reset()"
   ]
  },
  {
   "cell_type": "code",
   "execution_count": 9,
   "id": "e33fc2ba",
   "metadata": {},
   "outputs": [
    {
     "data": {
      "text/plain": [
       "Box([-1.2  -0.07], [0.6  0.07], (2,), float32)"
      ]
     },
     "execution_count": 9,
     "metadata": {},
     "output_type": "execute_result"
    }
   ],
   "source": [
    "env.observation_space\n",
    "#a)position of car along x-axis\n",
    "#b)velocity of car"
   ]
  },
  {
   "cell_type": "code",
   "execution_count": 10,
   "id": "99becfea",
   "metadata": {},
   "outputs": [
    {
     "name": "stdout",
     "output_type": "stream",
     "text": [
      "[0.6  0.07]\n",
      "[-1.2  -0.07]\n"
     ]
    }
   ],
   "source": [
    "print(env.observation_space.high) #max position of distance and max value of velocity\n",
    "print(env.observation_space.low)"
   ]
  },
  {
   "cell_type": "code",
   "execution_count": 14,
   "id": "4c2b1717",
   "metadata": {},
   "outputs": [
    {
     "name": "stdout",
     "output_type": "stream",
     "text": [
      "0-th sampling gave [-0.14584541 -0.00040699]\n",
      "1-th sampling gave [-1.1496409  -0.02676865]\n",
      "2-th sampling gave [ 0.14356829 -0.01259599]\n",
      "3-th sampling gave [-0.8060011   0.04854088]\n",
      "4-th sampling gave [0.45767447 0.02980704]\n",
      "5-th sampling gave [-0.65645695 -0.05106874]\n",
      "6-th sampling gave [-0.15417759  0.05559127]\n",
      "7-th sampling gave [0.13652068 0.05053539]\n",
      "8-th sampling gave [-0.9001477   0.00459586]\n",
      "9-th sampling gave [-0.3804258  -0.03883722]\n"
     ]
    }
   ],
   "source": [
    "for i in range(10):\n",
    "    res=env.observation_space.sample()\n",
    "    print(f\"{i}-th sampling gave {res}\")\n",
    "    "
   ]
  },
  {
   "cell_type": "code",
   "execution_count": 15,
   "id": "a58a6123",
   "metadata": {},
   "outputs": [
    {
     "name": "stdout",
     "output_type": "stream",
     "text": [
      "[0.09  0.007]\n"
     ]
    }
   ],
   "source": [
    "DISCRETE_OS_SIZE = [20, 20]\n",
    "discrete_os_win_size = (env.observation_space.high - env.observation_space.low)/DISCRETE_OS_SIZE\n",
    "\n",
    "\n",
    "print(discrete_os_win_size)"
   ]
  },
  {
   "cell_type": "code",
   "execution_count": 21,
   "id": "2e2e29d7",
   "metadata": {},
   "outputs": [
    {
     "data": {
      "text/plain": [
       "1.7999999999999998"
      ]
     },
     "execution_count": 21,
     "metadata": {},
     "output_type": "execute_result"
    }
   ],
   "source": [
    "0.09*20 #is equal to [-1.2,0.6]"
   ]
  },
  {
   "cell_type": "code",
   "execution_count": 26,
   "id": "6e49dc96",
   "metadata": {},
   "outputs": [
    {
     "data": {
      "text/plain": [
       "[20, 20, 3]"
      ]
     },
     "execution_count": 26,
     "metadata": {},
     "output_type": "execute_result"
    }
   ],
   "source": [
    "(DISCRETE_OS_SIZE + [env.action_space.n])\n",
    "#20 possible x positions\n",
    "#20 possible velocity values\n",
    "#3 possible actions"
   ]
  },
  {
   "cell_type": "code",
   "execution_count": 25,
   "id": "b3f9f830",
   "metadata": {},
   "outputs": [
    {
     "data": {
      "text/plain": [
       "numpy.ndarray"
      ]
     },
     "execution_count": 25,
     "metadata": {},
     "output_type": "execute_result"
    }
   ],
   "source": [
    "import numpy as np\n",
    "q_table = np.random.uniform(low=-2, high=0, size=(DISCRETE_OS_SIZE + [env.action_space.n]))\n",
    "type(q_table)"
   ]
  },
  {
   "cell_type": "code",
   "execution_count": 35,
   "id": "df043a62",
   "metadata": {},
   "outputs": [
    {
     "data": {
      "text/plain": [
       "array([-1.60861576, -1.99230546, -0.5475786 , -0.24488364, -1.76268233,\n",
       "       -0.74804957, -1.80335344, -1.17479384, -1.14965718, -0.26142731,\n",
       "       -0.15374799, -1.2291167 , -0.45727372, -0.95646701, -1.51627929,\n",
       "       -0.26489518, -0.83767714, -0.92808714, -1.06219899, -1.59688901])"
      ]
     },
     "execution_count": 35,
     "metadata": {},
     "output_type": "execute_result"
    }
   ],
   "source": [
    "q_table[1,:,0]"
   ]
  },
  {
   "cell_type": "code",
   "execution_count": 33,
   "id": "bb77a74a",
   "metadata": {},
   "outputs": [
    {
     "data": {
      "text/plain": [
       "array([-0.17282989, -0.81219395, -0.8557672 , -0.39029961, -0.18526279,\n",
       "       -0.73690994, -1.6790686 , -1.95992234, -1.31186072, -1.98208575,\n",
       "       -0.7002224 , -1.82372897, -0.30208342, -1.64666326, -1.37740546,\n",
       "       -1.40199049, -0.49540697, -1.36682079, -0.36652247, -0.87175574])"
      ]
     },
     "execution_count": 33,
     "metadata": {},
     "output_type": "execute_result"
    }
   ],
   "source": [
    "q_table[1,:,1]"
   ]
  }
 ],
 "metadata": {
  "kernelspec": {
   "display_name": "Python 3 (ipykernel)",
   "language": "python",
   "name": "python3"
  },
  "language_info": {
   "codemirror_mode": {
    "name": "ipython",
    "version": 3
   },
   "file_extension": ".py",
   "mimetype": "text/x-python",
   "name": "python",
   "nbconvert_exporter": "python",
   "pygments_lexer": "ipython3",
   "version": "3.9.7"
  }
 },
 "nbformat": 4,
 "nbformat_minor": 5
}
