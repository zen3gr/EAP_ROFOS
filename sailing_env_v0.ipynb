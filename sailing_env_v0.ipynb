{
 "cells": [
  {
   "cell_type": "code",
   "execution_count": 1,
   "metadata": {
    "scrolled": true
   },
   "outputs": [],
   "source": [
    "import gymnasium as gym\n",
    "import numpy as np\n",
    "import matplotlib.path as mplPath\n",
    "#from shapely.geometry import Point\n",
    "# shapely.geometry.polygon import Polygon\n",
    "\n",
    "class SailingEnv(gym.Env):\n",
    "    def __init__(self, max_steps=20_000):\n",
    "        self.action_space = gym.spaces.Discrete(4) #0=west, 1=north or 2=east, 3=south\n",
    "        self.minX=self.minY=0#.0\n",
    "        self.maxX=self.maxY=19#.0\n",
    "        #self.observation_space = gym.spaces.Box(low=np.array([minX, minY]), high=np.array([maxX, maxY]), dtype=np.float32)\n",
    "        #self.wind_direction = np.array([1.0, 0.0])\n",
    "        #self.rudder_angle = 0\n",
    "        self.x = 0#.0\n",
    "        self.y = 0#.0\n",
    "        self.position = np.array([self.x, self.y])\n",
    "        self.max_steps = max_steps\n",
    "        self.current_step = 0\n",
    "        self.target = np.array([8, 9])\n",
    "\n",
    "    def reset(self):\n",
    "        #self.wind_direction = np.array([1.0, 0.0])\n",
    "        #self.rudder_angle = 0\n",
    "        #self.position = np.array([self.x, self.y])\n",
    "        self.position =  np.random.randint(self.minX//2, self.maxX//2, size=(1, 2))[0]\n",
    "        self.current_step = 0\n",
    "        #return self.position\n",
    "        return tuple(self.position.astype(np.int64))\n",
    "    \n",
    "    def move():\n",
    "        pass\n",
    "\n",
    "    def step(self, action):\n",
    "        #meta to step prepei na epistrepsei:\n",
    "        #new_state (edw x,y), reward, done , {} \n",
    "        assert self.action_space.contains(action)\n",
    "        self.current_step += 1\n",
    "        if action==0:\n",
    "            self.position[0]-=1\n",
    "        elif action==1:\n",
    "            self.position[1]+=1\n",
    "        elif action==2:\n",
    "            self.position[0]+=1\n",
    "        else:\n",
    "            self.position[1]-=1    \n",
    "            \n",
    "        #self.position=np.array([1,0])    \n",
    "        #checks if position after action is contained in our grid\n",
    "#         self.boundaries = [[self.minX-1,self.minY-1], \n",
    "#                            [self.maxX+1,self.minY-1], \n",
    "#                            [ self.maxX+1, self.maxY+1], \n",
    "#                            [self.minX-1,self.maxY+1]]\n",
    "#         self.polygon=mplPath.Path(np.array(self.boundaries))\n",
    "#         self.in_grid_condition = self.polygon.contains_point(self.position)\n",
    "        #return self.in_grid_condition, self.position, self.boundaries\n",
    "        \n",
    "#         if self.position[0] < 0  or self.position\n",
    "        #if not self.in_grid_condition:\n",
    "            #reward=-200\n",
    "        if (self.position==self.target).all():\n",
    "            reward=1\n",
    "        else:\n",
    "            reward=-0.5\n",
    "            \n",
    "        #if self.position[0] >= maxX or self.position[1] >= maxY or self.position[0] < minX or self.position[1] < minY\n",
    "        \n",
    "\n",
    "#         reward = 1 if (self.position==self.target).all() else -0.8\n",
    "#         #reward = np.cos(boat_direction - np.arctan2(self.target[1] - self.position[1], self.target[0] - self.position[0]))\n",
    "        \n",
    "        truncated = self.position[0] > self.maxX or self.position[1] > self.maxY or self.position[0] < self.minX or self.position[1] < self.minY  or self.current_step >= self.max_steps\n",
    "        #or (self.position==self.target).all()\n",
    "        done = (self.position==self.target).all() \n",
    "        \n",
    "        return tuple(self.position.astype(np.int64)), reward, done, truncated\n",
    "\n",
    "env = SailingEnv()\n",
    "\n"
   ]
  },
  {
   "cell_type": "code",
   "execution_count": 2,
   "metadata": {
    "scrolled": true
   },
   "outputs": [],
   "source": [
    "#q_table will have 10X10X4 cells\n",
    "q_table = np.random.uniform(low=-2, high=0, size=([20,20] + [env.action_space.n]))\n",
    "LEARNING_RATE = 0.1\n",
    "DISCOUNT = 0.95\n",
    "EPSILON=0.9"
   ]
  },
  {
   "cell_type": "code",
   "execution_count": 3,
   "metadata": {},
   "outputs": [],
   "source": [
    "# Exploration settings\n",
    "EPISODES=100_000\n",
    "EPSILON = 1  # not a constant, qoing to be decayed\n",
    "START_EPSILON_DECAYING = 1\n",
    "END_EPSILON_DECAYING = EPISODES//4\n",
    "epsilon_decay_value = EPSILON/(END_EPSILON_DECAYING - START_EPSILON_DECAYING)"
   ]
  },
  {
   "cell_type": "code",
   "execution_count": 4,
   "metadata": {
    "scrolled": true
   },
   "outputs": [
    {
     "name": "stdout",
     "output_type": "stream",
     "text": [
      "eftasa to 25.883258832588325% twn epeisodiwn\n"
     ]
    }
   ],
   "source": [
    "q_table = np.random.uniform(low=-2, high=0, size=([20,20] + [env.action_space.n]))\n",
    "#all_actions=[]\n",
    "success=-1\n",
    "for i in range(EPISODES):    \n",
    "    done=False\n",
    "    current_state=env.reset()\n",
    "    ep_reward=0    \n",
    "    while not done:\n",
    "        if np.random.random() < EPSILON:\n",
    "            action=env.action_space.sample()\n",
    "        else:\n",
    "            action=np.argmax(q_table[current_state]) #best action based on q-values\n",
    "        #print(f\"action={action}\")\n",
    "        #all_actions.append(action)\n",
    "        new_state, reward, done, truncated = env.step(action)\n",
    "        if truncated:\n",
    "            #poly mikro Q value otan o agent odhgeitai eksw apo to grid\n",
    "            #gia na mhn ksanaepileksei tetoia action otan vrethei sthn idia thesh\n",
    "            #q_table[current_state+(action,)]=-20\n",
    "            break\n",
    "        else:\n",
    "            #Q_max\n",
    "            Q_max = np.max(q_table[new_state])\n",
    "            #Q_current\n",
    "            Q_current = q_table[current_state + (action,)]\n",
    "            #new_q\n",
    "            new_q = (1-LEARNING_RATE)*Q_current + LEARNING_RATE*(reward+DISCOUNT*Q_max)\n",
    "            #update q_table\n",
    "            q_table[current_state+(action,)]=new_q\n",
    "            #replace new_state as current_state\n",
    "            ep_reward+=reward\n",
    "        #print(done)\n",
    "        if done:\n",
    "            success+=1\n",
    "            #print(\"eftasa\")\n",
    "            \n",
    "#         print(f\"{env.current_step} step of {i} ep.,CurState={current_state},New Pos={new_state},RWD={reward},EP_RWD={ep_reward}, D={done}, T={truncated}, New Q-value={new_q} \")\n",
    "        current_state=new_state\n",
    "    #print(\"-====================================================================-\\ \")\n",
    "          #\\n-====================================================================-\")\n",
    "        if END_EPSILON_DECAYING >= i >= START_EPSILON_DECAYING:\n",
    "            EPSILON -= epsilon_decay_value\n",
    "if success<0:\n",
    "    print(\"Den oloklhrwsa kanena epeisodio.\")\n",
    "else:\n",
    "    print(f\"eftasa to {100*success/i}% twn epeisodiwn\")\n"
   ]
  },
  {
   "cell_type": "code",
   "execution_count": 5,
   "metadata": {},
   "outputs": [
    {
     "data": {
      "text/plain": [
       "0.25883258832588324"
      ]
     },
     "execution_count": 5,
     "metadata": {},
     "output_type": "execute_result"
    }
   ],
   "source": [
    "success/i"
   ]
  },
  {
   "cell_type": "markdown",
   "metadata": {},
   "source": [
    "## Elegxos tou q_table (oxi pia training)"
   ]
  },
  {
   "cell_type": "code",
   "execution_count": 6,
   "metadata": {
    "scrolled": false
   },
   "outputs": [
    {
     "name": "stdout",
     "output_type": "stream",
     "text": [
      "eftasa to 22.52252252252252% twn epeisodiwn\n"
     ]
    }
   ],
   "source": [
    "success=-1\n",
    "for i in range(1000):    \n",
    "    done=False\n",
    "    current_state=env.reset()       \n",
    "    while not done:\n",
    "        action=np.argmax(q_table[current_state]) #best action based on q-values       \n",
    "        new_state, reward, done, truncated = env.step(action)\n",
    "        #print(new_state)\n",
    "        #print(env.current_step)\n",
    "        if done:\n",
    "            success+=1\n",
    "            #print(\"eftasa\")\n",
    "        if truncated:\n",
    "            break\n",
    "        current_state=new_state\n",
    "    #print(\"==\")\n",
    "if success<0:\n",
    "    print(\"Den oloklhrwsa kanena epeisodio.\")\n",
    "else:\n",
    "    print(f\"eftasa to {100*success/i}% twn epeisodiwn\")"
   ]
  },
  {
   "cell_type": "code",
   "execution_count": null,
   "metadata": {},
   "outputs": [],
   "source": []
  }
 ],
 "metadata": {
  "kernelspec": {
   "display_name": "rofos",
   "language": "python",
   "name": "rofos"
  },
  "language_info": {
   "codemirror_mode": {
    "name": "ipython",
    "version": 3
   },
   "file_extension": ".py",
   "mimetype": "text/x-python",
   "name": "python",
   "nbconvert_exporter": "python",
   "pygments_lexer": "ipython3",
   "version": "3.10.8"
  },
  "vscode": {
   "interpreter": {
    "hash": "ac2f5a264b2e5996d9fa0766bbb0f6d08929f71a45a794f4b8d0fed6d084d076"
   }
  }
 },
 "nbformat": 4,
 "nbformat_minor": 2
}
