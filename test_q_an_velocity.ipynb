{
 "cells": [
  {
   "cell_type": "code",
   "execution_count": 7,
   "metadata": {},
   "outputs": [],
   "source": [
    "#this is test using velocity to reach the target not rudder\n",
    "\n",
    "\n",
    "import gym\n",
    "import numpy as np\n",
    "\n",
    "class SailingEnv(gym.Env):\n",
    "    def __init__(self):\n",
    "        self.action_space = gym.spaces.Discrete(3)\n",
    "        self.observation_space = gym.spaces.MultiDiscrete([10, 10])\n",
    "        self.reset()\n",
    "\n",
    "    def reset(self):\n",
    "        self.current_pos = np.array([0, 0], dtype=np.float64)\n",
    "        self.target = np.array([-5, 0], dtype=np.float64)\n",
    "        self.velocity = np.array([1, 0], dtype=np.float64)\n",
    "        return self._get_obs()\n",
    "\n",
    "   # def step(self, action):\n",
    "       # if action == 0:\n",
    "           # self.velocity = np.array([1, 0], dtype=np.float64)\n",
    "       # elif action == 1:\n",
    "           # self.velocity = np.array([1, 1], dtype=np.float64)\n",
    "       # elif action == 2:\n",
    "         #   self.velocity = np.array([1, -1], dtype=np.float64)\n",
    "    \n",
    "    \n",
    "    def step(self, action):\n",
    "        # Define a vector of rudder angles for each possible action\n",
    "        velocity_vectors = np.array([[1, 0], [1, 1], [1, -1]])\n",
    "    \n",
    "        # Set the rudder angle based on the action\n",
    "        self.velocity = velocity_vectors[action]\n",
    "\n",
    "        self.current_pos = np.float64(self.current_pos) + self.velocity * 0.1\n",
    "        reward = -np.sqrt(np.sum(np.square(self.current_pos - self.target)))\n",
    "        done = np.allclose(self.current_pos, self.target)\n",
    "        info = {'current_pos': self.current_pos, 'reward': reward}\n",
    "        return self._get_obs(), reward, done, info\n",
    "\n",
    "    def _get_obs(self):\n",
    "        return tuple(self.current_pos.astype(np.int64) + 5)\n",
    "\n",
    "\n",
    "env = SailingEnv()"
   ]
  },
  {
   "cell_type": "code",
   "execution_count": 8,
   "metadata": {},
   "outputs": [],
   "source": [
    "#q_table will have 10X10X4 cells\n",
    "q_table = np.random.uniform(low=-2, high=0, size=([10,10] + [env.action_space.n]))\n",
    "\n",
    "# Set learning parameters\n",
    "LEARNING_RATE = 0.0001\n",
    "DISCOUNT = 0.95\n",
    "EPSILON=0.9\n",
    "\n",
    "# Q-learning algorithm\n",
    "num_episodes = 1000\n",
    "alpha = 0.001\n",
    "gamma = 0.9\n",
    "epsilon = 0.1\n",
    "\n",
    "\n",
    "\n",
    "\n",
    "# Set exploration parameters\n",
    "#exploration_rate = 1.0\n",
    "#max_exploration_rate = 1.0\n",
    "#min_exploration_rate = 0.01\n",
    "#exploration_decay_rate = 0.001\n"
   ]
  },
  {
   "cell_type": "code",
   "execution_count": 6,
   "metadata": {},
   "outputs": [
    {
     "ename": "KeyboardInterrupt",
     "evalue": "",
     "output_type": "error",
     "traceback": [
      "\u001b[0;31m---------------------------------------------------------------------------\u001b[0m",
      "\u001b[0;31mKeyboardInterrupt\u001b[0m                         Traceback (most recent call last)",
      "Cell \u001b[0;32mIn[6], line 14\u001b[0m\n\u001b[1;32m     10\u001b[0m \u001b[39melse\u001b[39;00m:\n\u001b[1;32m     11\u001b[0m     \u001b[39m# choose the action with the highest Q-value\u001b[39;00m\n\u001b[1;32m     12\u001b[0m     action \u001b[39m=\u001b[39m np\u001b[39m.\u001b[39margmax(q_table[observation[\u001b[39m0\u001b[39m], observation[\u001b[39m1\u001b[39m], :])\n\u001b[0;32m---> 14\u001b[0m next_observation, reward, done, _ \u001b[39m=\u001b[39m env\u001b[39m.\u001b[39;49mstep(action)\n\u001b[1;32m     15\u001b[0m \u001b[39mif\u001b[39;00m (next_observation[\u001b[39m0\u001b[39m] \u001b[39m<\u001b[39m \u001b[39m0\u001b[39m \u001b[39mor\u001b[39;00m next_observation[\u001b[39m0\u001b[39m] \u001b[39m>\u001b[39m \u001b[39m9\u001b[39m \u001b[39mor\u001b[39;00m\n\u001b[1;32m     16\u001b[0m     next_observation[\u001b[39m1\u001b[39m] \u001b[39m<\u001b[39m \u001b[39m0\u001b[39m \u001b[39mor\u001b[39;00m next_observation[\u001b[39m1\u001b[39m] \u001b[39m>\u001b[39m \u001b[39m9\u001b[39m):\n\u001b[1;32m     17\u001b[0m \u001b[39m# If next observation is out of bounds, set it to the previous observation\u001b[39;00m\n\u001b[1;32m     18\u001b[0m     next_observation \u001b[39m=\u001b[39m observation\n",
      "Cell \u001b[0;32mIn[1], line 36\u001b[0m, in \u001b[0;36mSailingEnv.step\u001b[0;34m(self, action)\u001b[0m\n\u001b[1;32m     34\u001b[0m done \u001b[39m=\u001b[39m np\u001b[39m.\u001b[39mallclose(\u001b[39mself\u001b[39m\u001b[39m.\u001b[39mcurrent_pos, \u001b[39mself\u001b[39m\u001b[39m.\u001b[39mtarget)\n\u001b[1;32m     35\u001b[0m info \u001b[39m=\u001b[39m {\u001b[39m'\u001b[39m\u001b[39mcurrent_pos\u001b[39m\u001b[39m'\u001b[39m: \u001b[39mself\u001b[39m\u001b[39m.\u001b[39mcurrent_pos, \u001b[39m'\u001b[39m\u001b[39mreward\u001b[39m\u001b[39m'\u001b[39m: reward}\n\u001b[0;32m---> 36\u001b[0m \u001b[39mreturn\u001b[39;00m \u001b[39mself\u001b[39;49m\u001b[39m.\u001b[39;49m_get_obs(), reward, done, info\n",
      "Cell \u001b[0;32mIn[1], line 39\u001b[0m, in \u001b[0;36mSailingEnv._get_obs\u001b[0;34m(self)\u001b[0m\n\u001b[1;32m     38\u001b[0m \u001b[39mdef\u001b[39;00m \u001b[39m_get_obs\u001b[39m(\u001b[39mself\u001b[39m):\n\u001b[0;32m---> 39\u001b[0m     \u001b[39mreturn\u001b[39;00m \u001b[39mtuple\u001b[39;49m(\u001b[39mself\u001b[39;49m\u001b[39m.\u001b[39;49mcurrent_pos\u001b[39m.\u001b[39;49mastype(np\u001b[39m.\u001b[39;49mint64) \u001b[39m+\u001b[39;49m \u001b[39m5\u001b[39;49m)\n",
      "\u001b[0;31mKeyboardInterrupt\u001b[0m: "
     ]
    }
   ],
   "source": [
    "for i in range(num_episodes):\n",
    "    done = False\n",
    "    episode_reward = 0\n",
    "    observation = env.reset()\n",
    "    \n",
    "    while not done:\n",
    "        if np.random.random() < epsilon:\n",
    "            # take a random action with probability epsilon\n",
    "            action = env.action_space.sample()\n",
    "        else:\n",
    "            # choose the action with the highest Q-value\n",
    "            action = np.argmax(q_table[observation[0], observation[1], :])\n",
    "        \n",
    "        next_observation, reward, done, _ = env.step(action)\n",
    "        if (next_observation[0] < 0 or next_observation[0] > 9 or\n",
    "            next_observation[1] < 0 or next_observation[1] > 9):\n",
    "        # If next observation is out of bounds, set it to the previous observation\n",
    "            next_observation = observation\n",
    "    \n",
    "        next_action = np.argmax(q_table[next_observation[0], next_observation[1], :])\n",
    "        \n",
    "        # update Q-value using Q-learning update rule\n",
    "        q_table[observation[0], observation[1], action] += alpha * (reward + gamma * q_table[next_observation[0], next_observation[1], next_action] - q_table[observation[0], observation[1], action])\n",
    "        observation = next_observation\n",
    "        episode_reward += reward\n",
    "        "
   ]
  },
  {
   "cell_type": "code",
   "execution_count": null,
   "metadata": {},
   "outputs": [],
   "source": []
  }
 ],
 "metadata": {
  "kernelspec": {
   "display_name": "rofos",
   "language": "python",
   "name": "python3"
  },
  "language_info": {
   "codemirror_mode": {
    "name": "ipython",
    "version": 3
   },
   "file_extension": ".py",
   "mimetype": "text/x-python",
   "name": "python",
   "nbconvert_exporter": "python",
   "pygments_lexer": "ipython3",
   "version": "3.10.8"
  },
  "orig_nbformat": 4,
  "vscode": {
   "interpreter": {
    "hash": "ac2f5a264b2e5996d9fa0766bbb0f6d08929f71a45a794f4b8d0fed6d084d076"
   }
  }
 },
 "nbformat": 4,
 "nbformat_minor": 2
}
