{
 "cells": [
  {
   "cell_type": "code",
   "execution_count": 2,
   "metadata": {},
   "outputs": [
    {
     "name": "stdout",
     "output_type": "stream",
     "text": [
      "Episode: 0, Step: 1, Location: [5. 0.], Wind Direction: [1.09983342 0.99500417], Rudder Angle: 0\n",
      "Episode: 0, Step: 2, Location: [10.  0.], Wind Direction: [1.19966683 1.99000833], Rudder Angle: 0\n",
      "Episode: 1, Step: 1, Location: [5. 0.], Wind Direction: [1.09983342 0.99500417], Rudder Angle: 0\n",
      "Episode: 1, Step: 2, Location: [10.  0.], Wind Direction: [1.19966683 1.99000833], Rudder Angle: 0\n",
      "Episode: 2, Step: 1, Location: [5. 0.], Wind Direction: [1.09983342 0.99500417], Rudder Angle: 0\n",
      "Episode: 2, Step: 2, Location: [10.  0.], Wind Direction: [1.19966683 1.99000833], Rudder Angle: 0\n",
      "Episode: 3, Step: 1, Location: [5. 0.], Wind Direction: [1.09983342 0.99500417], Rudder Angle: 0\n",
      "Episode: 3, Step: 2, Location: [10.  0.], Wind Direction: [1.19966683 1.99000833], Rudder Angle: 0\n",
      "Episode: 4, Step: 1, Location: [5. 0.], Wind Direction: [1.09983342 0.99500417], Rudder Angle: 0\n",
      "Episode: 4, Step: 2, Location: [10.  0.], Wind Direction: [1.19966683 1.99000833], Rudder Angle: 0\n",
      "Episode: 5, Step: 1, Location: [5. 0.], Wind Direction: [1.09983342 0.99500417], Rudder Angle: 0\n",
      "Episode: 5, Step: 2, Location: [10.  0.], Wind Direction: [1.19966683 1.99000833], Rudder Angle: 0\n",
      "Episode: 6, Step: 1, Location: [5. 0.], Wind Direction: [1.09983342 0.99500417], Rudder Angle: 0\n",
      "Episode: 6, Step: 2, Location: [10.  0.], Wind Direction: [1.19966683 1.99000833], Rudder Angle: 0\n",
      "Episode: 7, Step: 1, Location: [5. 0.], Wind Direction: [1.09983342 0.99500417], Rudder Angle: 0\n",
      "Episode: 7, Step: 2, Location: [10.  0.], Wind Direction: [1.19966683 1.99000833], Rudder Angle: 0\n",
      "Episode: 8, Step: 1, Location: [5. 0.], Wind Direction: [1.09983342 0.99500417], Rudder Angle: 0\n",
      "Episode: 8, Step: 2, Location: [10.  0.], Wind Direction: [1.19966683 1.99000833], Rudder Angle: 0\n",
      "Episode: 9, Step: 1, Location: [5. 0.], Wind Direction: [1.09983342 0.99500417], Rudder Angle: 0\n",
      "Episode: 9, Step: 2, Location: [10.  0.], Wind Direction: [1.19966683 1.99000833], Rudder Angle: 0\n",
      "Episode: 10, Step: 1, Location: [5. 0.], Wind Direction: [1.09983342 0.99500417], Rudder Angle: 0\n",
      "Episode: 10, Step: 2, Location: [10.  0.], Wind Direction: [1.19966683 1.99000833], Rudder Angle: 0\n",
      "Episode: 11, Step: 1, Location: [5. 0.], Wind Direction: [1.09983342 0.99500417], Rudder Angle: 0\n",
      "Episode: 11, Step: 2, Location: [10.  0.], Wind Direction: [1.19966683 1.99000833], Rudder Angle: 0\n",
      "Episode: 12, Step: 1, Location: [5. 0.], Wind Direction: [1.09983342 0.99500417], Rudder Angle: 0\n",
      "Episode: 12, Step: 2, Location: [10.  0.], Wind Direction: [1.19966683 1.99000833], Rudder Angle: 0\n",
      "Episode: 13, Step: 1, Location: [5. 0.], Wind Direction: [1.09983342 0.99500417], Rudder Angle: 0\n",
      "Episode: 13, Step: 2, Location: [10.  0.], Wind Direction: [1.19966683 1.99000833], Rudder Angle: 0\n",
      "Episode: 14, Step: 1, Location: [5. 0.], Wind Direction: [1.09983342 0.99500417], Rudder Angle: 0\n",
      "Episode: 14, Step: 2, Location: [10.  0.], Wind Direction: [1.19966683 1.99000833], Rudder Angle: 0\n",
      "Done!\n"
     ]
    }
   ],
   "source": [
    "import gym\n",
    "import numpy as np\n",
    "\n",
    "class SailingEnv(gym.Env):\n",
    "    def __init__(self, max_steps=200):\n",
    "        self.action_space = gym.spaces.Discrete(3)\n",
    "        self.observation_space = gym.spaces.Box(low=np.array([0, 0]), high=np.array([10, 10]), dtype=np.float32)\n",
    "        self.wind_direction = np.array([1.0, 0.0])\n",
    "        self.rudder_angle = 0\n",
    "        self.position = np.array([0.0, 0.0])\n",
    "        self.max_steps = max_steps\n",
    "        self.current_step = 0\n",
    "        self.target = np.array([8.0, 9.0])\n",
    "\n",
    "    def reset(self):\n",
    "        self.wind_direction = np.array([1.0, 0.0])\n",
    "        self.rudder_angle = 0\n",
    "        self.position = np.array([0.0, 0.0])\n",
    "        self.current_step = 0\n",
    "        return self.position\n",
    "\n",
    "    def step(self, action):\n",
    "        assert self.action_space.contains(action)\n",
    "        self.current_step += 1\n",
    "        \n",
    "        wind_velocity = self.wind_direction * 5\n",
    "        boat_velocity = np.array([5 * np.cos(self.rudder_angle), 5 * np.sin(self.rudder_angle)])\n",
    "        relative_velocity = boat_velocity - wind_velocity\n",
    "        boat_direction = np.arctan2(relative_velocity[1], relative_velocity[0])\n",
    "        \n",
    "        self.position += boat_velocity.astype(int)\n",
    "        self.wind_direction += np.array([np.sin(0.1), np.cos(0.1)])\n",
    "\n",
    "        reward = np.cos(boat_direction - np.arctan2(self.target[1] - self.position[1], self.target[0] - self.position[0]))\n",
    "        \n",
    "        done = self.position[0] >= 10 or self.position[1] >= 10 or self.position[0] < 0 or self.position[1] < 0 or self.current_step >= self.max_steps\n",
    "        \n",
    "        return self.position, reward, done, {}\n",
    "\n",
    "env = SailingEnv()\n",
    "\n",
    "for episode in range(15):\n",
    "    observation = env.reset()\n",
    "    done = False\n",
    "    episode_reward = 0\n",
    "    \n",
    "    while not done:\n",
    "        action = env.action_space.sample()\n",
    "        observation, reward, done, info = env.step(action)\n",
    "        episode_reward += reward\n",
    "        print(f\"Episode: {episode}, Step: {env.current_step}, Location: {observation}, Wind Direction: {env.wind_direction}, Rudder Angle: {env.rudder_angle}\")\n",
    "        \n",
    "print(\"Done!\")\n"
   ]
  }
 ],
 "metadata": {
  "kernelspec": {
   "display_name": "py39",
   "language": "python",
   "name": "python3"
  },
  "language_info": {
   "codemirror_mode": {
    "name": "ipython",
    "version": 3
   },
   "file_extension": ".py",
   "mimetype": "text/x-python",
   "name": "python",
   "nbconvert_exporter": "python",
   "pygments_lexer": "ipython3",
   "version": "3.9.5"
  },
  "orig_nbformat": 4,
  "vscode": {
   "interpreter": {
    "hash": "c3bddc4f9f80799cd353b92bebd8b8a638b2452810d6aee00b1866787c396c70"
   }
  }
 },
 "nbformat": 4,
 "nbformat_minor": 2
}
