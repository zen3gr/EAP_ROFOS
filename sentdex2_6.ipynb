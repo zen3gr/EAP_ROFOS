{
 "cells": [
  {
   "cell_type": "code",
   "execution_count": null,
   "id": "95167c30",
   "metadata": {},
   "outputs": [],
   "source": [
    "import gymnasium as gym\n",
    "import numpy as np"
   ]
  },
  {
   "cell_type": "code",
   "execution_count": null,
   "id": "bc14f588",
   "metadata": {},
   "outputs": [],
   "source": [
    "env = gym.make(\"MountainCar-v0\" )#, render_mode=\"human\")\n",
    "#env.reset()\n",
    "#env.close()\n",
    "# done = False\n",
    "# while not done:\n",
    "#     action = 2  # always go right!\n",
    "#     env.step(action)\n",
    "#     env.render()"
   ]
  },
  {
   "cell_type": "code",
   "execution_count": null,
   "id": "e33fc2ba",
   "metadata": {},
   "outputs": [],
   "source": [
    "env.observation_space\n",
    "#a)position of car along x-axis\n",
    "#b)velocity of car"
   ]
  },
  {
   "cell_type": "code",
   "execution_count": null,
   "id": "4c2b1717",
   "metadata": {},
   "outputs": [],
   "source": [
    "for i in range(10):\n",
    "    res=env.action_space.sample()\n",
    "    print(f\"{i}-th sampling gave {res} as the action\")\n",
    "    "
   ]
  },
  {
   "cell_type": "code",
   "execution_count": null,
   "id": "99becfea",
   "metadata": {
    "scrolled": true
   },
   "outputs": [],
   "source": [
    "print(env.observation_space.high) #max position of distance and max value of velocity\n",
    "print(env.observation_space.low)"
   ]
  },
  {
   "cell_type": "code",
   "execution_count": null,
   "id": "a58a6123",
   "metadata": {},
   "outputs": [],
   "source": [
    "dis = 20 #poso tha \"temaxistei\" to observation kai action space\n",
    "DISCRETE_OS_SIZE = [dis, dis]\n",
    "discrete_os_win_size = (env.observation_space.high - env.observation_space.low)/DISCRETE_OS_SIZE\n",
    "print(discrete_os_win_size)"
   ]
  },
  {
   "cell_type": "code",
   "execution_count": null,
   "id": "7eefb26f",
   "metadata": {},
   "outputs": [],
   "source": []
  },
  {
   "cell_type": "code",
   "execution_count": null,
   "id": "2e2e29d7",
   "metadata": {
    "scrolled": true
   },
   "outputs": [],
   "source": [
    "0.09*20 #is equal to [-1.2,0.6]"
   ]
  },
  {
   "cell_type": "markdown",
   "id": "2b36663f",
   "metadata": {},
   "source": [
    "# Q-Table\n"
   ]
  },
  {
   "cell_type": "code",
   "execution_count": null,
   "id": "bb796fd9",
   "metadata": {},
   "outputs": [],
   "source": [
    "# Q-Learning settings\n",
    "LEARNING_RATE = 0.1\n",
    "DISCOUNT = 0.95\n",
    "EPISODES = 25000"
   ]
  },
  {
   "cell_type": "code",
   "execution_count": null,
   "id": "6e49dc96",
   "metadata": {},
   "outputs": [],
   "source": [
    "(DISCRETE_OS_SIZE + [env.action_space.n])\n",
    "#20 possible x positions\n",
    "#20 possible velocity values\n",
    "#3 possible actions"
   ]
  },
  {
   "cell_type": "code",
   "execution_count": null,
   "id": "8b52b920",
   "metadata": {},
   "outputs": [],
   "source": [
    "def get_discrete_state(state):\n",
    "    if type(state) == tuple: #if epeidh to env.reset() epistrefei tuple, enw to env.step() epistrefei ws array\n",
    "        #to new_state\n",
    "        state = state[0]\n",
    "    discrete_state = (state - env.observation_space.low)/discrete_os_win_size\n",
    "    #return tuple(discrete_state.astype(int)) #older version?\n",
    "    return tuple(discrete_state.astype(np.int64))"
   ]
  },
  {
   "cell_type": "code",
   "execution_count": null,
   "id": "3a8fe0d0",
   "metadata": {},
   "outputs": [],
   "source": [
    "same_env_reset=env.reset()\n",
    "print(f\"state discrete: {get_discrete_state(same_env_reset)} \\nenv output :{same_env_reset}\")"
   ]
  },
  {
   "cell_type": "code",
   "execution_count": null,
   "id": "b3f9f830",
   "metadata": {},
   "outputs": [],
   "source": [
    "q_table = np.random.uniform(low=-2, high=0, size=(DISCRETE_OS_SIZE + [env.action_space.n]))\n",
    "q_table.shape"
   ]
  },
  {
   "cell_type": "code",
   "execution_count": null,
   "id": "1af5466c",
   "metadata": {},
   "outputs": [],
   "source": [
    "random_state=env.reset()\n",
    "q_table[get_discrete_state(random_state)] #epistrefei to Q-value gia ta 3 actions\n",
    "#o agent epilegei to megisto Q-value\n",
    "print(f\"q-table={q_table[get_discrete_state(random_state)]} \\nargmax = {np.argmax(q_table[get_discrete_state(random_state)])}\")"
   ]
  },
  {
   "cell_type": "code",
   "execution_count": null,
   "id": "35d3fb87",
   "metadata": {},
   "outputs": [],
   "source": [
    "i=0\n",
    "done = False\n",
    "discretized_state=get_discrete_state(env.reset())\n",
    "while not done:    \n",
    "    ###vazontas times ston Q-table me vash to reward tou environment###\n",
    "    \n",
    "    action = np.argmax(q_table[discretized_state])\n",
    "    #print(action)\n",
    "    new_state, reward, terminated, truncated , info = env.step(action)\n",
    "    #print(f\"new state={new_state} \\ndiscrete new state={get_discrete_state(new_state)}\")\n",
    "    new_state=get_discrete_state(new_state)\n",
    "    #new_state\n",
    "    #Q_max gia to neo state kai thn kalyterh mellontikh action sto neo state\n",
    "    q_max=np.max(q_table[new_state])\n",
    "    #Q_current gia to twrino mou state kai action\n",
    "    q_curr = q_table[discretized_state + (action,)]\n",
    "    #new Q value to be replaced in the q_table\n",
    "    new_q = (1 - LEARNING_RATE) * q_curr + LEARNING_RATE * (reward + DISCOUNT * q_max)\n",
    "    #replace\n",
    "    q_table[discretized_state + (action,)]=new_q\n",
    "    i=i+1\n",
    "    print(f\"i:{i},done:{done}, new_state_indices:{new_state}\")\n",
    "#     if done:\n",
    "#             q_table[discretized_state + (action,)]=0\n",
    "            \n",
    "    discretized_state = new_state    \n",
    "\n",
    "\n"
   ]
  },
  {
   "cell_type": "code",
   "execution_count": null,
   "id": "83fc70ab",
   "metadata": {},
   "outputs": [],
   "source": [
    "# while not done:\n",
    "\n",
    "#     action = np.argmax(q_table[discrete_state])\n",
    "#     new_state, reward, done, _ = env.step(action)\n",
    "\n",
    "#     new_discrete_state = get_discrete_state(new_state)\n",
    "\n",
    "#     env.render()\n",
    "#     #new_q = (1 - LEARNING_RATE) * current_q + LEARNING_RATE * (reward + DISCOUNT * max_future_q)\n",
    "\n",
    "#     # If simulation did not end yet after last step - update Q table\n",
    "#     if not done:\n",
    "\n",
    "#         # Maximum possible Q value in next step (for new state)\n",
    "#         max_future_q = np.max(q_table[new_discrete_state])\n",
    "\n",
    "#         # Current Q value (for current state and performed action)\n",
    "#         current_q = q_table[discrete_state + (action,)]\n",
    "\n",
    "#         # And here's our equation for a new Q value for current state and action\n",
    "#         new_q = (1 - LEARNING_RATE) * current_q + LEARNING_RATE * (reward + DISCOUNT * max_future_q)\n",
    "\n",
    "#         # Update Q table with new Q value\n",
    "#         q_table[discrete_state + (action,)] = new_q\n",
    "\n",
    "\n",
    "#     # Simulation ended (for any reson) - if goal position is achived - update Q value with reward directly\n",
    "#     elif new_state[0] >= env.goal_position:\n",
    "#         #q_table[discrete_state + (action,)] = reward\n",
    "#         q_table[discrete_state + (action,)] = 0\n",
    "\n",
    "#     discrete_state = new_discrete_state\n",
    "\n",
    "\n",
    "# env.close()"
   ]
  }
 ],
 "metadata": {
  "kernelspec": {
   "display_name": "Python 3 (ipykernel)",
   "language": "python",
   "name": "python3"
  },
  "language_info": {
   "codemirror_mode": {
    "name": "ipython",
    "version": 3
   },
   "file_extension": ".py",
   "mimetype": "text/x-python",
   "name": "python",
   "nbconvert_exporter": "python",
   "pygments_lexer": "ipython3",
   "version": "3.9.7"
  }
 },
 "nbformat": 4,
 "nbformat_minor": 5
}
