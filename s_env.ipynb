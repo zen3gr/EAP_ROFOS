{
 "cells": [
  {
   "cell_type": "code",
   "execution_count": null,
   "metadata": {
    "scrolled": true
   },
   "outputs": [],
   "source": [
    "!pip install shapely"
   ]
  },
  {
   "cell_type": "code",
   "execution_count": null,
   "metadata": {
    "scrolled": true
   },
   "outputs": [],
   "source": [
    "import gymnasium as gym\n",
    "import numpy as np\n",
    "import matplotlib.path as mplPath\n",
    "#from shapely.geometry import Point\n",
    "# shapely.geometry.polygon import Polygon\n",
    "\n",
    "class SailingEnv(gym.Env):\n",
    "    def __init__(self, max_steps=20_000):\n",
    "        self.action_space = gym.spaces.Discrete(4) #0=west, 1=north or 2=east, 3=south\n",
    "        self.minX=self.minY=0#.0\n",
    "        self.maxX=self.maxY=9#.0\n",
    "        #self.observation_space = gym.spaces.Box(low=np.array([minX, minY]), high=np.array([maxX, maxY]), dtype=np.float32)\n",
    "        #self.wind_direction = np.array([1.0, 0.0])\n",
    "        #self.rudder_angle = 0\n",
    "        self.x = 0#.0\n",
    "        self.y = 0#.0\n",
    "        self.position = np.array([self.x, self.y])\n",
    "        self.max_steps = max_steps\n",
    "        self.current_step = 0\n",
    "        self.target = np.array([8, 9])\n",
    "\n",
    "    def reset(self):\n",
    "        #self.wind_direction = np.array([1.0, 0.0])\n",
    "        #self.rudder_angle = 0\n",
    "        self.position = np.array([self.x, self.y])\n",
    "        self.current_step = 0\n",
    "        return tuple(self.position.astype(np.int64))\n",
    "    \n",
    "    def move():\n",
    "        pass\n",
    "\n",
    "    def step(self, action):\n",
    "        #meta to step prepei na epistrepsei:\n",
    "        #new_state (edw x,y), reward, done , {} \n",
    "        assert self.action_space.contains(action)\n",
    "        self.current_step += 1\n",
    "        if action==0:\n",
    "            self.position[0]-=1\n",
    "        elif action==1:\n",
    "            self.position[1]+=1\n",
    "        elif action==2:\n",
    "            self.position[0]+=1\n",
    "        else:\n",
    "            self.position[1]-=1    \n",
    "            \n",
    "        #self.position=np.array([1,0])    \n",
    "        #checks if position after action is contained in our grid\n",
    "        self.boundaries = [[self.minX-1,self.minY-1], \n",
    "                           [self.maxX+1,self.minY-1], \n",
    "                           [ self.maxX+1, self.maxY+1], \n",
    "                           [self.minX-1,self.maxY+1]]\n",
    "        self.polygon=mplPath.Path(np.array(self.boundaries))\n",
    "        in_grid_condition = self.polygon.contains_point(self.position)\n",
    "        #return in_grid_condition, self.position, self.boundaries\n",
    "        \n",
    "#         if self.position[0] < 0  or self.position\n",
    "        if not in_grid_condition:\n",
    "            reward=-200\n",
    "        elif (self.position==self.target).all():\n",
    "            reward=1\n",
    "        else:\n",
    "            reward=-0.5\n",
    "        \n",
    "\n",
    "#         reward = 1 if (self.position==self.target).all() else -0.8\n",
    "#         #reward = np.cos(boat_direction - np.arctan2(self.target[1] - self.position[1], self.target[0] - self.position[0]))\n",
    "        \n",
    "        done = self.position[0] >= 10 or self.position[1] >= 10 or self.position[0] < 0 or self.position[1] < 0 or self.current_step >= self.max_steps\n",
    "#         done = (self.position==self.target).all() \n",
    "        \n",
    "        return tuple(self.position.astype(np.int64)), reward, done, {}\n",
    "\n",
    "env = SailingEnv()\n",
    "\n"
   ]
  },
  {
   "cell_type": "code",
   "execution_count": null,
   "metadata": {
    "scrolled": true
   },
   "outputs": [],
   "source": [
    "done=False\n",
    "env.reset()\n",
    "while not done:\n",
    "    action=env.action_space.sample()\n",
    "    new_state, reward, done, _ = env.step(action)\n",
    "    print(f\"new state={new_state}, reward={reward}, {env.current_step}-th step, done={done}\")\n"
   ]
  },
  {
   "cell_type": "code",
   "execution_count": 400,
   "metadata": {
    "scrolled": true
   },
   "outputs": [],
   "source": [
    "#q_table will have 10X10X4 cells\n",
    "q_table = np.random.uniform(low=-2, high=0, size=([10,10] + [env.action_space.n]))\n",
    "LEARNING_RATE = 0.1\n",
    "DISCOUNT = 0.95"
   ]
  },
  {
   "cell_type": "code",
   "execution_count": 401,
   "metadata": {
    "scrolled": true
   },
   "outputs": [
    {
     "name": "stdout",
     "output_type": "stream",
     "text": [
      "1-th step of 0-th ep., New Pos=(0, 1), RWD=-0.5, EP_REW=-0.5 \n",
      "2-th step of 0-th ep., New Pos=(0, 0), RWD=-0.5, EP_REW=-1.0 \n",
      "3-th step of 0-th ep., New Pos=(0, 1), RWD=-0.5, EP_REW=-1.5 \n",
      "4-th step of 0-th ep., New Pos=(0, 0), RWD=-0.5, EP_REW=-2.0 \n",
      "5-th step of 0-th ep., New Pos=(0, 1), RWD=-0.5, EP_REW=-2.5 \n",
      "6-th step of 0-th ep., New Pos=(0, 0), RWD=-0.5, EP_REW=-3.0 \n",
      "7-th step of 0-th ep., New Pos=(0, 1), RWD=-0.5, EP_REW=-3.5 \n",
      "8-th step of 0-th ep., New Pos=(0, 0), RWD=-0.5, EP_REW=-4.0 \n",
      "9-th step of 0-th ep., New Pos=(0, 1), RWD=-0.5, EP_REW=-4.5 \n",
      "10-th step of 0-th ep., New Pos=(-1, 1), RWD=-0.5, EP_REW=-5.0 \n",
      "\n",
      "-====================================================================-\n",
      "1-th step of 1-th ep., New Pos=(0, 1), RWD=-0.5, EP_REW=-0.5 \n",
      "2-th step of 1-th ep., New Pos=(0, 0), RWD=-0.5, EP_REW=-1.0 \n",
      "3-th step of 1-th ep., New Pos=(0, 1), RWD=-0.5, EP_REW=-1.5 \n",
      "4-th step of 1-th ep., New Pos=(0, 0), RWD=-0.5, EP_REW=-2.0 \n",
      "5-th step of 1-th ep., New Pos=(0, -1), RWD=-200, EP_REW=-202.0 \n",
      "\n",
      "-====================================================================-\n",
      "1-th step of 2-th ep., New Pos=(0, 1), RWD=-0.5, EP_REW=-0.5 \n",
      "2-th step of 2-th ep., New Pos=(-1, 1), RWD=-0.5, EP_REW=-1.0 \n",
      "\n",
      "-====================================================================-\n",
      "1-th step of 3-th ep., New Pos=(0, 1), RWD=-0.5, EP_REW=-0.5 \n",
      "2-th step of 3-th ep., New Pos=(0, 0), RWD=-0.5, EP_REW=-1.0 \n",
      "3-th step of 3-th ep., New Pos=(0, 1), RWD=-0.5, EP_REW=-1.5 \n",
      "4-th step of 3-th ep., New Pos=(0, 0), RWD=-0.5, EP_REW=-2.0 \n",
      "5-th step of 3-th ep., New Pos=(0, 1), RWD=-0.5, EP_REW=-2.5 \n",
      "6-th step of 3-th ep., New Pos=(-1, 1), RWD=-0.5, EP_REW=-3.0 \n",
      "\n",
      "-====================================================================-\n",
      "1-th step of 4-th ep., New Pos=(1, 0), RWD=-0.5, EP_REW=-0.5 \n",
      "2-th step of 4-th ep., New Pos=(1, 1), RWD=-0.5, EP_REW=-1.0 \n",
      "3-th step of 4-th ep., New Pos=(0, 1), RWD=-0.5, EP_REW=-1.5 \n",
      "4-th step of 4-th ep., New Pos=(0, 0), RWD=-0.5, EP_REW=-2.0 \n",
      "5-th step of 4-th ep., New Pos=(0, 1), RWD=-0.5, EP_REW=-2.5 \n",
      "6-th step of 4-th ep., New Pos=(0, 0), RWD=-0.5, EP_REW=-3.0 \n",
      "7-th step of 4-th ep., New Pos=(1, 0), RWD=-0.5, EP_REW=-3.5 \n",
      "8-th step of 4-th ep., New Pos=(1, 1), RWD=-0.5, EP_REW=-4.0 \n",
      "9-th step of 4-th ep., New Pos=(0, 1), RWD=-0.5, EP_REW=-4.5 \n",
      "10-th step of 4-th ep., New Pos=(0, 0), RWD=-0.5, EP_REW=-5.0 \n",
      "11-th step of 4-th ep., New Pos=(0, 1), RWD=-0.5, EP_REW=-5.5 \n",
      "12-th step of 4-th ep., New Pos=(-1, 1), RWD=-0.5, EP_REW=-6.0 \n",
      "\n",
      "-====================================================================-\n"
     ]
    }
   ],
   "source": [
    "#all_actions=[]\n",
    "for i in range(5):    \n",
    "    done=False\n",
    "    current_state=env.reset()\n",
    "    ep_reward=0\n",
    "    while not done:\n",
    "        action=np.argmax(q_table[current_state]) #best action based on q-values\n",
    "        #all_actions.append(action)\n",
    "        new_state, reward, done, _ = env.step(action)\n",
    "        #Q_max\n",
    "        Q_max = np.max(q_table[new_state])\n",
    "        #Q_current\n",
    "        Q_current = q_table[current_state + (action,)]\n",
    "        #new_q\n",
    "        new_q = (1-LEARNING_RATE)*Q_current + LEARNING_RATE*(reward+DISCOUNT*Q_max)\n",
    "        #update q_table\n",
    "        q_table[current_state+(action,)]=new_q\n",
    "        #replace new_state as current_state\n",
    "        current_state=new_state\n",
    "        ep_reward+=reward\n",
    "        #if i==999:\n",
    "        #print(f\"new state={new_state}, reward={reward}, {env.current_step}-th step, done={done}, {i}-th episode\")\n",
    "        print(f\"{env.current_step}-th step of {i}-th ep., New Pos={new_state}, RWD={reward}, EP_REW={ep_reward} \")\n",
    "    print(\"\\n-====================================================================-\")\n"
   ]
  },
  {
   "cell_type": "code",
   "execution_count": null,
   "metadata": {
    "scrolled": true
   },
   "outputs": [],
   "source": [
    "set(all_actions)"
   ]
  },
  {
   "cell_type": "code",
   "execution_count": null,
   "metadata": {
    "scrolled": true
   },
   "outputs": [],
   "source": [
    "np.argmax(q_table[current_state])"
   ]
  },
  {
   "cell_type": "code",
   "execution_count": null,
   "metadata": {
    "scrolled": true
   },
   "outputs": [],
   "source": [
    "q_table[current_state].shape"
   ]
  },
  {
   "cell_type": "code",
   "execution_count": null,
   "metadata": {
    "scrolled": true
   },
   "outputs": [],
   "source": [
    "current_state"
   ]
  },
  {
   "cell_type": "code",
   "execution_count": null,
   "metadata": {
    "scrolled": true
   },
   "outputs": [],
   "source": [
    "q_table.shape"
   ]
  }
 ],
 "metadata": {
  "kernelspec": {
   "display_name": "Python 3 (ipykernel)",
   "language": "python",
   "name": "python3"
  },
  "language_info": {
   "codemirror_mode": {
    "name": "ipython",
    "version": 3
   },
   "file_extension": ".py",
   "mimetype": "text/x-python",
   "name": "python",
   "nbconvert_exporter": "python",
   "pygments_lexer": "ipython3",
   "version": "3.9.7"
  },
  "vscode": {
   "interpreter": {
    "hash": "c3bddc4f9f80799cd353b92bebd8b8a638b2452810d6aee00b1866787c396c70"
   }
  }
 },
 "nbformat": 4,
 "nbformat_minor": 2
}
