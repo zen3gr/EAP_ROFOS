{
 "cells": [
  {
   "cell_type": "code",
   "execution_count": 1,
   "metadata": {
    "ExecuteTime": {
     "end_time": "2023-04-22T21:14:52.682756Z",
     "start_time": "2023-04-22T21:14:52.332216Z"
    }
   },
   "outputs": [
    {
     "data": {
      "text/html": [
       "<style>.container { width:80% !important; }</style>"
      ],
      "text/plain": [
       "<IPython.core.display.HTML object>"
      ]
     },
     "metadata": {},
     "output_type": "display_data"
    }
   ],
   "source": [
    "from matplotlib import pyplot as plt\n",
    "from IPython.display import display, HTML\n",
    "display(HTML(\"<style>.container { width:80% !important; }</style>\"))"
   ]
  },
  {
   "cell_type": "code",
   "execution_count": 30,
   "metadata": {
    "ExecuteTime": {
     "end_time": "2023-04-22T19:03:49.991852Z",
     "start_time": "2023-04-22T19:03:49.852221Z"
    }
   },
   "outputs": [
    {
     "data": {
      "text/plain": [
       "(0.0, 8.0)"
      ]
     },
     "execution_count": 30,
     "metadata": {},
     "output_type": "execute_result"
    },
    {
     "data": {
      "image/png": "[encoded data removed]",
      "text/plain": [
       "<Figure size 640x480 with 1 Axes>"
      ]
     },
     "metadata": {},
     "output_type": "display_data"
    }
   ],
   "source": [
    "a=np.array([3,7.6]) #correct angle to x axis=68.5 degrees\n",
    "#usage of ::-1 operator\n",
    "m_false=np.arctan2(*a)\n",
    "m_correct=np.arctan2(*a[::-1])\n",
    "#create basic scatterplot\n",
    "plt.plot(a[0],a[1], 'o', label=\"x=a[0] | y=a[1]\") #x=3 | y=7.6\n",
    "# #########################\n",
    "# #np.arctan2 \n",
    "# numpy.arctan2(x1, x2,[...]\n",
    "# Parameters:\n",
    "              \n",
    "# x1\n",
    "# array_like, real-valued\n",
    "# y-coordinates.\n",
    "\n",
    "# x2array_like, real-valued\n",
    "# x-coordinates. \n",
    "# ##########################\n",
    "plt.axline((0, 0), slope=np.tan(m_false), linewidth=0.5, color='r', label = r'angle in degrees = {}'.format(round(np.rad2deg(m_false),2)))\n",
    "plt.axline((0, 0), slope=np.tan(m_correct), linewidth=0.5, color='g', label = r'angle in degrees = {}'.format(round(np.rad2deg(m_correct),2)))\n",
    "#plt.plot(a[1][0], m*a[1][0]axline((0, 0), (1, 1), linewidth=4, color='r')+0, '-r', label='y=2x+1')\n",
    "plt.legend()\n",
    "#add linear regression line to scatterplot \n",
    "#plt.plot(a[1][0], m*a[1][0]+0)\n",
    "ax = plt.gca()\n",
    "ax.set_xlim([0, 8])\n",
    "ax.set_ylim([0, 8])"
   ]
  },
  {
   "cell_type": "code",
   "execution_count": 2,
   "metadata": {
    "ExecuteTime": {
     "end_time": "2023-04-22T21:14:54.234207Z",
     "start_time": "2023-04-22T21:14:54.226228Z"
    },
    "code_folding": [
     0,
     6
    ]
   },
   "outputs": [],
   "source": [
    "def angle_between(p1, p2):\n",
    "    ang1 = np.arctan2(*p1[::-1])\n",
    "    ang2 = np.arctan2(*p2[::-1])\n",
    "    return np.rad2deg((ang1 - ang2) % (2 * np.pi))\n",
    "def unit_vector(angle):\n",
    "    return np.array([np.cos(angle), np.sin(angle)])\n",
    "def find_nearest(array, value):\n",
    "    array = np.asarray(array)\n",
    "    idx = (np.abs(array - value)).argmin()\n",
    "    return array[idx]\n",
    "def render_ep (boat_plot, index=-1, tw_vec=0, sail_angle=0, target=False):\n",
    "    from matplotlib import pyplot as plt\n",
    "    #true wind vector\n",
    "    #plt.figure(figsize=(10, 6), dpi=200)\n",
    "    #define plots\n",
    "    fig, ax = plt.subplots()\n",
    "\n",
    "    #define coordinates and directions\n",
    "    if tw_vec.all!=0:\n",
    "        x = 1\n",
    "        y = 0.02\n",
    "        u = tw_vec[0]\n",
    "        v = tw_vec[1]\n",
    "#     #sail angle   \n",
    "#     if tw_vec.all!=0:\n",
    "#         x1 = 5        \n",
    "#         u1 = sail_angle[0]\n",
    "#         v1 = sail_angle[1]\n",
    "#         sail=ax.quiver(x1, y, u1, v1, color='blue')\n",
    "#         ax.plot([], [], color='blue', label=\"sail\")\n",
    "\n",
    "    #create quiver plot\n",
    "    wind=ax.quiver(x, y, u, v, color='black')\n",
    "\n",
    "    ax.plot([], [], color='black', label=\"wind\")\n",
    "\n",
    "    #starting point\n",
    "    #target point\n",
    "    #PENDING: spline connecting each point\n",
    "    \n",
    "    boat_plot=np.split(boat_plot,len(boat_plot)/2)\n",
    "    #boat_plot=np.split(boat_plot,len(boat_plot)/2)\n",
    "    boat_plot=np.array(boat_plot)\n",
    "    #boat_plot=boat_plot[0::50]\n",
    "    # Scatter plot\n",
    "    #light blue -> darker blue \n",
    "    target_plot=env.target_position\n",
    "    x=boat_plot[:, 0]\n",
    "    y=boat_plot[:, 1]\n",
    "    weights = np.arange(1,boat_plot[:, 1].shape[0]+1)\n",
    "    \n",
    "    points_size=np.linspace(1,15,len(boat_plot))\n",
    "    \n",
    "    #plt.scatter(figsize=(5, 5))\n",
    "    if index!=-1:\n",
    "        plt.title(f\"{index}-th episode\")\n",
    "    if target==True:\n",
    "        plt.scatter(target_plot[0], target_plot[1] ) #, marker=\"x\",  c='green',s=15)\n",
    "    # Display the plot\n",
    "    #from matplotlib.pyplot import figure\n",
    "    plt.scatter(x, y, c=weights, cmap='coolwarm' ,s=points_size)\n",
    "    ax.legend()\n",
    "    \n",
    "    #plt.xlim(2*min(x),2*max(x))\n",
    "    #plt.ylim(2*min(y),2*max(y))\n",
    "    #plt.xlim(11,15)\n",
    "    #plt.ylim(0,0.5)\n",
    "    plt.show()\n",
    "\n",
    "\n"
   ]
  },
  {
   "cell_type": "code",
   "execution_count": 162,
   "metadata": {
    "ExecuteTime": {
     "end_time": "2023-04-22T21:12:27.595593Z",
     "start_time": "2023-04-22T21:12:27.590606Z"
    }
   },
   "outputs": [
    {
     "name": "stdout",
     "output_type": "stream",
     "text": [
      "0: Wind Velocity = [0.90096887 0.43388374]\n"
     ]
    },
    {
     "data": {
      "text/plain": [
       "array([ 58, 100])"
      ]
     },
     "execution_count": 162,
     "metadata": {},
     "output_type": "execute_result"
    }
   ],
   "source": [
    "env=SailBoatEnvironment()\n",
    "env.reset()\n",
    "env.target_position"
   ]
  },
  {
   "cell_type": "markdown",
   "metadata": {
    "ExecuteTime": {
     "end_time": "2023-04-19T19:57:47.664277Z",
     "start_time": "2023-04-19T19:57:47.659291Z"
    }
   },
   "source": [
    " # Environment"
   ]
  },
  {
   "cell_type": "code",
   "execution_count": 3,
   "metadata": {
    "ExecuteTime": {
     "end_time": "2023-04-22T21:14:55.889656Z",
     "start_time": "2023-04-22T21:14:55.880680Z"
    },
    "code_folding": []
   },
   "outputs": [],
   "source": [
    "import numpy as np\n",
    "\n",
    "class SailBoatEnvironment:\n",
    "    def __init__(self, alpha=0.1, gamma=0.9, epsilon=0.35):\n",
    "        self.step_num=0\n",
    "        #self.true_wind_direction = np.random.uniform(0, 2*np.pi)\n",
    "        #PENDING: starting boat pos + target pos kalytera na orizontai sthn init para sthn reset\n",
    "        #kai h reset na ta pairnei apo tin init\n",
    "        self.boat_position = np.array([0, 0])\n",
    "        self.target_position = np.array([10,4]) #fixed target position\n",
    "        #to heading einai katheto sto sail, ara an to sail einai stis 90 moires to global x axis, to heading einai stis 0 moires, koitaei pros to +apeiro\n",
    "        self.sail_configs = np.linspace(0, 1.5*np.pi, 5) #angles (in radians) of sail to x global axis\n",
    "\n",
    "        self.tw_possible_angles=np.linspace(0, np.pi, 8) #angles (in radians) of true wind direction to x global axis\n",
    "        \n",
    "        \n",
    "\n",
    "        self.alpha = alpha\n",
    "        self.gamma = gamma\n",
    "        self.epsilon = epsilon\n",
    "\n",
    "    def reset(self):\n",
    "        #returns\n",
    "        #i)boat position: starting point of boat        \n",
    "        #ii)random wind direction, epistrefei to index sto self.tw_possible_angles\n",
    "        self.step_num=0        \n",
    "        self.true_wind_direction = self.tw_possible_angles[1]\n",
    "        self.boat_position = np.array([0, 0]) #fixed starting point\n",
    "        self.target_position = self.target_position \n",
    "        self.tw_velocity_vector=unit_vector(self.true_wind_direction)\n",
    "        #self.boat_velocity = self.tw_velocity_vector\n",
    "        print(f\"{self.step_num}: Wind Velocity = {self.tw_velocity_vector}\")\n",
    "        return np.where(self.true_wind_direction==self.tw_possible_angles)[0][0]\n",
    "        \n",
    "        \n",
    "\n",
    "#     def get_state(self):\n",
    "#         relative_wind_direction = self.true_wind_direction - np.arctan2(*self.boat_position[::-1])\n",
    "\n",
    "#         distance_to_target = np.linalg.norm(self.boat_position - self.target_position)\n",
    "#         return relative_wind_direction, distance_to_target\n",
    "\n",
    "    def step(self, action):\n",
    "\n",
    "        sail_config = action\n",
    "        self.heading=sail_config #heading = h gwnia twn paniwn se sxesh me ton global x aksona\n",
    "        #print(f\"heading -> {self.heading}\")\n",
    "        #sail_force = sail_config * np.sin(self.true_wind_direction - np.arctan2(*self.boat_position[::-1]))\n",
    "        #sail_force = sail_config * np.sin(self.true_wind_direction - self.heading)\n",
    "        #print(f\"gwnia: -> {np.sin(self.true_wind_direction - self.heading)} -> sail force={sail_force}\")\n",
    "        #print(f\"gwnia? {np.arctan2(*self.boat_position[::-1])}\")\n",
    "        #boat_velocity = np.array([np.cos(self.true_wind_direction), np.sin(self.true_wind_direction)]) * sail_force \n",
    "        #scale = 1.3 # for debugging only\n",
    "        self.heading_vector=unit_vector(sail_config) #unit vector heading\n",
    "        nominator = self.heading_vector @ self.tw_velocity_vector\n",
    "        denominator= self.heading_vector @ self.heading_vector\n",
    "        \n",
    "        self.boat_velocity = self.heading_vector*nominator*denominator# * scale\n",
    "        self.boat_position_old=self.boat_position\n",
    "        self.boat_position = self.boat_position + self.boat_velocity#.astype(np.float64)\n",
    "\n",
    "        \n",
    "        self.step_num+=1\n",
    "        \n",
    "        print(f\"{self.step_num}: V={np.round(self.boat_velocity,2)} /-/ P={np.round(self.boat_position,2)}\\\n",
    "        /-/ paragontas={round(nominator*denominator,2)} /-/ Sail Angle to X = {np.rad2deg(np.pi/2+sail_config)} moires\\\n",
    "        /-/ DF: {np.round(np.linalg.norm(self.boat_position_old-self.boat_position),2)}\")\n",
    "        #print(f\"{self.step_num}: {self.boat_position_old}\")\n",
    "        \n",
    "        done = False\n",
    "        truncated = False\n",
    "        reward = -1\n",
    "\n",
    "\n",
    "        distance_to_target = np.linalg.norm(self.boat_position - self.target_position)\n",
    "        if distance_to_target < 1:\n",
    "\n",
    "            done = True\n",
    "            reward = 100\n",
    "        \n",
    "        if self.step_num >= 50 or not np.any(np.round(self.boat_velocity,2)):\n",
    "            truncated = True\n",
    "\n",
    "\n",
    "\n",
    "        return self.boat_position, reward, done, truncated, self.step_num\n"
   ]
  },
  {
   "cell_type": "code",
   "execution_count": 425,
   "metadata": {
    "ExecuteTime": {
     "end_time": "2023-04-20T18:56:17.534137Z",
     "start_time": "2023-04-20T18:56:17.518423Z"
    }
   },
   "outputs": [
    {
     "name": "stdout",
     "output_type": "stream",
     "text": [
      "reset velocity = [1. 0.]\n"
     ]
    },
    {
     "data": {
      "text/plain": [
       "0"
      ]
     },
     "execution_count": 425,
     "metadata": {},
     "output_type": "execute_result"
    }
   ],
   "source": [
    "env=SailBoatEnvironment()\n",
    "#pos, wind, _ = env.reset()\n",
    "env.reset()[1]"
   ]
  },
  {
   "cell_type": "code",
   "execution_count": 224,
   "metadata": {
    "ExecuteTime": {
     "end_time": "2023-04-13T22:27:25.696078Z",
     "start_time": "2023-04-13T22:27:25.687131Z"
    }
   },
   "outputs": [
    {
     "name": "stdout",
     "output_type": "stream",
     "text": [
      "heading -> 1.5707963267948966\n",
      "gwnia: -> -0.7071067811865476 -> sail force=-1.1107207345395915\n"
     ]
    },
    {
     "data": {
      "text/plain": [
       "(array([-3.14159265, -3.14159265]), {}, {}, -1, False, False, 5)"
      ]
     },
     "execution_count": 224,
     "metadata": {},
     "output_type": "execute_result"
    }
   ],
   "source": [
    "\n",
    "action=env.sail_configs[2]\n",
    "env.step(action)"
   ]
  },
  {
   "cell_type": "code",
   "execution_count": 89,
   "metadata": {
    "ExecuteTime": {
     "end_time": "2023-04-13T19:03:58.412224Z",
     "start_time": "2023-04-13T19:03:58.406240Z"
    }
   },
   "outputs": [
    {
     "data": {
      "text/plain": [
       "0.0"
      ]
     },
     "execution_count": 89,
     "metadata": {},
     "output_type": "execute_result"
    }
   ],
   "source": [
    "env.tw_possible_angles[wind]"
   ]
  },
  {
   "cell_type": "code",
   "execution_count": 84,
   "metadata": {
    "ExecuteTime": {
     "end_time": "2023-04-13T18:58:26.661445Z",
     "start_time": "2023-04-13T18:58:26.643492Z"
    }
   },
   "outputs": [
    {
     "data": {
      "text/plain": [
       "array([ 0.42417901, -0.90557836])"
      ]
     },
     "execution_count": 84,
     "metadata": {},
     "output_type": "execute_result"
    }
   ],
   "source": [
    "unit_vector(env.tw_possible_angles[wind])"
   ]
  },
  {
   "cell_type": "code",
   "execution_count": null,
   "metadata": {},
   "outputs": [],
   "source": [
    "env.tw_possible_angles[]"
   ]
  },
  {
   "cell_type": "code",
   "execution_count": 4,
   "metadata": {
    "ExecuteTime": {
     "end_time": "2023-04-22T21:15:01.079533Z",
     "start_time": "2023-04-22T21:15:01.074545Z"
    }
   },
   "outputs": [
    {
     "data": {
      "text/plain": [
       "array([[-1.47824081e+00, -1.94507214e-01, -5.03734682e-02,\n",
       "        -1.20533353e-03, -1.02785636e+00],\n",
       "       [-7.95853670e-01, -1.73418243e-02, -1.35152944e+00,\n",
       "        -8.60816024e-01, -6.75638681e-01],\n",
       "       [-1.69528463e+00, -1.14217747e+00, -1.16164666e+00,\n",
       "        -1.61265205e+00, -7.30634519e-01],\n",
       "       [-4.61802010e-01, -4.18336452e-01, -8.35996605e-01,\n",
       "        -1.21315308e+00, -7.29190863e-01],\n",
       "       [-1.63734939e+00, -6.95114677e-01, -1.41132786e+00,\n",
       "        -8.13580010e-01, -8.73881692e-02],\n",
       "       [-1.97553023e+00, -1.24311469e+00, -1.10498053e+00,\n",
       "        -1.85980391e+00, -1.14313573e+00],\n",
       "       [-1.76239398e+00, -1.79292009e+00, -1.03031049e+00,\n",
       "        -3.06006249e-02, -1.93938912e-02],\n",
       "       [-2.98833273e-01, -1.04278819e+00, -1.22929808e+00,\n",
       "        -1.79420405e+00, -8.83075940e-02]])"
      ]
     },
     "execution_count": 4,
     "metadata": {},
     "output_type": "execute_result"
    }
   ],
   "source": [
    "env=SailBoatEnvironment()\n",
    "#current state = true wind direction + angle of boat to target wrt x axis\n",
    "#prwto einai gia true wind angles\n",
    "a=len(env.tw_possible_angles)\n",
    "\n",
    "#deytero ola ta possible actions\n",
    "b=len(env.sail_configs)\n",
    "q_table = np.random.uniform(low=-2, high=0, size=(a,b))\n",
    "#q_table\n",
    "#wd=0,1,2 # wd=1\n",
    "#dt=0,1 #dt=0 makria, dt=1 konta\n",
    "#np.argmax(q_table[1,1])\n",
    "#\n",
    "#rudder conf = 0:15th column\n",
    "#np.argmax(q_table[state,0:15])\n",
    "#sail conf = 16:31th columns\n",
    "#np.argmax(q_table[state,16:32])\n",
    "\n",
    "q_table"
   ]
  },
  {
   "cell_type": "code",
   "execution_count": 107,
   "metadata": {
    "ExecuteTime": {
     "end_time": "2023-04-22T20:58:18.664595Z",
     "start_time": "2023-04-22T20:58:18.659607Z"
    }
   },
   "outputs": [
    {
     "name": "stdout",
     "output_type": "stream",
     "text": [
      "0: Wind Velocity = [0.90096887 0.43388374]\n"
     ]
    },
    {
     "data": {
      "text/plain": [
       "1"
      ]
     },
     "execution_count": 107,
     "metadata": {},
     "output_type": "execute_result"
    }
   ],
   "source": [
    "env.reset()"
   ]
  },
  {
   "cell_type": "code",
   "execution_count": 109,
   "metadata": {
    "ExecuteTime": {
     "end_time": "2023-04-22T20:58:33.576358Z",
     "start_time": "2023-04-22T20:58:33.572370Z"
    }
   },
   "outputs": [
    {
     "data": {
      "text/plain": [
       "1"
      ]
     },
     "execution_count": 109,
     "metadata": {},
     "output_type": "execute_result"
    }
   ],
   "source": [
    "#curent_state=env.reset()\n",
    "current_state"
   ]
  },
  {
   "cell_type": "code",
   "execution_count": 110,
   "metadata": {
    "ExecuteTime": {
     "end_time": "2023-04-22T20:58:40.794153Z",
     "start_time": "2023-04-22T20:58:40.789165Z"
    }
   },
   "outputs": [
    {
     "data": {
      "text/plain": [
       "array([-1.64989357, -0.78256549, -0.14087538, -1.50237467, -0.23491363])"
      ]
     },
     "execution_count": 110,
     "metadata": {},
     "output_type": "execute_result"
    }
   ],
   "source": [
    "q_table[current_state]"
   ]
  },
  {
   "cell_type": "code",
   "execution_count": 143,
   "metadata": {
    "ExecuteTime": {
     "end_time": "2023-04-13T22:00:14.091794Z",
     "start_time": "2023-04-13T22:00:14.079797Z"
    }
   },
   "outputs": [],
   "source": [
    "current_state=env.reset()    \n",
    "current_state=current_state[1]"
   ]
  },
  {
   "cell_type": "code",
   "execution_count": 144,
   "metadata": {
    "ExecuteTime": {
     "end_time": "2023-04-13T22:00:14.727629Z",
     "start_time": "2023-04-13T22:00:14.714633Z"
    }
   },
   "outputs": [
    {
     "data": {
      "text/plain": [
       "3"
      ]
     },
     "execution_count": 144,
     "metadata": {},
     "output_type": "execute_result"
    }
   ],
   "source": [
    "np.argmax(q_table[current_state])\n"
   ]
  },
  {
   "cell_type": "code",
   "execution_count": 140,
   "metadata": {
    "ExecuteTime": {
     "end_time": "2023-04-13T21:58:17.176737Z",
     "start_time": "2023-04-13T21:58:17.165765Z"
    }
   },
   "outputs": [
    {
     "data": {
      "text/plain": [
       "array([-0.73939776, -1.35718944, -0.46856029, -0.29806435])"
      ]
     },
     "execution_count": 140,
     "metadata": {},
     "output_type": "execute_result"
    }
   ],
   "source": [
    "q_table[current_state]"
   ]
  },
  {
   "cell_type": "code",
   "execution_count": 147,
   "metadata": {
    "ExecuteTime": {
     "end_time": "2023-04-13T22:00:41.076167Z",
     "start_time": "2023-04-13T22:00:41.065618Z"
    }
   },
   "outputs": [
    {
     "data": {
      "text/plain": [
       "3"
      ]
     },
     "execution_count": 147,
     "metadata": {},
     "output_type": "execute_result"
    }
   ],
   "source": [
    "sail_conf_index=np.argmax(q_table[current_state])\n",
    "\n",
    "#print(f\"{i} ep: sail index->{sail_conf_index}, rudder index->{rudder_conf_index}\")\n",
    "#H np.argmax epistrefei index, oxi timh, opote pairnoume to index pou mas epistrefei\n",
    "#kai blepoume apo ta *_configs poia timh antistoixei se ayto to index\n",
    "sail_conf_index"
   ]
  },
  {
   "cell_type": "code",
   "execution_count": 150,
   "metadata": {
    "ExecuteTime": {
     "end_time": "2023-04-13T22:01:28.653557Z",
     "start_time": "2023-04-13T22:01:28.634636Z"
    }
   },
   "outputs": [
    {
     "data": {
      "text/plain": [
       "array([-0.73939776, -1.35718944, -0.46856029, -0.29806435])"
      ]
     },
     "execution_count": 150,
     "metadata": {},
     "output_type": "execute_result"
    }
   ],
   "source": [
    "q_table[current_state]"
   ]
  },
  {
   "cell_type": "code",
   "execution_count": 151,
   "metadata": {
    "ExecuteTime": {
     "end_time": "2023-04-13T22:06:02.259102Z",
     "start_time": "2023-04-13T22:06:02.241637Z"
    }
   },
   "outputs": [
    {
     "data": {
      "text/plain": [
       "-0.2980643490160091"
      ]
     },
     "execution_count": 151,
     "metadata": {},
     "output_type": "execute_result"
    }
   ],
   "source": [
    "q_table[current_state,3]"
   ]
  },
  {
   "cell_type": "markdown",
   "metadata": {},
   "source": [
    "# Train Q table"
   ]
  },
  {
   "cell_type": "code",
   "execution_count": 5,
   "metadata": {
    "ExecuteTime": {
     "end_time": "2023-04-22T21:15:02.816264Z",
     "start_time": "2023-04-22T21:15:02.677545Z"
    },
    "code_folding": [
     53
    ],
    "scrolled": false
   },
   "outputs": [
    {
     "name": "stdout",
     "output_type": "stream",
     "text": [
      "0: Wind Velocity = [0.90096887 0.43388374]\n",
      "1: V=[0.95 0.25] /-/ P=[0.95 0.25]        /-/ paragontas=0.98 /-/ Sail Angle to X = 105.0 moires        /-/ DF: 0.98\n",
      "2: V=[0.95 0.25] /-/ P=[1.9  0.51]        /-/ paragontas=0.98 /-/ Sail Angle to X = 105.0 moires        /-/ DF: 0.98\n",
      "3: V=[0.95 0.25] /-/ P=[2.85 0.76]        /-/ paragontas=0.98 /-/ Sail Angle to X = 105.0 moires        /-/ DF: 0.98\n",
      "4: V=[0.95 0.25] /-/ P=[3.8  1.02]        /-/ paragontas=0.98 /-/ Sail Angle to X = 105.0 moires        /-/ DF: 0.98\n",
      "5: V=[0.95 0.25] /-/ P=[4.75 1.27]        /-/ paragontas=0.98 /-/ Sail Angle to X = 105.0 moires        /-/ DF: 0.98\n",
      "6: V=[0.95 0.25] /-/ P=[5.69 1.53]        /-/ paragontas=0.98 /-/ Sail Angle to X = 105.0 moires        /-/ DF: 0.98\n",
      "7: V=[0.95 0.25] /-/ P=[6.64 1.78]        /-/ paragontas=0.98 /-/ Sail Angle to X = 105.0 moires        /-/ DF: 0.98\n",
      "8: V=[0.79 0.58] /-/ P=[7.43 2.37]        /-/ paragontas=-0.98 /-/ Sail Angle to X = 306.55 moires        /-/ DF: 0.98\n",
      "9: V=[0.79 0.58] /-/ P=[8.22 2.95]        /-/ paragontas=-0.98 /-/ Sail Angle to X = 306.55 moires        /-/ DF: 0.98\n",
      "10: V=[0.79 0.58] /-/ P=[9.01 3.53]        /-/ paragontas=-0.98 /-/ Sail Angle to X = 306.55 moires        /-/ DF: 0.98\n",
      "11: V=[0.79 0.58] /-/ P=[9.8  4.12]        /-/ paragontas=-0.98 /-/ Sail Angle to X = 306.55 moires        /-/ DF: 0.98\n",
      "0-th ep -> Egina done sto 11-th step.\n"
     ]
    },
    {
     "data": {
      "image/png": "[encoded data removed]",
      "text/plain": [
       "<Figure size 640x480 with 1 Axes>"
      ]
     },
     "metadata": {},
     "output_type": "display_data"
    }
   ],
   "source": [
    "env=SailBoatEnvironment()\n",
    "EPISODES=1\n",
    "tw_direction=[]\n",
    "boat_plot=[]\n",
    "boat_plot_all_ep=[] #stores all episodes' movement\n",
    "dones=np.zeros(EPISODES)\n",
    "for i in range(EPISODES):\n",
    "    boat_plot=[]\n",
    "    current_state=env.reset()    \n",
    "    tw_direction=np.append(tw_direction,current_state)\n",
    "    done=False\n",
    "    truncated=False\n",
    "    step_num=0\n",
    "    while not done: # or not truncated:\n",
    "\n",
    "        #sail_conf_index=np.argmax(q_table[current_state])\n",
    "        \n",
    "        #print(f\"{i} ep: sail index->{sail_conf_index}, rudder index->{rudder_conf_index}\")\n",
    "        #H np.argmax epistrefei index, oxi timh, opote pairnoume to index pou mas epistrefei\n",
    "        #kai blepoume apo ta *_configs poia timh antistoixei se ayto to index\n",
    "        \n",
    "        #action=env.sail_configs[sail_conf_index]\n",
    "        \n",
    "        #action=env.sail_configs[0]\n",
    "        \n",
    "        if step_num < 7:\n",
    "            action=np.deg2rad(15)\n",
    "        elif step_num < 15:\n",
    "            action=np.deg2rad(216.55)\n",
    "        elif step_num < 30:\n",
    "            action=np.deg2rad(143)\n",
    "        else:\n",
    "            action=np.deg2rad(78)\n",
    "        #action=np.deg2rad(15)\n",
    "\n",
    "        boat_pos, reward, done, truncated, step_num = env.step(action)\n",
    "        \n",
    "        #print(f\"step:{step_num}: boat position={boat_pos}\")\n",
    "        \n",
    "        if done==True:\n",
    "            print(f\"{i}-th ep -> Egina done sto {step_num}-th step.\")\n",
    "            dones[i]=1\n",
    "            break\n",
    "\n",
    "        \n",
    "        boat_plot=np.append(boat_plot,np.array(boat_pos))\n",
    "        \n",
    "        if truncated==True:\n",
    "            #print(f\"{i}-th ep -> Egina truncated\")\n",
    "            break\n",
    "\n",
    "        #Psaxnoume ta Q_max, ena gia to sail setting kai ena gia to rudder setting\n",
    "        #Sto Q table exoume orisei aythaireta oti oi prwtes 16 columns [0:16] dhladh\n",
    "        #antistoixoun sto sail setting\n",
    "        #enw oi ypoloipes 16 columns [16:33] sto rudder config\n",
    "        \n",
    "#         Q_max=np.max(q_table[(current_state)])\n",
    "        \n",
    "#         q_current=q_table[current_state,sail_conf_index]\n",
    "\n",
    "#         new_q=(1-env.alpha)*q_current+env.alpha*(reward+env.gamma*Q_max)\n",
    "\n",
    "#         q_table[current_state,sail_conf_index]=new_q\n",
    "\n",
    "        \n",
    "\n",
    "    #print(i)\n",
    "    boat_plot_all_ep.append(boat_plot)\n",
    "#     if i%800==0:\n",
    "#         print(f\"{i}-th ep -> steps: {step_num}\")\n",
    "    \n",
    "#plot last episode\n",
    "#render_ep(boat_plot, EPISODES)\n",
    "vec=unit_vector(env.tw_possible_angles[int(tw_direction[i])])\n",
    "#action=unit_vector(action)\n",
    "#render_ep(boat_plot_all_ep[i],i, vec, action, True)\n",
    "render_ep(boat_plot_all_ep[i],i, vec, True)"
   ]
  },
  {
   "cell_type": "code",
   "execution_count": 176,
   "metadata": {
    "ExecuteTime": {
     "end_time": "2023-04-13T22:11:48.179145Z",
     "start_time": "2023-04-13T22:11:48.161876Z"
    }
   },
   "outputs": [
    {
     "data": {
      "text/plain": [
       "array([-3.84734139e-16,  4.71163432e-32, -3.84734139e-16, ...,\n",
       "        4.71163432e-32, -3.84734139e-16,  4.71163432e-32])"
      ]
     },
     "execution_count": 176,
     "metadata": {},
     "output_type": "execute_result"
    }
   ],
   "source": [
    "boat_plot_all_ep[0]"
   ]
  },
  {
   "cell_type": "code",
   "execution_count": 185,
   "metadata": {
    "ExecuteTime": {
     "end_time": "2023-04-13T22:21:52.862597Z",
     "start_time": "2023-04-13T22:21:52.774820Z"
    }
   },
   "outputs": [
    {
     "data": {
      "text/plain": [
       "[array([0.39269908, 0.39269908]),\n",
       " array([0.39269908, 0.39269908]),\n",
       " array([0.39269908, 0.39269908]),\n",
       " array([0.39269908, 0.39269908]),\n",
       " array([0.39269908, 0.39269908]),\n",
       " array([0.39269908, 0.39269908]),\n",
       " array([0.39269908, 0.39269908]),\n",
       " array([0.39269908, 0.39269908]),\n",
       " array([0.39269908, 0.39269908]),\n",
       " array([0.39269908, 0.39269908]),\n",
       " array([0.39269908, 0.39269908]),\n",
       " array([0.39269908, 0.39269908]),\n",
       " array([0.39269908, 0.39269908]),\n",
       " array([0.39269908, 0.39269908]),\n",
       " array([0.39269908, 0.39269908]),\n",
       " array([0.39269908, 0.39269908]),\n",
       " array([0.39269908, 0.39269908]),\n",
       " array([0.39269908, 0.39269908]),\n",
       " array([0.39269908, 0.39269908]),\n",
       " array([0.39269908, 0.39269908]),\n",
       " array([0.39269908, 0.39269908]),\n",
       " array([0.39269908, 0.39269908]),\n",
       " array([0.39269908, 0.39269908]),\n",
       " array([0.39269908, 0.39269908]),\n",
       " array([0.39269908, 0.39269908]),\n",
       " array([0.39269908, 0.39269908]),\n",
       " array([0.39269908, 0.39269908]),\n",
       " array([0.39269908, 0.39269908]),\n",
       " array([0.39269908, 0.39269908]),\n",
       " array([0.39269908, 0.39269908]),\n",
       " array([0.39269908, 0.39269908]),\n",
       " array([0.39269908, 0.39269908]),\n",
       " array([0.39269908, 0.39269908]),\n",
       " array([0.39269908, 0.39269908]),\n",
       " array([0.39269908, 0.39269908]),\n",
       " array([0.39269908, 0.39269908]),\n",
       " array([0.39269908, 0.39269908]),\n",
       " array([0.39269908, 0.39269908]),\n",
       " array([0.39269908, 0.39269908]),\n",
       " array([0.39269908, 0.39269908]),\n",
       " array([0.39269908, 0.39269908]),\n",
       " array([0.39269908, 0.39269908]),\n",
       " array([0.39269908, 0.39269908]),\n",
       " array([0.39269908, 0.39269908]),\n",
       " array([0.39269908, 0.39269908]),\n",
       " array([0.39269908, 0.39269908]),\n",
       " array([0.39269908, 0.39269908]),\n",
       " array([0.39269908, 0.39269908]),\n",
       " array([0.39269908, 0.39269908]),\n",
       " array([0.39269908, 0.39269908]),\n",
       " array([0.39269908, 0.39269908]),\n",
       " array([0.39269908, 0.39269908]),\n",
       " array([0.39269908, 0.39269908]),\n",
       " array([0.39269908, 0.39269908]),\n",
       " array([0.39269908, 0.39269908]),\n",
       " array([0.39269908, 0.39269908]),\n",
       " array([0.39269908, 0.39269908]),\n",
       " array([0.39269908, 0.39269908]),\n",
       " array([0.39269908, 0.39269908]),\n",
       " array([0.39269908, 0.39269908]),\n",
       " array([0.39269908, 0.39269908]),\n",
       " array([0.39269908, 0.39269908]),\n",
       " array([0.39269908, 0.39269908]),\n",
       " array([0.39269908, 0.39269908]),\n",
       " array([0.39269908, 0.39269908]),\n",
       " array([0.39269908, 0.39269908]),\n",
       " array([0.39269908, 0.39269908]),\n",
       " array([0.39269908, 0.39269908]),\n",
       " array([0.39269908, 0.39269908]),\n",
       " array([0.39269908, 0.39269908]),\n",
       " array([0.39269908, 0.39269908]),\n",
       " array([0.39269908, 0.39269908]),\n",
       " array([0.39269908, 0.39269908]),\n",
       " array([0.39269908, 0.39269908]),\n",
       " array([0.39269908, 0.39269908]),\n",
       " array([0.39269908, 0.39269908]),\n",
       " array([0.39269908, 0.39269908]),\n",
       " array([0.39269908, 0.39269908]),\n",
       " array([0.39269908, 0.39269908]),\n",
       " array([0.39269908, 0.39269908]),\n",
       " array([0.39269908, 0.39269908]),\n",
       " array([0.39269908, 0.39269908]),\n",
       " array([0.39269908, 0.39269908]),\n",
       " array([0.39269908, 0.39269908]),\n",
       " array([0.39269908, 0.39269908]),\n",
       " array([0.39269908, 0.39269908]),\n",
       " array([0.39269908, 0.39269908]),\n",
       " array([0.39269908, 0.39269908]),\n",
       " array([0.39269908, 0.39269908]),\n",
       " array([0.39269908, 0.39269908]),\n",
       " array([0.39269908, 0.39269908]),\n",
       " array([0.39269908, 0.39269908]),\n",
       " array([0.39269908, 0.39269908]),\n",
       " array([0.39269908, 0.39269908]),\n",
       " array([0.39269908, 0.39269908]),\n",
       " array([0.39269908, 0.39269908]),\n",
       " array([0.39269908, 0.39269908]),\n",
       " array([0.39269908, 0.39269908]),\n",
       " array([0.39269908, 0.39269908]),\n",
       " array([0.39269908, 0.39269908]),\n",
       " array([0.39269908, 0.39269908]),\n",
       " array([0.39269908, 0.39269908]),\n",
       " array([0.39269908, 0.39269908]),\n",
       " array([0.39269908, 0.39269908]),\n",
       " array([0.39269908, 0.39269908]),\n",
       " array([0.39269908, 0.39269908]),\n",
       " array([0.39269908, 0.39269908]),\n",
       " array([0.39269908, 0.39269908]),\n",
       " array([0.39269908, 0.39269908]),\n",
       " array([0.39269908, 0.39269908]),\n",
       " array([0.39269908, 0.39269908]),\n",
       " array([0.39269908, 0.39269908]),\n",
       " array([0.39269908, 0.39269908]),\n",
       " array([0.39269908, 0.39269908]),\n",
       " array([0.39269908, 0.39269908]),\n",
       " array([0.39269908, 0.39269908]),\n",
       " array([0.39269908, 0.39269908]),\n",
       " array([0.39269908, 0.39269908]),\n",
       " array([0.39269908, 0.39269908]),\n",
       " array([0.39269908, 0.39269908]),\n",
       " array([0.39269908, 0.39269908]),\n",
       " array([0.39269908, 0.39269908]),\n",
       " array([0.39269908, 0.39269908]),\n",
       " array([0.39269908, 0.39269908]),\n",
       " array([0.39269908, 0.39269908]),\n",
       " array([0.39269908, 0.39269908]),\n",
       " array([0.39269908, 0.39269908]),\n",
       " array([0.39269908, 0.39269908]),\n",
       " array([0.39269908, 0.39269908]),\n",
       " array([0.39269908, 0.39269908]),\n",
       " array([0.39269908, 0.39269908]),\n",
       " array([0.39269908, 0.39269908]),\n",
       " array([0.39269908, 0.39269908]),\n",
       " array([0.39269908, 0.39269908]),\n",
       " array([0.39269908, 0.39269908]),\n",
       " array([0.39269908, 0.39269908]),\n",
       " array([0.39269908, 0.39269908]),\n",
       " array([0.39269908, 0.39269908]),\n",
       " array([0.39269908, 0.39269908]),\n",
       " array([0.39269908, 0.39269908]),\n",
       " array([0.39269908, 0.39269908]),\n",
       " array([0.39269908, 0.39269908]),\n",
       " array([0.39269908, 0.39269908]),\n",
       " array([0.39269908, 0.39269908]),\n",
       " array([0.39269908, 0.39269908]),\n",
       " array([0.39269908, 0.39269908]),\n",
       " array([0.39269908, 0.39269908]),\n",
       " array([0.39269908, 0.39269908]),\n",
       " array([0.39269908, 0.39269908]),\n",
       " array([0.39269908, 0.39269908]),\n",
       " array([0.39269908, 0.39269908]),\n",
       " array([0.39269908, 0.39269908]),\n",
       " array([0.39269908, 0.39269908]),\n",
       " array([0.39269908, 0.39269908]),\n",
       " array([0.39269908, 0.39269908]),\n",
       " array([0.39269908, 0.39269908]),\n",
       " array([0.39269908, 0.39269908]),\n",
       " array([0.39269908, 0.39269908]),\n",
       " array([0.39269908, 0.39269908]),\n",
       " array([0.39269908, 0.39269908]),\n",
       " array([0.39269908, 0.39269908]),\n",
       " array([0.39269908, 0.39269908]),\n",
       " array([0.39269908, 0.39269908]),\n",
       " array([0.39269908, 0.39269908]),\n",
       " array([0.39269908, 0.39269908]),\n",
       " array([0.39269908, 0.39269908]),\n",
       " array([0.39269908, 0.39269908]),\n",
       " array([0.39269908, 0.39269908]),\n",
       " array([0.39269908, 0.39269908]),\n",
       " array([0.39269908, 0.39269908]),\n",
       " array([0.39269908, 0.39269908]),\n",
       " array([0.39269908, 0.39269908]),\n",
       " array([0.39269908, 0.39269908]),\n",
       " array([0.39269908, 0.39269908]),\n",
       " array([0.39269908, 0.39269908]),\n",
       " array([0.39269908, 0.39269908]),\n",
       " array([0.39269908, 0.39269908]),\n",
       " array([0.39269908, 0.39269908]),\n",
       " array([0.39269908, 0.39269908]),\n",
       " array([0.39269908, 0.39269908]),\n",
       " array([0.39269908, 0.39269908]),\n",
       " array([0.39269908, 0.39269908]),\n",
       " array([0.39269908, 0.39269908]),\n",
       " array([0.39269908, 0.39269908]),\n",
       " array([0.39269908, 0.39269908]),\n",
       " array([0.39269908, 0.39269908]),\n",
       " array([0.39269908, 0.39269908]),\n",
       " array([0.39269908, 0.39269908]),\n",
       " array([0.39269908, 0.39269908]),\n",
       " array([0.39269908, 0.39269908]),\n",
       " array([0.39269908, 0.39269908]),\n",
       " array([0.39269908, 0.39269908]),\n",
       " array([0.39269908, 0.39269908]),\n",
       " array([0.39269908, 0.39269908]),\n",
       " array([0.39269908, 0.39269908]),\n",
       " array([0.39269908, 0.39269908]),\n",
       " array([0.39269908, 0.39269908]),\n",
       " array([0.39269908, 0.39269908]),\n",
       " array([0.39269908, 0.39269908]),\n",
       " array([0.39269908, 0.39269908]),\n",
       " array([0.39269908, 0.39269908]),\n",
       " array([0.39269908, 0.39269908]),\n",
       " array([0.39269908, 0.39269908]),\n",
       " array([0.39269908, 0.39269908]),\n",
       " array([0.39269908, 0.39269908]),\n",
       " array([0.39269908, 0.39269908]),\n",
       " array([0.39269908, 0.39269908]),\n",
       " array([0.39269908, 0.39269908]),\n",
       " array([0.39269908, 0.39269908]),\n",
       " array([0.39269908, 0.39269908]),\n",
       " array([0.39269908, 0.39269908]),\n",
       " array([0.39269908, 0.39269908]),\n",
       " array([0.39269908, 0.39269908]),\n",
       " array([0.39269908, 0.39269908]),\n",
       " array([0.39269908, 0.39269908]),\n",
       " array([0.39269908, 0.39269908]),\n",
       " array([0.39269908, 0.39269908]),\n",
       " array([0.39269908, 0.39269908]),\n",
       " array([0.39269908, 0.39269908]),\n",
       " array([0.39269908, 0.39269908]),\n",
       " array([0.39269908, 0.39269908]),\n",
       " array([0.39269908, 0.39269908]),\n",
       " array([0.39269908, 0.39269908]),\n",
       " array([0.39269908, 0.39269908]),\n",
       " array([0.39269908, 0.39269908]),\n",
       " array([0.39269908, 0.39269908]),\n",
       " array([0.39269908, 0.39269908]),\n",
       " array([0.39269908, 0.39269908]),\n",
       " array([0.39269908, 0.39269908]),\n",
       " array([0.39269908, 0.39269908]),\n",
       " array([0.39269908, 0.39269908]),\n",
       " array([0.39269908, 0.39269908]),\n",
       " array([0.39269908, 0.39269908]),\n",
       " array([0.39269908, 0.39269908]),\n",
       " array([0.39269908, 0.39269908]),\n",
       " array([0.39269908, 0.39269908]),\n",
       " array([0.39269908, 0.39269908]),\n",
       " array([0.39269908, 0.39269908]),\n",
       " array([0.39269908, 0.39269908]),\n",
       " array([0.39269908, 0.39269908]),\n",
       " array([0.39269908, 0.39269908]),\n",
       " array([0.39269908, 0.39269908]),\n",
       " array([0.39269908, 0.39269908]),\n",
       " array([0.39269908, 0.39269908]),\n",
       " array([0.39269908, 0.39269908]),\n",
       " array([0.39269908, 0.39269908]),\n",
       " array([0.39269908, 0.39269908]),\n",
       " array([0.39269908, 0.39269908]),\n",
       " array([0.39269908, 0.39269908]),\n",
       " array([0.39269908, 0.39269908]),\n",
       " array([0.39269908, 0.39269908]),\n",
       " array([0.39269908, 0.39269908]),\n",
       " array([0.39269908, 0.39269908]),\n",
       " array([0.39269908, 0.39269908]),\n",
       " array([0.39269908, 0.39269908]),\n",
       " array([0.39269908, 0.39269908]),\n",
       " array([0.39269908, 0.39269908]),\n",
       " array([0.39269908, 0.39269908]),\n",
       " array([0.39269908, 0.39269908]),\n",
       " array([0.39269908, 0.39269908]),\n",
       " array([0.39269908, 0.39269908]),\n",
       " array([0.39269908, 0.39269908]),\n",
       " array([0.39269908, 0.39269908]),\n",
       " array([0.39269908, 0.39269908]),\n",
       " array([0.39269908, 0.39269908]),\n",
       " array([0.39269908, 0.39269908]),\n",
       " array([0.39269908, 0.39269908]),\n",
       " array([0.39269908, 0.39269908]),\n",
       " array([0.39269908, 0.39269908]),\n",
       " array([0.39269908, 0.39269908]),\n",
       " array([0.39269908, 0.39269908]),\n",
       " array([0.39269908, 0.39269908]),\n",
       " array([0.39269908, 0.39269908]),\n",
       " array([0.39269908, 0.39269908]),\n",
       " array([0.39269908, 0.39269908]),\n",
       " array([0.39269908, 0.39269908]),\n",
       " array([0.39269908, 0.39269908]),\n",
       " array([0.39269908, 0.39269908]),\n",
       " array([0.39269908, 0.39269908]),\n",
       " array([0.39269908, 0.39269908]),\n",
       " array([0.39269908, 0.39269908]),\n",
       " array([0.39269908, 0.39269908]),\n",
       " array([0.39269908, 0.39269908]),\n",
       " array([0.39269908, 0.39269908]),\n",
       " array([0.39269908, 0.39269908]),\n",
       " array([0.39269908, 0.39269908]),\n",
       " array([0.39269908, 0.39269908]),\n",
       " array([0.39269908, 0.39269908]),\n",
       " array([0.39269908, 0.39269908]),\n",
       " array([0.39269908, 0.39269908]),\n",
       " array([0.39269908, 0.39269908]),\n",
       " array([0.39269908, 0.39269908]),\n",
       " array([0.39269908, 0.39269908]),\n",
       " array([0.39269908, 0.39269908]),\n",
       " array([0.39269908, 0.39269908]),\n",
       " array([0.39269908, 0.39269908]),\n",
       " array([0.39269908, 0.39269908]),\n",
       " array([0.39269908, 0.39269908]),\n",
       " array([0.39269908, 0.39269908]),\n",
       " array([0.39269908, 0.39269908]),\n",
       " array([0.39269908, 0.39269908]),\n",
       " array([0.39269908, 0.39269908]),\n",
       " array([0.39269908, 0.39269908]),\n",
       " array([0.39269908, 0.39269908]),\n",
       " array([0.39269908, 0.39269908]),\n",
       " array([0.39269908, 0.39269908]),\n",
       " array([0.39269908, 0.39269908]),\n",
       " array([0.39269908, 0.39269908]),\n",
       " array([0.39269908, 0.39269908]),\n",
       " array([0.39269908, 0.39269908]),\n",
       " array([0.39269908, 0.39269908]),\n",
       " array([0.39269908, 0.39269908]),\n",
       " array([0.39269908, 0.39269908]),\n",
       " array([0.39269908, 0.39269908]),\n",
       " array([0.39269908, 0.39269908]),\n",
       " array([0.39269908, 0.39269908]),\n",
       " array([0.39269908, 0.39269908]),\n",
       " array([0.39269908, 0.39269908]),\n",
       " array([0.39269908, 0.39269908]),\n",
       " array([0.39269908, 0.39269908]),\n",
       " array([0.39269908, 0.39269908]),\n",
       " array([0.39269908, 0.39269908]),\n",
       " array([0.39269908, 0.39269908]),\n",
       " array([0.39269908, 0.39269908]),\n",
       " array([0.39269908, 0.39269908]),\n",
       " array([0.39269908, 0.39269908]),\n",
       " array([0.39269908, 0.39269908]),\n",
       " array([0.39269908, 0.39269908]),\n",
       " array([0.39269908, 0.39269908]),\n",
       " array([0.39269908, 0.39269908]),\n",
       " array([0.39269908, 0.39269908]),\n",
       " array([0.39269908, 0.39269908]),\n",
       " array([0.39269908, 0.39269908]),\n",
       " array([0.39269908, 0.39269908]),\n",
       " array([0.39269908, 0.39269908]),\n",
       " array([0.39269908, 0.39269908]),\n",
       " array([0.39269908, 0.39269908]),\n",
       " array([0.39269908, 0.39269908]),\n",
       " array([0.39269908, 0.39269908]),\n",
       " array([0.39269908, 0.39269908]),\n",
       " array([0.39269908, 0.39269908]),\n",
       " array([0.39269908, 0.39269908]),\n",
       " array([0.39269908, 0.39269908]),\n",
       " array([0.39269908, 0.39269908]),\n",
       " array([0.39269908, 0.39269908]),\n",
       " array([0.39269908, 0.39269908]),\n",
       " array([0.39269908, 0.39269908]),\n",
       " array([0.39269908, 0.39269908]),\n",
       " array([0.39269908, 0.39269908]),\n",
       " array([0.39269908, 0.39269908]),\n",
       " array([0.39269908, 0.39269908]),\n",
       " array([0.39269908, 0.39269908]),\n",
       " array([0.39269908, 0.39269908]),\n",
       " array([0.39269908, 0.39269908]),\n",
       " array([0.39269908, 0.39269908]),\n",
       " array([0.39269908, 0.39269908]),\n",
       " array([0.39269908, 0.39269908]),\n",
       " array([0.39269908, 0.39269908]),\n",
       " array([0.39269908, 0.39269908]),\n",
       " array([0.39269908, 0.39269908]),\n",
       " array([0.39269908, 0.39269908]),\n",
       " array([0.39269908, 0.39269908]),\n",
       " array([0.39269908, 0.39269908]),\n",
       " array([0.39269908, 0.39269908]),\n",
       " array([0.39269908, 0.39269908]),\n",
       " array([0.39269908, 0.39269908]),\n",
       " array([0.39269908, 0.39269908]),\n",
       " array([0.39269908, 0.39269908]),\n",
       " array([0.39269908, 0.39269908]),\n",
       " array([0.39269908, 0.39269908]),\n",
       " array([0.39269908, 0.39269908]),\n",
       " array([0.39269908, 0.39269908]),\n",
       " array([0.39269908, 0.39269908]),\n",
       " array([0.39269908, 0.39269908]),\n",
       " array([0.39269908, 0.39269908]),\n",
       " array([0.39269908, 0.39269908]),\n",
       " array([0.39269908, 0.39269908]),\n",
       " array([0.39269908, 0.39269908]),\n",
       " array([0.39269908, 0.39269908]),\n",
       " array([0.39269908, 0.39269908]),\n",
       " array([0.39269908, 0.39269908]),\n",
       " array([0.39269908, 0.39269908]),\n",
       " array([0.39269908, 0.39269908]),\n",
       " array([0.39269908, 0.39269908]),\n",
       " array([0.39269908, 0.39269908]),\n",
       " array([0.39269908, 0.39269908]),\n",
       " array([0.39269908, 0.39269908]),\n",
       " array([0.39269908, 0.39269908]),\n",
       " array([0.39269908, 0.39269908]),\n",
       " array([0.39269908, 0.39269908]),\n",
       " array([0.39269908, 0.39269908]),\n",
       " array([0.39269908, 0.39269908]),\n",
       " array([0.39269908, 0.39269908]),\n",
       " array([0.39269908, 0.39269908]),\n",
       " array([0.39269908, 0.39269908]),\n",
       " array([0.39269908, 0.39269908]),\n",
       " array([0.39269908, 0.39269908]),\n",
       " array([0.39269908, 0.39269908]),\n",
       " array([0.39269908, 0.39269908]),\n",
       " array([0.39269908, 0.39269908]),\n",
       " array([0.39269908, 0.39269908]),\n",
       " array([0.39269908, 0.39269908]),\n",
       " array([0.39269908, 0.39269908]),\n",
       " array([0.39269908, 0.39269908]),\n",
       " array([0.39269908, 0.39269908]),\n",
       " array([0.39269908, 0.39269908]),\n",
       " array([0.39269908, 0.39269908]),\n",
       " array([0.39269908, 0.39269908]),\n",
       " array([0.39269908, 0.39269908]),\n",
       " array([0.39269908, 0.39269908]),\n",
       " array([0.39269908, 0.39269908]),\n",
       " array([0.39269908, 0.39269908]),\n",
       " array([0.39269908, 0.39269908]),\n",
       " array([0.39269908, 0.39269908]),\n",
       " array([0.39269908, 0.39269908]),\n",
       " array([0.39269908, 0.39269908]),\n",
       " array([0.39269908, 0.39269908]),\n",
       " array([0.39269908, 0.39269908]),\n",
       " array([0.39269908, 0.39269908]),\n",
       " array([0.39269908, 0.39269908]),\n",
       " array([0.39269908, 0.39269908]),\n",
       " array([0.39269908, 0.39269908]),\n",
       " array([0.39269908, 0.39269908]),\n",
       " array([0.39269908, 0.39269908]),\n",
       " array([0.39269908, 0.39269908]),\n",
       " array([0.39269908, 0.39269908]),\n",
       " array([0.39269908, 0.39269908]),\n",
       " array([0.39269908, 0.39269908]),\n",
       " array([0.39269908, 0.39269908]),\n",
       " array([0.39269908, 0.39269908]),\n",
       " array([0.39269908, 0.39269908]),\n",
       " array([0.39269908, 0.39269908]),\n",
       " array([0.39269908, 0.39269908]),\n",
       " array([0.39269908, 0.39269908]),\n",
       " array([0.39269908, 0.39269908]),\n",
       " array([0.39269908, 0.39269908]),\n",
       " array([0.39269908, 0.39269908]),\n",
       " array([0.39269908, 0.39269908]),\n",
       " array([0.39269908, 0.39269908]),\n",
       " array([0.39269908, 0.39269908]),\n",
       " array([0.39269908, 0.39269908]),\n",
       " array([0.39269908, 0.39269908]),\n",
       " array([0.39269908, 0.39269908]),\n",
       " array([0.39269908, 0.39269908]),\n",
       " array([0.39269908, 0.39269908]),\n",
       " array([0.39269908, 0.39269908]),\n",
       " array([0.39269908, 0.39269908]),\n",
       " array([0.39269908, 0.39269908]),\n",
       " array([0.39269908, 0.39269908]),\n",
       " array([0.39269908, 0.39269908]),\n",
       " array([0.39269908, 0.39269908]),\n",
       " array([0.39269908, 0.39269908]),\n",
       " array([0.39269908, 0.39269908]),\n",
       " array([0.39269908, 0.39269908]),\n",
       " array([0.39269908, 0.39269908]),\n",
       " array([0.39269908, 0.39269908]),\n",
       " array([0.39269908, 0.39269908]),\n",
       " array([0.39269908, 0.39269908]),\n",
       " array([0.39269908, 0.39269908]),\n",
       " array([0.39269908, 0.39269908]),\n",
       " array([0.39269908, 0.39269908]),\n",
       " array([0.39269908, 0.39269908]),\n",
       " array([0.39269908, 0.39269908]),\n",
       " array([0.39269908, 0.39269908]),\n",
       " array([0.39269908, 0.39269908]),\n",
       " array([0.39269908, 0.39269908]),\n",
       " array([0.39269908, 0.39269908]),\n",
       " array([0.39269908, 0.39269908]),\n",
       " array([0.39269908, 0.39269908]),\n",
       " array([0.39269908, 0.39269908]),\n",
       " array([0.39269908, 0.39269908]),\n",
       " array([0.39269908, 0.39269908]),\n",
       " array([0.39269908, 0.39269908]),\n",
       " array([0.39269908, 0.39269908]),\n",
       " array([0.39269908, 0.39269908]),\n",
       " array([0.39269908, 0.39269908]),\n",
       " array([0.39269908, 0.39269908]),\n",
       " array([0.39269908, 0.39269908]),\n",
       " array([0.39269908, 0.39269908]),\n",
       " array([0.39269908, 0.39269908]),\n",
       " array([0.39269908, 0.39269908]),\n",
       " array([0.39269908, 0.39269908]),\n",
       " array([0.39269908, 0.39269908]),\n",
       " array([0.39269908, 0.39269908]),\n",
       " array([0.39269908, 0.39269908]),\n",
       " array([0.39269908, 0.39269908]),\n",
       " array([0.39269908, 0.39269908]),\n",
       " array([0.39269908, 0.39269908]),\n",
       " array([0.39269908, 0.39269908]),\n",
       " array([0.39269908, 0.39269908]),\n",
       " array([0.39269908, 0.39269908]),\n",
       " array([0.39269908, 0.39269908]),\n",
       " array([0.39269908, 0.39269908]),\n",
       " array([0.39269908, 0.39269908]),\n",
       " array([0.39269908, 0.39269908]),\n",
       " array([0.39269908, 0.39269908]),\n",
       " array([0.39269908, 0.39269908]),\n",
       " array([0.39269908, 0.39269908]),\n",
       " array([0.39269908, 0.39269908]),\n",
       " array([0.39269908, 0.39269908]),\n",
       " array([0.39269908, 0.39269908]),\n",
       " array([0.39269908, 0.39269908]),\n",
       " array([0.39269908, 0.39269908]),\n",
       " array([0.39269908, 0.39269908]),\n",
       " array([0.39269908, 0.39269908]),\n",
       " array([0.39269908, 0.39269908]),\n",
       " array([0.39269908, 0.39269908]),\n",
       " array([0.39269908, 0.39269908]),\n",
       " array([0.39269908, 0.39269908]),\n",
       " array([0.39269908, 0.39269908]),\n",
       " array([0.39269908, 0.39269908]),\n",
       " array([0.39269908, 0.39269908]),\n",
       " array([0.39269908, 0.39269908]),\n",
       " array([0.39269908, 0.39269908]),\n",
       " array([0.39269908, 0.39269908]),\n",
       " array([0.39269908, 0.39269908]),\n",
       " array([0.39269908, 0.39269908]),\n",
       " array([0.39269908, 0.39269908]),\n",
       " array([0.39269908, 0.39269908]),\n",
       " array([0.39269908, 0.39269908]),\n",
       " array([0.39269908, 0.39269908]),\n",
       " array([0.39269908, 0.39269908]),\n",
       " array([0.39269908, 0.39269908]),\n",
       " array([0.39269908, 0.39269908]),\n",
       " array([0.39269908, 0.39269908]),\n",
       " array([0.39269908, 0.39269908]),\n",
       " array([0.39269908, 0.39269908]),\n",
       " array([0.39269908, 0.39269908]),\n",
       " array([0.39269908, 0.39269908]),\n",
       " array([0.39269908, 0.39269908]),\n",
       " array([0.39269908, 0.39269908]),\n",
       " array([0.39269908, 0.39269908]),\n",
       " array([0.39269908, 0.39269908]),\n",
       " array([0.39269908, 0.39269908]),\n",
       " array([0.39269908, 0.39269908]),\n",
       " array([0.39269908, 0.39269908]),\n",
       " array([0.39269908, 0.39269908]),\n",
       " array([0.39269908, 0.39269908]),\n",
       " array([0.39269908, 0.39269908]),\n",
       " array([0.39269908, 0.39269908]),\n",
       " array([0.39269908, 0.39269908]),\n",
       " array([0.39269908, 0.39269908]),\n",
       " array([0.39269908, 0.39269908]),\n",
       " array([0.39269908, 0.39269908]),\n",
       " array([0.39269908, 0.39269908]),\n",
       " array([0.39269908, 0.39269908]),\n",
       " array([0.39269908, 0.39269908]),\n",
       " array([0.39269908, 0.39269908]),\n",
       " array([0.39269908, 0.39269908]),\n",
       " array([0.39269908, 0.39269908]),\n",
       " array([0.39269908, 0.39269908]),\n",
       " array([0.39269908, 0.39269908]),\n",
       " array([0.39269908, 0.39269908]),\n",
       " array([0.39269908, 0.39269908]),\n",
       " array([0.39269908, 0.39269908]),\n",
       " array([0.39269908, 0.39269908]),\n",
       " array([0.39269908, 0.39269908]),\n",
       " array([0.39269908, 0.39269908]),\n",
       " array([0.39269908, 0.39269908]),\n",
       " array([0.39269908, 0.39269908]),\n",
       " array([0.39269908, 0.39269908]),\n",
       " array([0.39269908, 0.39269908]),\n",
       " array([0.39269908, 0.39269908]),\n",
       " array([0.39269908, 0.39269908]),\n",
       " array([0.39269908, 0.39269908]),\n",
       " array([0.39269908, 0.39269908]),\n",
       " array([0.39269908, 0.39269908]),\n",
       " array([0.39269908, 0.39269908]),\n",
       " array([0.39269908, 0.39269908]),\n",
       " array([0.39269908, 0.39269908]),\n",
       " array([0.39269908, 0.39269908]),\n",
       " array([0.39269908, 0.39269908]),\n",
       " array([0.39269908, 0.39269908]),\n",
       " array([0.39269908, 0.39269908]),\n",
       " array([0.39269908, 0.39269908]),\n",
       " array([0.39269908, 0.39269908]),\n",
       " array([0.39269908, 0.39269908]),\n",
       " array([0.39269908, 0.39269908]),\n",
       " array([0.39269908, 0.39269908]),\n",
       " array([0.39269908, 0.39269908]),\n",
       " array([0.39269908, 0.39269908]),\n",
       " array([0.39269908, 0.39269908]),\n",
       " array([0.39269908, 0.39269908]),\n",
       " array([0.39269908, 0.39269908]),\n",
       " array([0.39269908, 0.39269908]),\n",
       " array([0.39269908, 0.39269908]),\n",
       " array([0.39269908, 0.39269908]),\n",
       " array([0.39269908, 0.39269908]),\n",
       " array([0.39269908, 0.39269908]),\n",
       " array([0.39269908, 0.39269908]),\n",
       " array([0.39269908, 0.39269908]),\n",
       " array([0.39269908, 0.39269908]),\n",
       " array([0.39269908, 0.39269908]),\n",
       " array([0.39269908, 0.39269908]),\n",
       " array([0.39269908, 0.39269908]),\n",
       " array([0.39269908, 0.39269908]),\n",
       " array([0.39269908, 0.39269908]),\n",
       " array([0.39269908, 0.39269908]),\n",
       " array([0.39269908, 0.39269908]),\n",
       " array([0.39269908, 0.39269908]),\n",
       " array([0.39269908, 0.39269908]),\n",
       " array([0.39269908, 0.39269908]),\n",
       " array([0.39269908, 0.39269908]),\n",
       " array([0.39269908, 0.39269908]),\n",
       " array([0.39269908, 0.39269908]),\n",
       " array([0.39269908, 0.39269908]),\n",
       " array([0.39269908, 0.39269908]),\n",
       " array([0.39269908, 0.39269908]),\n",
       " array([0.39269908, 0.39269908]),\n",
       " array([0.39269908, 0.39269908]),\n",
       " array([0.39269908, 0.39269908]),\n",
       " array([0.39269908, 0.39269908]),\n",
       " array([0.39269908, 0.39269908]),\n",
       " array([0.39269908, 0.39269908]),\n",
       " array([0.39269908, 0.39269908]),\n",
       " array([0.39269908, 0.39269908]),\n",
       " array([0.39269908, 0.39269908]),\n",
       " array([0.39269908, 0.39269908]),\n",
       " array([0.39269908, 0.39269908]),\n",
       " array([0.39269908, 0.39269908]),\n",
       " array([0.39269908, 0.39269908]),\n",
       " array([0.39269908, 0.39269908]),\n",
       " array([0.39269908, 0.39269908]),\n",
       " array([0.39269908, 0.39269908]),\n",
       " array([0.39269908, 0.39269908]),\n",
       " array([0.39269908, 0.39269908]),\n",
       " array([0.39269908, 0.39269908]),\n",
       " array([0.39269908, 0.39269908]),\n",
       " array([0.39269908, 0.39269908]),\n",
       " array([0.39269908, 0.39269908]),\n",
       " array([0.39269908, 0.39269908]),\n",
       " array([0.39269908, 0.39269908]),\n",
       " array([0.39269908, 0.39269908]),\n",
       " array([0.39269908, 0.39269908]),\n",
       " array([0.39269908, 0.39269908]),\n",
       " array([0.39269908, 0.39269908]),\n",
       " array([0.39269908, 0.39269908]),\n",
       " array([0.39269908, 0.39269908]),\n",
       " array([0.39269908, 0.39269908]),\n",
       " array([0.39269908, 0.39269908]),\n",
       " array([0.39269908, 0.39269908]),\n",
       " array([0.39269908, 0.39269908]),\n",
       " array([0.39269908, 0.39269908]),\n",
       " array([0.39269908, 0.39269908]),\n",
       " array([0.39269908, 0.39269908]),\n",
       " array([0.39269908, 0.39269908]),\n",
       " array([0.39269908, 0.39269908]),\n",
       " array([0.39269908, 0.39269908]),\n",
       " array([0.39269908, 0.39269908]),\n",
       " array([0.39269908, 0.39269908]),\n",
       " array([0.39269908, 0.39269908]),\n",
       " array([0.39269908, 0.39269908]),\n",
       " array([0.39269908, 0.39269908]),\n",
       " array([0.39269908, 0.39269908]),\n",
       " array([0.39269908, 0.39269908]),\n",
       " array([0.39269908, 0.39269908]),\n",
       " array([0.39269908, 0.39269908]),\n",
       " array([0.39269908, 0.39269908]),\n",
       " array([0.39269908, 0.39269908]),\n",
       " array([0.39269908, 0.39269908]),\n",
       " array([0.39269908, 0.39269908]),\n",
       " array([0.39269908, 0.39269908]),\n",
       " array([0.39269908, 0.39269908]),\n",
       " array([0.39269908, 0.39269908]),\n",
       " array([0.39269908, 0.39269908]),\n",
       " array([0.39269908, 0.39269908]),\n",
       " array([0.39269908, 0.39269908]),\n",
       " array([0.39269908, 0.39269908]),\n",
       " array([0.39269908, 0.39269908]),\n",
       " array([0.39269908, 0.39269908]),\n",
       " array([0.39269908, 0.39269908]),\n",
       " array([0.39269908, 0.39269908]),\n",
       " array([0.39269908, 0.39269908]),\n",
       " array([0.39269908, 0.39269908]),\n",
       " array([0.39269908, 0.39269908]),\n",
       " array([0.39269908, 0.39269908]),\n",
       " array([0.39269908, 0.39269908]),\n",
       " array([0.39269908, 0.39269908]),\n",
       " array([0.39269908, 0.39269908]),\n",
       " array([0.39269908, 0.39269908]),\n",
       " array([0.39269908, 0.39269908]),\n",
       " array([0.39269908, 0.39269908]),\n",
       " array([0.39269908, 0.39269908]),\n",
       " array([0.39269908, 0.39269908]),\n",
       " array([0.39269908, 0.39269908]),\n",
       " array([0.39269908, 0.39269908]),\n",
       " array([0.39269908, 0.39269908]),\n",
       " array([0.39269908, 0.39269908]),\n",
       " array([0.39269908, 0.39269908]),\n",
       " array([0.39269908, 0.39269908]),\n",
       " array([0.39269908, 0.39269908]),\n",
       " array([0.39269908, 0.39269908]),\n",
       " array([0.39269908, 0.39269908]),\n",
       " array([0.39269908, 0.39269908]),\n",
       " array([0.39269908, 0.39269908]),\n",
       " array([0.39269908, 0.39269908]),\n",
       " array([0.39269908, 0.39269908]),\n",
       " array([0.39269908, 0.39269908]),\n",
       " array([0.39269908, 0.39269908]),\n",
       " array([0.39269908, 0.39269908]),\n",
       " array([0.39269908, 0.39269908]),\n",
       " array([0.39269908, 0.39269908]),\n",
       " array([0.39269908, 0.39269908]),\n",
       " array([0.39269908, 0.39269908]),\n",
       " array([0.39269908, 0.39269908]),\n",
       " array([0.39269908, 0.39269908]),\n",
       " array([0.39269908, 0.39269908]),\n",
       " array([0.39269908, 0.39269908]),\n",
       " array([0.39269908, 0.39269908]),\n",
       " array([0.39269908, 0.39269908]),\n",
       " array([0.39269908, 0.39269908]),\n",
       " array([0.39269908, 0.39269908]),\n",
       " array([0.39269908, 0.39269908]),\n",
       " array([0.39269908, 0.39269908]),\n",
       " array([0.39269908, 0.39269908]),\n",
       " array([0.39269908, 0.39269908]),\n",
       " array([0.39269908, 0.39269908]),\n",
       " array([0.39269908, 0.39269908]),\n",
       " array([0.39269908, 0.39269908]),\n",
       " array([0.39269908, 0.39269908]),\n",
       " array([0.39269908, 0.39269908]),\n",
       " array([0.39269908, 0.39269908]),\n",
       " array([0.39269908, 0.39269908]),\n",
       " array([0.39269908, 0.39269908]),\n",
       " array([0.39269908, 0.39269908]),\n",
       " array([0.39269908, 0.39269908]),\n",
       " array([0.39269908, 0.39269908]),\n",
       " array([0.39269908, 0.39269908]),\n",
       " array([0.39269908, 0.39269908]),\n",
       " array([0.39269908, 0.39269908]),\n",
       " array([0.39269908, 0.39269908]),\n",
       " array([0.39269908, 0.39269908]),\n",
       " array([0.39269908, 0.39269908]),\n",
       " array([0.39269908, 0.39269908]),\n",
       " array([0.39269908, 0.39269908]),\n",
       " array([0.39269908, 0.39269908]),\n",
       " array([0.39269908, 0.39269908]),\n",
       " array([0.39269908, 0.39269908]),\n",
       " array([0.39269908, 0.39269908]),\n",
       " array([0.39269908, 0.39269908]),\n",
       " array([0.39269908, 0.39269908]),\n",
       " array([0.39269908, 0.39269908]),\n",
       " array([0.39269908, 0.39269908]),\n",
       " array([0.39269908, 0.39269908]),\n",
       " array([0.39269908, 0.39269908]),\n",
       " array([0.39269908, 0.39269908]),\n",
       " array([0.39269908, 0.39269908]),\n",
       " array([0.39269908, 0.39269908]),\n",
       " array([0.39269908, 0.39269908]),\n",
       " array([0.39269908, 0.39269908]),\n",
       " array([0.39269908, 0.39269908]),\n",
       " array([0.39269908, 0.39269908]),\n",
       " array([0.39269908, 0.39269908]),\n",
       " array([0.39269908, 0.39269908]),\n",
       " array([0.39269908, 0.39269908]),\n",
       " array([0.39269908, 0.39269908]),\n",
       " array([0.39269908, 0.39269908]),\n",
       " array([0.39269908, 0.39269908]),\n",
       " array([0.39269908, 0.39269908]),\n",
       " array([0.39269908, 0.39269908]),\n",
       " array([0.39269908, 0.39269908]),\n",
       " array([0.39269908, 0.39269908]),\n",
       " array([0.39269908, 0.39269908]),\n",
       " array([0.39269908, 0.39269908]),\n",
       " array([0.39269908, 0.39269908]),\n",
       " array([0.39269908, 0.39269908]),\n",
       " array([0.39269908, 0.39269908]),\n",
       " array([0.39269908, 0.39269908]),\n",
       " array([0.39269908, 0.39269908]),\n",
       " array([0.39269908, 0.39269908]),\n",
       " array([0.39269908, 0.39269908]),\n",
       " array([0.39269908, 0.39269908]),\n",
       " array([0.39269908, 0.39269908]),\n",
       " array([0.39269908, 0.39269908]),\n",
       " array([0.39269908, 0.39269908]),\n",
       " array([0.39269908, 0.39269908]),\n",
       " array([0.39269908, 0.39269908]),\n",
       " array([0.39269908, 0.39269908]),\n",
       " array([0.39269908, 0.39269908]),\n",
       " array([0.39269908, 0.39269908]),\n",
       " array([0.39269908, 0.39269908]),\n",
       " array([0.39269908, 0.39269908]),\n",
       " array([0.39269908, 0.39269908]),\n",
       " array([0.39269908, 0.39269908]),\n",
       " array([0.39269908, 0.39269908]),\n",
       " array([0.39269908, 0.39269908]),\n",
       " array([0.39269908, 0.39269908]),\n",
       " array([0.39269908, 0.39269908]),\n",
       " array([0.39269908, 0.39269908]),\n",
       " array([0.39269908, 0.39269908]),\n",
       " array([0.39269908, 0.39269908]),\n",
       " array([0.39269908, 0.39269908]),\n",
       " array([0.39269908, 0.39269908]),\n",
       " array([0.39269908, 0.39269908]),\n",
       " array([0.39269908, 0.39269908]),\n",
       " array([0.39269908, 0.39269908]),\n",
       " array([0.39269908, 0.39269908]),\n",
       " array([0.39269908, 0.39269908]),\n",
       " array([0.39269908, 0.39269908]),\n",
       " array([0.39269908, 0.39269908]),\n",
       " array([0.39269908, 0.39269908]),\n",
       " array([0.39269908, 0.39269908]),\n",
       " array([0.39269908, 0.39269908]),\n",
       " array([0.39269908, 0.39269908]),\n",
       " array([0.39269908, 0.39269908]),\n",
       " array([0.39269908, 0.39269908]),\n",
       " array([0.39269908, 0.39269908]),\n",
       " array([0.39269908, 0.39269908]),\n",
       " array([0.39269908, 0.39269908]),\n",
       " array([0.39269908, 0.39269908]),\n",
       " array([0.39269908, 0.39269908]),\n",
       " array([0.39269908, 0.39269908]),\n",
       " array([0.39269908, 0.39269908]),\n",
       " array([0.39269908, 0.39269908]),\n",
       " array([0.39269908, 0.39269908]),\n",
       " array([0.39269908, 0.39269908]),\n",
       " array([0.39269908, 0.39269908]),\n",
       " array([0.39269908, 0.39269908]),\n",
       " array([0.39269908, 0.39269908]),\n",
       " array([0.39269908, 0.39269908]),\n",
       " array([0.39269908, 0.39269908]),\n",
       " array([0.39269908, 0.39269908]),\n",
       " array([0.39269908, 0.39269908]),\n",
       " array([0.39269908, 0.39269908]),\n",
       " array([0.39269908, 0.39269908]),\n",
       " array([0.39269908, 0.39269908]),\n",
       " array([0.39269908, 0.39269908]),\n",
       " array([0.39269908, 0.39269908]),\n",
       " array([0.39269908, 0.39269908]),\n",
       " array([0.39269908, 0.39269908]),\n",
       " array([0.39269908, 0.39269908]),\n",
       " array([0.39269908, 0.39269908]),\n",
       " array([0.39269908, 0.39269908]),\n",
       " array([0.39269908, 0.39269908]),\n",
       " array([0.39269908, 0.39269908]),\n",
       " array([0.39269908, 0.39269908]),\n",
       " array([0.39269908, 0.39269908]),\n",
       " array([0.39269908, 0.39269908]),\n",
       " array([0.39269908, 0.39269908]),\n",
       " array([0.39269908, 0.39269908]),\n",
       " array([0.39269908, 0.39269908]),\n",
       " array([0.39269908, 0.39269908]),\n",
       " array([0.39269908, 0.39269908]),\n",
       " array([0.39269908, 0.39269908]),\n",
       " array([0.39269908, 0.39269908]),\n",
       " array([0.39269908, 0.39269908]),\n",
       " array([0.39269908, 0.39269908]),\n",
       " array([0.39269908, 0.39269908]),\n",
       " array([0.39269908, 0.39269908]),\n",
       " array([0.39269908, 0.39269908]),\n",
       " array([0.39269908, 0.39269908]),\n",
       " array([0.39269908, 0.39269908]),\n",
       " array([0.39269908, 0.39269908]),\n",
       " array([0.39269908, 0.39269908]),\n",
       " array([0.39269908, 0.39269908]),\n",
       " array([0.39269908, 0.39269908]),\n",
       " array([0.39269908, 0.39269908]),\n",
       " array([0.39269908, 0.39269908]),\n",
       " array([0.39269908, 0.39269908]),\n",
       " array([0.39269908, 0.39269908]),\n",
       " array([0.39269908, 0.39269908]),\n",
       " array([0.39269908, 0.39269908]),\n",
       " array([0.39269908, 0.39269908]),\n",
       " array([0.39269908, 0.39269908]),\n",
       " array([0.39269908, 0.39269908]),\n",
       " array([0.39269908, 0.39269908]),\n",
       " array([0.39269908, 0.39269908]),\n",
       " array([0.39269908, 0.39269908]),\n",
       " array([0.39269908, 0.39269908]),\n",
       " array([0.39269908, 0.39269908]),\n",
       " array([0.39269908, 0.39269908]),\n",
       " array([0.39269908, 0.39269908]),\n",
       " array([0.39269908, 0.39269908]),\n",
       " array([0.39269908, 0.39269908]),\n",
       " array([0.39269908, 0.39269908]),\n",
       " array([0.39269908, 0.39269908]),\n",
       " array([0.39269908, 0.39269908]),\n",
       " array([0.39269908, 0.39269908]),\n",
       " array([0.39269908, 0.39269908]),\n",
       " array([0.39269908, 0.39269908]),\n",
       " array([0.39269908, 0.39269908]),\n",
       " array([0.39269908, 0.39269908]),\n",
       " array([0.39269908, 0.39269908]),\n",
       " array([0.39269908, 0.39269908]),\n",
       " array([0.39269908, 0.39269908]),\n",
       " array([0.39269908, 0.39269908]),\n",
       " array([0.39269908, 0.39269908]),\n",
       " array([0.39269908, 0.39269908]),\n",
       " array([0.39269908, 0.39269908]),\n",
       " array([0.39269908, 0.39269908]),\n",
       " array([0.39269908, 0.39269908]),\n",
       " array([0.39269908, 0.39269908]),\n",
       " array([0.39269908, 0.39269908]),\n",
       " array([0.39269908, 0.39269908]),\n",
       " array([0.39269908, 0.39269908]),\n",
       " array([0.39269908, 0.39269908]),\n",
       " array([0.39269908, 0.39269908]),\n",
       " array([0.39269908, 0.39269908]),\n",
       " array([0.39269908, 0.39269908]),\n",
       " array([0.39269908, 0.39269908]),\n",
       " array([0.39269908, 0.39269908]),\n",
       " array([0.39269908, 0.39269908]),\n",
       " array([0.39269908, 0.39269908]),\n",
       " array([0.39269908, 0.39269908]),\n",
       " array([0.39269908, 0.39269908]),\n",
       " array([0.39269908, 0.39269908]),\n",
       " array([0.39269908, 0.39269908]),\n",
       " array([0.39269908, 0.39269908]),\n",
       " array([0.39269908, 0.39269908]),\n",
       " array([0.39269908, 0.39269908]),\n",
       " array([0.39269908, 0.39269908]),\n",
       " array([0.39269908, 0.39269908]),\n",
       " array([0.39269908, 0.39269908]),\n",
       " array([0.39269908, 0.39269908]),\n",
       " array([0.39269908, 0.39269908]),\n",
       " array([0.39269908, 0.39269908]),\n",
       " array([0.39269908, 0.39269908]),\n",
       " array([0.39269908, 0.39269908]),\n",
       " array([0.39269908, 0.39269908]),\n",
       " array([0.39269908, 0.39269908]),\n",
       " array([0.39269908, 0.39269908]),\n",
       " array([0.39269908, 0.39269908]),\n",
       " array([0.39269908, 0.39269908]),\n",
       " array([0.39269908, 0.39269908]),\n",
       " array([0.39269908, 0.39269908]),\n",
       " array([0.39269908, 0.39269908]),\n",
       " array([0.39269908, 0.39269908]),\n",
       " array([0.39269908, 0.39269908]),\n",
       " array([0.39269908, 0.39269908]),\n",
       " array([0.39269908, 0.39269908]),\n",
       " array([0.39269908, 0.39269908]),\n",
       " array([0.39269908, 0.39269908]),\n",
       " array([0.39269908, 0.39269908]),\n",
       " array([0.39269908, 0.39269908]),\n",
       " array([0.39269908, 0.39269908]),\n",
       " array([0.39269908, 0.39269908]),\n",
       " array([0.39269908, 0.39269908]),\n",
       " array([0.39269908, 0.39269908]),\n",
       " array([0.39269908, 0.39269908]),\n",
       " array([0.39269908, 0.39269908]),\n",
       " array([0.39269908, 0.39269908]),\n",
       " array([0.39269908, 0.39269908]),\n",
       " array([0.39269908, 0.39269908]),\n",
       " array([0.39269908, 0.39269908]),\n",
       " array([0.39269908, 0.39269908]),\n",
       " array([0.39269908, 0.39269908]),\n",
       " array([0.39269908, 0.39269908]),\n",
       " array([0.39269908, 0.39269908]),\n",
       " array([0.39269908, 0.39269908]),\n",
       " array([0.39269908, 0.39269908]),\n",
       " array([0.39269908, 0.39269908]),\n",
       " array([0.39269908, 0.39269908]),\n",
       " array([0.39269908, 0.39269908]),\n",
       " array([0.39269908, 0.39269908]),\n",
       " array([0.39269908, 0.39269908]),\n",
       " array([0.39269908, 0.39269908]),\n",
       " array([0.39269908, 0.39269908]),\n",
       " array([0.39269908, 0.39269908]),\n",
       " array([0.39269908, 0.39269908]),\n",
       " array([0.39269908, 0.39269908]),\n",
       " array([0.39269908, 0.39269908]),\n",
       " array([0.39269908, 0.39269908]),\n",
       " array([0.39269908, 0.39269908]),\n",
       " array([0.39269908, 0.39269908]),\n",
       " array([0.39269908, 0.39269908]),\n",
       " array([0.39269908, 0.39269908]),\n",
       " array([0.39269908, 0.39269908]),\n",
       " array([0.39269908, 0.39269908]),\n",
       " array([0.39269908, 0.39269908]),\n",
       " array([0.39269908, 0.39269908]),\n",
       " array([0.39269908, 0.39269908]),\n",
       " array([0.39269908, 0.39269908]),\n",
       " array([0.39269908, 0.39269908]),\n",
       " array([0.39269908, 0.39269908]),\n",
       " array([0.39269908, 0.39269908]),\n",
       " array([0.39269908, 0.39269908]),\n",
       " array([0.39269908, 0.39269908]),\n",
       " array([0.39269908, 0.39269908]),\n",
       " array([0.39269908, 0.39269908]),\n",
       " array([0.39269908, 0.39269908]),\n",
       " array([0.39269908, 0.39269908]),\n",
       " array([0.39269908, 0.39269908]),\n",
       " array([0.39269908, 0.39269908]),\n",
       " array([0.39269908, 0.39269908]),\n",
       " array([0.39269908, 0.39269908]),\n",
       " array([0.39269908, 0.39269908]),\n",
       " array([0.39269908, 0.39269908]),\n",
       " array([0.39269908, 0.39269908]),\n",
       " array([0.39269908, 0.39269908]),\n",
       " array([0.39269908, 0.39269908]),\n",
       " array([0.39269908, 0.39269908]),\n",
       " array([0.39269908, 0.39269908]),\n",
       " array([0.39269908, 0.39269908]),\n",
       " array([0.39269908, 0.39269908]),\n",
       " array([0.39269908, 0.39269908]),\n",
       " array([0.39269908, 0.39269908]),\n",
       " array([0.39269908, 0.39269908]),\n",
       " array([0.39269908, 0.39269908]),\n",
       " array([0.39269908, 0.39269908]),\n",
       " array([0.39269908, 0.39269908]),\n",
       " ...]"
      ]
     },
     "execution_count": 185,
     "metadata": {},
     "output_type": "execute_result"
    }
   ],
   "source": [
    "np.split(boat_plot_all_ep[0],len(boat_plot_all_ep[0])/2)"
   ]
  }
 ],
 "metadata": {
  "kernelspec": {
   "display_name": "Python 3 (ipykernel)",
   "language": "python",
   "name": "python3"
  },
  "language_info": {
   "codemirror_mode": {
    "name": "ipython",
    "version": 3
   },
   "file_extension": ".py",
   "mimetype": "text/x-python",
   "name": "python",
   "nbconvert_exporter": "python",
   "pygments_lexer": "ipython3",
   "version": "3.9.7"
  }
 },
 "nbformat": 4,
 "nbformat_minor": 2
}
