{
 "cells": [
  {
   "cell_type": "code",
   "execution_count": 29,
   "metadata": {
    "ExecuteTime": {
     "end_time": "2023-04-22T19:03:48.436470Z",
     "start_time": "2023-04-22T19:03:48.431484Z"
    }
   },
   "outputs": [
    {
     "data": {
      "text/html": [
       "<style>.container { width:80% !important; }</style>"
      ],
      "text/plain": [
       "<IPython.core.display.HTML object>"
      ]
     },
     "metadata": {},
     "output_type": "display_data"
    }
   ],
   "source": [
    "from matplotlib import pyplot as plt\n",
    "from IPython.display import display, HTML\n",
    "display(HTML(\"<style>.container { width:80% !important; }</style>\"))"
   ]
  },
  {
   "cell_type": "code",
   "execution_count": 30,
   "metadata": {
    "ExecuteTime": {
     "end_time": "2023-04-22T19:03:49.991852Z",
     "start_time": "2023-04-22T19:03:49.852221Z"
    }
   },
   "outputs": [
    {
     "data": {
      "text/plain": [
       "(0.0, 8.0)"
      ]
     },
     "execution_count": 30,
     "metadata": {},
     "output_type": "execute_result"
    },
    {
     "data": {
      "image/png": "[encoded data removed]",
      "text/plain": [
       "<Figure size 640x480 with 1 Axes>"
      ]
     },
     "metadata": {},
     "output_type": "display_data"
    }
   ],
   "source": [
    "a=np.array([3,7.6]) #correct angle to x axis=68.5 degrees\n",
    "#usage of ::-1 operator\n",
    "m_false=np.arctan2(*a)\n",
    "m_correct=np.arctan2(*a[::-1])\n",
    "#create basic scatterplot\n",
    "plt.plot(a[0],a[1], 'o', label=\"x=a[0] | y=a[1]\") #x=3 | y=7.6\n",
    "# #########################\n",
    "# #np.arctan2 \n",
    "# numpy.arctan2(x1, x2,[...]\n",
    "# Parameters:\n",
    "              \n",
    "# x1\n",
    "# array_like, real-valued\n",
    "# y-coordinates.\n",
    "\n",
    "# x2array_like, real-valued\n",
    "# x-coordinates. \n",
    "# ##########################\n",
    "plt.axline((0, 0), slope=np.tan(m_false), linewidth=0.5, color='r', label = r'angle in degrees = {}'.format(round(np.rad2deg(m_false),2)))\n",
    "plt.axline((0, 0), slope=np.tan(m_correct), linewidth=0.5, color='g', label = r'angle in degrees = {}'.format(round(np.rad2deg(m_correct),2)))\n",
    "#plt.plot(a[1][0], m*a[1][0]axline((0, 0), (1, 1), linewidth=4, color='r')+0, '-r', label='y=2x+1')\n",
    "plt.legend()\n",
    "#add linear regression line to scatterplot \n",
    "#plt.plot(a[1][0], m*a[1][0]+0)\n",
    "ax = plt.gca()\n",
    "ax.set_xlim([0, 8])\n",
    "ax.set_ylim([0, 8])"
   ]
  },
  {
   "cell_type": "code",
   "execution_count": 81,
   "metadata": {
    "ExecuteTime": {
     "end_time": "2023-04-22T19:43:50.668373Z",
     "start_time": "2023-04-22T19:43:50.657402Z"
    },
    "code_folding": [
     0,
     6
    ]
   },
   "outputs": [],
   "source": [
    "def angle_between(p1, p2):\n",
    "    ang1 = np.arctan2(*p1[::-1])\n",
    "    ang2 = np.arctan2(*p2[::-1])\n",
    "    return np.rad2deg((ang1 - ang2) % (2 * np.pi))\n",
    "def unit_vector(angle):\n",
    "    return np.array([np.cos(angle), np.sin(angle)])\n",
    "def find_nearest(array, value):\n",
    "    array = np.asarray(array)\n",
    "    idx = (np.abs(array - value)).argmin()\n",
    "    return array[idx]\n",
    "def render_ep (boat_plot, index=-1, tw_vec=0, sail_angle=0, target=False):\n",
    "    from matplotlib import pyplot as plt\n",
    "    #true wind vector\n",
    "    #plt.figure(figsize=(10, 6), dpi=200)\n",
    "    #define plots\n",
    "    fig, ax = plt.subplots()\n",
    "\n",
    "    #define coordinates and directions\n",
    "    if tw_vec.all!=0:\n",
    "        x = 1\n",
    "        y = 0.02\n",
    "        u = tw_vec[0]\n",
    "        v = tw_vec[1]\n",
    "    #sail angle   \n",
    "    if tw_vec.all!=0:\n",
    "        x1 = 5        \n",
    "        u1 = sail_angle[0]\n",
    "        v1 = sail_angle[1]\n",
    "        sail=ax.quiver(x1, y, u1, v1, color='blue')\n",
    "        ax.plot([], [], color='blue', label=\"sail\")\n",
    "\n",
    "    #create quiver plot\n",
    "    wind=ax.quiver(x, y, u, v, color='black')\n",
    "\n",
    "    ax.plot([], [], color='black', label=\"wind\")\n",
    "\n",
    "    #starting point\n",
    "    #target point\n",
    "    #PENDING: spline connecting each point\n",
    "    \n",
    "    boat_plot=np.split(boat_plot,len(boat_plot)/2)\n",
    "    #boat_plot=np.split(boat_plot,len(boat_plot)/2)\n",
    "    boat_plot=np.array(boat_plot)\n",
    "    #boat_plot=boat_plot[0::50]\n",
    "    # Scatter plot\n",
    "    #light blue -> darker blue \n",
    "    target_plot=env.target_position\n",
    "    x=boat_plot[:, 0]\n",
    "    y=boat_plot[:, 1]\n",
    "    weights = np.arange(1,boat_plot[:, 1].shape[0]+1)\n",
    "    \n",
    "    points_size=np.linspace(1,15,len(boat_plot))\n",
    "    plt.scatter(x, y, c=weights, cmap='coolwarm' ,s=points_size)\n",
    "    #plt.scatter(figsize=(5, 5))\n",
    "    if index!=-1:\n",
    "        plt.title(f\"{index}-th episode\")\n",
    "    if target==True:\n",
    "        plt.scatter(target_plot[0], target_plot[1], marker=\"x\",  c='green',s=100)\n",
    "    # Display the plot\n",
    "    from matplotlib.pyplot import figure\n",
    "\n",
    "    ax.legend()\n",
    "    \n",
    "    #plt.xlim(2*min(x),2*max(x))\n",
    "    #plt.ylim(2*min(y),2*max(y))\n",
    "    #plt.xlim(11,15)\n",
    "    #plt.ylim(0,0.5)\n",
    "    plt.show()\n",
    "\n",
    "\n"
   ]
  },
  {
   "cell_type": "code",
   "execution_count": 233,
   "metadata": {
    "ExecuteTime": {
     "end_time": "2023-04-13T22:42:24.899058Z",
     "start_time": "2023-04-13T22:42:24.796266Z"
    },
    "collapsed": true
   },
   "outputs": [
    {
     "data": {
      "image/png": "[encoded data removed]",
      "text/plain": [
       "<Figure size 640x480 with 1 Axes>"
      ]
     },
     "metadata": {},
     "output_type": "display_data"
    }
   ],
   "source": [
    "render_ep(boat_plot_all_ep[i],i, vec, True)"
   ]
  },
  {
   "cell_type": "code",
   "execution_count": 12,
   "metadata": {
    "ExecuteTime": {
     "end_time": "2023-04-13T17:22:03.379231Z",
     "start_time": "2023-04-13T17:22:03.360439Z"
    }
   },
   "outputs": [
    {
     "data": {
      "text/plain": [
       "29.999999999999996"
      ]
     },
     "execution_count": 12,
     "metadata": {},
     "output_type": "execute_result"
    }
   ],
   "source": [
    "np.rad2deg(np.pi/6)"
   ]
  },
  {
   "cell_type": "code",
   "execution_count": 231,
   "metadata": {
    "ExecuteTime": {
     "end_time": "2023-04-13T22:41:52.963558Z",
     "start_time": "2023-04-13T22:41:52.944605Z"
    }
   },
   "outputs": [
    {
     "data": {
      "text/plain": [
       "array([  0.,  45.,  90., 135., 180.])"
      ]
     },
     "execution_count": 231,
     "metadata": {},
     "output_type": "execute_result"
    }
   ],
   "source": [
    "np.rad2deg(np.linspace(0, np.pi, 5))"
   ]
  },
  {
   "cell_type": "code",
   "execution_count": 220,
   "metadata": {
    "ExecuteTime": {
     "end_time": "2023-04-13T22:27:08.120756Z",
     "start_time": "2023-04-13T22:27:08.101852Z"
    }
   },
   "outputs": [
    {
     "data": {
      "text/plain": [
       "array([0.        , 0.78539816, 1.57079633, 2.35619449, 3.14159265])"
      ]
     },
     "execution_count": 220,
     "metadata": {},
     "output_type": "execute_result"
    }
   ],
   "source": [
    "np."
   ]
  },
  {
   "cell_type": "markdown",
   "metadata": {
    "ExecuteTime": {
     "end_time": "2023-04-19T19:57:47.664277Z",
     "start_time": "2023-04-19T19:57:47.659291Z"
    }
   },
   "source": [
    " # sail angles"
   ]
  },
  {
   "cell_type": "code",
   "execution_count": 421,
   "metadata": {
    "ExecuteTime": {
     "end_time": "2023-04-20T18:52:33.766382Z",
     "start_time": "2023-04-20T18:52:33.750423Z"
    }
   },
   "outputs": [
    {
     "data": {
      "text/plain": [
       "array([ 90.  , 101.25, 112.5 , 123.75, 135.  ])"
      ]
     },
     "execution_count": 421,
     "metadata": {},
     "output_type": "execute_result"
    }
   ],
   "source": [
    "np.rad2deg(np.pi/2+np.linspace(0, np.pi/4, 5))"
   ]
  },
  {
   "cell_type": "code",
   "execution_count": 426,
   "metadata": {
    "ExecuteTime": {
     "end_time": "2023-04-20T18:56:23.602314Z",
     "start_time": "2023-04-20T18:56:23.584333Z"
    }
   },
   "outputs": [
    {
     "data": {
      "text/plain": [
       "array([1., 0.])"
      ]
     },
     "execution_count": 426,
     "metadata": {},
     "output_type": "execute_result"
    }
   ],
   "source": [
    "unit_vector(env.sail_configs[0])"
   ]
  },
  {
   "cell_type": "code",
   "execution_count": 96,
   "metadata": {
    "ExecuteTime": {
     "end_time": "2023-04-22T19:56:11.200744Z",
     "start_time": "2023-04-22T19:56:11.191768Z"
    },
    "code_folding": []
   },
   "outputs": [],
   "source": [
    "import numpy as np\n",
    "\n",
    "class SailBoatEnvironment:\n",
    "    def __init__(self, alpha=0.1, gamma=0.9, epsilon=0.35):\n",
    "        self.step_num=0\n",
    "        #self.true_wind_direction = np.random.uniform(0, 2*np.pi)\n",
    "        #PENDING: starting boat pos + target pos kalytera na orizontai sthn init para sthn reset\n",
    "        #kai h reset na ta pairnei apo tin init\n",
    "        self.boat_position = np.array([0, 0])\n",
    "        self.target_position = np.array([55,100])\n",
    "        #to heading einai katheto sto sail, ara an to sail einai stis 90 moires to global x axis, to heading einai stis 0 moires, koitaei pros to +apeiro\n",
    "        self.sail_configs = np.linspace(0, 1.5*np.pi, 5) #angles (in radians) of sail to x global axis\n",
    "\n",
    "        self.tw_possible_angles=np.linspace(0, np.pi, 5) #angles (in radians) of true wind direction to x global axis\n",
    "        \n",
    "        \n",
    "\n",
    "        self.alpha = alpha\n",
    "        self.gamma = gamma\n",
    "        self.epsilon = epsilon\n",
    "\n",
    "    def reset(self):\n",
    "        #returns\n",
    "        #i)boat position: starting point of boat        \n",
    "        #ii)random wind direction, epistrefei to index sto self.tw_possible_angles\n",
    "        self.step_num=0        \n",
    "        self.true_wind_direction = self.tw_possible_angles[1]\n",
    "        self.boat_position = np.array([0, 0]) #fixed starting point\n",
    "        self.target_position = np.array([4,0]) #fixed target position\n",
    "        self.tw_velocity_vector=unit_vector(self.true_wind_direction)\n",
    "        #self.boat_velocity = self.tw_velocity_vector\n",
    "        print(f\"{self.step_num}: Wind Velocity = {self.tw_velocity_vector}\")\n",
    "        return self.boat_position, np.where(self.true_wind_direction==self.tw_possible_angles)[0][0], 1\n",
    "        \n",
    "        \n",
    "\n",
    "#     def get_state(self):\n",
    "#         relative_wind_direction = self.true_wind_direction - np.arctan2(*self.boat_position[::-1])\n",
    "\n",
    "#         distance_to_target = np.linalg.norm(self.boat_position - self.target_position)\n",
    "#         return relative_wind_direction, distance_to_target\n",
    "\n",
    "    def step(self, action):\n",
    "\n",
    "        sail_config = action\n",
    "        self.heading=sail_config #heading = h gwnia twn paniwn se sxesh me ton global x aksona\n",
    "        #print(f\"heading -> {self.heading}\")\n",
    "        #sail_force = sail_config * np.sin(self.true_wind_direction - np.arctan2(*self.boat_position[::-1]))\n",
    "        #sail_force = sail_config * np.sin(self.true_wind_direction - self.heading)\n",
    "        #print(f\"gwnia: -> {np.sin(self.true_wind_direction - self.heading)} -> sail force={sail_force}\")\n",
    "        #print(f\"gwnia? {np.arctan2(*self.boat_position[::-1])}\")\n",
    "        #boat_velocity = np.array([np.cos(self.true_wind_direction), np.sin(self.true_wind_direction)]) * sail_force \n",
    "        #scale = 1.3 # for debugging only\n",
    "        self.heading_vector=unit_vector(sail_config) #unit vector heading\n",
    "        nominator = self.heading_vector @ self.tw_velocity_vector\n",
    "        denominator= self.heading_vector @ self.heading_vector\n",
    "        \n",
    "        self.boat_velocity = self.heading_vector*nominator*denominator# * scale\n",
    "        self.boat_position_old=self.boat_position\n",
    "        self.boat_position = self.boat_position + self.boat_velocity#.astype(np.float64)\n",
    "\n",
    "        \n",
    "        self.step_num+=1\n",
    "        \n",
    "        print(f\"{self.step_num}: V={np.round(self.boat_velocity,2)} /-/ P={np.round(self.boat_position,2)}\\\n",
    "        /-/ paragontas={round(nominator*denominator,2)} /-/ Sail Angle to X = {np.rad2deg(np.pi/2+sail_config)} moires\\\n",
    "        /-/ DF: {np.round(np.linalg.norm(self.boat_position_old-self.boat_position),2)}\")\n",
    "        #print(f\"{self.step_num}: {self.boat_position_old}\")\n",
    "        \n",
    "        done = False\n",
    "        truncated = False\n",
    "        reward = -1\n",
    "\n",
    "\n",
    "        distance_to_target = np.linalg.norm(self.boat_position - self.target_position)\n",
    "        if distance_to_target < 1:\n",
    "\n",
    "            done = True\n",
    "            reward = 100\n",
    "        \n",
    "        if self.step_num >= 50 or not np.any(np.round(self.boat_velocity,2)):\n",
    "            truncated = True\n",
    "\n",
    "\n",
    "\n",
    "        return self.boat_position, {} ,{}, reward, done, truncated, self.step_num\n"
   ]
  },
  {
   "cell_type": "code",
   "execution_count": 425,
   "metadata": {
    "ExecuteTime": {
     "end_time": "2023-04-20T18:56:17.534137Z",
     "start_time": "2023-04-20T18:56:17.518423Z"
    }
   },
   "outputs": [
    {
     "name": "stdout",
     "output_type": "stream",
     "text": [
      "reset velocity = [1. 0.]\n"
     ]
    },
    {
     "data": {
      "text/plain": [
       "0"
      ]
     },
     "execution_count": 425,
     "metadata": {},
     "output_type": "execute_result"
    }
   ],
   "source": [
    "env=SailBoatEnvironment()\n",
    "#pos, wind, _ = env.reset()\n",
    "env.reset()[1]"
   ]
  },
  {
   "cell_type": "code",
   "execution_count": 224,
   "metadata": {
    "ExecuteTime": {
     "end_time": "2023-04-13T22:27:25.696078Z",
     "start_time": "2023-04-13T22:27:25.687131Z"
    }
   },
   "outputs": [
    {
     "name": "stdout",
     "output_type": "stream",
     "text": [
      "heading -> 1.5707963267948966\n",
      "gwnia: -> -0.7071067811865476 -> sail force=-1.1107207345395915\n"
     ]
    },
    {
     "data": {
      "text/plain": [
       "(array([-3.14159265, -3.14159265]), {}, {}, -1, False, False, 5)"
      ]
     },
     "execution_count": 224,
     "metadata": {},
     "output_type": "execute_result"
    }
   ],
   "source": [
    "\n",
    "action=env.sail_configs[2]\n",
    "env.step(action)"
   ]
  },
  {
   "cell_type": "code",
   "execution_count": 89,
   "metadata": {
    "ExecuteTime": {
     "end_time": "2023-04-13T19:03:58.412224Z",
     "start_time": "2023-04-13T19:03:58.406240Z"
    }
   },
   "outputs": [
    {
     "data": {
      "text/plain": [
       "0.0"
      ]
     },
     "execution_count": 89,
     "metadata": {},
     "output_type": "execute_result"
    }
   ],
   "source": [
    "env.tw_possible_angles[wind]"
   ]
  },
  {
   "cell_type": "code",
   "execution_count": 84,
   "metadata": {
    "ExecuteTime": {
     "end_time": "2023-04-13T18:58:26.661445Z",
     "start_time": "2023-04-13T18:58:26.643492Z"
    }
   },
   "outputs": [
    {
     "data": {
      "text/plain": [
       "array([ 0.42417901, -0.90557836])"
      ]
     },
     "execution_count": 84,
     "metadata": {},
     "output_type": "execute_result"
    }
   ],
   "source": [
    "unit_vector(env.tw_possible_angles[wind])"
   ]
  },
  {
   "cell_type": "code",
   "execution_count": null,
   "metadata": {},
   "outputs": [],
   "source": [
    "env.tw_possible_angles[]"
   ]
  },
  {
   "cell_type": "code",
   "execution_count": 341,
   "metadata": {
    "ExecuteTime": {
     "end_time": "2023-04-19T19:01:50.834137Z",
     "start_time": "2023-04-19T19:01:50.799204Z"
    }
   },
   "outputs": [],
   "source": [
    "env=SailBoatEnvironment()\n",
    "#current state = true wind direction + angle of boat to target wrt x axis\n",
    "#prwto einai gia true wind angles\n",
    "a=len(env.tw_possible_angles)\n",
    "\n",
    "#deytero ola ta possible actions\n",
    "b=len(env.sail_configs)\n",
    "q_table = np.random.uniform(low=-2, high=0, size=(a,b))\n",
    "#q_table\n",
    "#wd=0,1,2 # wd=1\n",
    "#dt=0,1 #dt=0 makria, dt=1 konta\n",
    "#np.argmax(q_table[1,1])\n",
    "#\n",
    "#rudder conf = 0:15th column\n",
    "#np.argmax(q_table[state,0:15])\n",
    "#sail conf = 16:31th columns\n",
    "#np.argmax(q_table[state,16:32])\n",
    "\n"
   ]
  },
  {
   "cell_type": "code",
   "execution_count": 143,
   "metadata": {
    "ExecuteTime": {
     "end_time": "2023-04-13T22:00:14.091794Z",
     "start_time": "2023-04-13T22:00:14.079797Z"
    }
   },
   "outputs": [],
   "source": [
    "current_state=env.reset()    \n",
    "current_state=current_state[1]"
   ]
  },
  {
   "cell_type": "code",
   "execution_count": 144,
   "metadata": {
    "ExecuteTime": {
     "end_time": "2023-04-13T22:00:14.727629Z",
     "start_time": "2023-04-13T22:00:14.714633Z"
    }
   },
   "outputs": [
    {
     "data": {
      "text/plain": [
       "3"
      ]
     },
     "execution_count": 144,
     "metadata": {},
     "output_type": "execute_result"
    }
   ],
   "source": [
    "np.argmax(q_table[current_state])\n"
   ]
  },
  {
   "cell_type": "code",
   "execution_count": 140,
   "metadata": {
    "ExecuteTime": {
     "end_time": "2023-04-13T21:58:17.176737Z",
     "start_time": "2023-04-13T21:58:17.165765Z"
    }
   },
   "outputs": [
    {
     "data": {
      "text/plain": [
       "array([-0.73939776, -1.35718944, -0.46856029, -0.29806435])"
      ]
     },
     "execution_count": 140,
     "metadata": {},
     "output_type": "execute_result"
    }
   ],
   "source": [
    "q_table[current_state]"
   ]
  },
  {
   "cell_type": "code",
   "execution_count": 147,
   "metadata": {
    "ExecuteTime": {
     "end_time": "2023-04-13T22:00:41.076167Z",
     "start_time": "2023-04-13T22:00:41.065618Z"
    }
   },
   "outputs": [
    {
     "data": {
      "text/plain": [
       "3"
      ]
     },
     "execution_count": 147,
     "metadata": {},
     "output_type": "execute_result"
    }
   ],
   "source": [
    "sail_conf_index=np.argmax(q_table[current_state])\n",
    "\n",
    "#print(f\"{i} ep: sail index->{sail_conf_index}, rudder index->{rudder_conf_index}\")\n",
    "#H np.argmax epistrefei index, oxi timh, opote pairnoume to index pou mas epistrefei\n",
    "#kai blepoume apo ta *_configs poia timh antistoixei se ayto to index\n",
    "sail_conf_index"
   ]
  },
  {
   "cell_type": "code",
   "execution_count": 150,
   "metadata": {
    "ExecuteTime": {
     "end_time": "2023-04-13T22:01:28.653557Z",
     "start_time": "2023-04-13T22:01:28.634636Z"
    }
   },
   "outputs": [
    {
     "data": {
      "text/plain": [
       "array([-0.73939776, -1.35718944, -0.46856029, -0.29806435])"
      ]
     },
     "execution_count": 150,
     "metadata": {},
     "output_type": "execute_result"
    }
   ],
   "source": [
    "q_table[current_state]"
   ]
  },
  {
   "cell_type": "code",
   "execution_count": 151,
   "metadata": {
    "ExecuteTime": {
     "end_time": "2023-04-13T22:06:02.259102Z",
     "start_time": "2023-04-13T22:06:02.241637Z"
    }
   },
   "outputs": [
    {
     "data": {
      "text/plain": [
       "-0.2980643490160091"
      ]
     },
     "execution_count": 151,
     "metadata": {},
     "output_type": "execute_result"
    }
   ],
   "source": [
    "q_table[current_state,3]"
   ]
  },
  {
   "cell_type": "markdown",
   "metadata": {},
   "source": [
    "# Train Q table"
   ]
  },
  {
   "cell_type": "code",
   "execution_count": 97,
   "metadata": {
    "ExecuteTime": {
     "end_time": "2023-04-22T19:56:12.896652Z",
     "start_time": "2023-04-22T19:56:12.773978Z"
    },
    "code_folding": [
     53
    ],
    "scrolled": false
   },
   "outputs": [
    {
     "name": "stdout",
     "output_type": "stream",
     "text": [
      "0: Wind Velocity = [0.70710678 0.70710678]\n",
      "1: V=[0.84 0.22] /-/ P=[0.84 0.22]        /-/ paragontas=0.87 /-/ Sail Angle to X = 105.0 moires        /-/ DF: 0.87\n",
      "2: V=[0.84 0.22] /-/ P=[1.67 0.45]        /-/ paragontas=0.87 /-/ Sail Angle to X = 105.0 moires        /-/ DF: 0.87\n",
      "3: V=[0.84 0.22] /-/ P=[2.51 0.67]        /-/ paragontas=0.87 /-/ Sail Angle to X = 105.0 moires        /-/ DF: 0.87\n",
      "4: V=[0.84 0.22] /-/ P=[3.35 0.9 ]        /-/ paragontas=0.87 /-/ Sail Angle to X = 105.0 moires        /-/ DF: 0.87\n",
      "5: V=[0.84 0.22] /-/ P=[4.18 1.12]        /-/ paragontas=0.87 /-/ Sail Angle to X = 105.0 moires        /-/ DF: 0.87\n",
      "6: V=[0.84 0.22] /-/ P=[5.02 1.34]        /-/ paragontas=0.87 /-/ Sail Angle to X = 105.0 moires        /-/ DF: 0.87\n",
      "7: V=[0.84 0.22] /-/ P=[5.86 1.57]        /-/ paragontas=0.87 /-/ Sail Angle to X = 105.0 moires        /-/ DF: 0.87\n",
      "8: V=[0.79 0.59] /-/ P=[6.65 2.16]        /-/ paragontas=-0.99 /-/ Sail Angle to X = 306.55 moires        /-/ DF: 0.99\n",
      "9: V=[0.79 0.59] /-/ P=[7.44 2.75]        /-/ paragontas=-0.99 /-/ Sail Angle to X = 306.55 moires        /-/ DF: 0.99\n",
      "10: V=[0.79 0.59] /-/ P=[8.24 3.34]        /-/ paragontas=-0.99 /-/ Sail Angle to X = 306.55 moires        /-/ DF: 0.99\n",
      "11: V=[0.79 0.59] /-/ P=[9.03 3.93]        /-/ paragontas=-0.99 /-/ Sail Angle to X = 306.55 moires        /-/ DF: 0.99\n",
      "12: V=[0.79 0.59] /-/ P=[9.83 4.51]        /-/ paragontas=-0.99 /-/ Sail Angle to X = 306.55 moires        /-/ DF: 0.99\n",
      "13: V=[0.79 0.59] /-/ P=[10.62  5.1 ]        /-/ paragontas=-0.99 /-/ Sail Angle to X = 306.55 moires        /-/ DF: 0.99\n",
      "14: V=[0.79 0.59] /-/ P=[11.42  5.69]        /-/ paragontas=-0.99 /-/ Sail Angle to X = 306.55 moires        /-/ DF: 0.99\n",
      "15: V=[0.79 0.59] /-/ P=[12.21  6.28]        /-/ paragontas=-0.99 /-/ Sail Angle to X = 306.55 moires        /-/ DF: 0.99\n",
      "16: V=[ 0.11 -0.08] /-/ P=[12.32  6.2 ]        /-/ paragontas=-0.14 /-/ Sail Angle to X = 233.0 moires        /-/ DF: 0.14\n",
      "17: V=[ 0.11 -0.08] /-/ P=[12.43  6.11]        /-/ paragontas=-0.14 /-/ Sail Angle to X = 233.0 moires        /-/ DF: 0.14\n",
      "18: V=[ 0.11 -0.08] /-/ P=[12.55  6.03]        /-/ paragontas=-0.14 /-/ Sail Angle to X = 233.0 moires        /-/ DF: 0.14\n",
      "19: V=[ 0.11 -0.08] /-/ P=[12.66  5.95]        /-/ paragontas=-0.14 /-/ Sail Angle to X = 233.0 moires        /-/ DF: 0.14\n",
      "20: V=[ 0.11 -0.08] /-/ P=[12.77  5.86]        /-/ paragontas=-0.14 /-/ Sail Angle to X = 233.0 moires        /-/ DF: 0.14\n",
      "21: V=[ 0.11 -0.08] /-/ P=[12.88  5.78]        /-/ paragontas=-0.14 /-/ Sail Angle to X = 233.0 moires        /-/ DF: 0.14\n",
      "22: V=[ 0.11 -0.08] /-/ P=[12.99  5.7 ]        /-/ paragontas=-0.14 /-/ Sail Angle to X = 233.0 moires        /-/ DF: 0.14\n",
      "23: V=[ 0.11 -0.08] /-/ P=[13.1   5.61]        /-/ paragontas=-0.14 /-/ Sail Angle to X = 233.0 moires        /-/ DF: 0.14\n",
      "24: V=[ 0.11 -0.08] /-/ P=[13.21  5.53]        /-/ paragontas=-0.14 /-/ Sail Angle to X = 233.0 moires        /-/ DF: 0.14\n",
      "25: V=[ 0.11 -0.08] /-/ P=[13.32  5.44]        /-/ paragontas=-0.14 /-/ Sail Angle to X = 233.0 moires        /-/ DF: 0.14\n",
      "26: V=[ 0.11 -0.08] /-/ P=[13.44  5.36]        /-/ paragontas=-0.14 /-/ Sail Angle to X = 233.0 moires        /-/ DF: 0.14\n",
      "27: V=[ 0.11 -0.08] /-/ P=[13.55  5.28]        /-/ paragontas=-0.14 /-/ Sail Angle to X = 233.0 moires        /-/ DF: 0.14\n",
      "28: V=[ 0.11 -0.08] /-/ P=[13.66  5.19]        /-/ paragontas=-0.14 /-/ Sail Angle to X = 233.0 moires        /-/ DF: 0.14\n",
      "29: V=[ 0.11 -0.08] /-/ P=[13.77  5.11]        /-/ paragontas=-0.14 /-/ Sail Angle to X = 233.0 moires        /-/ DF: 0.14\n",
      "30: V=[ 0.11 -0.08] /-/ P=[13.88  5.03]        /-/ paragontas=-0.14 /-/ Sail Angle to X = 233.0 moires        /-/ DF: 0.14\n",
      "31: V=[0.17 0.82] /-/ P=[14.05  5.85]        /-/ paragontas=0.84 /-/ Sail Angle to X = 167.99999999999997 moires        /-/ DF: 0.84\n",
      "32: V=[0.17 0.82] /-/ P=[14.23  6.67]        /-/ paragontas=0.84 /-/ Sail Angle to X = 167.99999999999997 moires        /-/ DF: 0.84\n",
      "33: V=[0.17 0.82] /-/ P=[14.4   7.49]        /-/ paragontas=0.84 /-/ Sail Angle to X = 167.99999999999997 moires        /-/ DF: 0.84\n",
      "34: V=[0.17 0.82] /-/ P=[14.58  8.31]        /-/ paragontas=0.84 /-/ Sail Angle to X = 167.99999999999997 moires        /-/ DF: 0.84\n",
      "35: V=[0.17 0.82] /-/ P=[14.75  9.13]        /-/ paragontas=0.84 /-/ Sail Angle to X = 167.99999999999997 moires        /-/ DF: 0.84\n",
      "36: V=[0.17 0.82] /-/ P=[14.93  9.95]        /-/ paragontas=0.84 /-/ Sail Angle to X = 167.99999999999997 moires        /-/ DF: 0.84\n",
      "37: V=[0.17 0.82] /-/ P=[15.1  10.77]        /-/ paragontas=0.84 /-/ Sail Angle to X = 167.99999999999997 moires        /-/ DF: 0.84\n",
      "38: V=[0.17 0.82] /-/ P=[15.27 11.59]        /-/ paragontas=0.84 /-/ Sail Angle to X = 167.99999999999997 moires        /-/ DF: 0.84\n",
      "39: V=[0.17 0.82] /-/ P=[15.45 12.41]        /-/ paragontas=0.84 /-/ Sail Angle to X = 167.99999999999997 moires        /-/ DF: 0.84\n",
      "40: V=[0.17 0.82] /-/ P=[15.62 13.23]        /-/ paragontas=0.84 /-/ Sail Angle to X = 167.99999999999997 moires        /-/ DF: 0.84\n",
      "41: V=[0.17 0.82] /-/ P=[15.8  14.05]        /-/ paragontas=0.84 /-/ Sail Angle to X = 167.99999999999997 moires        /-/ DF: 0.84\n",
      "42: V=[0.17 0.82] /-/ P=[15.97 14.87]        /-/ paragontas=0.84 /-/ Sail Angle to X = 167.99999999999997 moires        /-/ DF: 0.84\n",
      "43: V=[0.17 0.82] /-/ P=[16.15 15.69]        /-/ paragontas=0.84 /-/ Sail Angle to X = 167.99999999999997 moires        /-/ DF: 0.84\n",
      "44: V=[0.17 0.82] /-/ P=[16.32 16.51]        /-/ paragontas=0.84 /-/ Sail Angle to X = 167.99999999999997 moires        /-/ DF: 0.84\n",
      "45: V=[0.17 0.82] /-/ P=[16.5  17.33]        /-/ paragontas=0.84 /-/ Sail Angle to X = 167.99999999999997 moires        /-/ DF: 0.84\n",
      "46: V=[0.17 0.82] /-/ P=[16.67 18.15]        /-/ paragontas=0.84 /-/ Sail Angle to X = 167.99999999999997 moires        /-/ DF: 0.84\n",
      "47: V=[0.17 0.82] /-/ P=[16.84 18.97]        /-/ paragontas=0.84 /-/ Sail Angle to X = 167.99999999999997 moires        /-/ DF: 0.84\n",
      "48: V=[0.17 0.82] /-/ P=[17.02 19.79]        /-/ paragontas=0.84 /-/ Sail Angle to X = 167.99999999999997 moires        /-/ DF: 0.84\n",
      "49: V=[0.17 0.82] /-/ P=[17.19 20.61]        /-/ paragontas=0.84 /-/ Sail Angle to X = 167.99999999999997 moires        /-/ DF: 0.84\n",
      "50: V=[0.17 0.82] /-/ P=[17.37 21.43]        /-/ paragontas=0.84 /-/ Sail Angle to X = 167.99999999999997 moires        /-/ DF: 0.84\n"
     ]
    },
    {
     "data": {
      "image/png": "[encoded data removed]",
      "text/plain": [
       "<Figure size 640x480 with 1 Axes>"
      ]
     },
     "metadata": {},
     "output_type": "display_data"
    }
   ],
   "source": [
    "env=SailBoatEnvironment()\n",
    "EPISODES=1\n",
    "tw_direction=[]\n",
    "boat_plot=[]\n",
    "boat_plot_all_ep=[] #stores all episodes' movement\n",
    "dones=np.zeros(EPISODES)\n",
    "for i in range(EPISODES):\n",
    "    boat_plot=[]\n",
    "    current_state=env.reset()    \n",
    "    current_state=current_state[1]\n",
    "    tw_direction=np.append(tw_direction,current_state)\n",
    "    done=False\n",
    "    truncated=False\n",
    "    step_num=0\n",
    "    while not done: # or not truncated:\n",
    "\n",
    "        #sail_conf_index=np.argmax(q_table[current_state])\n",
    "        \n",
    "        #print(f\"{i} ep: sail index->{sail_conf_index}, rudder index->{rudder_conf_index}\")\n",
    "        #H np.argmax epistrefei index, oxi timh, opote pairnoume to index pou mas epistrefei\n",
    "        #kai blepoume apo ta *_configs poia timh antistoixei se ayto to index\n",
    "        \n",
    "        #action=env.sail_configs[sail_conf_index]\n",
    "        \n",
    "        #action=env.sail_configs[0]\n",
    "        \n",
    "        if step_num < 7:\n",
    "            action=np.deg2rad(15)\n",
    "        elif step_num < 15:\n",
    "            action=np.deg2rad(216.55)\n",
    "        elif step_num < 30:\n",
    "            action=np.deg2rad(143)\n",
    "        else:\n",
    "            action=np.deg2rad(78)\n",
    "        #action=np.deg2rad(15)\n",
    "        boat_pos,  true_wind_index, target_angle_index, reward, done, truncated, step_num = env.step(action)\n",
    "        \n",
    "        #print(f\"step:{step_num}: boat position={boat_pos}\")\n",
    "        \n",
    "        if done==True:\n",
    "            print(f\"{i}-th ep -> Egina done sto {step_num}-th step.\")\n",
    "            dones[i]=1\n",
    "            break\n",
    "\n",
    "        \n",
    "        boat_plot=np.append(boat_plot,np.array(boat_pos))\n",
    "        \n",
    "        if truncated==True:\n",
    "            #print(f\"{i}-th ep -> Egina truncated\")\n",
    "            break\n",
    "\n",
    "        #Psaxnoume ta Q_max, ena gia to sail setting kai ena gia to rudder setting\n",
    "        #Sto Q table exoume orisei aythaireta oti oi prwtes 16 columns [0:16] dhladh\n",
    "        #antistoixoun sto sail setting\n",
    "        #enw oi ypoloipes 16 columns [16:33] sto rudder config\n",
    "        \n",
    "#         Q_max=np.max(q_table[(current_state)])\n",
    "        \n",
    "#         q_current=q_table[current_state,sail_conf_index]\n",
    "\n",
    "#         new_q=(1-env.alpha)*q_current+env.alpha*(reward+env.gamma*Q_max)\n",
    "\n",
    "#         q_table[current_state,sail_conf_index]=new_q\n",
    "\n",
    "        \n",
    "\n",
    "    #print(i)\n",
    "    boat_plot_all_ep.append(boat_plot)\n",
    "#     if i%800==0:\n",
    "#         print(f\"{i}-th ep -> steps: {step_num}\")\n",
    "    \n",
    "#plot last episode\n",
    "#render_ep(boat_plot, EPISODES)\n",
    "vec=unit_vector(env.tw_possible_angles[int(tw_direction[i])])\n",
    "action=unit_vector(action)\n",
    "#render_ep(boat_plot_all_ep[i],i, vec, action, True)\n",
    "render_ep(boat_plot_all_ep[i],i, vec, np.array([0,0]), True)"
   ]
  },
  {
   "cell_type": "code",
   "execution_count": 176,
   "metadata": {
    "ExecuteTime": {
     "end_time": "2023-04-13T22:11:48.179145Z",
     "start_time": "2023-04-13T22:11:48.161876Z"
    }
   },
   "outputs": [
    {
     "data": {
      "text/plain": [
       "array([-3.84734139e-16,  4.71163432e-32, -3.84734139e-16, ...,\n",
       "        4.71163432e-32, -3.84734139e-16,  4.71163432e-32])"
      ]
     },
     "execution_count": 176,
     "metadata": {},
     "output_type": "execute_result"
    }
   ],
   "source": [
    "boat_plot_all_ep[0]"
   ]
  },
  {
   "cell_type": "code",
   "execution_count": 185,
   "metadata": {
    "ExecuteTime": {
     "end_time": "2023-04-13T22:21:52.862597Z",
     "start_time": "2023-04-13T22:21:52.774820Z"
    }
   },
   "outputs": [
    {
     "data": {
      "text/plain": [
       "[array([0.39269908, 0.39269908]),\n",
       " array([0.39269908, 0.39269908]),\n",
       " array([0.39269908, 0.39269908]),\n",
       " array([0.39269908, 0.39269908]),\n",
       " array([0.39269908, 0.39269908]),\n",
       " array([0.39269908, 0.39269908]),\n",
       " array([0.39269908, 0.39269908]),\n",
       " array([0.39269908, 0.39269908]),\n",
       " array([0.39269908, 0.39269908]),\n",
       " array([0.39269908, 0.39269908]),\n",
       " array([0.39269908, 0.39269908]),\n",
       " array([0.39269908, 0.39269908]),\n",
       " array([0.39269908, 0.39269908]),\n",
       " array([0.39269908, 0.39269908]),\n",
       " array([0.39269908, 0.39269908]),\n",
       " array([0.39269908, 0.39269908]),\n",
       " array([0.39269908, 0.39269908]),\n",
       " array([0.39269908, 0.39269908]),\n",
       " array([0.39269908, 0.39269908]),\n",
       " array([0.39269908, 0.39269908]),\n",
       " array([0.39269908, 0.39269908]),\n",
       " array([0.39269908, 0.39269908]),\n",
       " array([0.39269908, 0.39269908]),\n",
       " array([0.39269908, 0.39269908]),\n",
       " array([0.39269908, 0.39269908]),\n",
       " array([0.39269908, 0.39269908]),\n",
       " array([0.39269908, 0.39269908]),\n",
       " array([0.39269908, 0.39269908]),\n",
       " array([0.39269908, 0.39269908]),\n",
       " array([0.39269908, 0.39269908]),\n",
       " array([0.39269908, 0.39269908]),\n",
       " array([0.39269908, 0.39269908]),\n",
       " array([0.39269908, 0.39269908]),\n",
       " array([0.39269908, 0.39269908]),\n",
       " array([0.39269908, 0.39269908]),\n",
       " array([0.39269908, 0.39269908]),\n",
       " array([0.39269908, 0.39269908]),\n",
       " array([0.39269908, 0.39269908]),\n",
       " array([0.39269908, 0.39269908]),\n",
       " array([0.39269908, 0.39269908]),\n",
       " array([0.39269908, 0.39269908]),\n",
       " array([0.39269908, 0.39269908]),\n",
       " array([0.39269908, 0.39269908]),\n",
       " array([0.39269908, 0.39269908]),\n",
       " array([0.39269908, 0.39269908]),\n",
       " array([0.39269908, 0.39269908]),\n",
       " array([0.39269908, 0.39269908]),\n",
       " array([0.39269908, 0.39269908]),\n",
       " array([0.39269908, 0.39269908]),\n",
       " array([0.39269908, 0.39269908]),\n",
       " array([0.39269908, 0.39269908]),\n",
       " array([0.39269908, 0.39269908]),\n",
       " array([0.39269908, 0.39269908]),\n",
       " array([0.39269908, 0.39269908]),\n",
       " array([0.39269908, 0.39269908]),\n",
       " array([0.39269908, 0.39269908]),\n",
       " array([0.39269908, 0.39269908]),\n",
       " array([0.39269908, 0.39269908]),\n",
       " array([0.39269908, 0.39269908]),\n",
       " array([0.39269908, 0.39269908]),\n",
       " array([0.39269908, 0.39269908]),\n",
       " array([0.39269908, 0.39269908]),\n",
       " array([0.39269908, 0.39269908]),\n",
       " array([0.39269908, 0.39269908]),\n",
       " array([0.39269908, 0.39269908]),\n",
       " array([0.39269908, 0.39269908]),\n",
       " array([0.39269908, 0.39269908]),\n",
       " array([0.39269908, 0.39269908]),\n",
       " array([0.39269908, 0.39269908]),\n",
       " array([0.39269908, 0.39269908]),\n",
       " array([0.39269908, 0.39269908]),\n",
       " array([0.39269908, 0.39269908]),\n",
       " array([0.39269908, 0.39269908]),\n",
       " array([0.39269908, 0.39269908]),\n",
       " array([0.39269908, 0.39269908]),\n",
       " array([0.39269908, 0.39269908]),\n",
       " array([0.39269908, 0.39269908]),\n",
       " array([0.39269908, 0.39269908]),\n",
       " array([0.39269908, 0.39269908]),\n",
       " array([0.39269908, 0.39269908]),\n",
       " array([0.39269908, 0.39269908]),\n",
       " array([0.39269908, 0.39269908]),\n",
       " array([0.39269908, 0.39269908]),\n",
       " array([0.39269908, 0.39269908]),\n",
       " array([0.39269908, 0.39269908]),\n",
       " array([0.39269908, 0.39269908]),\n",
       " array([0.39269908, 0.39269908]),\n",
       " array([0.39269908, 0.39269908]),\n",
       " array([0.39269908, 0.39269908]),\n",
       " array([0.39269908, 0.39269908]),\n",
       " array([0.39269908, 0.39269908]),\n",
       " array([0.39269908, 0.39269908]),\n",
       " array([0.39269908, 0.39269908]),\n",
       " array([0.39269908, 0.39269908]),\n",
       " array([0.39269908, 0.39269908]),\n",
       " array([0.39269908, 0.39269908]),\n",
       " array([0.39269908, 0.39269908]),\n",
       " array([0.39269908, 0.39269908]),\n",
       " array([0.39269908, 0.39269908]),\n",
       " array([0.39269908, 0.39269908]),\n",
       " array([0.39269908, 0.39269908]),\n",
       " array([0.39269908, 0.39269908]),\n",
       " array([0.39269908, 0.39269908]),\n",
       " array([0.39269908, 0.39269908]),\n",
       " array([0.39269908, 0.39269908]),\n",
       " array([0.39269908, 0.39269908]),\n",
       " array([0.39269908, 0.39269908]),\n",
       " array([0.39269908, 0.39269908]),\n",
       " array([0.39269908, 0.39269908]),\n",
       " array([0.39269908, 0.39269908]),\n",
       " array([0.39269908, 0.39269908]),\n",
       " array([0.39269908, 0.39269908]),\n",
       " array([0.39269908, 0.39269908]),\n",
       " array([0.39269908, 0.39269908]),\n",
       " array([0.39269908, 0.39269908]),\n",
       " array([0.39269908, 0.39269908]),\n",
       " array([0.39269908, 0.39269908]),\n",
       " array([0.39269908, 0.39269908]),\n",
       " array([0.39269908, 0.39269908]),\n",
       " array([0.39269908, 0.39269908]),\n",
       " array([0.39269908, 0.39269908]),\n",
       " array([0.39269908, 0.39269908]),\n",
       " array([0.39269908, 0.39269908]),\n",
       " array([0.39269908, 0.39269908]),\n",
       " array([0.39269908, 0.39269908]),\n",
       " array([0.39269908, 0.39269908]),\n",
       " array([0.39269908, 0.39269908]),\n",
       " array([0.39269908, 0.39269908]),\n",
       " array([0.39269908, 0.39269908]),\n",
       " array([0.39269908, 0.39269908]),\n",
       " array([0.39269908, 0.39269908]),\n",
       " array([0.39269908, 0.39269908]),\n",
       " array([0.39269908, 0.39269908]),\n",
       " array([0.39269908, 0.39269908]),\n",
       " array([0.39269908, 0.39269908]),\n",
       " array([0.39269908, 0.39269908]),\n",
       " array([0.39269908, 0.39269908]),\n",
       " array([0.39269908, 0.39269908]),\n",
       " array([0.39269908, 0.39269908]),\n",
       " array([0.39269908, 0.39269908]),\n",
       " array([0.39269908, 0.39269908]),\n",
       " array([0.39269908, 0.39269908]),\n",
       " array([0.39269908, 0.39269908]),\n",
       " array([0.39269908, 0.39269908]),\n",
       " array([0.39269908, 0.39269908]),\n",
       " array([0.39269908, 0.39269908]),\n",
       " array([0.39269908, 0.39269908]),\n",
       " array([0.39269908, 0.39269908]),\n",
       " array([0.39269908, 0.39269908]),\n",
       " array([0.39269908, 0.39269908]),\n",
       " array([0.39269908, 0.39269908]),\n",
       " array([0.39269908, 0.39269908]),\n",
       " array([0.39269908, 0.39269908]),\n",
       " array([0.39269908, 0.39269908]),\n",
       " array([0.39269908, 0.39269908]),\n",
       " array([0.39269908, 0.39269908]),\n",
       " array([0.39269908, 0.39269908]),\n",
       " array([0.39269908, 0.39269908]),\n",
       " array([0.39269908, 0.39269908]),\n",
       " array([0.39269908, 0.39269908]),\n",
       " array([0.39269908, 0.39269908]),\n",
       " array([0.39269908, 0.39269908]),\n",
       " array([0.39269908, 0.39269908]),\n",
       " array([0.39269908, 0.39269908]),\n",
       " array([0.39269908, 0.39269908]),\n",
       " array([0.39269908, 0.39269908]),\n",
       " array([0.39269908, 0.39269908]),\n",
       " array([0.39269908, 0.39269908]),\n",
       " array([0.39269908, 0.39269908]),\n",
       " array([0.39269908, 0.39269908]),\n",
       " array([0.39269908, 0.39269908]),\n",
       " array([0.39269908, 0.39269908]),\n",
       " array([0.39269908, 0.39269908]),\n",
       " array([0.39269908, 0.39269908]),\n",
       " array([0.39269908, 0.39269908]),\n",
       " array([0.39269908, 0.39269908]),\n",
       " array([0.39269908, 0.39269908]),\n",
       " array([0.39269908, 0.39269908]),\n",
       " array([0.39269908, 0.39269908]),\n",
       " array([0.39269908, 0.39269908]),\n",
       " array([0.39269908, 0.39269908]),\n",
       " array([0.39269908, 0.39269908]),\n",
       " array([0.39269908, 0.39269908]),\n",
       " array([0.39269908, 0.39269908]),\n",
       " array([0.39269908, 0.39269908]),\n",
       " array([0.39269908, 0.39269908]),\n",
       " array([0.39269908, 0.39269908]),\n",
       " array([0.39269908, 0.39269908]),\n",
       " array([0.39269908, 0.39269908]),\n",
       " array([0.39269908, 0.39269908]),\n",
       " array([0.39269908, 0.39269908]),\n",
       " array([0.39269908, 0.39269908]),\n",
       " array([0.39269908, 0.39269908]),\n",
       " array([0.39269908, 0.39269908]),\n",
       " array([0.39269908, 0.39269908]),\n",
       " array([0.39269908, 0.39269908]),\n",
       " array([0.39269908, 0.39269908]),\n",
       " array([0.39269908, 0.39269908]),\n",
       " array([0.39269908, 0.39269908]),\n",
       " array([0.39269908, 0.39269908]),\n",
       " array([0.39269908, 0.39269908]),\n",
       " array([0.39269908, 0.39269908]),\n",
       " array([0.39269908, 0.39269908]),\n",
       " array([0.39269908, 0.39269908]),\n",
       " array([0.39269908, 0.39269908]),\n",
       " array([0.39269908, 0.39269908]),\n",
       " array([0.39269908, 0.39269908]),\n",
       " array([0.39269908, 0.39269908]),\n",
       " array([0.39269908, 0.39269908]),\n",
       " array([0.39269908, 0.39269908]),\n",
       " array([0.39269908, 0.39269908]),\n",
       " array([0.39269908, 0.39269908]),\n",
       " array([0.39269908, 0.39269908]),\n",
       " array([0.39269908, 0.39269908]),\n",
       " array([0.39269908, 0.39269908]),\n",
       " array([0.39269908, 0.39269908]),\n",
       " array([0.39269908, 0.39269908]),\n",
       " array([0.39269908, 0.39269908]),\n",
       " array([0.39269908, 0.39269908]),\n",
       " array([0.39269908, 0.39269908]),\n",
       " array([0.39269908, 0.39269908]),\n",
       " array([0.39269908, 0.39269908]),\n",
       " array([0.39269908, 0.39269908]),\n",
       " array([0.39269908, 0.39269908]),\n",
       " array([0.39269908, 0.39269908]),\n",
       " array([0.39269908, 0.39269908]),\n",
       " array([0.39269908, 0.39269908]),\n",
       " array([0.39269908, 0.39269908]),\n",
       " array([0.39269908, 0.39269908]),\n",
       " array([0.39269908, 0.39269908]),\n",
       " array([0.39269908, 0.39269908]),\n",
       " array([0.39269908, 0.39269908]),\n",
       " array([0.39269908, 0.39269908]),\n",
       " array([0.39269908, 0.39269908]),\n",
       " array([0.39269908, 0.39269908]),\n",
       " array([0.39269908, 0.39269908]),\n",
       " array([0.39269908, 0.39269908]),\n",
       " array([0.39269908, 0.39269908]),\n",
       " array([0.39269908, 0.39269908]),\n",
       " array([0.39269908, 0.39269908]),\n",
       " array([0.39269908, 0.39269908]),\n",
       " array([0.39269908, 0.39269908]),\n",
       " array([0.39269908, 0.39269908]),\n",
       " array([0.39269908, 0.39269908]),\n",
       " array([0.39269908, 0.39269908]),\n",
       " array([0.39269908, 0.39269908]),\n",
       " array([0.39269908, 0.39269908]),\n",
       " array([0.39269908, 0.39269908]),\n",
       " array([0.39269908, 0.39269908]),\n",
       " array([0.39269908, 0.39269908]),\n",
       " array([0.39269908, 0.39269908]),\n",
       " array([0.39269908, 0.39269908]),\n",
       " array([0.39269908, 0.39269908]),\n",
       " array([0.39269908, 0.39269908]),\n",
       " array([0.39269908, 0.39269908]),\n",
       " array([0.39269908, 0.39269908]),\n",
       " array([0.39269908, 0.39269908]),\n",
       " array([0.39269908, 0.39269908]),\n",
       " array([0.39269908, 0.39269908]),\n",
       " array([0.39269908, 0.39269908]),\n",
       " array([0.39269908, 0.39269908]),\n",
       " array([0.39269908, 0.39269908]),\n",
       " array([0.39269908, 0.39269908]),\n",
       " array([0.39269908, 0.39269908]),\n",
       " array([0.39269908, 0.39269908]),\n",
       " array([0.39269908, 0.39269908]),\n",
       " array([0.39269908, 0.39269908]),\n",
       " array([0.39269908, 0.39269908]),\n",
       " array([0.39269908, 0.39269908]),\n",
       " array([0.39269908, 0.39269908]),\n",
       " array([0.39269908, 0.39269908]),\n",
       " array([0.39269908, 0.39269908]),\n",
       " array([0.39269908, 0.39269908]),\n",
       " array([0.39269908, 0.39269908]),\n",
       " array([0.39269908, 0.39269908]),\n",
       " array([0.39269908, 0.39269908]),\n",
       " array([0.39269908, 0.39269908]),\n",
       " array([0.39269908, 0.39269908]),\n",
       " array([0.39269908, 0.39269908]),\n",
       " array([0.39269908, 0.39269908]),\n",
       " array([0.39269908, 0.39269908]),\n",
       " array([0.39269908, 0.39269908]),\n",
       " array([0.39269908, 0.39269908]),\n",
       " array([0.39269908, 0.39269908]),\n",
       " array([0.39269908, 0.39269908]),\n",
       " array([0.39269908, 0.39269908]),\n",
       " array([0.39269908, 0.39269908]),\n",
       " array([0.39269908, 0.39269908]),\n",
       " array([0.39269908, 0.39269908]),\n",
       " array([0.39269908, 0.39269908]),\n",
       " array([0.39269908, 0.39269908]),\n",
       " array([0.39269908, 0.39269908]),\n",
       " array([0.39269908, 0.39269908]),\n",
       " array([0.39269908, 0.39269908]),\n",
       " array([0.39269908, 0.39269908]),\n",
       " array([0.39269908, 0.39269908]),\n",
       " array([0.39269908, 0.39269908]),\n",
       " array([0.39269908, 0.39269908]),\n",
       " array([0.39269908, 0.39269908]),\n",
       " array([0.39269908, 0.39269908]),\n",
       " array([0.39269908, 0.39269908]),\n",
       " array([0.39269908, 0.39269908]),\n",
       " array([0.39269908, 0.39269908]),\n",
       " array([0.39269908, 0.39269908]),\n",
       " array([0.39269908, 0.39269908]),\n",
       " array([0.39269908, 0.39269908]),\n",
       " array([0.39269908, 0.39269908]),\n",
       " array([0.39269908, 0.39269908]),\n",
       " array([0.39269908, 0.39269908]),\n",
       " array([0.39269908, 0.39269908]),\n",
       " array([0.39269908, 0.39269908]),\n",
       " array([0.39269908, 0.39269908]),\n",
       " array([0.39269908, 0.39269908]),\n",
       " array([0.39269908, 0.39269908]),\n",
       " array([0.39269908, 0.39269908]),\n",
       " array([0.39269908, 0.39269908]),\n",
       " array([0.39269908, 0.39269908]),\n",
       " array([0.39269908, 0.39269908]),\n",
       " array([0.39269908, 0.39269908]),\n",
       " array([0.39269908, 0.39269908]),\n",
       " array([0.39269908, 0.39269908]),\n",
       " array([0.39269908, 0.39269908]),\n",
       " array([0.39269908, 0.39269908]),\n",
       " array([0.39269908, 0.39269908]),\n",
       " array([0.39269908, 0.39269908]),\n",
       " array([0.39269908, 0.39269908]),\n",
       " array([0.39269908, 0.39269908]),\n",
       " array([0.39269908, 0.39269908]),\n",
       " array([0.39269908, 0.39269908]),\n",
       " array([0.39269908, 0.39269908]),\n",
       " array([0.39269908, 0.39269908]),\n",
       " array([0.39269908, 0.39269908]),\n",
       " array([0.39269908, 0.39269908]),\n",
       " array([0.39269908, 0.39269908]),\n",
       " array([0.39269908, 0.39269908]),\n",
       " array([0.39269908, 0.39269908]),\n",
       " array([0.39269908, 0.39269908]),\n",
       " array([0.39269908, 0.39269908]),\n",
       " array([0.39269908, 0.39269908]),\n",
       " array([0.39269908, 0.39269908]),\n",
       " array([0.39269908, 0.39269908]),\n",
       " array([0.39269908, 0.39269908]),\n",
       " array([0.39269908, 0.39269908]),\n",
       " array([0.39269908, 0.39269908]),\n",
       " array([0.39269908, 0.39269908]),\n",
       " array([0.39269908, 0.39269908]),\n",
       " array([0.39269908, 0.39269908]),\n",
       " array([0.39269908, 0.39269908]),\n",
       " array([0.39269908, 0.39269908]),\n",
       " array([0.39269908, 0.39269908]),\n",
       " array([0.39269908, 0.39269908]),\n",
       " array([0.39269908, 0.39269908]),\n",
       " array([0.39269908, 0.39269908]),\n",
       " array([0.39269908, 0.39269908]),\n",
       " array([0.39269908, 0.39269908]),\n",
       " array([0.39269908, 0.39269908]),\n",
       " array([0.39269908, 0.39269908]),\n",
       " array([0.39269908, 0.39269908]),\n",
       " array([0.39269908, 0.39269908]),\n",
       " array([0.39269908, 0.39269908]),\n",
       " array([0.39269908, 0.39269908]),\n",
       " array([0.39269908, 0.39269908]),\n",
       " array([0.39269908, 0.39269908]),\n",
       " array([0.39269908, 0.39269908]),\n",
       " array([0.39269908, 0.39269908]),\n",
       " array([0.39269908, 0.39269908]),\n",
       " array([0.39269908, 0.39269908]),\n",
       " array([0.39269908, 0.39269908]),\n",
       " array([0.39269908, 0.39269908]),\n",
       " array([0.39269908, 0.39269908]),\n",
       " array([0.39269908, 0.39269908]),\n",
       " array([0.39269908, 0.39269908]),\n",
       " array([0.39269908, 0.39269908]),\n",
       " array([0.39269908, 0.39269908]),\n",
       " array([0.39269908, 0.39269908]),\n",
       " array([0.39269908, 0.39269908]),\n",
       " array([0.39269908, 0.39269908]),\n",
       " array([0.39269908, 0.39269908]),\n",
       " array([0.39269908, 0.39269908]),\n",
       " array([0.39269908, 0.39269908]),\n",
       " array([0.39269908, 0.39269908]),\n",
       " array([0.39269908, 0.39269908]),\n",
       " array([0.39269908, 0.39269908]),\n",
       " array([0.39269908, 0.39269908]),\n",
       " array([0.39269908, 0.39269908]),\n",
       " array([0.39269908, 0.39269908]),\n",
       " array([0.39269908, 0.39269908]),\n",
       " array([0.39269908, 0.39269908]),\n",
       " array([0.39269908, 0.39269908]),\n",
       " array([0.39269908, 0.39269908]),\n",
       " array([0.39269908, 0.39269908]),\n",
       " array([0.39269908, 0.39269908]),\n",
       " array([0.39269908, 0.39269908]),\n",
       " array([0.39269908, 0.39269908]),\n",
       " array([0.39269908, 0.39269908]),\n",
       " array([0.39269908, 0.39269908]),\n",
       " array([0.39269908, 0.39269908]),\n",
       " array([0.39269908, 0.39269908]),\n",
       " array([0.39269908, 0.39269908]),\n",
       " array([0.39269908, 0.39269908]),\n",
       " array([0.39269908, 0.39269908]),\n",
       " array([0.39269908, 0.39269908]),\n",
       " array([0.39269908, 0.39269908]),\n",
       " array([0.39269908, 0.39269908]),\n",
       " array([0.39269908, 0.39269908]),\n",
       " array([0.39269908, 0.39269908]),\n",
       " array([0.39269908, 0.39269908]),\n",
       " array([0.39269908, 0.39269908]),\n",
       " array([0.39269908, 0.39269908]),\n",
       " array([0.39269908, 0.39269908]),\n",
       " array([0.39269908, 0.39269908]),\n",
       " array([0.39269908, 0.39269908]),\n",
       " array([0.39269908, 0.39269908]),\n",
       " array([0.39269908, 0.39269908]),\n",
       " array([0.39269908, 0.39269908]),\n",
       " array([0.39269908, 0.39269908]),\n",
       " array([0.39269908, 0.39269908]),\n",
       " array([0.39269908, 0.39269908]),\n",
       " array([0.39269908, 0.39269908]),\n",
       " array([0.39269908, 0.39269908]),\n",
       " array([0.39269908, 0.39269908]),\n",
       " array([0.39269908, 0.39269908]),\n",
       " array([0.39269908, 0.39269908]),\n",
       " array([0.39269908, 0.39269908]),\n",
       " array([0.39269908, 0.39269908]),\n",
       " array([0.39269908, 0.39269908]),\n",
       " array([0.39269908, 0.39269908]),\n",
       " array([0.39269908, 0.39269908]),\n",
       " array([0.39269908, 0.39269908]),\n",
       " array([0.39269908, 0.39269908]),\n",
       " array([0.39269908, 0.39269908]),\n",
       " array([0.39269908, 0.39269908]),\n",
       " array([0.39269908, 0.39269908]),\n",
       " array([0.39269908, 0.39269908]),\n",
       " array([0.39269908, 0.39269908]),\n",
       " array([0.39269908, 0.39269908]),\n",
       " array([0.39269908, 0.39269908]),\n",
       " array([0.39269908, 0.39269908]),\n",
       " array([0.39269908, 0.39269908]),\n",
       " array([0.39269908, 0.39269908]),\n",
       " array([0.39269908, 0.39269908]),\n",
       " array([0.39269908, 0.39269908]),\n",
       " array([0.39269908, 0.39269908]),\n",
       " array([0.39269908, 0.39269908]),\n",
       " array([0.39269908, 0.39269908]),\n",
       " array([0.39269908, 0.39269908]),\n",
       " array([0.39269908, 0.39269908]),\n",
       " array([0.39269908, 0.39269908]),\n",
       " array([0.39269908, 0.39269908]),\n",
       " array([0.39269908, 0.39269908]),\n",
       " array([0.39269908, 0.39269908]),\n",
       " array([0.39269908, 0.39269908]),\n",
       " array([0.39269908, 0.39269908]),\n",
       " array([0.39269908, 0.39269908]),\n",
       " array([0.39269908, 0.39269908]),\n",
       " array([0.39269908, 0.39269908]),\n",
       " array([0.39269908, 0.39269908]),\n",
       " array([0.39269908, 0.39269908]),\n",
       " array([0.39269908, 0.39269908]),\n",
       " array([0.39269908, 0.39269908]),\n",
       " array([0.39269908, 0.39269908]),\n",
       " array([0.39269908, 0.39269908]),\n",
       " array([0.39269908, 0.39269908]),\n",
       " array([0.39269908, 0.39269908]),\n",
       " array([0.39269908, 0.39269908]),\n",
       " array([0.39269908, 0.39269908]),\n",
       " array([0.39269908, 0.39269908]),\n",
       " array([0.39269908, 0.39269908]),\n",
       " array([0.39269908, 0.39269908]),\n",
       " array([0.39269908, 0.39269908]),\n",
       " array([0.39269908, 0.39269908]),\n",
       " array([0.39269908, 0.39269908]),\n",
       " array([0.39269908, 0.39269908]),\n",
       " array([0.39269908, 0.39269908]),\n",
       " array([0.39269908, 0.39269908]),\n",
       " array([0.39269908, 0.39269908]),\n",
       " array([0.39269908, 0.39269908]),\n",
       " array([0.39269908, 0.39269908]),\n",
       " array([0.39269908, 0.39269908]),\n",
       " array([0.39269908, 0.39269908]),\n",
       " array([0.39269908, 0.39269908]),\n",
       " array([0.39269908, 0.39269908]),\n",
       " array([0.39269908, 0.39269908]),\n",
       " array([0.39269908, 0.39269908]),\n",
       " array([0.39269908, 0.39269908]),\n",
       " array([0.39269908, 0.39269908]),\n",
       " array([0.39269908, 0.39269908]),\n",
       " array([0.39269908, 0.39269908]),\n",
       " array([0.39269908, 0.39269908]),\n",
       " array([0.39269908, 0.39269908]),\n",
       " array([0.39269908, 0.39269908]),\n",
       " array([0.39269908, 0.39269908]),\n",
       " array([0.39269908, 0.39269908]),\n",
       " array([0.39269908, 0.39269908]),\n",
       " array([0.39269908, 0.39269908]),\n",
       " array([0.39269908, 0.39269908]),\n",
       " array([0.39269908, 0.39269908]),\n",
       " array([0.39269908, 0.39269908]),\n",
       " array([0.39269908, 0.39269908]),\n",
       " array([0.39269908, 0.39269908]),\n",
       " array([0.39269908, 0.39269908]),\n",
       " array([0.39269908, 0.39269908]),\n",
       " array([0.39269908, 0.39269908]),\n",
       " array([0.39269908, 0.39269908]),\n",
       " array([0.39269908, 0.39269908]),\n",
       " array([0.39269908, 0.39269908]),\n",
       " array([0.39269908, 0.39269908]),\n",
       " array([0.39269908, 0.39269908]),\n",
       " array([0.39269908, 0.39269908]),\n",
       " array([0.39269908, 0.39269908]),\n",
       " array([0.39269908, 0.39269908]),\n",
       " array([0.39269908, 0.39269908]),\n",
       " array([0.39269908, 0.39269908]),\n",
       " array([0.39269908, 0.39269908]),\n",
       " array([0.39269908, 0.39269908]),\n",
       " array([0.39269908, 0.39269908]),\n",
       " array([0.39269908, 0.39269908]),\n",
       " array([0.39269908, 0.39269908]),\n",
       " array([0.39269908, 0.39269908]),\n",
       " array([0.39269908, 0.39269908]),\n",
       " array([0.39269908, 0.39269908]),\n",
       " array([0.39269908, 0.39269908]),\n",
       " array([0.39269908, 0.39269908]),\n",
       " array([0.39269908, 0.39269908]),\n",
       " array([0.39269908, 0.39269908]),\n",
       " array([0.39269908, 0.39269908]),\n",
       " array([0.39269908, 0.39269908]),\n",
       " array([0.39269908, 0.39269908]),\n",
       " array([0.39269908, 0.39269908]),\n",
       " array([0.39269908, 0.39269908]),\n",
       " array([0.39269908, 0.39269908]),\n",
       " array([0.39269908, 0.39269908]),\n",
       " array([0.39269908, 0.39269908]),\n",
       " array([0.39269908, 0.39269908]),\n",
       " array([0.39269908, 0.39269908]),\n",
       " array([0.39269908, 0.39269908]),\n",
       " array([0.39269908, 0.39269908]),\n",
       " array([0.39269908, 0.39269908]),\n",
       " array([0.39269908, 0.39269908]),\n",
       " array([0.39269908, 0.39269908]),\n",
       " array([0.39269908, 0.39269908]),\n",
       " array([0.39269908, 0.39269908]),\n",
       " array([0.39269908, 0.39269908]),\n",
       " array([0.39269908, 0.39269908]),\n",
       " array([0.39269908, 0.39269908]),\n",
       " array([0.39269908, 0.39269908]),\n",
       " array([0.39269908, 0.39269908]),\n",
       " array([0.39269908, 0.39269908]),\n",
       " array([0.39269908, 0.39269908]),\n",
       " array([0.39269908, 0.39269908]),\n",
       " array([0.39269908, 0.39269908]),\n",
       " array([0.39269908, 0.39269908]),\n",
       " array([0.39269908, 0.39269908]),\n",
       " array([0.39269908, 0.39269908]),\n",
       " array([0.39269908, 0.39269908]),\n",
       " array([0.39269908, 0.39269908]),\n",
       " array([0.39269908, 0.39269908]),\n",
       " array([0.39269908, 0.39269908]),\n",
       " array([0.39269908, 0.39269908]),\n",
       " array([0.39269908, 0.39269908]),\n",
       " array([0.39269908, 0.39269908]),\n",
       " array([0.39269908, 0.39269908]),\n",
       " array([0.39269908, 0.39269908]),\n",
       " array([0.39269908, 0.39269908]),\n",
       " array([0.39269908, 0.39269908]),\n",
       " array([0.39269908, 0.39269908]),\n",
       " array([0.39269908, 0.39269908]),\n",
       " array([0.39269908, 0.39269908]),\n",
       " array([0.39269908, 0.39269908]),\n",
       " array([0.39269908, 0.39269908]),\n",
       " array([0.39269908, 0.39269908]),\n",
       " array([0.39269908, 0.39269908]),\n",
       " array([0.39269908, 0.39269908]),\n",
       " array([0.39269908, 0.39269908]),\n",
       " array([0.39269908, 0.39269908]),\n",
       " array([0.39269908, 0.39269908]),\n",
       " array([0.39269908, 0.39269908]),\n",
       " array([0.39269908, 0.39269908]),\n",
       " array([0.39269908, 0.39269908]),\n",
       " array([0.39269908, 0.39269908]),\n",
       " array([0.39269908, 0.39269908]),\n",
       " array([0.39269908, 0.39269908]),\n",
       " array([0.39269908, 0.39269908]),\n",
       " array([0.39269908, 0.39269908]),\n",
       " array([0.39269908, 0.39269908]),\n",
       " array([0.39269908, 0.39269908]),\n",
       " array([0.39269908, 0.39269908]),\n",
       " array([0.39269908, 0.39269908]),\n",
       " array([0.39269908, 0.39269908]),\n",
       " array([0.39269908, 0.39269908]),\n",
       " array([0.39269908, 0.39269908]),\n",
       " array([0.39269908, 0.39269908]),\n",
       " array([0.39269908, 0.39269908]),\n",
       " array([0.39269908, 0.39269908]),\n",
       " array([0.39269908, 0.39269908]),\n",
       " array([0.39269908, 0.39269908]),\n",
       " array([0.39269908, 0.39269908]),\n",
       " array([0.39269908, 0.39269908]),\n",
       " array([0.39269908, 0.39269908]),\n",
       " array([0.39269908, 0.39269908]),\n",
       " array([0.39269908, 0.39269908]),\n",
       " array([0.39269908, 0.39269908]),\n",
       " array([0.39269908, 0.39269908]),\n",
       " array([0.39269908, 0.39269908]),\n",
       " array([0.39269908, 0.39269908]),\n",
       " array([0.39269908, 0.39269908]),\n",
       " array([0.39269908, 0.39269908]),\n",
       " array([0.39269908, 0.39269908]),\n",
       " array([0.39269908, 0.39269908]),\n",
       " array([0.39269908, 0.39269908]),\n",
       " array([0.39269908, 0.39269908]),\n",
       " array([0.39269908, 0.39269908]),\n",
       " array([0.39269908, 0.39269908]),\n",
       " array([0.39269908, 0.39269908]),\n",
       " array([0.39269908, 0.39269908]),\n",
       " array([0.39269908, 0.39269908]),\n",
       " array([0.39269908, 0.39269908]),\n",
       " array([0.39269908, 0.39269908]),\n",
       " array([0.39269908, 0.39269908]),\n",
       " array([0.39269908, 0.39269908]),\n",
       " array([0.39269908, 0.39269908]),\n",
       " array([0.39269908, 0.39269908]),\n",
       " array([0.39269908, 0.39269908]),\n",
       " array([0.39269908, 0.39269908]),\n",
       " array([0.39269908, 0.39269908]),\n",
       " array([0.39269908, 0.39269908]),\n",
       " array([0.39269908, 0.39269908]),\n",
       " array([0.39269908, 0.39269908]),\n",
       " array([0.39269908, 0.39269908]),\n",
       " array([0.39269908, 0.39269908]),\n",
       " array([0.39269908, 0.39269908]),\n",
       " array([0.39269908, 0.39269908]),\n",
       " array([0.39269908, 0.39269908]),\n",
       " array([0.39269908, 0.39269908]),\n",
       " array([0.39269908, 0.39269908]),\n",
       " array([0.39269908, 0.39269908]),\n",
       " array([0.39269908, 0.39269908]),\n",
       " array([0.39269908, 0.39269908]),\n",
       " array([0.39269908, 0.39269908]),\n",
       " array([0.39269908, 0.39269908]),\n",
       " array([0.39269908, 0.39269908]),\n",
       " array([0.39269908, 0.39269908]),\n",
       " array([0.39269908, 0.39269908]),\n",
       " array([0.39269908, 0.39269908]),\n",
       " array([0.39269908, 0.39269908]),\n",
       " array([0.39269908, 0.39269908]),\n",
       " array([0.39269908, 0.39269908]),\n",
       " array([0.39269908, 0.39269908]),\n",
       " array([0.39269908, 0.39269908]),\n",
       " array([0.39269908, 0.39269908]),\n",
       " array([0.39269908, 0.39269908]),\n",
       " array([0.39269908, 0.39269908]),\n",
       " array([0.39269908, 0.39269908]),\n",
       " array([0.39269908, 0.39269908]),\n",
       " array([0.39269908, 0.39269908]),\n",
       " array([0.39269908, 0.39269908]),\n",
       " array([0.39269908, 0.39269908]),\n",
       " array([0.39269908, 0.39269908]),\n",
       " array([0.39269908, 0.39269908]),\n",
       " array([0.39269908, 0.39269908]),\n",
       " array([0.39269908, 0.39269908]),\n",
       " array([0.39269908, 0.39269908]),\n",
       " array([0.39269908, 0.39269908]),\n",
       " array([0.39269908, 0.39269908]),\n",
       " array([0.39269908, 0.39269908]),\n",
       " array([0.39269908, 0.39269908]),\n",
       " array([0.39269908, 0.39269908]),\n",
       " array([0.39269908, 0.39269908]),\n",
       " array([0.39269908, 0.39269908]),\n",
       " array([0.39269908, 0.39269908]),\n",
       " array([0.39269908, 0.39269908]),\n",
       " array([0.39269908, 0.39269908]),\n",
       " array([0.39269908, 0.39269908]),\n",
       " array([0.39269908, 0.39269908]),\n",
       " array([0.39269908, 0.39269908]),\n",
       " array([0.39269908, 0.39269908]),\n",
       " array([0.39269908, 0.39269908]),\n",
       " array([0.39269908, 0.39269908]),\n",
       " array([0.39269908, 0.39269908]),\n",
       " array([0.39269908, 0.39269908]),\n",
       " array([0.39269908, 0.39269908]),\n",
       " array([0.39269908, 0.39269908]),\n",
       " array([0.39269908, 0.39269908]),\n",
       " array([0.39269908, 0.39269908]),\n",
       " array([0.39269908, 0.39269908]),\n",
       " array([0.39269908, 0.39269908]),\n",
       " array([0.39269908, 0.39269908]),\n",
       " array([0.39269908, 0.39269908]),\n",
       " array([0.39269908, 0.39269908]),\n",
       " array([0.39269908, 0.39269908]),\n",
       " array([0.39269908, 0.39269908]),\n",
       " array([0.39269908, 0.39269908]),\n",
       " array([0.39269908, 0.39269908]),\n",
       " array([0.39269908, 0.39269908]),\n",
       " array([0.39269908, 0.39269908]),\n",
       " array([0.39269908, 0.39269908]),\n",
       " array([0.39269908, 0.39269908]),\n",
       " array([0.39269908, 0.39269908]),\n",
       " array([0.39269908, 0.39269908]),\n",
       " array([0.39269908, 0.39269908]),\n",
       " array([0.39269908, 0.39269908]),\n",
       " array([0.39269908, 0.39269908]),\n",
       " array([0.39269908, 0.39269908]),\n",
       " array([0.39269908, 0.39269908]),\n",
       " array([0.39269908, 0.39269908]),\n",
       " array([0.39269908, 0.39269908]),\n",
       " array([0.39269908, 0.39269908]),\n",
       " array([0.39269908, 0.39269908]),\n",
       " array([0.39269908, 0.39269908]),\n",
       " array([0.39269908, 0.39269908]),\n",
       " array([0.39269908, 0.39269908]),\n",
       " array([0.39269908, 0.39269908]),\n",
       " array([0.39269908, 0.39269908]),\n",
       " array([0.39269908, 0.39269908]),\n",
       " array([0.39269908, 0.39269908]),\n",
       " array([0.39269908, 0.39269908]),\n",
       " array([0.39269908, 0.39269908]),\n",
       " array([0.39269908, 0.39269908]),\n",
       " array([0.39269908, 0.39269908]),\n",
       " array([0.39269908, 0.39269908]),\n",
       " array([0.39269908, 0.39269908]),\n",
       " array([0.39269908, 0.39269908]),\n",
       " array([0.39269908, 0.39269908]),\n",
       " array([0.39269908, 0.39269908]),\n",
       " array([0.39269908, 0.39269908]),\n",
       " array([0.39269908, 0.39269908]),\n",
       " array([0.39269908, 0.39269908]),\n",
       " array([0.39269908, 0.39269908]),\n",
       " array([0.39269908, 0.39269908]),\n",
       " array([0.39269908, 0.39269908]),\n",
       " array([0.39269908, 0.39269908]),\n",
       " array([0.39269908, 0.39269908]),\n",
       " array([0.39269908, 0.39269908]),\n",
       " array([0.39269908, 0.39269908]),\n",
       " array([0.39269908, 0.39269908]),\n",
       " array([0.39269908, 0.39269908]),\n",
       " array([0.39269908, 0.39269908]),\n",
       " array([0.39269908, 0.39269908]),\n",
       " array([0.39269908, 0.39269908]),\n",
       " array([0.39269908, 0.39269908]),\n",
       " array([0.39269908, 0.39269908]),\n",
       " array([0.39269908, 0.39269908]),\n",
       " array([0.39269908, 0.39269908]),\n",
       " array([0.39269908, 0.39269908]),\n",
       " array([0.39269908, 0.39269908]),\n",
       " array([0.39269908, 0.39269908]),\n",
       " array([0.39269908, 0.39269908]),\n",
       " array([0.39269908, 0.39269908]),\n",
       " array([0.39269908, 0.39269908]),\n",
       " array([0.39269908, 0.39269908]),\n",
       " array([0.39269908, 0.39269908]),\n",
       " array([0.39269908, 0.39269908]),\n",
       " array([0.39269908, 0.39269908]),\n",
       " array([0.39269908, 0.39269908]),\n",
       " array([0.39269908, 0.39269908]),\n",
       " array([0.39269908, 0.39269908]),\n",
       " array([0.39269908, 0.39269908]),\n",
       " array([0.39269908, 0.39269908]),\n",
       " array([0.39269908, 0.39269908]),\n",
       " array([0.39269908, 0.39269908]),\n",
       " array([0.39269908, 0.39269908]),\n",
       " array([0.39269908, 0.39269908]),\n",
       " array([0.39269908, 0.39269908]),\n",
       " array([0.39269908, 0.39269908]),\n",
       " array([0.39269908, 0.39269908]),\n",
       " array([0.39269908, 0.39269908]),\n",
       " array([0.39269908, 0.39269908]),\n",
       " array([0.39269908, 0.39269908]),\n",
       " array([0.39269908, 0.39269908]),\n",
       " array([0.39269908, 0.39269908]),\n",
       " array([0.39269908, 0.39269908]),\n",
       " array([0.39269908, 0.39269908]),\n",
       " array([0.39269908, 0.39269908]),\n",
       " array([0.39269908, 0.39269908]),\n",
       " array([0.39269908, 0.39269908]),\n",
       " array([0.39269908, 0.39269908]),\n",
       " array([0.39269908, 0.39269908]),\n",
       " array([0.39269908, 0.39269908]),\n",
       " array([0.39269908, 0.39269908]),\n",
       " array([0.39269908, 0.39269908]),\n",
       " array([0.39269908, 0.39269908]),\n",
       " array([0.39269908, 0.39269908]),\n",
       " array([0.39269908, 0.39269908]),\n",
       " array([0.39269908, 0.39269908]),\n",
       " array([0.39269908, 0.39269908]),\n",
       " array([0.39269908, 0.39269908]),\n",
       " array([0.39269908, 0.39269908]),\n",
       " array([0.39269908, 0.39269908]),\n",
       " array([0.39269908, 0.39269908]),\n",
       " array([0.39269908, 0.39269908]),\n",
       " array([0.39269908, 0.39269908]),\n",
       " array([0.39269908, 0.39269908]),\n",
       " array([0.39269908, 0.39269908]),\n",
       " array([0.39269908, 0.39269908]),\n",
       " array([0.39269908, 0.39269908]),\n",
       " array([0.39269908, 0.39269908]),\n",
       " array([0.39269908, 0.39269908]),\n",
       " array([0.39269908, 0.39269908]),\n",
       " array([0.39269908, 0.39269908]),\n",
       " array([0.39269908, 0.39269908]),\n",
       " array([0.39269908, 0.39269908]),\n",
       " array([0.39269908, 0.39269908]),\n",
       " array([0.39269908, 0.39269908]),\n",
       " array([0.39269908, 0.39269908]),\n",
       " array([0.39269908, 0.39269908]),\n",
       " array([0.39269908, 0.39269908]),\n",
       " array([0.39269908, 0.39269908]),\n",
       " array([0.39269908, 0.39269908]),\n",
       " array([0.39269908, 0.39269908]),\n",
       " array([0.39269908, 0.39269908]),\n",
       " array([0.39269908, 0.39269908]),\n",
       " array([0.39269908, 0.39269908]),\n",
       " array([0.39269908, 0.39269908]),\n",
       " array([0.39269908, 0.39269908]),\n",
       " array([0.39269908, 0.39269908]),\n",
       " array([0.39269908, 0.39269908]),\n",
       " array([0.39269908, 0.39269908]),\n",
       " array([0.39269908, 0.39269908]),\n",
       " array([0.39269908, 0.39269908]),\n",
       " array([0.39269908, 0.39269908]),\n",
       " array([0.39269908, 0.39269908]),\n",
       " array([0.39269908, 0.39269908]),\n",
       " array([0.39269908, 0.39269908]),\n",
       " array([0.39269908, 0.39269908]),\n",
       " array([0.39269908, 0.39269908]),\n",
       " array([0.39269908, 0.39269908]),\n",
       " array([0.39269908, 0.39269908]),\n",
       " array([0.39269908, 0.39269908]),\n",
       " array([0.39269908, 0.39269908]),\n",
       " array([0.39269908, 0.39269908]),\n",
       " array([0.39269908, 0.39269908]),\n",
       " array([0.39269908, 0.39269908]),\n",
       " array([0.39269908, 0.39269908]),\n",
       " array([0.39269908, 0.39269908]),\n",
       " array([0.39269908, 0.39269908]),\n",
       " array([0.39269908, 0.39269908]),\n",
       " array([0.39269908, 0.39269908]),\n",
       " array([0.39269908, 0.39269908]),\n",
       " array([0.39269908, 0.39269908]),\n",
       " array([0.39269908, 0.39269908]),\n",
       " array([0.39269908, 0.39269908]),\n",
       " array([0.39269908, 0.39269908]),\n",
       " array([0.39269908, 0.39269908]),\n",
       " array([0.39269908, 0.39269908]),\n",
       " array([0.39269908, 0.39269908]),\n",
       " array([0.39269908, 0.39269908]),\n",
       " array([0.39269908, 0.39269908]),\n",
       " array([0.39269908, 0.39269908]),\n",
       " array([0.39269908, 0.39269908]),\n",
       " array([0.39269908, 0.39269908]),\n",
       " array([0.39269908, 0.39269908]),\n",
       " array([0.39269908, 0.39269908]),\n",
       " array([0.39269908, 0.39269908]),\n",
       " array([0.39269908, 0.39269908]),\n",
       " array([0.39269908, 0.39269908]),\n",
       " array([0.39269908, 0.39269908]),\n",
       " array([0.39269908, 0.39269908]),\n",
       " array([0.39269908, 0.39269908]),\n",
       " array([0.39269908, 0.39269908]),\n",
       " array([0.39269908, 0.39269908]),\n",
       " array([0.39269908, 0.39269908]),\n",
       " array([0.39269908, 0.39269908]),\n",
       " array([0.39269908, 0.39269908]),\n",
       " array([0.39269908, 0.39269908]),\n",
       " array([0.39269908, 0.39269908]),\n",
       " array([0.39269908, 0.39269908]),\n",
       " array([0.39269908, 0.39269908]),\n",
       " array([0.39269908, 0.39269908]),\n",
       " array([0.39269908, 0.39269908]),\n",
       " array([0.39269908, 0.39269908]),\n",
       " array([0.39269908, 0.39269908]),\n",
       " array([0.39269908, 0.39269908]),\n",
       " array([0.39269908, 0.39269908]),\n",
       " array([0.39269908, 0.39269908]),\n",
       " array([0.39269908, 0.39269908]),\n",
       " array([0.39269908, 0.39269908]),\n",
       " array([0.39269908, 0.39269908]),\n",
       " array([0.39269908, 0.39269908]),\n",
       " array([0.39269908, 0.39269908]),\n",
       " array([0.39269908, 0.39269908]),\n",
       " array([0.39269908, 0.39269908]),\n",
       " array([0.39269908, 0.39269908]),\n",
       " array([0.39269908, 0.39269908]),\n",
       " array([0.39269908, 0.39269908]),\n",
       " array([0.39269908, 0.39269908]),\n",
       " array([0.39269908, 0.39269908]),\n",
       " array([0.39269908, 0.39269908]),\n",
       " array([0.39269908, 0.39269908]),\n",
       " array([0.39269908, 0.39269908]),\n",
       " array([0.39269908, 0.39269908]),\n",
       " array([0.39269908, 0.39269908]),\n",
       " array([0.39269908, 0.39269908]),\n",
       " array([0.39269908, 0.39269908]),\n",
       " array([0.39269908, 0.39269908]),\n",
       " array([0.39269908, 0.39269908]),\n",
       " array([0.39269908, 0.39269908]),\n",
       " array([0.39269908, 0.39269908]),\n",
       " array([0.39269908, 0.39269908]),\n",
       " array([0.39269908, 0.39269908]),\n",
       " array([0.39269908, 0.39269908]),\n",
       " array([0.39269908, 0.39269908]),\n",
       " array([0.39269908, 0.39269908]),\n",
       " array([0.39269908, 0.39269908]),\n",
       " array([0.39269908, 0.39269908]),\n",
       " array([0.39269908, 0.39269908]),\n",
       " array([0.39269908, 0.39269908]),\n",
       " array([0.39269908, 0.39269908]),\n",
       " array([0.39269908, 0.39269908]),\n",
       " array([0.39269908, 0.39269908]),\n",
       " array([0.39269908, 0.39269908]),\n",
       " array([0.39269908, 0.39269908]),\n",
       " array([0.39269908, 0.39269908]),\n",
       " array([0.39269908, 0.39269908]),\n",
       " array([0.39269908, 0.39269908]),\n",
       " array([0.39269908, 0.39269908]),\n",
       " array([0.39269908, 0.39269908]),\n",
       " array([0.39269908, 0.39269908]),\n",
       " array([0.39269908, 0.39269908]),\n",
       " array([0.39269908, 0.39269908]),\n",
       " array([0.39269908, 0.39269908]),\n",
       " array([0.39269908, 0.39269908]),\n",
       " array([0.39269908, 0.39269908]),\n",
       " array([0.39269908, 0.39269908]),\n",
       " array([0.39269908, 0.39269908]),\n",
       " array([0.39269908, 0.39269908]),\n",
       " array([0.39269908, 0.39269908]),\n",
       " array([0.39269908, 0.39269908]),\n",
       " array([0.39269908, 0.39269908]),\n",
       " array([0.39269908, 0.39269908]),\n",
       " array([0.39269908, 0.39269908]),\n",
       " array([0.39269908, 0.39269908]),\n",
       " array([0.39269908, 0.39269908]),\n",
       " array([0.39269908, 0.39269908]),\n",
       " array([0.39269908, 0.39269908]),\n",
       " array([0.39269908, 0.39269908]),\n",
       " array([0.39269908, 0.39269908]),\n",
       " array([0.39269908, 0.39269908]),\n",
       " array([0.39269908, 0.39269908]),\n",
       " array([0.39269908, 0.39269908]),\n",
       " array([0.39269908, 0.39269908]),\n",
       " array([0.39269908, 0.39269908]),\n",
       " array([0.39269908, 0.39269908]),\n",
       " array([0.39269908, 0.39269908]),\n",
       " array([0.39269908, 0.39269908]),\n",
       " array([0.39269908, 0.39269908]),\n",
       " array([0.39269908, 0.39269908]),\n",
       " array([0.39269908, 0.39269908]),\n",
       " array([0.39269908, 0.39269908]),\n",
       " array([0.39269908, 0.39269908]),\n",
       " array([0.39269908, 0.39269908]),\n",
       " array([0.39269908, 0.39269908]),\n",
       " array([0.39269908, 0.39269908]),\n",
       " array([0.39269908, 0.39269908]),\n",
       " array([0.39269908, 0.39269908]),\n",
       " array([0.39269908, 0.39269908]),\n",
       " array([0.39269908, 0.39269908]),\n",
       " array([0.39269908, 0.39269908]),\n",
       " array([0.39269908, 0.39269908]),\n",
       " array([0.39269908, 0.39269908]),\n",
       " array([0.39269908, 0.39269908]),\n",
       " array([0.39269908, 0.39269908]),\n",
       " array([0.39269908, 0.39269908]),\n",
       " array([0.39269908, 0.39269908]),\n",
       " array([0.39269908, 0.39269908]),\n",
       " array([0.39269908, 0.39269908]),\n",
       " array([0.39269908, 0.39269908]),\n",
       " array([0.39269908, 0.39269908]),\n",
       " array([0.39269908, 0.39269908]),\n",
       " array([0.39269908, 0.39269908]),\n",
       " array([0.39269908, 0.39269908]),\n",
       " array([0.39269908, 0.39269908]),\n",
       " array([0.39269908, 0.39269908]),\n",
       " array([0.39269908, 0.39269908]),\n",
       " array([0.39269908, 0.39269908]),\n",
       " array([0.39269908, 0.39269908]),\n",
       " array([0.39269908, 0.39269908]),\n",
       " array([0.39269908, 0.39269908]),\n",
       " array([0.39269908, 0.39269908]),\n",
       " array([0.39269908, 0.39269908]),\n",
       " array([0.39269908, 0.39269908]),\n",
       " array([0.39269908, 0.39269908]),\n",
       " array([0.39269908, 0.39269908]),\n",
       " array([0.39269908, 0.39269908]),\n",
       " array([0.39269908, 0.39269908]),\n",
       " array([0.39269908, 0.39269908]),\n",
       " array([0.39269908, 0.39269908]),\n",
       " array([0.39269908, 0.39269908]),\n",
       " array([0.39269908, 0.39269908]),\n",
       " array([0.39269908, 0.39269908]),\n",
       " array([0.39269908, 0.39269908]),\n",
       " array([0.39269908, 0.39269908]),\n",
       " array([0.39269908, 0.39269908]),\n",
       " array([0.39269908, 0.39269908]),\n",
       " array([0.39269908, 0.39269908]),\n",
       " array([0.39269908, 0.39269908]),\n",
       " array([0.39269908, 0.39269908]),\n",
       " array([0.39269908, 0.39269908]),\n",
       " array([0.39269908, 0.39269908]),\n",
       " array([0.39269908, 0.39269908]),\n",
       " array([0.39269908, 0.39269908]),\n",
       " ...]"
      ]
     },
     "execution_count": 185,
     "metadata": {},
     "output_type": "execute_result"
    }
   ],
   "source": [
    "np.split(boat_plot_all_ep[0],len(boat_plot_all_ep[0])/2)"
   ]
  }
 ],
 "metadata": {
  "kernelspec": {
   "display_name": "Python 3 (ipykernel)",
   "language": "python",
   "name": "python3"
  },
  "language_info": {
   "codemirror_mode": {
    "name": "ipython",
    "version": 3
   },
   "file_extension": ".py",
   "mimetype": "text/x-python",
   "name": "python",
   "nbconvert_exporter": "python",
   "pygments_lexer": "ipython3",
   "version": "3.9.7"
  }
 },
 "nbformat": 4,
 "nbformat_minor": 2
}
