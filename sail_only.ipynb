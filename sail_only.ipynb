{
 "cells": [
  {
   "cell_type": "code",
   "execution_count": 1,
   "metadata": {
    "ExecuteTime": {
     "end_time": "2023-04-08T23:42:45.055277Z",
     "start_time": "2023-04-08T23:42:44.975622Z"
    }
   },
   "outputs": [
    {
     "data": {
      "text/html": [
       "<style>.container { width:95% !important; }</style>"
      ],
      "text/plain": [
       "<IPython.core.display.HTML object>"
      ]
     },
     "metadata": {},
     "output_type": "display_data"
    }
   ],
   "source": [
    "from IPython.display import display, HTML\n",
    "display(HTML(\"<style>.container { width:95% !important; }</style>\"))"
   ]
  },
  {
   "cell_type": "code",
   "execution_count": 12,
   "metadata": {
    "ExecuteTime": {
     "end_time": "2023-04-08T23:44:03.764901Z",
     "start_time": "2023-04-08T23:44:03.751573Z"
    },
    "code_folding": [
     0,
     6
    ]
   },
   "outputs": [],
   "source": [
    "def angle_between(p1, p2):\n",
    "    ang1 = np.arctan2(*p1[::-1])\n",
    "    ang2 = np.arctan2(*p2[::-1])\n",
    "    return np.rad2deg((ang1 - ang2) % (2 * np.pi))\n",
    "def unit_vector(angle):\n",
    "    return np.array([np.cos(angle), np.sin(angle)])\n",
    "def find_nearest(array, value):\n",
    "    array = np.asarray(array)\n",
    "    idx = (np.abs(array - value)).argmin()\n",
    "    return array[idx]\n",
    "def render_ep (boat_plot, index=-1, tw_vec=0, target=False):\n",
    "    from matplotlib import pyplot as plt\n",
    "    #true wind vector\n",
    "    #plt.figure(figsize=(10, 6), dpi=200)\n",
    "    #define plots\n",
    "    fig, ax = plt.subplots()\n",
    "\n",
    "    #define coordinates and directions\n",
    "    if tw_vec.all!=0:\n",
    "        x = 10\n",
    "        y = 10\n",
    "        u = tw_vec[0]\n",
    "        v = tw_vec[1]\n",
    "\n",
    "    #create quiver plot\n",
    "    ax.quiver(x, y, u, v)\n",
    "    #starting point\n",
    "    #target point\n",
    "    #PENDING: spline connecting each point\n",
    "    \n",
    "    boat_plot=np.split(boat_plot,len(boat_plot)/2)\n",
    "    #boat_plot=np.split(boat_plot,len(boat_plot)/2)\n",
    "    boat_plot=np.array(boat_plot)\n",
    "    boat_plot=boat_plot[::5]\n",
    "    # Scatter plot\n",
    "    #light blue -> darker blue \n",
    "    target_plot=env.target_position\n",
    "    x=boat_plot[:, 0]\n",
    "    y=boat_plot[:, 1]\n",
    "    weights = np.arange(1,boat_plot[:, 1].shape[0]+1)\n",
    "    \n",
    "    points_size=np.linspace(0.01,9,len(boat_plot))\n",
    "    plt.scatter(x, y, c=weights, cmap='coolwarm',s=points_size)\n",
    "    #plt.scatter(figsize=(5, 5))\n",
    "    if index!=-1:\n",
    "        plt.title(f\"{index}-th episode\")\n",
    "    if target==True:\n",
    "        plt.scatter(target_plot[0], target_plot[1],c='red',s=0.5)\n",
    "    # Display the plot\n",
    "    from matplotlib.pyplot import figure\n",
    "\n",
    "    \n",
    "    plt.show()\n",
    "    #plt.xlim(2*min(x),2*max(x))\n",
    "    #plt.ylim(2*min(y),2*max(y))\n",
    "\n",
    "\n"
   ]
  },
  {
   "cell_type": "code",
   "execution_count": 13,
   "metadata": {
    "ExecuteTime": {
     "end_time": "2023-04-08T23:44:05.928470Z",
     "start_time": "2023-04-08T23:44:05.518258Z"
    }
   },
   "outputs": [
    {
     "data": {
      "image/png": "[encoded data removed]",
      "text/plain": [
       "<Figure size 640x480 with 1 Axes>"
      ]
     },
     "metadata": {},
     "output_type": "display_data"
    }
   ],
   "source": [
    "render_ep(boat_plot_all_ep[i],i, vec, True)"
   ]
  },
  {
   "cell_type": "code",
   "execution_count": 4,
   "metadata": {
    "ExecuteTime": {
     "end_time": "2023-04-08T23:42:50.076778Z",
     "start_time": "2023-04-08T23:42:49.914499Z"
    },
    "code_folding": [
     2,
     3,
     45
    ]
   },
   "outputs": [],
   "source": [
    "import numpy as np\n",
    "\n",
    "class SailBoatEnvironment:\n",
    "    def __init__(self, alpha=0.1, gamma=0.9, epsilon=0.35):\n",
    "        self.step_num=0\n",
    "        #self.true_wind_direction = np.random.uniform(0, 2*np.pi)\n",
    "        #PENDING: starting boat pos + target pos kalytera na orizontai sthn init para sthn reset\n",
    "        #kai h reset na ta pairnei apo tin init\n",
    "        self.boat_position = np.array([0, 0])\n",
    "        self.target_position = np.array([55,100])\n",
    "        #self.target_position = np.array([np.random.uniform(-10, 10), np.random.uniform(-10, 10)])\n",
    "        self.sail_configs = np.rad2deg(np.linspace(-np.pi/4, np.pi/4, 16)) #16 allowed positions of the sail\n",
    "        self.rudder_configs = np.linspace(-np.pi/4, np.pi/4, 16) #The values of -np.pi/4 and np.pi/4 are chosen to represent the limits of the rudder configuration. These values correspond to the maximum angles \n",
    "                                                                #that the rudder can be turned left and right from the center position.The choice of np.pi/4 as the maximum #\n",
    "                                                                # angle is somewhat arbitrary, but it is a common choice in sailing and boating applications.\n",
    "        self.target_possible_angles=np.rad2deg(np.linspace(0, 2*np.pi, 16))\n",
    "        self.tw_possible_angles=np.rad2deg(np.linspace(0, np.pi, 16))\n",
    "        \n",
    "        \n",
    "        #self.q_table = np.zeros((16, 16, 3))\n",
    "        self.alpha = alpha\n",
    "        self.gamma = gamma\n",
    "        self.epsilon = epsilon\n",
    "\n",
    "    def reset(self):\n",
    "        #returns\n",
    "        #i)boat position: starting point of boat        \n",
    "        #ii)random wind direction, epistrefei to index sto self.tw_possible_angles\n",
    "        #iii)ypologizei thn target angle, thn diakritopoiei se mia apo tis dekaksi times kai epistrefei to index\n",
    "        #toy self.target_possible_angles\n",
    "        self.step_num=0\n",
    "        #self.true_wind_direction = self.target_possible_angles[0]\n",
    "        self.true_wind_direction = self.sail_configs[-1]\n",
    "        #self.true_wind_direction -> prepei na einai gwnia\n",
    "        self.true_wind_direction = find_nearest(self.tw_possible_angles, value=self.true_wind_direction)\n",
    "        self.boat_position = np.array([0, 0]) #fixed starting point\n",
    "        self.target_position = np.array([55,100]) #fixed target position\n",
    "        #self.max_distance=np.linalg.norm(self.boat_position-self.target_position)\n",
    "        self.target_angle=angle_between(self.boat_position, self.target_position)\n",
    "        self.target_angle=find_nearest(self.target_possible_angles, value=self.target_angle)\n",
    "        return self.boat_position, np.where(self.true_wind_direction==self.tw_possible_angles)[0][0], \\\n",
    "        np.where(self.target_angle==self.target_possible_angles)[0][0]\n",
    "        \n",
    "        \n",
    "\n",
    "    def get_state(self):\n",
    "        relative_wind_direction = self.true_wind_direction - np.arctan2(*self.boat_position[::-1])\n",
    "        #relative_wind_direction = find_nearest(self.target_possible_angles, value=relative_wind_direction)\n",
    "        distance_to_target = np.linalg.norm(self.boat_position - self.target_position)\n",
    "        return relative_wind_direction, distance_to_target\n",
    "\n",
    "    def step(self, action):\n",
    "        #returns\n",
    "        #i)boat position: starting point of boat        \n",
    "        #ii)random wind direction, epistrefei to index sto self.target_possible_angles\n",
    "        #iii)ypologizei thn target angle, thn diakritopoiei se mia apo tis dekaksi times kai epistrefei to index\n",
    "        #toy self.target_possible_angles\n",
    "        #iv) step reward\n",
    "        #v) done status\n",
    "        #vi) truncated status\n",
    "        #vii) number of steps\n",
    "        sail_config, rudder_config = action\n",
    "        sail_force = sail_config * np.sin(self.true_wind_direction - np.arctan2(*self.boat_position[::-1]))\n",
    "        rudder_force = rudder_config * np.cos(self.true_wind_direction - np.arctan2(*self.boat_position[::-1]))\n",
    "        boat_velocity = np.array([np.cos(self.true_wind_direction), np.sin(self.true_wind_direction)]) * sail_force + np.array([-np.sin(self.true_wind_direction), np.cos(self.true_wind_direction)]) * rudder_force\n",
    "        self.boat_position = self.boat_position + boat_velocity#.astype(np.float64)\n",
    "        self.target_angle=angle_between(self.boat_position, self.target_position)\n",
    "        self.target_angle=find_nearest(self.target_possible_angles, value=self.target_angle)\n",
    "        \n",
    "        state = self.get_state()\n",
    "        self.step_num+=1\n",
    "        done = False\n",
    "        truncated = False\n",
    "        reward = -1\n",
    "\n",
    "        #if np.any(np.abs(self.boat_position) > 20):\n",
    "            #done = True\n",
    "            #reward = -10\n",
    "\n",
    "        distance_to_target = state[1]\n",
    "        if distance_to_target < 1:\n",
    "        #if distance_to_target//self.max_distance < 0.5: #kapws pio sxetiko giati den kseroume to distance 0.5\n",
    "            #an einia megalo h mikro\n",
    "            done = True\n",
    "            reward = 100\n",
    "        \n",
    "        if self.step_num >= 2_500:\n",
    "            truncated = True\n",
    "            #done = True #gia na spaei h loupa tou training\n",
    "\n",
    "#         # Q-learning update\n",
    "#         sail_idx = np.argmin(np.abs(self.sail_configs - sail_config))\n",
    "#         rudder_idx = np.argmin(np.abs(self.rudder_configs - rudder_config))\n",
    "#         q_current = self.q_table[sail_idx, rudder_idx, 0]\n",
    "#         q_next = np.max(self.q_table[sail_idx, rudder_idx, :])\n",
    "#         self.q_table[sail_idx, rudder_idx, 0] += self.alpha * (reward + self.gamma * q_next - q_current)\n",
    "\n",
    "        #return boat_velocity, self.boat_position, state, reward, done, self.step_num, self.target_angle\n",
    "        return self.boat_position, np.where(self.true_wind_direction==self.tw_possible_angles)[0][0],\\\n",
    "        np.where(self.target_angle==self.target_possible_angles)[0][0], reward, \\\n",
    "        done, truncated, self.step_num\n"
   ]
  },
  {
   "cell_type": "code",
   "execution_count": 5,
   "metadata": {
    "ExecuteTime": {
     "end_time": "2023-04-08T23:42:53.263055Z",
     "start_time": "2023-04-08T23:42:53.247381Z"
    }
   },
   "outputs": [],
   "source": [
    "env=SailBoatEnvironment()\n",
    "#current state = true wind direction + angle of boat to target wrt x axis\n",
    "#prwto einai gia true wind angles\n",
    "a=len(env.tw_possible_angles)\n",
    "#deytera gia gwnies pros target\n",
    "b=len(env.target_possible_angles)\n",
    "#trito ola ta possible actions\n",
    "c=32\n",
    "q_table = np.random.uniform(low=-2, high=0, size=(a,b,c))\n",
    "#q_table\n",
    "#wd=0,1,2 # wd=1\n",
    "#dt=0,1 #dt=0 makria, dt=1 konta\n",
    "#np.argmax(q_table[1,1])\n",
    "#\n",
    "#rudder conf = 0:15th column\n",
    "#np.argmax(q_table[state,0:15])\n",
    "#sail conf = 16:31th columns\n",
    "#np.argmax(q_table[state,16:32])\n",
    "\n"
   ]
  },
  {
   "cell_type": "markdown",
   "metadata": {},
   "source": [
    "# Train Q table"
   ]
  },
  {
   "cell_type": "code",
   "execution_count": 6,
   "metadata": {
    "ExecuteTime": {
     "end_time": "2023-04-08T23:42:55.721059Z",
     "start_time": "2023-04-08T23:42:54.727905Z"
    },
    "code_folding": [
     6
    ]
   },
   "outputs": [
    {
     "name": "stdout",
     "output_type": "stream",
     "text": [
      "0-th ep -> steps: 2500\n"
     ]
    },
    {
     "data": {
      "image/png": "[encoded data removed]",
      "text/plain": [
       "<Figure size 640x480 with 1 Axes>"
      ]
     },
     "metadata": {},
     "output_type": "display_data"
    }
   ],
   "source": [
    "env=SailBoatEnvironment()\n",
    "EPISODES=1\n",
    "tw_direction=[]\n",
    "boat_plot=[]\n",
    "boat_plot_all_ep=[] #stores all episodes' movement\n",
    "dones=np.zeros(EPISODES)\n",
    "for i in range(EPISODES):\n",
    "    boat_plot=[]\n",
    "    current_state=env.reset()    \n",
    "    current_state=current_state[1], current_state[2]\n",
    "    tw_direction=np.append(tw_direction,current_state[0])\n",
    "    done=False\n",
    "    truncated=False\n",
    "    while not done: # or not truncated:\n",
    "    #rudder_conf=env.rudder_configs[rudder_conf_index]\n",
    "    #rudder_conf\n",
    "        sail_conf_index=np.argmax(q_table[(current_state)][0:16])\n",
    "        rudder_conf_index=np.argmax(q_table[(current_state)][16:33])\n",
    "        #print(f\"{i} ep: sail index->{sail_conf_index}, rudder index->{rudder_conf_index}\")\n",
    "        #H np.argmax epistrefei index, oxi timh, opote pairnoume to index pou mas epistrefei\n",
    "        #kai blepoume apo ta *_configs poia timh antistoixei se ayto to index\n",
    "        action=env.sail_configs[sail_conf_index],env.rudder_configs[rudder_conf_index]\n",
    "        boat_pos,  true_wind_index, target_angle_index, reward, done, truncated, step_num = env.step(action)\n",
    "        if done==True:\n",
    "            print(f\"{i}-th ep -> Egina done sto {step_num}-th step.\")\n",
    "            dones[i]=1\n",
    "            break\n",
    "        if truncated==True:\n",
    "            #print(f\"{i}-th ep -> Egina truncated\")\n",
    "            break\n",
    "        new_state=true_wind_index, target_angle_index\n",
    "        boat_plot=np.append(boat_plot,np.array(boat_pos))\n",
    "        \n",
    "        #Psaxnoume ta Q_max, ena gia to sail setting kai ena gia to rudder setting\n",
    "        #Sto Q table exoume orisei aythaireta oti oi prwtes 16 columns [0:16] dhladh\n",
    "        #antistoixoun sto sail setting\n",
    "        #enw oi ypoloipes 16 columns [16:33] sto rudder config\n",
    "        Q_max_sail=np.max(q_table[(current_state)][0:16])\n",
    "        Q_max_rudder=np.max(q_table[(current_state)][16:33])\n",
    "        q_current_sail=q_table[current_state+(sail_conf_index,)]\n",
    "        q_current_rudder=q_table[current_state+(rudder_conf_index,)]\n",
    "        new_q_sail=(1-env.alpha)*q_current_sail+env.alpha*(reward+env.gamma*Q_max_sail)\n",
    "        new_q_rudder=(1-env.alpha)*q_current_rudder+env.alpha*(reward+env.gamma*Q_max_rudder)\n",
    "        q_table[current_state+(sail_conf_index,)]=new_q_sail\n",
    "        #15 h 16?\n",
    "        q_table[current_state+(16+rudder_conf_index,)]=new_q_rudder\n",
    "        current_state=new_state\n",
    "\n",
    "    #print(i)\n",
    "    boat_plot_all_ep.append(boat_plot)\n",
    "    if i%800==0:\n",
    "        print(f\"{i}-th ep -> steps: {step_num}\")\n",
    "    \n",
    "#plot last episode\n",
    "#render_ep(boat_plot, EPISODES)\n",
    "vec=unit_vector(env.tw_possible_angles[int(tw_direction[i])])\n",
    "render_ep(boat_plot_all_ep[i],i, vec, True)"
   ]
  }
 ],
 "metadata": {
  "kernelspec": {
   "display_name": "Python 3 (ipykernel)",
   "language": "python",
   "name": "python3"
  },
  "language_info": {
   "codemirror_mode": {
    "name": "ipython",
    "version": 3
   },
   "file_extension": ".py",
   "mimetype": "text/x-python",
   "name": "python",
   "nbconvert_exporter": "python",
   "pygments_lexer": "ipython3",
   "version": "3.10.10"
  }
 },
 "nbformat": 4,
 "nbformat_minor": 2
}
