{
 "cells": [
  {
   "cell_type": "code",
   "execution_count": 1,
   "id": "6e3dd337",
   "metadata": {
    "ExecuteTime": {
     "end_time": "2023-04-05T19:22:48.142929Z",
     "start_time": "2023-04-05T19:22:48.125461Z"
    }
   },
   "outputs": [],
   "source": [
    "import psutil\n"
   ]
  },
  {
   "cell_type": "code",
   "execution_count": 3,
   "id": "e7415cb4",
   "metadata": {
    "ExecuteTime": {
     "end_time": "2023-04-05T19:23:35.358988Z",
     "start_time": "2023-04-05T19:23:35.349604Z"
    }
   },
   "outputs": [
    {
     "data": {
      "text/plain": [
       "svmem(total=8589934592, available=4321886208, percent=49.7, used=3738324992, free=2218168320, active=2116280320, inactive=1758560256, wired=1622044672)"
      ]
     },
     "execution_count": 3,
     "metadata": {},
     "output_type": "execute_result"
    }
   ],
   "source": [
    "# gives a single float value\n",
    "#psutil.cpu_percent()\n",
    "# gives an object with many fields\n",
    "psutil.virtual_memory()"
   ]
  },
  {
   "cell_type": "code",
   "execution_count": 12,
   "id": "caf8a044",
   "metadata": {
    "ExecuteTime": {
     "end_time": "2023-04-05T19:31:36.234173Z",
     "start_time": "2023-04-05T19:31:36.219078Z"
    }
   },
   "outputs": [
    {
     "name": "stdout",
     "output_type": "stream",
     "text": [
      "CPU= 11.0 % | RAM=42.71%\n"
     ]
    }
   ],
   "source": [
    "ram_used=psutil.virtual_memory().used * 100 / psutil.virtual_memory().total\n",
    "cpu_used=psutil.cpu_percent()\n",
    "print(f\"CPU= {cpu_used} % | RAM={round(ram_used,2)}%\")"
   ]
  },
  {
   "cell_type": "code",
   "execution_count": 13,
   "id": "ca02b9c6",
   "metadata": {
    "ExecuteTime": {
     "end_time": "2023-04-05T19:42:32.759061Z",
     "start_time": "2023-04-05T19:42:32.737748Z"
    }
   },
   "outputs": [
    {
     "data": {
      "text/plain": [
       "4"
      ]
     },
     "execution_count": 13,
     "metadata": {},
     "output_type": "execute_result"
    }
   ],
   "source": [
    "from multiprocessing import Pool, cpu_count\n",
    "cpu_count()"
   ]
  }
 ],
 "metadata": {
  "kernelspec": {
   "display_name": "Python 3 (ipykernel)",
   "language": "python",
   "name": "python3"
  },
  "language_info": {
   "codemirror_mode": {
    "name": "ipython",
    "version": 3
   },
   "file_extension": ".py",
   "mimetype": "text/x-python",
   "name": "python",
   "nbconvert_exporter": "python",
   "pygments_lexer": "ipython3",
   "version": "3.10.10"
  }
 },
 "nbformat": 4,
 "nbformat_minor": 5
}
