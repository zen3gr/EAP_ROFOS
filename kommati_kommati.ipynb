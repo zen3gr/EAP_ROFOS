{
 "cells": [
  {
   "cell_type": "code",
   "execution_count": 2,
   "id": "c4d345dc",
   "metadata": {},
   "outputs": [],
   "source": [
    "import numpy as np\n",
    "true_wind=np.array([1,1])"
   ]
  },
  {
   "cell_type": "code",
   "execution_count": 5,
   "id": "5449e0b8",
   "metadata": {},
   "outputs": [],
   "source": [
    "boat_velocity=np.array([0,0])\n",
    "boat_heading = "
   ]
  },
  {
   "cell_type": "code",
   "execution_count": null,
   "id": "b56b3361",
   "metadata": {},
   "outputs": [],
   "source": [
    "unit_heading = unit_vector(boat_heading) #einai ena monadiaio vector sthn kateythinsi pou koitaei h varka\n",
    "\n",
    "speed = np.dot(boat_v, unit_heading)  # positive means forward (h varka paei ekei poy koitaei) \n",
    "#negative means backward (h varka paei pros ta pisw)\n",
    "if speed > 0:\n",
    "    sqrtspeed = np.sqrt(np.linalg.norm(boat_v))\n",
    "else:\n",
    "    sqrtspeed = -np.sqrt(np.linalg.norm(boat_v))\n",
    "    \n",
    "boat_heading += ??????????\n",
    "\n",
    "\n",
    "unit_heading = unit_vector(boat_heading)\n",
    "#monadiaio dianysma katheta sthn kinhsh ths varkas\n",
    "unit_perp = perpendicular(unit_heading)\n",
    "\n",
    "#D = (Cd × ρ × V^2 × A) / 2\n",
    "# the drag force is proportional to the square of the speed in the opposite direction\n",
    "# multiplying a vector by the norm of its length efectively squares its length\n",
    "fdrag = -vforward * np.linalg.norm(vforward) * 200.0  # opposite to direction of movement\n",
    "    "
   ]
  },
  {
   "cell_type": "code",
   "execution_count": 6,
   "id": "bdb88e5c",
   "metadata": {},
   "outputs": [
    {
     "data": {
      "text/plain": [
       "array([1, 1])"
      ]
     },
     "execution_count": 6,
     "metadata": {},
     "output_type": "execute_result"
    }
   ],
   "source": [
    "apparent_wind=true_wind-boat_velocity\n",
    "apparent_wind"
   ]
  },
  {
   "cell_type": "code",
   "execution_count": 55,
   "id": "bbe400fd",
   "metadata": {},
   "outputs": [],
   "source": [
    "import math\n",
    "def angle_between_points(p1, p2):\n",
    "    #returns clockwise angle relative to x axis of the line connecting p1, p2 in *radians*\n",
    "    distance=np.linalg.norm(p1-p2)\n",
    "    return np.deg2rad(np.arcsin((p2[1]-p1[1])/distance))\n",
    "    \n",
    "\n",
    "def unit_vector(angle):\n",
    "    return np.array([np.cos(angle), np.sin(angle)])\n",
    "\n",
    "\n",
    "def angle_between(v1, v2):\n",
    "    \"\"\" Returns the angle in radians between vectors 'v1' and 'v2'    \"\"\"\n",
    "    return np.arccos(np.dot(v1, v2) / (np.linalg.norm(v1) * np.linalg.norm(v2)))\n",
    "\n",
    "\n",
    "def pt_in_rect(pt, r):\n",
    "    return r[1] <= pt[0] < r[3] and r[0] <= pt[1] < r[2]\n",
    "\n",
    "\n",
    "def perpendicular(a):\n",
    "    b = np.empty_like(a)\n",
    "    b[0] = -a[1]\n",
    "    b[1] = a[0]\n",
    "    return b\n",
    "\n",
    "def reward_func(d):\n",
    "    return -d + 1000/(d+1)\n",
    "\n",
    "TARGETRADIUS = 2.0\n",
    "STEPS_PER_SECOND = 60\n",
    "SHOAL = 10.0  # negative rewards for sailing into the shoal\n",
    "SAILCOEFF = 7.0  # Newtons\n",
    "RUDDER_COEFF = 0.002\n",
    "MAX_ANGULAR_VELOCITY = 60.0/360.0 * 2 * np.pi / STEPS_PER_SECOND  # radians per second\n",
    "BOAT_BEAM = 2.5\n",
    "BOAT_LENGTH = 6.0"
   ]
  },
  {
   "cell_type": "code",
   "execution_count": 19,
   "id": "4210a09f",
   "metadata": {},
   "outputs": [],
   "source": [
    "\n",
    "min_x = 0.0\n",
    "max_x = 200.0\n",
    "min_y = 0.0\n",
    "max_y = 150.0\n",
    "\n",
    "\n",
    "low = np.array([min_x, min_y, -1000.0, -1000.0, min_x, min_y, -1.0, -1.0, -1000.0])\n",
    "high = np.array([max_x, max_y, 1000.0, 1000.0, max_x, max_y, 1.0, 1.0, 1000.0])\n",
    "\n",
    "wind = np.array([0.0, -10.0]) / STEPS_PER_SECOND\n",
    "\n",
    "wind_drag = 0.0001\n",
    "water_drag = 0.001\n",
    "\n",
    "boat_m = 3000.0   # kg\n",
    "\n",
    "\n",
    "target = np.array([(max_x + min_x) / 2, (max_y - min_y) * 0.70])"
   ]
  },
  {
   "cell_type": "code",
   "execution_count": 57,
   "id": "12b9c5a6",
   "metadata": {},
   "outputs": [],
   "source": [
    "#_reset\n",
    "# set starting boat position, velocity, heading and angular velocity\n",
    "boat = np.array([(min_x + max_x) / 5, (min_y + max_y) / 3])\n",
    "boat_v = np.array([0.0, 0.0])\n",
    "boat_heading = 0.5 * np.pi \n",
    "angular_velocity = 0.0\n",
    "\n",
    "distance_to_target = np.linalg.norm(boat - target)\n",
    "track = []     # store position every second so we can draw the track in render\n",
    "\n",
    "#return np.array(list(boat) + list(boat_v) + list(target) + list(unit_vector(boat_heading)) + \\\n",
    "#                [angular_velocity] )\n"
   ]
  },
  {
   "cell_type": "code",
   "execution_count": 25,
   "id": "574c90e9",
   "metadata": {},
   "outputs": [
    {
     "name": "stdout",
     "output_type": "stream",
     "text": [
      "boat position=[40.         49.99380148], target position=[100. 105.]\n"
     ]
    }
   ],
   "source": [
    "print(f\"boat position={boat}, target position={target}\")"
   ]
  },
  {
   "cell_type": "code",
   "execution_count": 54,
   "id": "881bafd0",
   "metadata": {},
   "outputs": [
    {
     "data": {
      "text/plain": [
       "1.5707963267948966"
      ]
     },
     "execution_count": 54,
     "metadata": {},
     "output_type": "execute_result"
    }
   ],
   "source": [
    "#arxiko heading\n",
    "from numpy.linalg import norm\n",
    "\n",
    "angle_between(boat, target)\n",
    "#np.deg2rad(angle_between(boat, target))#-\n",
    "boat_heading"
   ]
  },
  {
   "cell_type": "code",
   "execution_count": 56,
   "id": "6f4f841a",
   "metadata": {},
   "outputs": [
    {
     "data": {
      "text/plain": [
       "90.0"
      ]
     },
     "execution_count": 56,
     "metadata": {},
     "output_type": "execute_result"
    }
   ],
   "source": [
    "np.rad2deg(boat_heading)"
   ]
  },
  {
   "cell_type": "code",
   "execution_count": 53,
   "id": "31f6532c",
   "metadata": {},
   "outputs": [
    {
     "data": {
      "text/plain": [
       "0.01295040243782444"
      ]
     },
     "execution_count": 53,
     "metadata": {},
     "output_type": "execute_result"
    }
   ],
   "source": [
    "angle_between_points(boat, target)"
   ]
  },
  {
   "cell_type": "code",
   "execution_count": 60,
   "id": "6140d2a5",
   "metadata": {},
   "outputs": [
    {
     "data": {
      "text/plain": [
       "array([6.123234e-17, 1.000000e+00])"
      ]
     },
     "execution_count": 60,
     "metadata": {},
     "output_type": "execute_result"
    }
   ],
   "source": [
    "unit_vector(boat_heading)"
   ]
  },
  {
   "cell_type": "code",
   "execution_count": 80,
   "id": "54673e1e",
   "metadata": {},
   "outputs": [
    {
     "name": "stdout",
     "output_type": "stream",
     "text": [
      "boat position=[40.         49.87269564], target position=[100. 105.]\n"
     ]
    }
   ],
   "source": [
    "#_step\n",
    "\n",
    "\n",
    "unit_heading = unit_vector(boat_heading) #einai ena monadiaio vector sthn kateythinsi pou koitaei h varka\n",
    "\n",
    "speed = np.dot(boat_v, unit_heading)  # positive means forward (h varka paei ekei poy koitaei) \n",
    "#negative means backward (h varka paei pros ta pisw)\n",
    "if speed > 0:\n",
    "    sqrtspeed = np.sqrt(np.linalg.norm(boat_v))\n",
    "else:\n",
    "    sqrtspeed = -np.sqrt(np.linalg.norm(boat_v))\n",
    "\n",
    "angular_velocity *= 0.95\n",
    "#if angular_velocity < MAX_ANGULAR_VELOCITY:\n",
    "    #angular_velocity += -action[0] * RUDDER_COEFF * sqrtspeed\n",
    "\n",
    "# turn the boat by adjusting heading and applying a centripetal force to the centre of the turn\n",
    "boat_heading += angular_velocity\n",
    "fcentripetal = angular_velocity * boat_m\n",
    "\n",
    "unit_heading = unit_vector(boat_heading)  # new heading\n",
    "unit_perp = perpendicular(unit_heading)\n",
    "\n",
    "apparent_wind = wind - boat_v\n",
    "apparent_wind_speed = np.linalg.norm(apparent_wind)\n",
    "theta = angle_between(apparent_wind, -unit_heading)\n",
    "\n",
    "# fdrive is the force driving the boat forward which is dependent on the apparent wind angle.\n",
    "# A simple quadratic with zeros at +0.4 (23 degrees apparent) and +4.0 radians is a pretty good approximation\n",
    "# (for more info google sailing polar diagrams)\n",
    "# the absolute value o ftheta is used because it the driving force doesn't matter whether we are on\n",
    "# starboard tack (positive values of theta) or port tack (negative values of theta)\n",
    "fdrive = -(abs(theta) - 0.4) * (abs(theta) - 4.0) * apparent_wind_speed * SAILCOEFF * unit_vector(boat_heading)\n",
    "\n",
    "#print(\"speed:%1.2f heading:%3.1f appwindangle:%3.1f appwindspeed:%1.2f fdrive:%1.2f\" % \\\n",
    "#      (speed * STEPS_PER_SECOND, boat_heading * 360 / (2 * np.pi), theta * 360 / (2 * np.pi),\n",
    "#       apparent_wind_speed * STEPS_PER_SECOND, np.linalg.norm(fdrive)))\n",
    "\n",
    "vforward = np.dot(boat_v, unit_heading) * unit_heading\n",
    "vperpendicular = boat_v - vforward\n",
    "\n",
    "# the drag force is proportional to the square of the speed in the opposite direction\n",
    "# multiplying a vector by the norm of its length efectively squares its length\n",
    "fdrag = -vforward * np.linalg.norm(vforward) * 200.0  # opposite to direction of movement\n",
    "fkeel = -vperpendicular * np.linalg.norm(vperpendicular) * 1200.0\n",
    "fperp = unit_perp * fcentripetal * np.linalg.norm(boat_v)\n",
    "\n",
    "boat_v += (fdrive + fdrag + fkeel + fperp) / boat_m\n",
    "# boat_v = unit_heading * ( np.linalg.norm(boat_v) + (np.linalg.norm(fdrive) -\n",
    "# np.linalg.norm(fdrag))/boat_m  )\n",
    "# print \"th:%.1f drive:%.1f drag:%.1f v:%.1f\"%(theta, np.linalg.norm(fdrive), np.linalg.norm(fdrag),\n",
    "# np.linalg.norm(boat_v))\n",
    "\n",
    "boat += boat_v\n",
    "print(f\"boat position={boat}, target position={target}\")"
   ]
  },
  {
   "cell_type": "code",
   "execution_count": null,
   "id": "62ca5ae1",
   "metadata": {},
   "outputs": [],
   "source": []
  }
 ],
 "metadata": {
  "kernelspec": {
   "display_name": "Python 3 (ipykernel)",
   "language": "python",
   "name": "python3"
  },
  "language_info": {
   "codemirror_mode": {
    "name": "ipython",
    "version": 3
   },
   "file_extension": ".py",
   "mimetype": "text/x-python",
   "name": "python",
   "nbconvert_exporter": "python",
   "pygments_lexer": "ipython3",
   "version": "3.9.7"
  }
 },
 "nbformat": 4,
 "nbformat_minor": 5
}
